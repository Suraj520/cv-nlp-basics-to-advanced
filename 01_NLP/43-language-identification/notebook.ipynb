{
 "cells": [
  {
   "cell_type": "code",
   "execution_count": 11,
   "metadata": {},
   "outputs": [],
   "source": [
    "import torch\n",
    "import torch.nn as nn\n",
    "import torch.optim as optim"
   ]
  },
  {
   "cell_type": "code",
   "execution_count": 12,
   "metadata": {},
   "outputs": [],
   "source": [
    "# Define the training data\n",
    "training_data = [\n",
    "    (\"This is an English sentence.\", \"en\"),\n",
    "    (\"Das ist ein deutscher Satz.\", \"de\"),\n",
    "    (\"Ceci est une phrase en français.\", \"fr\"),\n",
    "    (\"Questa è una frase in italiano.\", \"it\")\n",
    "]"
   ]
  },
  {
   "cell_type": "code",
   "execution_count": 13,
   "metadata": {},
   "outputs": [],
   "source": [
    "# Define the vocabulary\n",
    "vocab = set()\n",
    "for sentence, _ in training_data:\n",
    "    for word in sentence.split():\n",
    "        vocab.add(word)\n",
    "vocab_size = len(vocab)"
   ]
  },
  {
   "cell_type": "code",
   "execution_count": 14,
   "metadata": {},
   "outputs": [],
   "source": [
    "# Define the model\n",
    "class LanguageIdentifier(nn.Module):\n",
    "    def __init__(self, vocab_size, hidden_size, output_size):\n",
    "        super(LanguageIdentifier, self).__init__()\n",
    "        self.embedding = nn.Embedding(vocab_size, hidden_size)\n",
    "        self.lstm = nn.LSTM(hidden_size, hidden_size)\n",
    "        self.fc = nn.Linear(hidden_size, output_size)\n",
    "    \n",
    "    def forward(self, x):\n",
    "        x = self.embedding(x)\n",
    "        x, _ = self.lstm(x)\n",
    "        x = x[-1]\n",
    "        x = self.fc(x)\n",
    "        return x"
   ]
  },
  {
   "cell_type": "code",
   "execution_count": 15,
   "metadata": {},
   "outputs": [],
   "source": [
    "# Define the hyperparameters\n",
    "hidden_size = 128\n",
    "output_size = len(set([lang for _, lang in training_data]))\n",
    "learning_rate = 0.001\n",
    "num_epochs = 100"
   ]
  },
  {
   "cell_type": "code",
   "execution_count": 16,
   "metadata": {},
   "outputs": [],
   "source": [
    "\n",
    "# Initialize the model and optimizer\n",
    "model = LanguageIdentifier(vocab_size, hidden_size, output_size)\n",
    "optimizer = optim.Adam(model.parameters(), lr=learning_rate)\n",
    "criterion = nn.CrossEntropyLoss()"
   ]
  },
  {
   "cell_type": "code",
   "execution_count": 17,
   "metadata": {},
   "outputs": [
    {
     "name": "stdout",
     "output_type": "stream",
     "text": [
      "Epoch 0: Loss = 1.5032371282577515\n",
      "Epoch 10: Loss = 0.04966847598552704\n",
      "Epoch 20: Loss = 0.009631828404963017\n",
      "Epoch 30: Loss = 0.005111957434564829\n",
      "Epoch 40: Loss = 0.0032707550562918186\n",
      "Epoch 50: Loss = 0.002302140463143587\n",
      "Epoch 60: Loss = 0.0017265664646402001\n",
      "Epoch 70: Loss = 0.0013546108966693282\n",
      "Epoch 80: Loss = 0.0010986251290887594\n",
      "Epoch 90: Loss = 0.0009139174944721162\n"
     ]
    }
   ],
   "source": [
    "\n",
    "# Train the model\n",
    "for epoch in range(num_epochs):\n",
    "    for sentence, lang in training_data:\n",
    "        # Convert the sentence to a tensor of word indices\n",
    "        sentence_tensor = torch.tensor([list(vocab).index(word) for word in sentence.split()])\n",
    "        \n",
    "        # Convert the language to a tensor of one-hot vectors\n",
    "        lang_tensor = torch.zeros(output_size)\n",
    "        lang_tensor[list(set([lang for _, lang in training_data])).index(lang)] = 1\n",
    "        \n",
    "        # Forward pass\n",
    "        output = model(sentence_tensor.unsqueeze(1))\n",
    "        loss = criterion(output, lang_tensor.unsqueeze(0))\n",
    "        \n",
    "        # Backward pass and optimization\n",
    "        optimizer.zero_grad()\n",
    "        loss.backward()\n",
    "        optimizer.step()\n",
    "    \n",
    "    # Print the loss every 10 epochs\n",
    "    if epoch % 10 == 0:\n",
    "        print(f\"Epoch {epoch}: Loss = {loss.item()}\")"
   ]
  },
  {
   "cell_type": "code",
   "execution_count": 18,
   "metadata": {},
   "outputs": [
    {
     "name": "stdout",
     "output_type": "stream",
     "text": [
      "Predicted language: fr\n"
     ]
    }
   ],
   "source": [
    "# Test the model\n",
    "test_sentence = \"est français.\"\n",
    "test_sentence_tensor = torch.tensor([list(vocab).index(word) for word in test_sentence.split()])\n",
    "output = model(test_sentence_tensor.unsqueeze(1))\n",
    "predicted_lang = list(set([lang for _, lang in training_data]))[torch.argmax(output).item()]\n",
    "print(f\"Predicted language: {predicted_lang}\")"
   ]
  },
  {
   "cell_type": "code",
   "execution_count": null,
   "metadata": {},
   "outputs": [],
   "source": []
  }
 ],
 "metadata": {
  "kernelspec": {
   "display_name": "dl",
   "language": "python",
   "name": "python3"
  },
  "language_info": {
   "codemirror_mode": {
    "name": "ipython",
    "version": 3
   },
   "file_extension": ".py",
   "mimetype": "text/x-python",
   "name": "python",
   "nbconvert_exporter": "python",
   "pygments_lexer": "ipython3",
   "version": "3.9.16"
  },
  "orig_nbformat": 4
 },
 "nbformat": 4,
 "nbformat_minor": 2
}
