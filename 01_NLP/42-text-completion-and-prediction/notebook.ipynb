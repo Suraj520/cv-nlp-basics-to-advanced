{
 "cells": [
  {
   "cell_type": "code",
   "execution_count": 15,
   "metadata": {},
   "outputs": [],
   "source": [
    "import torch\n",
    "import torch.nn as nn\n",
    "import torch.optim as optim\n"
   ]
  },
  {
   "cell_type": "code",
   "execution_count": 16,
   "metadata": {},
   "outputs": [],
   "source": [
    "\n",
    "# Define the training examples\n",
    "training_examples = [\n",
    "    \"The quick brown fox jumps over the lazy dog\",\n",
    "    \"She sells seashells by the seashore\",\n",
    "    \"Peter Piper picked a peck of pickled peppers\",\n",
    "    \"How much wood would a woodchuck chuck if a woodchuck could chuck wood\",\n",
    "    \"I scream, you scream, we all scream for ice cream\"\n",
    "]"
   ]
  },
  {
   "cell_type": "code",
   "execution_count": 17,
   "metadata": {},
   "outputs": [],
   "source": [
    "# Define the vocabulary\n",
    "vocab = set(\"\".join(training_examples))\n",
    "vocab_size = len(vocab)\n",
    "char_to_idx = {char: idx for idx, char in enumerate(vocab)}\n",
    "idx_to_char = {idx: char for idx, char in enumerate(vocab)}\n"
   ]
  },
  {
   "cell_type": "code",
   "execution_count": 18,
   "metadata": {},
   "outputs": [],
   "source": [
    "# Define the model\n",
    "class TextCompletionModel(nn.Module):\n",
    "    def __init__(self, input_size, hidden_size, output_size):\n",
    "        super(TextCompletionModel, self).__init__()\n",
    "        self.hidden_size = hidden_size\n",
    "        self.rnn = nn.RNN(input_size, hidden_size, batch_first=True)\n",
    "        self.fc = nn.Linear(hidden_size, output_size)\n",
    "        \n",
    "    def forward(self, x, hidden):\n",
    "        out, hidden = self.rnn(x, hidden)\n",
    "        out = self.fc(out)\n",
    "        return out, hidden\n",
    "    \n",
    "    def init_hidden(self, batch_size):\n",
    "        return torch.zeros(1, batch_size, self.hidden_size)"
   ]
  },
  {
   "cell_type": "code",
   "execution_count": 19,
   "metadata": {},
   "outputs": [],
   "source": [
    "\n",
    "# Define the hyperparameters\n",
    "input_size = vocab_size\n",
    "hidden_size = 64\n",
    "output_size = vocab_size\n",
    "learning_rate = 0.01\n",
    "num_epochs = 100"
   ]
  },
  {
   "cell_type": "code",
   "execution_count": 20,
   "metadata": {},
   "outputs": [],
   "source": [
    "# Initialize the model and optimizer\n",
    "model = TextCompletionModel(input_size, hidden_size, output_size)\n",
    "optimizer = optim.Adam(model.parameters(), lr=learning_rate)"
   ]
  },
  {
   "cell_type": "code",
   "execution_count": 21,
   "metadata": {},
   "outputs": [
    {
     "name": "stdout",
     "output_type": "stream",
     "text": [
      "Epoch 0, Loss: 2.960742950439453\n",
      "Epoch 10, Loss: 0.12615516781806946\n",
      "Epoch 20, Loss: 0.016170619055628777\n",
      "Epoch 30, Loss: 0.0074917045421898365\n",
      "Epoch 40, Loss: 0.004737526644021273\n",
      "Epoch 50, Loss: 0.003328861901536584\n",
      "Epoch 60, Loss: 0.002490279031917453\n",
      "Epoch 70, Loss: 0.0019439209718257189\n",
      "Epoch 80, Loss: 0.0015652687288820744\n",
      "Epoch 90, Loss: 0.001290685497224331\n"
     ]
    }
   ],
   "source": [
    "\n",
    "# Train the model\n",
    "for epoch in range(num_epochs):\n",
    "    for example in training_examples:\n",
    "        # Convert the example to a tensor\n",
    "        input_tensor = torch.zeros(len(example), input_size)\n",
    "        for i, char in enumerate(example):\n",
    "            input_tensor[i, char_to_idx[char]] = 1\n",
    "            \n",
    "        # Initialize the hidden state\n",
    "        hidden = model.init_hidden(1)\n",
    "        \n",
    "        # Forward pass\n",
    "        output, hidden = model(input_tensor.unsqueeze(0), hidden)\n",
    "        \n",
    "        # Compute the loss\n",
    "        loss = nn.CrossEntropyLoss()(output.squeeze(0), input_tensor.argmax(dim=1))\n",
    "        \n",
    "        # Backward pass and optimization\n",
    "        optimizer.zero_grad()\n",
    "        loss.backward()\n",
    "        optimizer.step()\n",
    "        \n",
    "    # Print the loss every 10 epochs\n",
    "    if epoch % 10 == 0:\n",
    "        print(f\"Epoch {epoch}, Loss: {loss.item()}\")\n",
    "\n"
   ]
  },
  {
   "cell_type": "code",
   "execution_count": 26,
   "metadata": {},
   "outputs": [
    {
     "name": "stdout",
     "output_type": "stream",
     "text": [
      "Predicted text: The quick brown\n"
     ]
    }
   ],
   "source": [
    "# Test the model\n",
    "test_example = \"The quick brown\"\n",
    "input_tensor = torch.zeros(len(test_example), input_size)\n",
    "for i, char in enumerate(test_example):\n",
    "    input_tensor[i, char_to_idx[char]] = 1\n",
    "hidden = model.init_hidden(1)\n",
    "output, hidden = model(input_tensor.unsqueeze(0), hidden)\n",
    "predicted_chars = []\n",
    "for idx in output.argmax(dim=2).squeeze():\n",
    "    if idx.item() < vocab_size:\n",
    "        predicted_chars.append(idx_to_char[idx.item()])\n",
    "    else:\n",
    "        predicted_chars.append(\"<UNK>\")\n",
    "predicted_text = test_example + \"\".join(predicted_chars[len(test_example):])\n",
    "print(f\"Predicted text: {predicted_text}\")\n"
   ]
  },
  {
   "attachments": {},
   "cell_type": "markdown",
   "metadata": {},
   "source": [
    "Train more with diverse examples to increase accuracy"
   ]
  },
  {
   "cell_type": "code",
   "execution_count": null,
   "metadata": {},
   "outputs": [],
   "source": []
  }
 ],
 "metadata": {
  "kernelspec": {
   "display_name": "dl",
   "language": "python",
   "name": "python3"
  },
  "language_info": {
   "codemirror_mode": {
    "name": "ipython",
    "version": 3
   },
   "file_extension": ".py",
   "mimetype": "text/x-python",
   "name": "python",
   "nbconvert_exporter": "python",
   "pygments_lexer": "ipython3",
   "version": "3.9.16"
  },
  "orig_nbformat": 4
 },
 "nbformat": 4,
 "nbformat_minor": 2
}
