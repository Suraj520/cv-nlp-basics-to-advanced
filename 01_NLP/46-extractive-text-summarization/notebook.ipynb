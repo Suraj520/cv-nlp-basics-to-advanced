{
  "nbformat": 4,
  "nbformat_minor": 0,
  "metadata": {
    "colab": {
      "provenance": []
    },
    "kernelspec": {
      "name": "python3",
      "display_name": "Python 3"
    },
    "language_info": {
      "name": "python"
    }
  },
  "cells": [
    {
      "cell_type": "markdown",
      "source": [
        "#### About\n",
        "\n",
        "> Extractive text summarization.\n",
        "\n",
        "In this method, We directly select few sentences from the input text which serve as a summary."
      ],
      "metadata": {
        "id": "A18W3_Vkv-VS"
      }
    },
    {
      "cell_type": "code",
      "source": [
        "training_samples = [\n",
        "    {\n",
        "        'text': 'This is the first sentence. This is the second sentence. This is the third sentence.',\n",
        "        'summary_indices': [0, 2]\n",
        "    },\n",
        "    {\n",
        "        'text': 'This is another text. It has four sentences. The third sentence is important. The last sentence is not important.',\n",
        "        'summary_indices': [0, 2]\n",
        "    },\n",
        "    {\n",
        "        'text': 'This is a third text. It has three sentences. The second sentence is the most important one.',\n",
        "        'summary_indices': [1]\n",
        "    }\n",
        "]\n"
      ],
      "metadata": {
        "id": "kp2mjSlWzbh3"
      },
      "execution_count": 19,
      "outputs": []
    },
    {
      "cell_type": "code",
      "source": [
        "from keras.models import Sequential\n",
        "from keras.layers import Dense, Dropout\n",
        "\n",
        "input_dim = 100 # the dimension of the input vector for each sentence\n",
        "output_dim = 1 # the dimension of the output vector for each sentence\n",
        "\n",
        "model = Sequential()\n",
        "model.add(Dense(64, input_dim=input_dim, activation='relu'))\n",
        "model.add(Dropout(0.5))\n",
        "model.add(Dense(32, activation='relu'))\n",
        "model.add(Dropout(0.5))\n",
        "model.add(Dense(output_dim, activation='sigmoid'))\n",
        "\n",
        "model.compile(loss='binary_crossentropy', optimizer='adam', metrics=['accuracy'])\n"
      ],
      "metadata": {
        "id": "nM_H_paM0goo"
      },
      "execution_count": 20,
      "outputs": []
    },
    {
      "cell_type": "code",
      "source": [
        "import numpy as np\n",
        "from keras.preprocessing.text import Tokenizer\n",
        "from tensorflow.keras.preprocessing.sequence import pad_sequences\n",
        "\n",
        "X = np.zeros((len(training_samples), input_dim))\n",
        "y = np.zeros((len(training_samples), output_dim))\n",
        "tokenizer = Tokenizer(num_words=input_dim)\n",
        "\n",
        "for i, sample in enumerate(training_samples):\n",
        "    text = sample['text']\n",
        "    summary_indices = sample['summary_indices']\n",
        "    sentences = text.split('.')\n",
        "    for j, sentence in enumerate(sentences):\n",
        "        tokenizer.fit_on_texts([sentence])\n",
        "        sequence = tokenizer.texts_to_sequences([sentence])\n",
        "        sentence_vector = pad_sequences(sequence, maxlen=input_dim, padding='post')[0]\n",
        "        X[i, :] = sentence_vector\n",
        "        if j in summary_indices:\n",
        "            y[i, :] = 1\n",
        "\n",
        "model.fit(X, y, epochs=10, batch_size=32)\n"
      ],
      "metadata": {
        "colab": {
          "base_uri": "https://localhost:8080/"
        },
        "id": "6v0q15u32Ziw",
        "outputId": "7b0c63fe-3fd1-4e37-c819-6f69c865f194"
      },
      "execution_count": 23,
      "outputs": [
        {
          "output_type": "stream",
          "name": "stdout",
          "text": [
            "Epoch 1/10\n",
            "1/1 [==============================] - 2s 2s/step - loss: 0.6931 - accuracy: 0.0000e+00\n",
            "Epoch 2/10\n",
            "1/1 [==============================] - 0s 18ms/step - loss: 0.6926 - accuracy: 1.0000\n",
            "Epoch 3/10\n",
            "1/1 [==============================] - 0s 12ms/step - loss: 0.6921 - accuracy: 1.0000\n",
            "Epoch 4/10\n",
            "1/1 [==============================] - 0s 10ms/step - loss: 0.6916 - accuracy: 1.0000\n",
            "Epoch 5/10\n",
            "1/1 [==============================] - 0s 10ms/step - loss: 0.6911 - accuracy: 1.0000\n",
            "Epoch 6/10\n",
            "1/1 [==============================] - 0s 8ms/step - loss: 0.6907 - accuracy: 1.0000\n",
            "Epoch 7/10\n",
            "1/1 [==============================] - 0s 11ms/step - loss: 0.6902 - accuracy: 1.0000\n",
            "Epoch 8/10\n",
            "1/1 [==============================] - 0s 8ms/step - loss: 0.6897 - accuracy: 1.0000\n",
            "Epoch 9/10\n",
            "1/1 [==============================] - 0s 10ms/step - loss: 0.6892 - accuracy: 1.0000\n",
            "Epoch 10/10\n",
            "1/1 [==============================] - 0s 8ms/step - loss: 0.6887 - accuracy: 1.0000\n"
          ]
        },
        {
          "output_type": "execute_result",
          "data": {
            "text/plain": [
              "<keras.callbacks.History at 0x7ff994694700>"
            ]
          },
          "metadata": {},
          "execution_count": 23
        }
      ]
    },
    {
      "cell_type": "code",
      "source": [
        "def generate_summary(model, input_text, input_dim):\n",
        "    sentences = input_text.split('.')\n",
        "    X = np.zeros((len(sentences), input_dim))\n",
        "    for i, sentence in enumerate(sentences):\n",
        "        sentence_vector = convert_sentence_to_vector(sentence, input_dim)\n",
        "        X[i, :] = sentence_vector\n",
        "    y_pred = model.predict(X)\n",
        "    summary_indices = np.where(y_pred > 0.5)[0]\n",
        "    summary = '.'.join([sentences[i] for i in summary_indices])\n",
        "    return summary\n"
      ],
      "metadata": {
        "id": "a9ua0-4w2bNz"
      },
      "execution_count": 24,
      "outputs": []
    },
    {
      "cell_type": "code",
      "source": [
        "def convert_sentence_to_vector(sentence, input_dim):\n",
        "    tokenizer = Tokenizer(num_words=input_dim)\n",
        "    tokenizer.fit_on_texts([sentence])\n",
        "    sequence = tokenizer.texts_to_sequences([sentence])\n",
        "    sentence_vector = pad_sequences(sequence, maxlen=input_dim, padding='post')[0]\n",
        "    return sentence_vector"
      ],
      "metadata": {
        "id": "DyiMjUmU3Dot"
      },
      "execution_count": 25,
      "outputs": []
    },
    {
      "cell_type": "code",
      "source": [
        "input_text = 'This is a long text with many sentences. Some sentences are more important than others. We want to generate a summary of the most important sentences.'\n",
        "summary = generate_summary(model, input_text, input_dim)\n",
        "print(summary)\n"
      ],
      "metadata": {
        "colab": {
          "base_uri": "https://localhost:8080/"
        },
        "id": "9dltlRr23FKd",
        "outputId": "42563da7-09d3-4de9-9d50-60802a633a69"
      },
      "execution_count": 26,
      "outputs": [
        {
          "output_type": "stream",
          "name": "stdout",
          "text": [
            "1/1 [==============================] - 0s 108ms/step\n",
            " We want to generate a summary of the most important sentences.\n"
          ]
        }
      ]
    },
    {
      "cell_type": "code",
      "source": [],
      "metadata": {
        "id": "RXk_Dk5q3GZl"
      },
      "execution_count": null,
      "outputs": []
    }
  ]
}