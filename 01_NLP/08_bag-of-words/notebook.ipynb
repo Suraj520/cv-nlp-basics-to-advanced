{
 "cells": [
  {
   "attachments": {},
   "cell_type": "markdown",
   "metadata": {},
   "source": [
    "#### About\n",
    "\n",
    "The bag-of-words - a text (such as a sentence or a document) is represented as the bag (multiset) of its words, disregarding grammar and even word order but keeping multiplicity. \n",
    "\n",
    "Refer its detailed application to detect cyberbully out here - https://github.com/Suraj520/CyberBullyDetection\n",
    "\n",
    "Application of it besides this can be sought as auto suggestion for replying against comments.\n"
   ]
  },
  {
   "cell_type": "code",
   "execution_count": 5,
   "metadata": {},
   "outputs": [],
   "source": [
    "#let's have a look at one such example\n",
    "from sklearn.feature_extraction.text import CountVectorizer\n",
    "text = [\"Shall we start a youtube channel on it, What do you think about it?\"]\n"
   ]
  },
  {
   "cell_type": "code",
   "execution_count": 9,
   "metadata": {},
   "outputs": [
    {
     "name": "stdout",
     "output_type": "stream",
     "text": [
      "['about', 'channel', 'do', 'it', 'on', 'shall', 'start', 'think', 'we', 'what', 'you', 'youtube']\n",
      "{'shall': 5, 'we': 8, 'start': 6, 'youtube': 11, 'channel': 1, 'on': 4, 'it': 3, 'what': 9, 'do': 2, 'you': 10, 'think': 7, 'about': 0}\n"
     ]
    }
   ],
   "source": [
    "vectorizer = CountVectorizer()\n",
    "vectorizer.fit(text)\n",
    "#summarise\n",
    "print(vectorizer.get_feature_names())\n",
    "print(vectorizer.vocabulary_)"
   ]
  },
  {
   "cell_type": "code",
   "execution_count": 11,
   "metadata": {},
   "outputs": [
    {
     "name": "stdout",
     "output_type": "stream",
     "text": [
      "[[1 1 1 2 1 1 1 1 1 1 1 1]]\n"
     ]
    }
   ],
   "source": [
    "#encoding\n",
    "encoded_vector = vectorizer.transform(text)\n",
    "#print\n",
    "array = encoded_vector.toarray()\n",
    "print(array)"
   ]
  },
  {
   "attachments": {},
   "cell_type": "markdown",
   "metadata": {},
   "source": [
    "Here 2 is the frequency of it in the text, Rest remain 1 in the entire bag of words.\n",
    "\n",
    "Let's visualise this\n",
    "\n",
    "\n"
   ]
  },
  {
   "cell_type": "code",
   "execution_count": 12,
   "metadata": {},
   "outputs": [],
   "source": [
    "import pandas as pd\n",
    "freq_matrix = pd.DataFrame(array, index = text, columns = vectorizer.get_feature_names())"
   ]
  },
  {
   "cell_type": "code",
   "execution_count": 13,
   "metadata": {},
   "outputs": [
    {
     "data": {
      "text/html": [
       "<div>\n",
       "<style scoped>\n",
       "    .dataframe tbody tr th:only-of-type {\n",
       "        vertical-align: middle;\n",
       "    }\n",
       "\n",
       "    .dataframe tbody tr th {\n",
       "        vertical-align: top;\n",
       "    }\n",
       "\n",
       "    .dataframe thead th {\n",
       "        text-align: right;\n",
       "    }\n",
       "</style>\n",
       "<table border=\"1\" class=\"dataframe\">\n",
       "  <thead>\n",
       "    <tr style=\"text-align: right;\">\n",
       "      <th></th>\n",
       "      <th>about</th>\n",
       "      <th>channel</th>\n",
       "      <th>do</th>\n",
       "      <th>it</th>\n",
       "      <th>on</th>\n",
       "      <th>shall</th>\n",
       "      <th>start</th>\n",
       "      <th>think</th>\n",
       "      <th>we</th>\n",
       "      <th>what</th>\n",
       "      <th>you</th>\n",
       "      <th>youtube</th>\n",
       "    </tr>\n",
       "  </thead>\n",
       "  <tbody>\n",
       "    <tr>\n",
       "      <th>Shall we start a youtube channel on it, What do you think about it?</th>\n",
       "      <td>1</td>\n",
       "      <td>1</td>\n",
       "      <td>1</td>\n",
       "      <td>2</td>\n",
       "      <td>1</td>\n",
       "      <td>1</td>\n",
       "      <td>1</td>\n",
       "      <td>1</td>\n",
       "      <td>1</td>\n",
       "      <td>1</td>\n",
       "      <td>1</td>\n",
       "      <td>1</td>\n",
       "    </tr>\n",
       "  </tbody>\n",
       "</table>\n",
       "</div>"
      ],
      "text/plain": [
       "                                                    about  channel  do  it  \\\n",
       "Shall we start a youtube channel on it, What do...      1        1   1   2   \n",
       "\n",
       "                                                    on  shall  start  think  \\\n",
       "Shall we start a youtube channel on it, What do...   1      1      1      1   \n",
       "\n",
       "                                                    we  what  you  youtube  \n",
       "Shall we start a youtube channel on it, What do...   1     1    1        1  "
      ]
     },
     "execution_count": 13,
     "metadata": {},
     "output_type": "execute_result"
    }
   ],
   "source": [
    "freq_matrix"
   ]
  },
  {
   "cell_type": "code",
   "execution_count": null,
   "metadata": {},
   "outputs": [],
   "source": []
  }
 ],
 "metadata": {
  "kernelspec": {
   "display_name": "dl",
   "language": "python",
   "name": "python3"
  },
  "language_info": {
   "codemirror_mode": {
    "name": "ipython",
    "version": 3
   },
   "file_extension": ".py",
   "mimetype": "text/x-python",
   "name": "python",
   "nbconvert_exporter": "python",
   "pygments_lexer": "ipython3",
   "version": "3.7.11"
  },
  "orig_nbformat": 4,
  "vscode": {
   "interpreter": {
    "hash": "50052c996937e9a0e161d422489677fdaadc23d756ac209b7397e80e5ea8cea0"
   }
  }
 },
 "nbformat": 4,
 "nbformat_minor": 2
}
