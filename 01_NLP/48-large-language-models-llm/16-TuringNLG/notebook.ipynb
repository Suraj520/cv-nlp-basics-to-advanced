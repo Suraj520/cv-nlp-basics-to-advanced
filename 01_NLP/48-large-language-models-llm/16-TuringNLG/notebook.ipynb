{
 "cells": [
  {
   "attachments": {},
   "cell_type": "markdown",
   "metadata": {},
   "source": [
    "#### Architecture Overview\n",
    "\n",
    "> TuringNLG\n",
    "\n",
    "It is the state of the art natural language generation model developed by Microsoft. \n",
    "\n",
    "The building blocks of TuringNLG are not explicitly known but it's similar to the transformer architecture which contains Input embedding layer, encoder, decoder and output layers.\n",
    "\n",
    "It's difference to other architectures can be viewed in terms of model size, training data and pretraining, task specific adaptation among others."
   ]
  },
  {
   "cell_type": "code",
   "execution_count": null,
   "metadata": {},
   "outputs": [],
   "source": []
  }
 ],
 "metadata": {
  "language_info": {
   "name": "python"
  },
  "orig_nbformat": 4
 },
 "nbformat": 4,
 "nbformat_minor": 2
}
