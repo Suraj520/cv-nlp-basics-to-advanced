{
 "cells": [
  {
   "cell_type": "markdown",
   "id": "9eac8a4d",
   "metadata": {
    "papermill": {
     "duration": 0.008708,
     "end_time": "2023-06-23T07:08:19.654641",
     "exception": false,
     "start_time": "2023-06-23T07:08:19.645933",
     "status": "completed"
    },
    "tags": []
   },
   "source": [
    "<div style=\"background-color:#5D73F2; color:#19180F; font-size:40px; font-family:Verdana; padding:10px; border: 5px solid #19180F; border-radius:10px\"> XLM-RoBERTa </div>\n",
    "<div style=\"background-color:#A8B4F6; color:#19180F; font-size:30px; font-family:Verdana; padding:10px; border: 5px solid #19180F; border-radius:10px\"> Architecture Overview</div>\n",
    "<div style=\"background-color:#D5D9F2; color:#19180F; font-size:15px; font-family:Verdana; padding:10px; border: 5px solid #19180F; border-radius:10px\"> \n",
    "\n",
    "1. The model's initial inputs are shown in the input section. Input Embedding and Language Embedding are its two constituent parts.<br><br>\n",
    "- Input Embedding: This sub-component accepts input mask, segment IDs, and position IDs as well as input tokens. To turn these inputs into continuous vector representations, it performs embedding operations.<br><br>\n",
    "- Language Embedding: By adding the language ID information to the appropriate embedding vectors, this sub-component incorporates the language ID information into the input embeddings.<br><br>\n",
    "2. The transformer encoder, which is the main part of XLM-Roberta and is in charge of processing and transforming the input representations, is known as the transformer. It is made up of several stacked encoder layers, each of which has the following three sub-components: input embedding, self-attention, and feed-forward.<br><br>\n",
    "- Input Embedding: Each encoder layer uses the output of the layer before it as its input embedding.<br><br>\n",
    "- Self-Attention: The model can recognize contextual dependencies between various tokens in the input sequence thanks to the self-attention mechanism. For each token, it calculates attention weights, which are then combined with the corresponding token representations.<br><br>\n",
    "- Feed-Forward: The feed-forward layer transforms the intermediate representations obtained from the self-attention layer in a non-linear manner.<br><br>\n",
    "3. Output: The model's final stages are represented by the output section, where the analyzed data is converted into accurate forecasts or visual representations.<br><br>\n",
    "- Pooling: The pooling component, which is typically mean pooling, combines all token representations into a single representation of a fixed size.<br><br>\n",
    "- Classifier: The classifier part uses the pooled representation as input and applies a softmax function to produce predictions or carry out subsequent tasks, like text classification.<br><br>\n",
    "The connections between the parts are denoted by arrows with labels that describe the operations or transformations happening. \"Residual\" labels are used to identify residual connections, which add the original input embeddings to a sub-component's output. The \"Addition\" labels show the element-by-element addition of various parts.\n",
    "<br><br>\n",
    "Overall, XLM-Roberta has the same architecture as the original Transformer model, with the addition of language embeddings and adjustments to efficiently handle multilingual tasks. It takes advantage of self-attention's ability to capture complex dependencies and stack encoders to produce high-quality representations for a range of natural language processing tasks.<br><br> </div>\n"
   ]
  },
  {
   "cell_type": "code",
   "execution_count": 1,
   "id": "ad8a8460",
   "metadata": {
    "execution": {
     "iopub.execute_input": "2023-06-23T07:08:19.672470Z",
     "iopub.status.busy": "2023-06-23T07:08:19.672081Z",
     "iopub.status.idle": "2023-06-23T07:08:19.703523Z",
     "shell.execute_reply": "2023-06-23T07:08:19.702530Z"
    },
    "papermill": {
     "duration": 0.043675,
     "end_time": "2023-06-23T07:08:19.706622",
     "exception": false,
     "start_time": "2023-06-23T07:08:19.662947",
     "status": "completed"
    },
    "tags": []
   },
   "outputs": [
    {
     "data": {
      "image/svg+xml": [
       "<svg xmlns=\"http://www.w3.org/2000/svg\" xmlns:xlink=\"http://www.w3.org/1999/xlink\" width=\"950pt\" height=\"1991pt\" viewBox=\"0.00 0.00 950.00 1991.00\">\n",
       "<g id=\"graph0\" class=\"graph\" transform=\"scale(1 1) rotate(0) translate(4 1987)\">\n",
       "<title>XLM_Roberta</title>\n",
       "<polygon fill=\"#ffffff\" stroke=\"transparent\" points=\"-4,4 -4,-1987 946,-1987 946,4 -4,4\"/>\n",
       "<g id=\"clust1\" class=\"cluster\">\n",
       "<title>cluster_Input</title>\n",
       "<polygon fill=\"none\" stroke=\"#000000\" points=\"8,-1052.6 8,-1975 253,-1975 253,-1052.6 8,-1052.6\"/>\n",
       "<text text-anchor=\"middle\" x=\"30.7756\" y=\"-1958.4\" font-family=\"Times,serif\" font-size=\"14.00\" fill=\"#000000\">Input</text>\n",
       "</g>\n",
       "<g id=\"clust2\" class=\"cluster\">\n",
       "<title>cluster_InputEmbedding</title>\n",
       "<polygon fill=\"none\" stroke=\"#000000\" points=\"48,-1060.6 48,-1797.4 245,-1797.4 245,-1060.6 48,-1060.6\"/>\n",
       "<text text-anchor=\"middle\" x=\"104.7998\" y=\"-1780.8\" font-family=\"Times,serif\" font-size=\"14.00\" fill=\"#000000\">Input Embedding</text>\n",
       "</g>\n",
       "<g id=\"clust3\" class=\"cluster\">\n",
       "<title>cluster_LanguageEmbedding</title>\n",
       "<polygon fill=\"none\" stroke=\"#000000\" points=\"23,-1865.4 23,-1942.2 162,-1942.2 162,-1865.4 23,-1865.4\"/>\n",
       "<text text-anchor=\"middle\" x=\"92.6224\" y=\"-1925.6\" font-family=\"Times,serif\" font-size=\"14.00\" fill=\"#000000\">Language Embedding</text>\n",
       "</g>\n",
       "<g id=\"clust4\" class=\"cluster\">\n",
       "<title>cluster_Transformer</title>\n",
       "<polygon fill=\"none\" stroke=\"#000000\" points=\"19,-8 19,-1024.6 804,-1024.6 804,-8 19,-8\"/>\n",
       "<text text-anchor=\"middle\" x=\"87.0509\" y=\"-1008\" font-family=\"Times,serif\" font-size=\"14.00\" fill=\"#000000\">Transformer Encoder</text>\n",
       "</g>\n",
       "<g id=\"clust5\" class=\"cluster\">\n",
       "<title>cluster_Encoder1</title>\n",
       "<polygon fill=\"none\" stroke=\"#000000\" points=\"27,-238 27,-991.8 278,-991.8 278,-238 27,-238\"/>\n",
       "<text text-anchor=\"middle\" x=\"81.6424\" y=\"-975.2\" font-family=\"Times,serif\" font-size=\"14.00\" fill=\"#000000\">Encoder Layer 1</text>\n",
       "</g>\n",
       "<g id=\"clust6\" class=\"cluster\">\n",
       "<title>cluster_Encoder2</title>\n",
       "<polygon fill=\"none\" stroke=\"#000000\" points=\"286,-127 286,-847 537,-847 537,-127 286,-127\"/>\n",
       "<text text-anchor=\"middle\" x=\"340.6424\" y=\"-830.4\" font-family=\"Times,serif\" font-size=\"14.00\" fill=\"#000000\">Encoder Layer 2</text>\n",
       "</g>\n",
       "<g id=\"clust7\" class=\"cluster\">\n",
       "<title>cluster_EncoderN</title>\n",
       "<polygon fill=\"none\" stroke=\"#000000\" points=\"545,-16 545,-702.2 796,-702.2 796,-16 545,-16\"/>\n",
       "<text text-anchor=\"middle\" x=\"601.1957\" y=\"-685.6\" font-family=\"Times,serif\" font-size=\"14.00\" fill=\"#000000\">Encoder Layer N</text>\n",
       "</g>\n",
       "<g id=\"clust8\" class=\"cluster\">\n",
       "<title>cluster_Output</title>\n",
       "<polygon fill=\"none\" stroke=\"#000000\" points=\"812,-309 812,-595.4 934,-595.4 934,-309 812,-309\"/>\n",
       "<text text-anchor=\"middle\" x=\"839.4439\" y=\"-578.8\" font-family=\"Times,serif\" font-size=\"14.00\" fill=\"#000000\">Output</text>\n",
       "</g>\n",
       "<g id=\"clust9\" class=\"cluster\">\n",
       "<title>cluster_Pooling</title>\n",
       "<polygon fill=\"none\" stroke=\"#000000\" points=\"820,-485.8 820,-562.6 926,-562.6 926,-485.8 820,-485.8\"/>\n",
       "<text text-anchor=\"middle\" x=\"849.7819\" y=\"-546\" font-family=\"Times,serif\" font-size=\"14.00\" fill=\"#000000\">Pooling</text>\n",
       "</g>\n",
       "<g id=\"clust10\" class=\"cluster\">\n",
       "<title>cluster_Classifier</title>\n",
       "<polygon fill=\"none\" stroke=\"#000000\" points=\"835,-317 835,-393.8 911,-393.8 911,-317 835,-317\"/>\n",
       "<text text-anchor=\"middle\" x=\"869.824\" y=\"-377.2\" font-family=\"Times,serif\" font-size=\"14.00\" fill=\"#000000\">Classifier</text>\n",
       "</g>\n",
       "<!-- input_tokens -->\n",
       "<g id=\"node1\" class=\"node\">\n",
       "<title>input_tokens</title>\n",
       "<path fill=\"#ffc0cb\" stroke=\"#000000\" d=\"M196.8608,-1764.6C196.8608,-1764.6 135.1392,-1764.6 135.1392,-1764.6 129.1392,-1764.6 123.1392,-1758.6 123.1392,-1752.6 123.1392,-1752.6 123.1392,-1740.6 123.1392,-1740.6 123.1392,-1734.6 129.1392,-1728.6 135.1392,-1728.6 135.1392,-1728.6 196.8608,-1728.6 196.8608,-1728.6 202.8608,-1728.6 208.8608,-1734.6 208.8608,-1740.6 208.8608,-1740.6 208.8608,-1752.6 208.8608,-1752.6 208.8608,-1758.6 202.8608,-1764.6 196.8608,-1764.6\"/>\n",
       "<text text-anchor=\"middle\" x=\"166\" y=\"-1743\" font-family=\"Arial\" font-size=\"12.00\" fill=\"#000000\">Input Tokens</text>\n",
       "</g>\n",
       "<!-- input_segment -->\n",
       "<g id=\"node2\" class=\"node\">\n",
       "<title>input_segment</title>\n",
       "<path fill=\"#ffc0cb\" stroke=\"#000000\" d=\"M149.8487,-1544.6C149.8487,-1544.6 88.1513,-1544.6 88.1513,-1544.6 82.1513,-1544.6 76.1513,-1538.6 76.1513,-1532.6 76.1513,-1532.6 76.1513,-1520.6 76.1513,-1520.6 76.1513,-1514.6 82.1513,-1508.6 88.1513,-1508.6 88.1513,-1508.6 149.8487,-1508.6 149.8487,-1508.6 155.8487,-1508.6 161.8487,-1514.6 161.8487,-1520.6 161.8487,-1520.6 161.8487,-1532.6 161.8487,-1532.6 161.8487,-1538.6 155.8487,-1544.6 149.8487,-1544.6\"/>\n",
       "<text text-anchor=\"middle\" x=\"119\" y=\"-1523\" font-family=\"Arial\" font-size=\"12.00\" fill=\"#000000\">Segment IDs</text>\n",
       "</g>\n",
       "<!-- input_tokens&#45;&gt;input_segment -->\n",
       "<g id=\"edge1\" class=\"edge\">\n",
       "<title>input_tokens-&gt;input_segment</title>\n",
       "<path fill=\"none\" stroke=\"#6a5acd\" d=\"M166,-1728.4497C166,-1716.3184 166,-1700.0028 166,-1685.6 166,-1685.6 166,-1685.6 166,-1587.6 166,-1574.3081 158.9111,-1562.1399 150.2394,-1552.2274\"/>\n",
       "<polygon fill=\"#6a5acd\" stroke=\"#6a5acd\" points=\"143.0507,-1544.783 153.2343,-1548.8507 146.524,-1548.3798 149.9972,-1551.9766 149.9972,-1551.9766 149.9972,-1551.9766 146.524,-1548.3798 146.7601,-1555.1025 143.0507,-1544.783 143.0507,-1544.783\"/>\n",
       "<text text-anchor=\"middle\" x=\"185.7305\" y=\"-1633.6\" font-family=\"Arial\" font-size=\"10.00\" fill=\"#000000\">Attention</text>\n",
       "</g>\n",
       "<!-- input_position -->\n",
       "<g id=\"node3\" class=\"node\">\n",
       "<title>input_position</title>\n",
       "<path fill=\"#ffc0cb\" stroke=\"#000000\" d=\"M225.008,-1324.6C225.008,-1324.6 168.992,-1324.6 168.992,-1324.6 162.992,-1324.6 156.992,-1318.6 156.992,-1312.6 156.992,-1312.6 156.992,-1300.6 156.992,-1300.6 156.992,-1294.6 162.992,-1288.6 168.992,-1288.6 168.992,-1288.6 225.008,-1288.6 225.008,-1288.6 231.008,-1288.6 237.008,-1294.6 237.008,-1300.6 237.008,-1300.6 237.008,-1312.6 237.008,-1312.6 237.008,-1318.6 231.008,-1324.6 225.008,-1324.6\"/>\n",
       "<text text-anchor=\"middle\" x=\"197\" y=\"-1303\" font-family=\"Arial\" font-size=\"12.00\" fill=\"#000000\">Position IDs</text>\n",
       "</g>\n",
       "<!-- input_tokens&#45;&gt;input_position -->\n",
       "<g id=\"edge2\" class=\"edge\">\n",
       "<title>input_tokens-&gt;input_position</title>\n",
       "<path fill=\"none\" stroke=\"#6a5acd\" d=\"M175.7855,-1728.4482C186.1635,-1708.1766 202.0044,-1674.0695 209,-1642.6 231.3959,-1541.8524 229.7381,-1513.2467 219,-1410.6 216.2732,-1384.5345 209.802,-1355.385 204.5796,-1334.5936\"/>\n",
       "<polygon fill=\"#6a5acd\" stroke=\"#6a5acd\" points=\"202.0636,-1324.8264 208.9159,-1333.3877 203.3109,-1329.6683 204.5582,-1334.5103 204.5582,-1334.5103 204.5582,-1334.5103 203.3109,-1329.6683 200.2004,-1335.6328 202.0636,-1324.8264 202.0636,-1324.8264\"/>\n",
       "<text text-anchor=\"middle\" x=\"245.7305\" y=\"-1523.6\" font-family=\"Arial\" font-size=\"10.00\" fill=\"#000000\">Attention</text>\n",
       "</g>\n",
       "<!-- input_mask -->\n",
       "<g id=\"node4\" class=\"node\">\n",
       "<title>input_mask</title>\n",
       "<path fill=\"#ffc0cb\" stroke=\"#000000\" d=\"M122.1831,-1104.6C122.1831,-1104.6 71.8169,-1104.6 71.8169,-1104.6 65.8169,-1104.6 59.8169,-1098.6 59.8169,-1092.6 59.8169,-1092.6 59.8169,-1080.6 59.8169,-1080.6 59.8169,-1074.6 65.8169,-1068.6 71.8169,-1068.6 71.8169,-1068.6 122.1831,-1068.6 122.1831,-1068.6 128.1831,-1068.6 134.1831,-1074.6 134.1831,-1080.6 134.1831,-1080.6 134.1831,-1092.6 134.1831,-1092.6 134.1831,-1098.6 128.1831,-1104.6 122.1831,-1104.6\"/>\n",
       "<text text-anchor=\"middle\" x=\"97\" y=\"-1083\" font-family=\"Arial\" font-size=\"12.00\" fill=\"#000000\">Input Mask</text>\n",
       "</g>\n",
       "<!-- input_tokens&#45;&gt;input_mask -->\n",
       "<g id=\"edge3\" class=\"edge\">\n",
       "<title>input_tokens-&gt;input_mask</title>\n",
       "<path fill=\"none\" stroke=\"#6a5acd\" d=\"M159.5581,-1728.3989C148.2318,-1697.3142 123.1653,-1632.4288 94,-1581.6 83.8685,-1563.9429 73.3109,-1563.9544 67,-1544.6 62.0399,-1529.3883 64.5013,-1524.4037 67,-1508.6 69.6998,-1491.5244 76.3002,-1488.6756 79,-1471.6 86.2052,-1426.0289 63,-1310.7372 63,-1264.6 63,-1264.6 63,-1264.6 63,-1142.1 63,-1131.7607 67.3435,-1121.7223 72.9256,-1113.0905\"/>\n",
       "<polygon fill=\"#6a5acd\" stroke=\"#6a5acd\" points=\"78.8056,-1104.9685 76.5865,-1115.7075 75.8735,-1109.0185 72.9414,-1113.0686 72.9414,-1113.0686 72.9414,-1113.0686 75.8735,-1109.0185 69.2963,-1110.4297 78.8056,-1104.9685 78.8056,-1104.9685\"/>\n",
       "<text text-anchor=\"middle\" x=\"98.7305\" y=\"-1413.6\" font-family=\"Arial\" font-size=\"10.00\" fill=\"#000000\">Attention</text>\n",
       "</g>\n",
       "<!-- input_embed1 -->\n",
       "<g id=\"node6\" class=\"node\">\n",
       "<title>input_embed1</title>\n",
       "<path fill=\"#bfefff\" stroke=\"#000000\" d=\"M250.2024,-959C250.2024,-959 167.7976,-959 167.7976,-959 161.7976,-959 155.7976,-953 155.7976,-947 155.7976,-947 155.7976,-935 155.7976,-935 155.7976,-929 161.7976,-923 167.7976,-923 167.7976,-923 250.2024,-923 250.2024,-923 256.2024,-923 262.2024,-929 262.2024,-935 262.2024,-935 262.2024,-947 262.2024,-947 262.2024,-953 256.2024,-959 250.2024,-959\"/>\n",
       "<text text-anchor=\"middle\" x=\"209\" y=\"-937.4\" font-family=\"Arial\" font-size=\"12.00\" fill=\"#000000\">Input Embedding</text>\n",
       "</g>\n",
       "<!-- input_tokens&#45;&gt;input_embed1 -->\n",
       "<g id=\"edge24\" class=\"edge\">\n",
       "<title>input_tokens-&gt;input_embed1</title>\n",
       "<path fill=\"none\" stroke=\"#6a5acd\" d=\"M209.0066,-1739.6194C258.4876,-1730.3424 333,-1711.991 333,-1685.6 333,-1685.6 333,-1685.6 333,-1086.6 333,-1033.5764 284.7456,-990.0469 248.4407,-964.8004\"/>\n",
       "<polygon fill=\"#6a5acd\" stroke=\"#6a5acd\" points=\"239.9706,-959.0855 250.7771,-960.9483 244.1154,-961.8821 248.2602,-964.6786 248.2602,-964.6786 248.2602,-964.6786 244.1154,-961.8821 245.7433,-968.4089 239.9706,-959.0855 239.9706,-959.0855\"/>\n",
       "<text text-anchor=\"middle\" x=\"358.2855\" y=\"-1383.6\" font-family=\"Arial\" font-size=\"10.00\" fill=\"#000000\">Embedding</text>\n",
       "</g>\n",
       "<!-- input_segment&#45;&gt;input_position -->\n",
       "<g id=\"edge4\" class=\"edge\">\n",
       "<title>input_segment-&gt;input_position</title>\n",
       "<path fill=\"none\" stroke=\"#6a5acd\" d=\"M149.5024,-1508.4917C163.0546,-1497.9656 176,-1483.2829 176,-1465.6 176,-1465.6 176,-1465.6 176,-1362.1 176,-1352.5939 178.7283,-1342.7301 182.2181,-1334.0015\"/>\n",
       "<polygon fill=\"#6a5acd\" stroke=\"#6a5acd\" points=\"186.377,-1324.7085 186.3995,-1335.6744 184.3345,-1329.2723 182.292,-1333.8362 182.292,-1333.8362 182.292,-1333.8362 184.3345,-1329.2723 178.1846,-1331.998 186.377,-1324.7085 186.377,-1324.7085\"/>\n",
       "<text text-anchor=\"middle\" x=\"195.7305\" y=\"-1413.6\" font-family=\"Arial\" font-size=\"10.00\" fill=\"#000000\">Attention</text>\n",
       "</g>\n",
       "<!-- input_segment&#45;&gt;input_mask -->\n",
       "<g id=\"edge5\" class=\"edge\">\n",
       "<title>input_segment-&gt;input_mask</title>\n",
       "<path fill=\"none\" stroke=\"#6a5acd\" d=\"M120.1299,-1508.5729C121.3681,-1487.8412 123.275,-1452.7789 124,-1422.6 124.1281,-1417.2682 124.4737,-1415.9123 124,-1410.6 120.5506,-1371.9185 112.9243,-1363.1866 108.539,-1324.6 99.9728,-1249.2247 97.758,-1159.7124 97.1909,-1114.9935\"/>\n",
       "<polygon fill=\"#6a5acd\" stroke=\"#6a5acd\" points=\"97.0815,-1104.8786 101.6894,-1114.8293 97.1356,-1109.8783 97.1897,-1114.878 97.1897,-1114.878 97.1897,-1114.878 97.1356,-1109.8783 92.69,-1114.9267 97.0815,-1104.8786 97.0815,-1104.8786\"/>\n",
       "<text text-anchor=\"middle\" x=\"127.7305\" y=\"-1303.6\" font-family=\"Arial\" font-size=\"10.00\" fill=\"#000000\">Attention</text>\n",
       "</g>\n",
       "<!-- input_segment&#45;&gt;input_embed1 -->\n",
       "<g id=\"edge25\" class=\"edge\">\n",
       "<title>input_segment-&gt;input_embed1</title>\n",
       "<path fill=\"none\" stroke=\"#6a5acd\" d=\"M161.8077,-1517.6476C205.5178,-1507.2409 267,-1488.5279 267,-1465.6 267,-1465.6 267,-1465.6 267,-1086.6 267,-1042.6513 243.9114,-996.1998 226.869,-967.8988\"/>\n",
       "<polygon fill=\"#6a5acd\" stroke=\"#6a5acd\" points=\"221.5851,-959.3741 230.6784,-965.503 224.2193,-963.6239 226.8535,-967.8738 226.8535,-967.8738 226.8535,-967.8738 224.2193,-963.6239 223.0287,-970.2445 221.5851,-959.3741 221.5851,-959.3741\"/>\n",
       "<text text-anchor=\"middle\" x=\"292.2855\" y=\"-1261.6\" font-family=\"Arial\" font-size=\"10.00\" fill=\"#000000\">Embedding</text>\n",
       "</g>\n",
       "<!-- input_position&#45;&gt;input_mask -->\n",
       "<g id=\"edge6\" class=\"edge\">\n",
       "<title>input_position-&gt;input_mask</title>\n",
       "<path fill=\"none\" stroke=\"#6a5acd\" d=\"M165.1309,-1288.346C149.5049,-1276.8214 134,-1260.2974 134,-1240.1 134,-1240.1 134,-1240.1 134,-1142.1 134,-1131.504 129.2732,-1121.3923 123.1986,-1112.7724\"/>\n",
       "<polygon fill=\"#6a5acd\" stroke=\"#6a5acd\" points=\"116.7998,-1104.6871 126.5343,-1109.736 119.9027,-1108.6078 123.0056,-1112.5286 123.0056,-1112.5286 123.0056,-1112.5286 119.9027,-1108.6078 119.477,-1115.3212 116.7998,-1104.6871 116.7998,-1104.6871\"/>\n",
       "<text text-anchor=\"middle\" x=\"153.7305\" y=\"-1193.6\" font-family=\"Arial\" font-size=\"10.00\" fill=\"#000000\">Attention</text>\n",
       "</g>\n",
       "<!-- input_position&#45;&gt;input_embed1 -->\n",
       "<g id=\"edge26\" class=\"edge\">\n",
       "<title>input_position-&gt;input_embed1</title>\n",
       "<path fill=\"none\" stroke=\"#6a5acd\" d=\"M198.6732,-1288.554C199.7693,-1275.188 201,-1256.5237 201,-1240.1 201,-1240.1 201,-1240.1 201,-1086.6 201,-1045.969 204.1444,-999.056 206.4905,-969.7079\"/>\n",
       "<polygon fill=\"#6a5acd\" stroke=\"#6a5acd\" points=\"207.3424,-959.3697 211.0059,-969.7055 206.9317,-964.3528 206.5211,-969.3359 206.5211,-969.3359 206.5211,-969.3359 206.9317,-964.3528 202.0363,-968.9663 207.3424,-959.3697 207.3424,-959.3697\"/>\n",
       "<text text-anchor=\"middle\" x=\"226.2855\" y=\"-1163.6\" font-family=\"Arial\" font-size=\"10.00\" fill=\"#000000\">Embedding</text>\n",
       "</g>\n",
       "<!-- input_mask&#45;&gt;input_embed1 -->\n",
       "<g id=\"edge27\" class=\"edge\">\n",
       "<title>input_mask-&gt;input_embed1</title>\n",
       "<path fill=\"none\" stroke=\"#6a5acd\" d=\"M109.9674,-1068.4691C117.5756,-1057.9254 127.4328,-1044.4254 136.429,-1032.6 153.4732,-1010.1955 173.3599,-985.1691 188.001,-966.9444\"/>\n",
       "<polygon fill=\"#6a5acd\" stroke=\"#6a5acd\" points=\"194.3298,-959.0833 191.5639,-969.6947 191.1943,-962.978 188.0587,-966.8727 188.0587,-966.8727 188.0587,-966.8727 191.1943,-962.978 184.5535,-964.0507 194.3298,-959.0833 194.3298,-959.0833\"/>\n",
       "<text text-anchor=\"middle\" x=\"161.2855\" y=\"-1035.6\" font-family=\"Arial\" font-size=\"10.00\" fill=\"#000000\">Embedding</text>\n",
       "</g>\n",
       "<!-- input_language -->\n",
       "<g id=\"node5\" class=\"node\">\n",
       "<title>input_language</title>\n",
       "<path fill=\"#ffc0cb\" stroke=\"#000000\" d=\"M115.1993,-1909.4C115.1993,-1909.4 54.8007,-1909.4 54.8007,-1909.4 48.8007,-1909.4 42.8007,-1903.4 42.8007,-1897.4 42.8007,-1897.4 42.8007,-1885.4 42.8007,-1885.4 42.8007,-1879.4 48.8007,-1873.4 54.8007,-1873.4 54.8007,-1873.4 115.1993,-1873.4 115.1993,-1873.4 121.1993,-1873.4 127.1993,-1879.4 127.1993,-1885.4 127.1993,-1885.4 127.1993,-1897.4 127.1993,-1897.4 127.1993,-1903.4 121.1993,-1909.4 115.1993,-1909.4\"/>\n",
       "<text text-anchor=\"middle\" x=\"85\" y=\"-1887.8\" font-family=\"Arial\" font-size=\"12.00\" fill=\"#000000\">Language ID</text>\n",
       "</g>\n",
       "<!-- input_language&#45;&gt;input_tokens -->\n",
       "<g id=\"edge7\" class=\"edge\">\n",
       "<title>input_language-&gt;input_tokens</title>\n",
       "<path fill=\"none\" stroke=\"#6a5acd\" d=\"M95.0949,-1873.3538C109.1009,-1848.316 134.5396,-1802.8402 150.8346,-1773.7104\"/>\n",
       "<polygon fill=\"#6a5acd\" stroke=\"#6a5acd\" points=\"155.7778,-1764.8737 154.8231,-1775.7979 153.3368,-1769.2373 150.8958,-1773.601 150.8958,-1773.601 150.8958,-1773.601 153.3368,-1769.2373 146.9685,-1771.4041 155.7778,-1764.8737 155.7778,-1764.8737\"/>\n",
       "<text text-anchor=\"middle\" x=\"140.061\" y=\"-1827.4\" font-family=\"Arial\" font-size=\"10.00\" fill=\"#000000\">Addition</text>\n",
       "</g>\n",
       "<!-- input_language&#45;&gt;input_segment -->\n",
       "<g id=\"edge8\" class=\"edge\">\n",
       "<title>input_language-&gt;input_segment</title>\n",
       "<path fill=\"none\" stroke=\"#6a5acd\" d=\"M87.7191,-1873.2955C89.3066,-1861.1836 91,-1844.8723 91,-1830.4 91,-1830.4 91,-1830.4 91,-1710.1 91,-1654.6102 103.6672,-1590.7506 111.9615,-1554.884\"/>\n",
       "<polygon fill=\"#6a5acd\" stroke=\"#6a5acd\" points=\"114.3764,-1544.6919 116.4496,-1555.46 113.2236,-1549.5572 112.0708,-1554.4225 112.0708,-1554.4225 112.0708,-1554.4225 113.2236,-1549.5572 107.692,-1553.385 114.3764,-1544.6919 114.3764,-1544.6919\"/>\n",
       "<text text-anchor=\"middle\" x=\"110.061\" y=\"-1682.6\" font-family=\"Arial\" font-size=\"10.00\" fill=\"#000000\">Addition</text>\n",
       "</g>\n",
       "<!-- input_language&#45;&gt;input_position -->\n",
       "<g id=\"edge9\" class=\"edge\">\n",
       "<title>input_language-&gt;input_position</title>\n",
       "<path fill=\"none\" stroke=\"#6a5acd\" d=\"M70.2263,-1873.3662C62.2419,-1861.8088 54,-1846.0808 54,-1830.4 54,-1830.4 54,-1830.4 54,-1612.1 54,-1566.0914 39.8071,-1552.9635 52,-1508.6 58.3264,-1485.5815 78.5689,-1483.0308 74,-1459.6 70.6039,-1442.1836 62.3961,-1440.0164 59,-1422.6 55.2844,-1403.5453 58.3435,-1395.3208 71,-1380.6 91.5481,-1356.7004 121.8289,-1338.569 147.5557,-1326.2362\"/>\n",
       "<polygon fill=\"#6a5acd\" stroke=\"#6a5acd\" points=\"156.8015,-1321.955 149.618,-1330.2404 152.2643,-1324.056 147.7271,-1326.1569 147.7271,-1326.1569 147.7271,-1326.1569 152.2643,-1324.056 145.8362,-1322.0735 156.8015,-1321.955 156.8015,-1321.955\"/>\n",
       "<text text-anchor=\"middle\" x=\"72.061\" y=\"-1584.6\" font-family=\"Arial\" font-size=\"10.00\" fill=\"#000000\">Addition</text>\n",
       "</g>\n",
       "<!-- input_language&#45;&gt;input_mask -->\n",
       "<g id=\"edge10\" class=\"edge\">\n",
       "<title>input_language-&gt;input_mask</title>\n",
       "<path fill=\"none\" stroke=\"#6a5acd\" d=\"M46.628,-1873.3895C31.2037,-1863.2918 17,-1848.9557 17,-1830.4 17,-1830.4 17,-1830.4 17,-1563.1 17,-1484.5939 24,-1465.1061 24,-1386.6 24,-1386.6 24,-1386.6 24,-1142.1 24,-1125.488 36.1276,-1113.1975 50.4966,-1104.4655\"/>\n",
       "<polygon fill=\"#6a5acd\" stroke=\"#6a5acd\" points=\"59.6446,-1099.4817 53.0161,-1108.2174 55.2539,-1101.8737 50.8632,-1104.2658 50.8632,-1104.2658 50.8632,-1104.2658 55.2539,-1101.8737 48.7104,-1100.3142 59.6446,-1099.4817 59.6446,-1099.4817\"/>\n",
       "<text text-anchor=\"middle\" x=\"40.061\" y=\"-1462.6\" font-family=\"Arial\" font-size=\"10.00\" fill=\"#000000\">Addition</text>\n",
       "</g>\n",
       "<!-- self_attn1 -->\n",
       "<g id=\"node7\" class=\"node\">\n",
       "<title>self_attn1</title>\n",
       "<path fill=\"#bfefff\" stroke=\"#000000\" d=\"M183.0192,-669.4C183.0192,-669.4 118.9808,-669.4 118.9808,-669.4 112.9808,-669.4 106.9808,-663.4 106.9808,-657.4 106.9808,-657.4 106.9808,-645.4 106.9808,-645.4 106.9808,-639.4 112.9808,-633.4 118.9808,-633.4 118.9808,-633.4 183.0192,-633.4 183.0192,-633.4 189.0192,-633.4 195.0192,-639.4 195.0192,-645.4 195.0192,-645.4 195.0192,-657.4 195.0192,-657.4 195.0192,-663.4 189.0192,-669.4 183.0192,-669.4\"/>\n",
       "<text text-anchor=\"middle\" x=\"151\" y=\"-647.8\" font-family=\"Arial\" font-size=\"12.00\" fill=\"#000000\">Self-Attention</text>\n",
       "</g>\n",
       "<!-- input_embed1&#45;&gt;self_attn1 -->\n",
       "<g id=\"edge11\" class=\"edge\">\n",
       "<title>input_embed1-&gt;self_attn1</title>\n",
       "<path fill=\"none\" stroke=\"#6a5acd\" d=\"M184.9493,-922.817C173.3857,-911.8855 162,-896.8452 162,-880 162,-880 162,-880 162,-735.2 162,-716.543 159.2865,-695.7467 156.5549,-679.5386\"/>\n",
       "<polygon fill=\"#6a5acd\" stroke=\"#6a5acd\" points=\"154.7856,-669.6187 160.9716,-678.6731 155.6636,-674.541 156.5415,-679.4633 156.5415,-679.4633 156.5415,-679.4633 155.6636,-674.541 152.1115,-680.2535 154.7856,-669.6187 154.7856,-669.6187\"/>\n",
       "<text text-anchor=\"middle\" x=\"181.4465\" y=\"-793.2\" font-family=\"Arial\" font-size=\"10.00\" fill=\"#000000\">Residual</text>\n",
       "</g>\n",
       "<!-- feed_forward1 -->\n",
       "<g id=\"node8\" class=\"node\">\n",
       "<title>feed_forward1</title>\n",
       "<path fill=\"#bfefff\" stroke=\"#000000\" d=\"M184.8342,-282C184.8342,-282 117.1658,-282 117.1658,-282 111.1658,-282 105.1658,-276 105.1658,-270 105.1658,-270 105.1658,-258 105.1658,-258 105.1658,-252 111.1658,-246 117.1658,-246 117.1658,-246 184.8342,-246 184.8342,-246 190.8342,-246 196.8342,-252 196.8342,-258 196.8342,-258 196.8342,-270 196.8342,-270 196.8342,-276 190.8342,-282 184.8342,-282\"/>\n",
       "<text text-anchor=\"middle\" x=\"151\" y=\"-260.4\" font-family=\"Arial\" font-size=\"12.00\" fill=\"#000000\">Feed-Forward</text>\n",
       "</g>\n",
       "<!-- input_embed1&#45;&gt;feed_forward1 -->\n",
       "<g id=\"edge12\" class=\"edge\">\n",
       "<title>input_embed1-&gt;feed_forward1</title>\n",
       "<path fill=\"none\" stroke=\"#6a5acd\" d=\"M219.2271,-922.9214C224.9723,-911.0917 231,-895.0857 231,-880 231,-880 231,-880 231,-343 231,-319.8099 213.7703,-301.1297 195.3029,-287.7679\"/>\n",
       "<polygon fill=\"#6a5acd\" stroke=\"#6a5acd\" points=\"186.7882,-282.0058 197.5921,-283.8835 190.9291,-284.8081 195.0701,-287.6104 195.0701,-287.6104 195.0701,-287.6104 190.9291,-284.8081 192.548,-291.3372 186.7882,-282.0058 186.7882,-282.0058\"/>\n",
       "<text text-anchor=\"middle\" x=\"250.4465\" y=\"-648.4\" font-family=\"Arial\" font-size=\"10.00\" fill=\"#000000\">Residual</text>\n",
       "</g>\n",
       "<!-- input_embed2 -->\n",
       "<g id=\"node9\" class=\"node\">\n",
       "<title>input_embed2</title>\n",
       "<path fill=\"#bfefff\" stroke=\"#000000\" d=\"M451.2024,-814.2C451.2024,-814.2 368.7976,-814.2 368.7976,-814.2 362.7976,-814.2 356.7976,-808.2 356.7976,-802.2 356.7976,-802.2 356.7976,-790.2 356.7976,-790.2 356.7976,-784.2 362.7976,-778.2 368.7976,-778.2 368.7976,-778.2 451.2024,-778.2 451.2024,-778.2 457.2024,-778.2 463.2024,-784.2 463.2024,-790.2 463.2024,-790.2 463.2024,-802.2 463.2024,-802.2 463.2024,-808.2 457.2024,-814.2 451.2024,-814.2\"/>\n",
       "<text text-anchor=\"middle\" x=\"410\" y=\"-792.6\" font-family=\"Arial\" font-size=\"12.00\" fill=\"#000000\">Input Embedding</text>\n",
       "</g>\n",
       "<!-- input_embed1&#45;&gt;input_embed2 -->\n",
       "<g id=\"edge28\" class=\"edge\">\n",
       "<title>input_embed1-&gt;input_embed2</title>\n",
       "<path fill=\"none\" stroke=\"#6a5acd\" d=\"M234.0504,-922.9538C270.1078,-896.9781 336.7008,-849.0046 376.8133,-820.1076\"/>\n",
       "<polygon fill=\"#6a5acd\" stroke=\"#6a5acd\" points=\"384.9504,-814.2457 379.4669,-823.7421 380.8935,-817.1683 376.8366,-820.0909 376.8366,-820.0909 376.8366,-820.0909 380.8935,-817.1683 374.2062,-816.4397 384.9504,-814.2457 384.9504,-814.2457\"/>\n",
       "<text text-anchor=\"middle\" x=\"340.178\" y=\"-877\" font-family=\"Arial\" font-size=\"10.00\" fill=\"#000000\">Layer Connection</text>\n",
       "</g>\n",
       "<!-- self_attn1&#45;&gt;feed_forward1 -->\n",
       "<g id=\"edge13\" class=\"edge\">\n",
       "<title>self_attn1-&gt;feed_forward1</title>\n",
       "<path fill=\"none\" stroke=\"#6a5acd\" d=\"M151,-633.3291C151,-606.7185 151,-555.425 151,-511.8 151,-511.8 151,-511.8 151,-343 151,-326.2245 151,-307.4452 151,-292.4064\"/>\n",
       "<polygon fill=\"#6a5acd\" stroke=\"#6a5acd\" points=\"151,-282.199 155.5001,-292.199 151,-287.199 151.0001,-292.199 151.0001,-292.199 151.0001,-292.199 151,-287.199 146.5001,-292.199 151,-282.199 151,-282.199\"/>\n",
       "<text text-anchor=\"middle\" x=\"169.061\" y=\"-435.8\" font-family=\"Arial\" font-size=\"10.00\" fill=\"#000000\">Addition</text>\n",
       "</g>\n",
       "<!-- feed_forward1&#45;&gt;input_embed1 -->\n",
       "<g id=\"edge14\" class=\"edge\">\n",
       "<title>feed_forward1-&gt;input_embed1</title>\n",
       "<path fill=\"none\" stroke=\"#6a5acd\" d=\"M105.1563,-280.9147C79.6507,-293.5953 53,-313.8254 53,-343 53,-880 53,-880 53,-880 53,-900.976 102.5396,-917.6822 145.7851,-928.2697\"/>\n",
       "<polygon fill=\"#6a5acd\" stroke=\"#6a5acd\" points=\"155.75,-930.6316 144.9817,-932.7039 150.8848,-929.4784 146.0196,-928.3252 146.0196,-928.3252 146.0196,-928.3252 150.8848,-929.4784 147.0574,-923.9465 155.75,-930.6316 155.75,-930.6316\"/>\n",
       "<text text-anchor=\"middle\" x=\"71.061\" y=\"-648.4\" font-family=\"Arial\" font-size=\"10.00\" fill=\"#000000\">Addition</text>\n",
       "</g>\n",
       "<!-- self_attn2 -->\n",
       "<g id=\"node10\" class=\"node\">\n",
       "<title>self_attn2</title>\n",
       "<path fill=\"#bfefff\" stroke=\"#000000\" d=\"M442.0192,-456.8C442.0192,-456.8 377.9808,-456.8 377.9808,-456.8 371.9808,-456.8 365.9808,-450.8 365.9808,-444.8 365.9808,-444.8 365.9808,-432.8 365.9808,-432.8 365.9808,-426.8 371.9808,-420.8 377.9808,-420.8 377.9808,-420.8 442.0192,-420.8 442.0192,-420.8 448.0192,-420.8 454.0192,-426.8 454.0192,-432.8 454.0192,-432.8 454.0192,-444.8 454.0192,-444.8 454.0192,-450.8 448.0192,-456.8 442.0192,-456.8\"/>\n",
       "<text text-anchor=\"middle\" x=\"410\" y=\"-435.2\" font-family=\"Arial\" font-size=\"12.00\" fill=\"#000000\">Self-Attention</text>\n",
       "</g>\n",
       "<!-- input_embed2&#45;&gt;self_attn2 -->\n",
       "<g id=\"edge15\" class=\"edge\">\n",
       "<title>input_embed2-&gt;self_attn2</title>\n",
       "<path fill=\"none\" stroke=\"#6a5acd\" d=\"M410,-778.0497C410,-765.9184 410,-749.6028 410,-735.2 410,-735.2 410,-735.2 410,-511.8 410,-497.0996 410,-480.734 410,-467.2302\"/>\n",
       "<polygon fill=\"#6a5acd\" stroke=\"#6a5acd\" points=\"410,-457.1003 414.5001,-467.1003 410,-462.1003 410.0001,-467.1003 410.0001,-467.1003 410.0001,-467.1003 410,-462.1003 405.5001,-467.1004 410,-457.1003 410,-457.1003\"/>\n",
       "<text text-anchor=\"middle\" x=\"429.4465\" y=\"-648.4\" font-family=\"Arial\" font-size=\"10.00\" fill=\"#000000\">Residual</text>\n",
       "</g>\n",
       "<!-- feed_forward2 -->\n",
       "<g id=\"node11\" class=\"node\">\n",
       "<title>feed_forward2</title>\n",
       "<path fill=\"#bfefff\" stroke=\"#000000\" d=\"M443.8342,-171C443.8342,-171 376.1658,-171 376.1658,-171 370.1658,-171 364.1658,-165 364.1658,-159 364.1658,-159 364.1658,-147 364.1658,-147 364.1658,-141 370.1658,-135 376.1658,-135 376.1658,-135 443.8342,-135 443.8342,-135 449.8342,-135 455.8342,-141 455.8342,-147 455.8342,-147 455.8342,-159 455.8342,-159 455.8342,-165 449.8342,-171 443.8342,-171\"/>\n",
       "<text text-anchor=\"middle\" x=\"410\" y=\"-149.4\" font-family=\"Arial\" font-size=\"12.00\" fill=\"#000000\">Feed-Forward</text>\n",
       "</g>\n",
       "<!-- input_embed2&#45;&gt;feed_forward2 -->\n",
       "<g id=\"edge16\" class=\"edge\">\n",
       "<title>input_embed2-&gt;feed_forward2</title>\n",
       "<path fill=\"none\" stroke=\"#6a5acd\" d=\"M458.3819,-778.0557C475.2295,-768.3767 490,-754.4124 490,-735.2 490,-735.2 490,-735.2 490,-208.5 490,-192.4017 478.9287,-180.6001 465.0234,-172.1263\"/>\n",
       "<polygon fill=\"#6a5acd\" stroke=\"#6a5acd\" points=\"456.0728,-167.2715 467.0086,-168.0837 460.4679,-169.6554 464.863,-172.0393 464.863,-172.0393 464.863,-172.0393 460.4679,-169.6554 462.7175,-175.9949 456.0728,-167.2715 456.0728,-167.2715\"/>\n",
       "<text text-anchor=\"middle\" x=\"509.4465\" y=\"-435.8\" font-family=\"Arial\" font-size=\"10.00\" fill=\"#000000\">Residual</text>\n",
       "</g>\n",
       "<!-- input_embedN -->\n",
       "<g id=\"node12\" class=\"node\">\n",
       "<title>input_embedN</title>\n",
       "<path fill=\"#bfefff\" stroke=\"#000000\" d=\"M710.2024,-669.4C710.2024,-669.4 627.7976,-669.4 627.7976,-669.4 621.7976,-669.4 615.7976,-663.4 615.7976,-657.4 615.7976,-657.4 615.7976,-645.4 615.7976,-645.4 615.7976,-639.4 621.7976,-633.4 627.7976,-633.4 627.7976,-633.4 710.2024,-633.4 710.2024,-633.4 716.2024,-633.4 722.2024,-639.4 722.2024,-645.4 722.2024,-645.4 722.2024,-657.4 722.2024,-657.4 722.2024,-663.4 716.2024,-669.4 710.2024,-669.4\"/>\n",
       "<text text-anchor=\"middle\" x=\"669\" y=\"-647.8\" font-family=\"Arial\" font-size=\"12.00\" fill=\"#000000\">Input Embedding</text>\n",
       "</g>\n",
       "<!-- input_embed2&#45;&gt;input_embedN -->\n",
       "<g id=\"edge29\" class=\"edge\">\n",
       "<title>input_embed2-&gt;input_embedN</title>\n",
       "<path fill=\"none\" stroke=\"#6a5acd\" d=\"M456.4922,-778.0736C469.1689,-772.7108 482.7734,-766.5609 495,-760.2 545.2614,-734.0516 600.2211,-698.4064 634.6476,-675.1529\"/>\n",
       "<polygon fill=\"#6a5acd\" stroke=\"#6a5acd\" points=\"642.9424,-669.5213 637.1967,-678.8614 638.8057,-672.3298 634.669,-675.1384 634.669,-675.1384 634.669,-675.1384 638.8057,-672.3298 632.1413,-671.4154 642.9424,-669.5213 642.9424,-669.5213\"/>\n",
       "<text text-anchor=\"middle\" x=\"588.178\" y=\"-732.2\" font-family=\"Arial\" font-size=\"10.00\" fill=\"#000000\">Layer Connection</text>\n",
       "</g>\n",
       "<!-- self_attn2&#45;&gt;feed_forward2 -->\n",
       "<g id=\"edge17\" class=\"edge\">\n",
       "<title>self_attn2-&gt;feed_forward2</title>\n",
       "<path fill=\"none\" stroke=\"#6a5acd\" d=\"M410,-420.7903C410,-401.5355 410,-370.1101 410,-343 410,-343 410,-343 410,-208.5 410,-199.7318 410,-190.1843 410,-181.5196\"/>\n",
       "<polygon fill=\"#6a5acd\" stroke=\"#6a5acd\" points=\"410,-171.5 414.5001,-181.5 410,-176.5 410.0001,-181.5 410.0001,-181.5 410.0001,-181.5 410,-176.5 405.5001,-181.5 410,-171.5 410,-171.5\"/>\n",
       "<text text-anchor=\"middle\" x=\"428.061\" y=\"-261\" font-family=\"Arial\" font-size=\"10.00\" fill=\"#000000\">Addition</text>\n",
       "</g>\n",
       "<!-- feed_forward2&#45;&gt;input_embed2 -->\n",
       "<g id=\"edge18\" class=\"edge\">\n",
       "<title>feed_forward2-&gt;input_embed2</title>\n",
       "<path fill=\"none\" stroke=\"#6a5acd\" d=\"M364.1563,-161.0315C338.6507,-168.4256 312,-182.397 312,-208.5 312,-735.2 312,-735.2 312,-735.2 312,-756.0473 328.1817,-770.0244 347.3943,-779.2723\"/>\n",
       "<polygon fill=\"#6a5acd\" stroke=\"#6a5acd\" points=\"356.6983,-783.3188 345.7333,-783.457 352.1132,-781.3246 347.528,-779.3304 347.528,-779.3304 347.528,-779.3304 352.1132,-781.3246 349.3228,-775.2038 356.6983,-783.3188 356.6983,-783.3188\"/>\n",
       "<text text-anchor=\"middle\" x=\"330.061\" y=\"-435.8\" font-family=\"Arial\" font-size=\"10.00\" fill=\"#000000\">Addition</text>\n",
       "</g>\n",
       "<!-- self_attnN -->\n",
       "<g id=\"node13\" class=\"node\">\n",
       "<title>self_attnN</title>\n",
       "<path fill=\"#bfefff\" stroke=\"#000000\" d=\"M701.0192,-282C701.0192,-282 636.9808,-282 636.9808,-282 630.9808,-282 624.9808,-276 624.9808,-270 624.9808,-270 624.9808,-258 624.9808,-258 624.9808,-252 630.9808,-246 636.9808,-246 636.9808,-246 701.0192,-246 701.0192,-246 707.0192,-246 713.0192,-252 713.0192,-258 713.0192,-258 713.0192,-270 713.0192,-270 713.0192,-276 707.0192,-282 701.0192,-282\"/>\n",
       "<text text-anchor=\"middle\" x=\"669\" y=\"-260.4\" font-family=\"Arial\" font-size=\"12.00\" fill=\"#000000\">Self-Attention</text>\n",
       "</g>\n",
       "<!-- input_embedN&#45;&gt;self_attnN -->\n",
       "<g id=\"edge19\" class=\"edge\">\n",
       "<title>input_embedN-&gt;self_attnN</title>\n",
       "<path fill=\"none\" stroke=\"#6a5acd\" d=\"M669,-633.3291C669,-606.7185 669,-555.425 669,-511.8 669,-511.8 669,-511.8 669,-343 669,-326.2245 669,-307.4452 669,-292.4064\"/>\n",
       "<polygon fill=\"#6a5acd\" stroke=\"#6a5acd\" points=\"669,-282.199 673.5001,-292.199 669,-287.199 669.0001,-292.199 669.0001,-292.199 669.0001,-292.199 669,-287.199 664.5001,-292.199 669,-282.199 669,-282.199\"/>\n",
       "<text text-anchor=\"middle\" x=\"688.4465\" y=\"-435.8\" font-family=\"Arial\" font-size=\"10.00\" fill=\"#000000\">Residual</text>\n",
       "</g>\n",
       "<!-- feed_forwardN -->\n",
       "<g id=\"node14\" class=\"node\">\n",
       "<title>feed_forwardN</title>\n",
       "<path fill=\"#bfefff\" stroke=\"#000000\" d=\"M702.8342,-60C702.8342,-60 635.1658,-60 635.1658,-60 629.1658,-60 623.1658,-54 623.1658,-48 623.1658,-48 623.1658,-36 623.1658,-36 623.1658,-30 629.1658,-24 635.1658,-24 635.1658,-24 702.8342,-24 702.8342,-24 708.8342,-24 714.8342,-30 714.8342,-36 714.8342,-36 714.8342,-48 714.8342,-48 714.8342,-54 708.8342,-60 702.8342,-60\"/>\n",
       "<text text-anchor=\"middle\" x=\"669\" y=\"-38.4\" font-family=\"Arial\" font-size=\"12.00\" fill=\"#000000\">Feed-Forward</text>\n",
       "</g>\n",
       "<!-- input_embedN&#45;&gt;feed_forwardN -->\n",
       "<g id=\"edge20\" class=\"edge\">\n",
       "<title>input_embedN-&gt;feed_forwardN</title>\n",
       "<path fill=\"none\" stroke=\"#6a5acd\" d=\"M687.9589,-632.9985C711.616,-607.9695 749,-560.6839 749,-511.8 749,-511.8 749,-511.8 749,-97.5 749,-81.4017 737.9287,-69.6001 724.0234,-61.1263\"/>\n",
       "<polygon fill=\"#6a5acd\" stroke=\"#6a5acd\" points=\"715.0728,-56.2715 726.0086,-57.0837 719.4679,-58.6554 723.863,-61.0393 723.863,-61.0393 723.863,-61.0393 719.4679,-58.6554 721.7175,-64.9949 715.0728,-56.2715 715.0728,-56.2715\"/>\n",
       "<text text-anchor=\"middle\" x=\"768.4465\" y=\"-261\" font-family=\"Arial\" font-size=\"10.00\" fill=\"#000000\">Residual</text>\n",
       "</g>\n",
       "<!-- pooling -->\n",
       "<g id=\"node15\" class=\"node\">\n",
       "<title>pooling</title>\n",
       "<path fill=\"#ffd700\" stroke=\"#000000\" d=\"M905.8543,-529.8C905.8543,-529.8 840.1457,-529.8 840.1457,-529.8 834.1457,-529.8 828.1457,-523.8 828.1457,-517.8 828.1457,-517.8 828.1457,-505.8 828.1457,-505.8 828.1457,-499.8 834.1457,-493.8 840.1457,-493.8 840.1457,-493.8 905.8543,-493.8 905.8543,-493.8 911.8543,-493.8 917.8543,-499.8 917.8543,-505.8 917.8543,-505.8 917.8543,-517.8 917.8543,-517.8 917.8543,-523.8 911.8543,-529.8 905.8543,-529.8\"/>\n",
       "<text text-anchor=\"middle\" x=\"873\" y=\"-508.2\" font-family=\"Arial\" font-size=\"12.00\" fill=\"#000000\">Mean Pooling</text>\n",
       "</g>\n",
       "<!-- input_embedN&#45;&gt;pooling -->\n",
       "<g id=\"edge30\" class=\"edge\">\n",
       "<title>input_embedN-&gt;pooling</title>\n",
       "<path fill=\"none\" stroke=\"#6a5acd\" d=\"M722.2648,-634.9106C747.2731,-625.6509 776.6433,-612.4854 800,-595.4 821.651,-579.5623 841.3426,-556.2263 854.8029,-538.2313\"/>\n",
       "<polygon fill=\"#6a5acd\" stroke=\"#6a5acd\" points=\"860.8913,-529.8827 858.6348,-540.6139 857.9452,-533.9226 854.999,-537.9624 854.999,-537.9624 854.999,-537.9624 857.9452,-533.9226 851.3631,-535.3108 860.8913,-529.8827 860.8913,-529.8827\"/>\n",
       "<text text-anchor=\"middle\" x=\"812.2855\" y=\"-606.4\" font-family=\"Arial\" font-size=\"10.00\" fill=\"#000000\">Connection</text>\n",
       "</g>\n",
       "<!-- self_attnN&#45;&gt;feed_forwardN -->\n",
       "<g id=\"edge21\" class=\"edge\">\n",
       "<title>self_attnN-&gt;feed_forwardN</title>\n",
       "<path fill=\"none\" stroke=\"#6a5acd\" d=\"M669,-245.5C669,-234.7083 669,-220.8333 669,-208.5 669,-208.5 669,-208.5 669,-97.5 669,-88.7318 669,-79.1843 669,-70.5196\"/>\n",
       "<polygon fill=\"#6a5acd\" stroke=\"#6a5acd\" points=\"669,-60.5 673.5001,-70.5 669,-65.5 669.0001,-70.5 669.0001,-70.5 669.0001,-70.5 669,-65.5 664.5001,-70.5 669,-60.5 669,-60.5\"/>\n",
       "<text text-anchor=\"middle\" x=\"687.061\" y=\"-150\" font-family=\"Arial\" font-size=\"10.00\" fill=\"#000000\">Addition</text>\n",
       "</g>\n",
       "<!-- feed_forwardN&#45;&gt;input_embedN -->\n",
       "<g id=\"edge22\" class=\"edge\">\n",
       "<title>feed_forwardN-&gt;input_embedN</title>\n",
       "<path fill=\"none\" stroke=\"#6a5acd\" d=\"M623.1563,-50.0315C597.6507,-57.4256 571,-71.397 571,-97.5 571,-511.8 571,-511.8 571,-511.8 571,-558.7614 608.6094,-601.1127 637.2309,-626.5433\"/>\n",
       "<polygon fill=\"#6a5acd\" stroke=\"#6a5acd\" points=\"645.0265,-633.2572 634.5126,-630.1412 641.2379,-629.9943 637.4492,-626.7314 637.4492,-626.7314 637.4492,-626.7314 641.2379,-629.9943 640.3858,-623.3216 645.0265,-633.2572 645.0265,-633.2572\"/>\n",
       "<text text-anchor=\"middle\" x=\"589.061\" y=\"-261\" font-family=\"Arial\" font-size=\"10.00\" fill=\"#000000\">Addition</text>\n",
       "</g>\n",
       "<!-- classifier -->\n",
       "<g id=\"node16\" class=\"node\">\n",
       "<title>classifier</title>\n",
       "<path fill=\"#ffd700\" stroke=\"#000000\" d=\"M891.0088,-361C891.0088,-361 854.9912,-361 854.9912,-361 848.9912,-361 842.9912,-355 842.9912,-349 842.9912,-349 842.9912,-337 842.9912,-337 842.9912,-331 848.9912,-325 854.9912,-325 854.9912,-325 891.0088,-325 891.0088,-325 897.0088,-325 903.0088,-331 903.0088,-337 903.0088,-337 903.0088,-349 903.0088,-349 903.0088,-355 897.0088,-361 891.0088,-361\"/>\n",
       "<text text-anchor=\"middle\" x=\"873\" y=\"-339.4\" font-family=\"Arial\" font-size=\"12.00\" fill=\"#000000\">Softmax</text>\n",
       "</g>\n",
       "<!-- pooling&#45;&gt;classifier -->\n",
       "<g id=\"edge23\" class=\"edge\">\n",
       "<title>pooling-&gt;classifier</title>\n",
       "<path fill=\"none\" stroke=\"#6a5acd\" d=\"M873,-493.7354C873,-464.3691 873,-406.0586 873,-371.1978\"/>\n",
       "<polygon fill=\"#6a5acd\" stroke=\"#6a5acd\" points=\"873,-361.1898 877.5001,-371.1898 873,-366.1898 873.0001,-371.1898 873.0001,-371.1898 873.0001,-371.1898 873,-366.1898 868.5001,-371.1899 873,-361.1898 873,-361.1898\"/>\n",
       "<text text-anchor=\"middle\" x=\"884.1175\" y=\"-435.8\" font-family=\"Arial\" font-size=\"10.00\" fill=\"#000000\">Input</text>\n",
       "</g>\n",
       "</g>\n",
       "</svg>"
      ],
      "text/plain": [
       "<IPython.core.display.SVG object>"
      ]
     },
     "metadata": {},
     "output_type": "display_data"
    }
   ],
   "source": [
    "from IPython.display import SVG, display\n",
    "\n",
    "# Load the SVG file and display it\n",
    "svg_file = '/kaggle/input/xlm-roberta/xlm-roberta.svg'\n",
    "display(SVG(filename=svg_file))"
   ]
  },
  {
   "cell_type": "markdown",
   "id": "181016ce",
   "metadata": {
    "papermill": {
     "duration": 0.008667,
     "end_time": "2023-06-23T07:08:19.724391",
     "exception": false,
     "start_time": "2023-06-23T07:08:19.715724",
     "status": "completed"
    },
    "tags": []
   },
   "source": [
    "<div style=\"background-color:#F0E3D2; color:#19180F; font-size:15px; font-family:Verdana; padding:10px; border: 2px solid #19180F; border-radius:10px\"> \n",
    "📌\n",
    "    Importing modules\n",
    "    </div>"
   ]
  },
  {
   "cell_type": "code",
   "execution_count": 2,
   "id": "a51a78ad",
   "metadata": {
    "execution": {
     "iopub.execute_input": "2023-06-23T07:08:19.746022Z",
     "iopub.status.busy": "2023-06-23T07:08:19.745223Z",
     "iopub.status.idle": "2023-06-23T07:08:32.465515Z",
     "shell.execute_reply": "2023-06-23T07:08:32.464530Z"
    },
    "papermill": {
     "duration": 12.734837,
     "end_time": "2023-06-23T07:08:32.468306",
     "exception": false,
     "start_time": "2023-06-23T07:08:19.733469",
     "status": "completed"
    },
    "tags": []
   },
   "outputs": [
    {
     "name": "stderr",
     "output_type": "stream",
     "text": [
      "/opt/conda/lib/python3.10/site-packages/tensorflow_io/python/ops/__init__.py:98: UserWarning: unable to load libtensorflow_io_plugins.so: unable to open file: libtensorflow_io_plugins.so, from paths: ['/opt/conda/lib/python3.10/site-packages/tensorflow_io/python/ops/libtensorflow_io_plugins.so']\n",
      "caused by: ['/opt/conda/lib/python3.10/site-packages/tensorflow_io/python/ops/libtensorflow_io_plugins.so: undefined symbol: _ZN3tsl6StatusC1EN10tensorflow5error4CodeESt17basic_string_viewIcSt11char_traitsIcEENS_14SourceLocationE']\n",
      "  warnings.warn(f\"unable to load libtensorflow_io_plugins.so: {e}\")\n",
      "/opt/conda/lib/python3.10/site-packages/tensorflow_io/python/ops/__init__.py:104: UserWarning: file system plugins are not loaded: unable to open file: libtensorflow_io.so, from paths: ['/opt/conda/lib/python3.10/site-packages/tensorflow_io/python/ops/libtensorflow_io.so']\n",
      "caused by: ['/opt/conda/lib/python3.10/site-packages/tensorflow_io/python/ops/libtensorflow_io.so: undefined symbol: _ZTVN10tensorflow13GcsFileSystemE']\n",
      "  warnings.warn(f\"file system plugins are not loaded: {e}\")\n"
     ]
    }
   ],
   "source": [
    "import torch\n",
    "import pandas as pd\n",
    "from transformers import XLMRobertaTokenizer, XLMRobertaForSequenceClassification\n",
    "from torch.utils.data import DataLoader, Dataset\n",
    "from sklearn.model_selection import train_test_split\n",
    "from transformers import AdamW\n",
    "from tqdm import tqdm"
   ]
  },
  {
   "cell_type": "markdown",
   "id": "bc15f691",
   "metadata": {
    "papermill": {
     "duration": 0.008958,
     "end_time": "2023-06-23T07:08:32.486847",
     "exception": false,
     "start_time": "2023-06-23T07:08:32.477889",
     "status": "completed"
    },
    "tags": []
   },
   "source": [
    "<div style=\"background-color:#F0E3D2; color:#19180F; font-size:15px; font-family:Verdana; padding:10px; border: 2px solid #19180F; border-radius:10px\"> \n",
    "📌\n",
    "Reading the dataframes    </div>"
   ]
  },
  {
   "cell_type": "code",
   "execution_count": 3,
   "id": "03d9161d",
   "metadata": {
    "execution": {
     "iopub.execute_input": "2023-06-23T07:08:32.507048Z",
     "iopub.status.busy": "2023-06-23T07:08:32.506149Z",
     "iopub.status.idle": "2023-06-23T07:08:32.784660Z",
     "shell.execute_reply": "2023-06-23T07:08:32.783706Z"
    },
    "papermill": {
     "duration": 0.29076,
     "end_time": "2023-06-23T07:08:32.787030",
     "exception": false,
     "start_time": "2023-06-23T07:08:32.496270",
     "status": "completed"
    },
    "tags": []
   },
   "outputs": [],
   "source": [
    "train_df = pd.read_csv('/kaggle/input/feedback-prize-english-language-learning/train.csv')\n",
    "test_df = pd.read_csv('/kaggle/input/feedback-prize-english-language-learning/train.csv')"
   ]
  },
  {
   "cell_type": "markdown",
   "id": "90014b97",
   "metadata": {
    "papermill": {
     "duration": 0.008913,
     "end_time": "2023-06-23T07:08:32.808961",
     "exception": false,
     "start_time": "2023-06-23T07:08:32.800048",
     "status": "completed"
    },
    "tags": []
   },
   "source": [
    "<div style=\"background-color:#F0E3D2; color:#19180F; font-size:15px; font-family:Verdana; padding:10px; border: 2px solid #19180F; border-radius:10px\"> \n",
    "📌\n",
    "Inspecting the columns in the dataframes    </div>"
   ]
  },
  {
   "cell_type": "code",
   "execution_count": 4,
   "id": "faba3ee5",
   "metadata": {
    "execution": {
     "iopub.execute_input": "2023-06-23T07:08:32.828576Z",
     "iopub.status.busy": "2023-06-23T07:08:32.828248Z",
     "iopub.status.idle": "2023-06-23T07:08:32.834410Z",
     "shell.execute_reply": "2023-06-23T07:08:32.833564Z"
    },
    "papermill": {
     "duration": 0.018091,
     "end_time": "2023-06-23T07:08:32.836301",
     "exception": false,
     "start_time": "2023-06-23T07:08:32.818210",
     "status": "completed"
    },
    "tags": []
   },
   "outputs": [
    {
     "data": {
      "text/plain": [
       "Index(['text_id', 'full_text', 'cohesion', 'syntax', 'vocabulary',\n",
       "       'phraseology', 'grammar', 'conventions'],\n",
       "      dtype='object')"
      ]
     },
     "execution_count": 4,
     "metadata": {},
     "output_type": "execute_result"
    }
   ],
   "source": [
    "train_df.columns"
   ]
  },
  {
   "cell_type": "code",
   "execution_count": 5,
   "id": "0ac185de",
   "metadata": {
    "execution": {
     "iopub.execute_input": "2023-06-23T07:08:32.856432Z",
     "iopub.status.busy": "2023-06-23T07:08:32.855588Z",
     "iopub.status.idle": "2023-06-23T07:08:32.861917Z",
     "shell.execute_reply": "2023-06-23T07:08:32.861044Z"
    },
    "papermill": {
     "duration": 0.018413,
     "end_time": "2023-06-23T07:08:32.863816",
     "exception": false,
     "start_time": "2023-06-23T07:08:32.845403",
     "status": "completed"
    },
    "tags": []
   },
   "outputs": [
    {
     "data": {
      "text/plain": [
       "Index(['text_id', 'full_text', 'cohesion', 'syntax', 'vocabulary',\n",
       "       'phraseology', 'grammar', 'conventions'],\n",
       "      dtype='object')"
      ]
     },
     "execution_count": 5,
     "metadata": {},
     "output_type": "execute_result"
    }
   ],
   "source": [
    "test_df.columns"
   ]
  },
  {
   "cell_type": "markdown",
   "id": "7cd2cb42",
   "metadata": {
    "papermill": {
     "duration": 0.008962,
     "end_time": "2023-06-23T07:08:32.882101",
     "exception": false,
     "start_time": "2023-06-23T07:08:32.873139",
     "status": "completed"
    },
    "tags": []
   },
   "source": [
    "<div style=\"background-color:#F0E3D2; color:#19180F; font-size:15px; font-family:Verdana; padding:10px; border: 2px solid #19180F; border-radius:10px\"> \n",
    "📌\n",
    "Creating dataset class for train and val splits    </div>"
   ]
  },
  {
   "cell_type": "code",
   "execution_count": 6,
   "id": "0e4b1dfb",
   "metadata": {
    "execution": {
     "iopub.execute_input": "2023-06-23T07:08:32.902359Z",
     "iopub.status.busy": "2023-06-23T07:08:32.901531Z",
     "iopub.status.idle": "2023-06-23T07:08:32.910252Z",
     "shell.execute_reply": "2023-06-23T07:08:32.909476Z"
    },
    "papermill": {
     "duration": 0.020926,
     "end_time": "2023-06-23T07:08:32.912194",
     "exception": false,
     "start_time": "2023-06-23T07:08:32.891268",
     "status": "completed"
    },
    "tags": []
   },
   "outputs": [],
   "source": [
    "class EssayDataset(Dataset):\n",
    "    def __init__(self, df, tokenizer, max_length, labels):\n",
    "        self.texts = df['full_text'].tolist()\n",
    "        self.labels = df[labels].values.tolist()\n",
    "        self.tokenizer = tokenizer\n",
    "        self.max_length = max_length\n",
    "\n",
    "    def __len__(self):\n",
    "        return len(self.texts)\n",
    "\n",
    "    def __getitem__(self, idx):\n",
    "        text = str(self.texts[idx])\n",
    "        label = self.labels[idx]\n",
    "        encoding = self.tokenizer.encode_plus(\n",
    "            text,\n",
    "            add_special_tokens=True,\n",
    "            max_length=self.max_length,\n",
    "            padding='max_length',\n",
    "            truncation=True,\n",
    "            return_tensors='pt'\n",
    "        )\n",
    "        return {\n",
    "            'input_ids': encoding['input_ids'].squeeze(),\n",
    "            'attention_mask': encoding['attention_mask'].squeeze(),\n",
    "            'labels': torch.tensor(label)\n",
    "        }"
   ]
  },
  {
   "cell_type": "markdown",
   "id": "ab686674",
   "metadata": {
    "papermill": {
     "duration": 0.009314,
     "end_time": "2023-06-23T07:08:32.930897",
     "exception": false,
     "start_time": "2023-06-23T07:08:32.921583",
     "status": "completed"
    },
    "tags": []
   },
   "source": [
    "<div style=\"background-color:#F0E3D2; color:#19180F; font-size:15px; font-family:Verdana; padding:10px; border: 2px solid #19180F; border-radius:10px\"> \n",
    "📌\n",
    "Defining tokenizer, max length and the labels    </div>"
   ]
  },
  {
   "cell_type": "code",
   "execution_count": 7,
   "id": "3b3e41f6",
   "metadata": {
    "execution": {
     "iopub.execute_input": "2023-06-23T07:08:32.951284Z",
     "iopub.status.busy": "2023-06-23T07:08:32.950416Z",
     "iopub.status.idle": "2023-06-23T07:08:32.954840Z",
     "shell.execute_reply": "2023-06-23T07:08:32.954016Z"
    },
    "papermill": {
     "duration": 0.016521,
     "end_time": "2023-06-23T07:08:32.956757",
     "exception": false,
     "start_time": "2023-06-23T07:08:32.940236",
     "status": "completed"
    },
    "tags": []
   },
   "outputs": [],
   "source": [
    "# #caching the tokenizer\n",
    "# tokenizer = XLMRobertaTokenizer.from_pretrained('xlm-roberta-base')\n",
    "# tokenizer.save_pretrained(\"/kaggle/working\")"
   ]
  },
  {
   "cell_type": "code",
   "execution_count": 8,
   "id": "3fd5bcb7",
   "metadata": {
    "execution": {
     "iopub.execute_input": "2023-06-23T07:08:32.977129Z",
     "iopub.status.busy": "2023-06-23T07:08:32.976357Z",
     "iopub.status.idle": "2023-06-23T07:08:33.620584Z",
     "shell.execute_reply": "2023-06-23T07:08:33.619601Z"
    },
    "papermill": {
     "duration": 0.656945,
     "end_time": "2023-06-23T07:08:33.623012",
     "exception": false,
     "start_time": "2023-06-23T07:08:32.966067",
     "status": "completed"
    },
    "tags": []
   },
   "outputs": [],
   "source": [
    "tokenizer = XLMRobertaTokenizer.from_pretrained('/kaggle/input/xlm-roberta')"
   ]
  },
  {
   "cell_type": "code",
   "execution_count": 9,
   "id": "e3282b92",
   "metadata": {
    "execution": {
     "iopub.execute_input": "2023-06-23T07:08:33.644145Z",
     "iopub.status.busy": "2023-06-23T07:08:33.643313Z",
     "iopub.status.idle": "2023-06-23T07:08:33.648053Z",
     "shell.execute_reply": "2023-06-23T07:08:33.647144Z"
    },
    "papermill": {
     "duration": 0.017426,
     "end_time": "2023-06-23T07:08:33.650120",
     "exception": false,
     "start_time": "2023-06-23T07:08:33.632694",
     "status": "completed"
    },
    "tags": []
   },
   "outputs": [],
   "source": [
    "max_length = 512 \n",
    "labels = ['cohesion', 'syntax', 'vocabulary', 'phraseology', 'grammar', 'conventions']\n"
   ]
  },
  {
   "cell_type": "markdown",
   "id": "373cca26",
   "metadata": {
    "papermill": {
     "duration": 0.008854,
     "end_time": "2023-06-23T07:08:33.668343",
     "exception": false,
     "start_time": "2023-06-23T07:08:33.659489",
     "status": "completed"
    },
    "tags": []
   },
   "source": [
    "<div style=\"background-color:#F0E3D2; color:#19180F; font-size:15px; font-family:Verdana; padding:10px; border: 2px solid #19180F; border-radius:10px\"> \n",
    "📌\n",
    "Splitting the data into train, val splits followed by creating datasets and dataloaders    </div>"
   ]
  },
  {
   "cell_type": "code",
   "execution_count": 10,
   "id": "1372dce1",
   "metadata": {
    "execution": {
     "iopub.execute_input": "2023-06-23T07:08:33.687883Z",
     "iopub.status.busy": "2023-06-23T07:08:33.687600Z",
     "iopub.status.idle": "2023-06-23T07:08:33.702765Z",
     "shell.execute_reply": "2023-06-23T07:08:33.701839Z"
    },
    "papermill": {
     "duration": 0.027241,
     "end_time": "2023-06-23T07:08:33.704952",
     "exception": false,
     "start_time": "2023-06-23T07:08:33.677711",
     "status": "completed"
    },
    "tags": []
   },
   "outputs": [],
   "source": [
    "train_data, val_data = train_test_split(train_df, test_size=0.2, random_state=42)\n",
    "train_dataset = EssayDataset(train_data, tokenizer, max_length, labels)\n",
    "val_dataset = EssayDataset(val_data, tokenizer, max_length, labels)\n",
    "train_dataloader = DataLoader(train_dataset, batch_size=8, shuffle=True)\n",
    "val_dataloader = DataLoader(val_dataset, batch_size=8, shuffle=False)"
   ]
  },
  {
   "cell_type": "markdown",
   "id": "738a855f",
   "metadata": {
    "papermill": {
     "duration": 0.009128,
     "end_time": "2023-06-23T07:08:33.724909",
     "exception": false,
     "start_time": "2023-06-23T07:08:33.715781",
     "status": "completed"
    },
    "tags": []
   },
   "source": [
    "<div style=\"background-color:#F0E3D2; color:#19180F; font-size:15px; font-family:Verdana; padding:10px; border: 2px solid #19180F; border-radius:10px\"> \n",
    "📌\n",
    "Performing sanity check of the dataloaders    </div>"
   ]
  },
  {
   "cell_type": "code",
   "execution_count": 11,
   "id": "40beca76",
   "metadata": {
    "execution": {
     "iopub.execute_input": "2023-06-23T07:08:33.744677Z",
     "iopub.status.busy": "2023-06-23T07:08:33.744399Z",
     "iopub.status.idle": "2023-06-23T07:08:33.866320Z",
     "shell.execute_reply": "2023-06-23T07:08:33.864360Z"
    },
    "papermill": {
     "duration": 0.134466,
     "end_time": "2023-06-23T07:08:33.868772",
     "exception": false,
     "start_time": "2023-06-23T07:08:33.734306",
     "status": "completed"
    },
    "tags": []
   },
   "outputs": [
    {
     "name": "stdout",
     "output_type": "stream",
     "text": [
      "{'input_ids': tensor([[     0,    262,    147,  ...,      1,      1,      1],\n",
      "        [     0,   1401, 163846,  ...,    398,   3542,      2],\n",
      "        [     0,  17915,    939,  ...,     10,   6183,      2],\n",
      "        ...,\n",
      "        [     0,  10660,    621,  ...,      1,      1,      1],\n",
      "        [     0,  11853,     25,  ...,      1,      1,      1],\n",
      "        [     0,     44,   4657,  ...,      1,      1,      1]]), 'attention_mask': tensor([[1, 1, 1,  ..., 0, 0, 0],\n",
      "        [1, 1, 1,  ..., 1, 1, 1],\n",
      "        [1, 1, 1,  ..., 1, 1, 1],\n",
      "        ...,\n",
      "        [1, 1, 1,  ..., 0, 0, 0],\n",
      "        [1, 1, 1,  ..., 0, 0, 0],\n",
      "        [1, 1, 1,  ..., 0, 0, 0]]), 'labels': tensor([[3.5000, 4.0000, 4.0000, 3.5000, 3.5000, 4.0000],\n",
      "        [2.5000, 3.0000, 3.0000, 3.0000, 3.0000, 3.0000],\n",
      "        [4.0000, 3.0000, 4.0000, 3.5000, 3.5000, 3.0000],\n",
      "        [3.0000, 2.5000, 3.0000, 3.0000, 3.0000, 2.5000],\n",
      "        [3.0000, 2.5000, 2.5000, 2.0000, 2.0000, 2.5000],\n",
      "        [3.5000, 3.0000, 3.5000, 2.5000, 3.0000, 3.0000],\n",
      "        [2.5000, 3.0000, 2.5000, 2.5000, 3.0000, 3.0000],\n",
      "        [2.0000, 2.5000, 2.5000, 2.5000, 2.5000, 2.0000]])}\n"
     ]
    }
   ],
   "source": [
    "for batch in train_dataloader:\n",
    "    print(batch)\n",
    "    break"
   ]
  },
  {
   "cell_type": "markdown",
   "id": "91ddad8e",
   "metadata": {
    "papermill": {
     "duration": 0.009079,
     "end_time": "2023-06-23T07:08:33.887716",
     "exception": false,
     "start_time": "2023-06-23T07:08:33.878637",
     "status": "completed"
    },
    "tags": []
   },
   "source": [
    "<div style=\"background-color:#F0E3D2; color:#19180F; font-size:15px; font-family:Verdana; padding:10px; border: 2px solid #19180F; border-radius:10px\"> \n",
    "📌\n",
    "Instantiating models, moving it to the device and then the optimizer with learning rate    </div>"
   ]
  },
  {
   "cell_type": "code",
   "execution_count": 12,
   "id": "65a892cc",
   "metadata": {
    "execution": {
     "iopub.execute_input": "2023-06-23T07:08:33.908413Z",
     "iopub.status.busy": "2023-06-23T07:08:33.907587Z",
     "iopub.status.idle": "2023-06-23T07:08:33.911794Z",
     "shell.execute_reply": "2023-06-23T07:08:33.910885Z"
    },
    "papermill": {
     "duration": 0.016908,
     "end_time": "2023-06-23T07:08:33.914020",
     "exception": false,
     "start_time": "2023-06-23T07:08:33.897112",
     "status": "completed"
    },
    "tags": []
   },
   "outputs": [],
   "source": [
    "# #caching the model\n",
    "# model = XLMRobertaForSequenceClassification.from_pretrained('xlm-roberta-base', num_labels=len(labels))\n",
    "# model.save_pretrained('/kaggle/working')\n"
   ]
  },
  {
   "cell_type": "code",
   "execution_count": 13,
   "id": "7835450d",
   "metadata": {
    "execution": {
     "iopub.execute_input": "2023-06-23T07:08:33.934871Z",
     "iopub.status.busy": "2023-06-23T07:08:33.933413Z",
     "iopub.status.idle": "2023-06-23T07:08:50.258026Z",
     "shell.execute_reply": "2023-06-23T07:08:50.255660Z"
    },
    "papermill": {
     "duration": 16.337198,
     "end_time": "2023-06-23T07:08:50.260389",
     "exception": false,
     "start_time": "2023-06-23T07:08:33.923191",
     "status": "completed"
    },
    "tags": []
   },
   "outputs": [
    {
     "name": "stderr",
     "output_type": "stream",
     "text": [
      "/opt/conda/lib/python3.10/site-packages/transformers/optimization.py:411: FutureWarning: This implementation of AdamW is deprecated and will be removed in a future version. Use the PyTorch implementation torch.optim.AdamW instead, or set `no_deprecation_warning=True` to disable this warning\n",
      "  warnings.warn(\n"
     ]
    }
   ],
   "source": [
    "model = XLMRobertaForSequenceClassification.from_pretrained('/kaggle/input/xlm-roberta')\n",
    "device = torch.device('cuda' if torch.cuda.is_available() else 'cpu')\n",
    "model = model.to(device)\n",
    "\n",
    "optimizer = AdamW(model.parameters(), lr=2e-5)"
   ]
  },
  {
   "cell_type": "markdown",
   "id": "c9371f48",
   "metadata": {
    "papermill": {
     "duration": 0.009319,
     "end_time": "2023-06-23T07:08:50.279592",
     "exception": false,
     "start_time": "2023-06-23T07:08:50.270273",
     "status": "completed"
    },
    "tags": []
   },
   "source": [
    "<div style=\"background-color:#F0E3D2; color:#19180F; font-size:15px; font-family:Verdana; padding:10px; border: 2px solid #19180F; border-radius:10px\"> \n",
    "📌\n",
    "Checking the numbers of steps per epoch via length of the dataloaders    </div>"
   ]
  },
  {
   "cell_type": "code",
   "execution_count": 14,
   "id": "bc26cec6",
   "metadata": {
    "execution": {
     "iopub.execute_input": "2023-06-23T07:08:50.300733Z",
     "iopub.status.busy": "2023-06-23T07:08:50.299438Z",
     "iopub.status.idle": "2023-06-23T07:08:50.306250Z",
     "shell.execute_reply": "2023-06-23T07:08:50.305330Z"
    },
    "papermill": {
     "duration": 0.019333,
     "end_time": "2023-06-23T07:08:50.308219",
     "exception": false,
     "start_time": "2023-06-23T07:08:50.288886",
     "status": "completed"
    },
    "tags": []
   },
   "outputs": [
    {
     "data": {
      "text/plain": [
       "(391, 98)"
      ]
     },
     "execution_count": 14,
     "metadata": {},
     "output_type": "execute_result"
    }
   ],
   "source": [
    "len(train_dataloader),len(val_dataloader)"
   ]
  },
  {
   "cell_type": "markdown",
   "id": "f035c9a1",
   "metadata": {
    "papermill": {
     "duration": 0.0092,
     "end_time": "2023-06-23T07:08:50.326748",
     "exception": false,
     "start_time": "2023-06-23T07:08:50.317548",
     "status": "completed"
    },
    "tags": []
   },
   "source": [
    "<div style=\"background-color:#F0E3D2; color:#19180F; font-size:15px; font-family:Verdana; padding:10px; border: 2px solid #19180F; border-radius:10px\"> \n",
    "📌\n",
    "Training and validation loop    </div>"
   ]
  },
  {
   "cell_type": "code",
   "execution_count": 15,
   "id": "a381f969",
   "metadata": {
    "execution": {
     "iopub.execute_input": "2023-06-23T07:08:50.347148Z",
     "iopub.status.busy": "2023-06-23T07:08:50.346867Z",
     "iopub.status.idle": "2023-06-23T07:25:39.936419Z",
     "shell.execute_reply": "2023-06-23T07:25:39.935454Z"
    },
    "papermill": {
     "duration": 1009.602343,
     "end_time": "2023-06-23T07:25:39.938616",
     "exception": false,
     "start_time": "2023-06-23T07:08:50.336273",
     "status": "completed"
    },
    "tags": []
   },
   "outputs": [
    {
     "name": "stderr",
     "output_type": "stream",
     "text": [
      "0it [00:00, ?it/s]"
     ]
    },
    {
     "name": "stdout",
     "output_type": "stream",
     "text": [
      "Step-0,Train Loss-0.7605276107788086\n"
     ]
    },
    {
     "name": "stderr",
     "output_type": "stream",
     "text": [
      "100it [00:48,  2.14it/s]"
     ]
    },
    {
     "name": "stdout",
     "output_type": "stream",
     "text": [
      "Step-100,Train Loss--11.154098510742188\n"
     ]
    },
    {
     "name": "stderr",
     "output_type": "stream",
     "text": [
      "200it [01:35,  2.14it/s]"
     ]
    },
    {
     "name": "stdout",
     "output_type": "stream",
     "text": [
      "Step-200,Train Loss--14.306658744812012\n"
     ]
    },
    {
     "name": "stderr",
     "output_type": "stream",
     "text": [
      "300it [02:22,  2.13it/s]"
     ]
    },
    {
     "name": "stdout",
     "output_type": "stream",
     "text": [
      "Step-300,Train Loss--21.091934204101562\n"
     ]
    },
    {
     "name": "stderr",
     "output_type": "stream",
     "text": [
      "391it [03:04,  2.12it/s]\n"
     ]
    },
    {
     "name": "stdout",
     "output_type": "stream",
     "text": [
      "Epoch 1/5 - Training Loss: -15.2490 - Validation Loss: -24.5355\n",
      "Best model saved!\n"
     ]
    },
    {
     "name": "stderr",
     "output_type": "stream",
     "text": [
      "0it [00:00, ?it/s]"
     ]
    },
    {
     "name": "stdout",
     "output_type": "stream",
     "text": [
      "Step-0,Train Loss--22.826507568359375\n"
     ]
    },
    {
     "name": "stderr",
     "output_type": "stream",
     "text": [
      "100it [00:46,  2.15it/s]"
     ]
    },
    {
     "name": "stdout",
     "output_type": "stream",
     "text": [
      "Step-100,Train Loss--26.378055572509766\n"
     ]
    },
    {
     "name": "stderr",
     "output_type": "stream",
     "text": [
      "200it [01:33,  2.14it/s]"
     ]
    },
    {
     "name": "stdout",
     "output_type": "stream",
     "text": [
      "Step-200,Train Loss--33.661285400390625\n"
     ]
    },
    {
     "name": "stderr",
     "output_type": "stream",
     "text": [
      "300it [02:20,  2.14it/s]"
     ]
    },
    {
     "name": "stdout",
     "output_type": "stream",
     "text": [
      "Step-300,Train Loss--33.82611846923828\n"
     ]
    },
    {
     "name": "stderr",
     "output_type": "stream",
     "text": [
      "391it [03:02,  2.14it/s]\n"
     ]
    },
    {
     "name": "stdout",
     "output_type": "stream",
     "text": [
      "Epoch 2/5 - Training Loss: -31.5040 - Validation Loss: -38.1382\n",
      "Best model saved!\n"
     ]
    },
    {
     "name": "stderr",
     "output_type": "stream",
     "text": [
      "0it [00:00, ?it/s]"
     ]
    },
    {
     "name": "stdout",
     "output_type": "stream",
     "text": [
      "Step-0,Train Loss--39.82814025878906\n"
     ]
    },
    {
     "name": "stderr",
     "output_type": "stream",
     "text": [
      "100it [00:46,  2.15it/s]"
     ]
    },
    {
     "name": "stdout",
     "output_type": "stream",
     "text": [
      "Step-100,Train Loss--48.7097282409668\n"
     ]
    },
    {
     "name": "stderr",
     "output_type": "stream",
     "text": [
      "200it [01:33,  2.13it/s]"
     ]
    },
    {
     "name": "stdout",
     "output_type": "stream",
     "text": [
      "Step-200,Train Loss--44.52864074707031\n"
     ]
    },
    {
     "name": "stderr",
     "output_type": "stream",
     "text": [
      "300it [02:20,  2.15it/s]"
     ]
    },
    {
     "name": "stdout",
     "output_type": "stream",
     "text": [
      "Step-300,Train Loss--46.065914154052734\n"
     ]
    },
    {
     "name": "stderr",
     "output_type": "stream",
     "text": [
      "391it [03:02,  2.14it/s]\n"
     ]
    },
    {
     "name": "stdout",
     "output_type": "stream",
     "text": [
      "Epoch 3/5 - Training Loss: -44.7583 - Validation Loss: -51.0498\n",
      "Best model saved!\n"
     ]
    },
    {
     "name": "stderr",
     "output_type": "stream",
     "text": [
      "0it [00:00, ?it/s]"
     ]
    },
    {
     "name": "stdout",
     "output_type": "stream",
     "text": [
      "Step-0,Train Loss--57.83164596557617\n"
     ]
    },
    {
     "name": "stderr",
     "output_type": "stream",
     "text": [
      "100it [00:46,  2.10it/s]"
     ]
    },
    {
     "name": "stdout",
     "output_type": "stream",
     "text": [
      "Step-100,Train Loss--52.46078109741211\n"
     ]
    },
    {
     "name": "stderr",
     "output_type": "stream",
     "text": [
      "200it [01:33,  2.14it/s]"
     ]
    },
    {
     "name": "stdout",
     "output_type": "stream",
     "text": [
      "Step-200,Train Loss--59.560638427734375\n"
     ]
    },
    {
     "name": "stderr",
     "output_type": "stream",
     "text": [
      "300it [02:20,  2.15it/s]"
     ]
    },
    {
     "name": "stdout",
     "output_type": "stream",
     "text": [
      "Step-300,Train Loss--62.40582275390625\n"
     ]
    },
    {
     "name": "stderr",
     "output_type": "stream",
     "text": [
      "391it [03:03,  2.14it/s]\n"
     ]
    },
    {
     "name": "stdout",
     "output_type": "stream",
     "text": [
      "Epoch 4/5 - Training Loss: -57.6389 - Validation Loss: -63.7595\n",
      "Best model saved!\n"
     ]
    },
    {
     "name": "stderr",
     "output_type": "stream",
     "text": [
      "0it [00:00, ?it/s]"
     ]
    },
    {
     "name": "stdout",
     "output_type": "stream",
     "text": [
      "Step-0,Train Loss--62.54975128173828\n"
     ]
    },
    {
     "name": "stderr",
     "output_type": "stream",
     "text": [
      "100it [00:46,  2.13it/s]"
     ]
    },
    {
     "name": "stdout",
     "output_type": "stream",
     "text": [
      "Step-100,Train Loss--72.51144409179688\n"
     ]
    },
    {
     "name": "stderr",
     "output_type": "stream",
     "text": [
      "200it [01:33,  2.14it/s]"
     ]
    },
    {
     "name": "stdout",
     "output_type": "stream",
     "text": [
      "Step-200,Train Loss--81.20881652832031\n"
     ]
    },
    {
     "name": "stderr",
     "output_type": "stream",
     "text": [
      "300it [02:20,  2.14it/s]"
     ]
    },
    {
     "name": "stdout",
     "output_type": "stream",
     "text": [
      "Step-300,Train Loss--69.03150939941406\n"
     ]
    },
    {
     "name": "stderr",
     "output_type": "stream",
     "text": [
      "391it [03:02,  2.14it/s]\n"
     ]
    },
    {
     "name": "stdout",
     "output_type": "stream",
     "text": [
      "Epoch 5/5 - Training Loss: -70.3518 - Validation Loss: -76.3878\n",
      "Best model saved!\n"
     ]
    },
    {
     "data": {
      "text/plain": [
       "<All keys matched successfully>"
      ]
     },
     "execution_count": 15,
     "metadata": {},
     "output_type": "execute_result"
    }
   ],
   "source": [
    "import numpy as np\n",
    "\n",
    "best_val_loss = float('inf')  # Initialize with a high value\n",
    "best_model_path = '/kaggle/working/xlm-roberta-model.pth'\n",
    "\n",
    "epochs = 5\n",
    "for epoch in range(epochs):\n",
    "    model.train()\n",
    "    total_loss = 0\n",
    "    for step, batch in tqdm(enumerate(train_dataloader)):\n",
    "        input_ids = batch['input_ids'].to(device)\n",
    "        attention_mask = batch['attention_mask'].to(device)\n",
    "        labels = batch['labels'].to(device)\n",
    "\n",
    "        optimizer.zero_grad()\n",
    "\n",
    "        outputs = model(input_ids, attention_mask=attention_mask, labels=labels)\n",
    "        loss = outputs.loss\n",
    "        total_loss += loss.item()\n",
    "        if step%100==0:\n",
    "            print(\"Step-{},Train Loss-{}\".format(step,loss.item()))\n",
    "\n",
    "        loss.backward()\n",
    "        optimizer.step()\n",
    "\n",
    "    avg_train_loss = total_loss / len(train_dataloader)\n",
    "\n",
    "    model.eval()\n",
    "    val_loss = 0\n",
    "    val_predictions = []\n",
    "    val_labels = []\n",
    "    with torch.no_grad():\n",
    "        for batch in val_dataloader:\n",
    "            input_ids = batch['input_ids'].to(device)\n",
    "            attention_mask = batch['attention_mask'].to(device)\n",
    "            labels = batch['labels'].to(device)\n",
    "\n",
    "            outputs = model(input_ids, attention_mask=attention_mask, labels=labels)\n",
    "            loss = outputs.loss\n",
    "            val_loss += loss.item()\n",
    "\n",
    "            logits = outputs.logits\n",
    "            predictions = torch.argmax(logits, dim=1).tolist()\n",
    "            val_predictions.extend(predictions)\n",
    "            val_labels.extend(labels.tolist())\n",
    "\n",
    "    avg_val_loss = val_loss / len(val_dataloader)\n",
    "\n",
    "    # Perform evaluation or calculate evaluation metrics using val_predictions and val_labels\n",
    "\n",
    "    print(f'Epoch {epoch + 1}/{epochs} - Training Loss: {avg_train_loss:.4f} - Validation Loss: {avg_val_loss:.4f}')\n",
    "\n",
    "    if avg_val_loss < best_val_loss:\n",
    "        best_val_loss = avg_val_loss\n",
    "        torch.save(model.state_dict(), best_model_path)\n",
    "        print(\"Best model saved!\")\n",
    "\n",
    "# Load the best model\n",
    "model.load_state_dict(torch.load(best_model_path))\n"
   ]
  },
  {
   "cell_type": "markdown",
   "id": "092f46cf",
   "metadata": {
    "papermill": {
     "duration": 0.152133,
     "end_time": "2023-06-23T07:25:40.251942",
     "exception": false,
     "start_time": "2023-06-23T07:25:40.099809",
     "status": "completed"
    },
    "tags": []
   },
   "source": [
    "<div style=\"background-color:#F0E3D2; color:#19180F; font-size:15px; font-family:Verdana; padding:10px; border: 2px solid #19180F; border-radius:10px\"> \n",
    "📌\n",
    "Defining dataset class for test set by removing labels</div>"
   ]
  },
  {
   "cell_type": "code",
   "execution_count": 16,
   "id": "af7926bd",
   "metadata": {
    "execution": {
     "iopub.execute_input": "2023-06-23T07:25:40.577800Z",
     "iopub.status.busy": "2023-06-23T07:25:40.577436Z",
     "iopub.status.idle": "2023-06-23T07:25:40.585984Z",
     "shell.execute_reply": "2023-06-23T07:25:40.585078Z"
    },
    "papermill": {
     "duration": 0.174504,
     "end_time": "2023-06-23T07:25:40.588140",
     "exception": false,
     "start_time": "2023-06-23T07:25:40.413636",
     "status": "completed"
    },
    "tags": []
   },
   "outputs": [],
   "source": [
    "class TestSet(Dataset):\n",
    "    def __init__(self, df, tokenizer, max_length):\n",
    "        self.texts = df['full_text'].tolist()\n",
    "        self.tokenizer = tokenizer\n",
    "        self.max_length = max_length\n",
    "\n",
    "    def __len__(self):\n",
    "        return len(self.texts)\n",
    "\n",
    "    def __getitem__(self, idx):\n",
    "        text = str(self.texts[idx])\n",
    "        encoding = self.tokenizer.encode_plus(\n",
    "            text,\n",
    "            add_special_tokens=True,\n",
    "            max_length=self.max_length,\n",
    "            padding='max_length',\n",
    "            truncation=True,\n",
    "            return_tensors='pt'\n",
    "        )\n",
    "        return {\n",
    "            'input_ids': encoding['input_ids'].squeeze(),\n",
    "            'attention_mask': encoding['attention_mask'].squeeze(),\n",
    "        }"
   ]
  },
  {
   "cell_type": "markdown",
   "id": "2aa3bfec",
   "metadata": {
    "papermill": {
     "duration": 0.159361,
     "end_time": "2023-06-23T07:25:40.905334",
     "exception": false,
     "start_time": "2023-06-23T07:25:40.745973",
     "status": "completed"
    },
    "tags": []
   },
   "source": [
    "<div style=\"background-color:#F0E3D2; color:#19180F; font-size:15px; font-family:Verdana; padding:10px; border: 2px solid #19180F; border-radius:10px\"> \n",
    "📌\n",
    "Creating dataset and dataloader for test set    </div>"
   ]
  },
  {
   "cell_type": "code",
   "execution_count": 17,
   "id": "852354c5",
   "metadata": {
    "execution": {
     "iopub.execute_input": "2023-06-23T07:25:41.218949Z",
     "iopub.status.busy": "2023-06-23T07:25:41.218584Z",
     "iopub.status.idle": "2023-06-23T07:25:41.225658Z",
     "shell.execute_reply": "2023-06-23T07:25:41.224756Z"
    },
    "papermill": {
     "duration": 0.166372,
     "end_time": "2023-06-23T07:25:41.227803",
     "exception": false,
     "start_time": "2023-06-23T07:25:41.061431",
     "status": "completed"
    },
    "tags": []
   },
   "outputs": [],
   "source": [
    "test_dataset = TestSet(test_df, tokenizer, max_length)\n",
    "test_dataloader = DataLoader(test_dataset, batch_size=8, shuffle=False)"
   ]
  },
  {
   "cell_type": "markdown",
   "id": "cb4500df",
   "metadata": {
    "papermill": {
     "duration": 0.153875,
     "end_time": "2023-06-23T07:25:41.541260",
     "exception": false,
     "start_time": "2023-06-23T07:25:41.387385",
     "status": "completed"
    },
    "tags": []
   },
   "source": [
    "<div style=\"background-color:#F0E3D2; color:#19180F; font-size:15px; font-family:Verdana; padding:10px; border: 2px solid #19180F; border-radius:10px\"> \n",
    "📌\n",
    "Performing sanity check of the dataloader    </div>"
   ]
  },
  {
   "cell_type": "code",
   "execution_count": 18,
   "id": "12bda076",
   "metadata": {
    "execution": {
     "iopub.execute_input": "2023-06-23T07:25:41.863089Z",
     "iopub.status.busy": "2023-06-23T07:25:41.862227Z",
     "iopub.status.idle": "2023-06-23T07:25:41.915716Z",
     "shell.execute_reply": "2023-06-23T07:25:41.914675Z"
    },
    "papermill": {
     "duration": 0.212952,
     "end_time": "2023-06-23T07:25:41.917776",
     "exception": false,
     "start_time": "2023-06-23T07:25:41.704824",
     "status": "completed"
    },
    "tags": []
   },
   "outputs": [
    {
     "name": "stdout",
     "output_type": "stream",
     "text": [
      "{'input_ids': tensor([[     0,     87,   5351,  ...,      1,      1,      1],\n",
      "        [     0,  14847,     10,  ...,   8966,   4488,      2],\n",
      "        [     0,    262,    147,  ...,      1,      1,      1],\n",
      "        ...,\n",
      "        [     0,    262,    147,  ...,      1,      1,      1],\n",
      "        [     0, 133196,   2174,  ...,      1,      1,      1],\n",
      "        [     0,     87,   5351,  ...,      1,      1,      1]]), 'attention_mask': tensor([[1, 1, 1,  ..., 0, 0, 0],\n",
      "        [1, 1, 1,  ..., 1, 1, 1],\n",
      "        [1, 1, 1,  ..., 0, 0, 0],\n",
      "        ...,\n",
      "        [1, 1, 1,  ..., 0, 0, 0],\n",
      "        [1, 1, 1,  ..., 0, 0, 0],\n",
      "        [1, 1, 1,  ..., 0, 0, 0]])}\n"
     ]
    }
   ],
   "source": [
    "for batch in test_dataloader:\n",
    "    print(batch)\n",
    "    break"
   ]
  },
  {
   "cell_type": "markdown",
   "id": "68d47607",
   "metadata": {
    "papermill": {
     "duration": 0.154772,
     "end_time": "2023-06-23T07:25:42.228345",
     "exception": false,
     "start_time": "2023-06-23T07:25:42.073573",
     "status": "completed"
    },
    "tags": []
   },
   "source": [
    "<div style=\"background-color:#F0E3D2; color:#19180F; font-size:15px; font-family:Verdana; padding:10px; border: 2px solid #19180F; border-radius:10px\"> \n",
    "📌\n",
    "Generating submission    </div>"
   ]
  },
  {
   "cell_type": "code",
   "execution_count": 19,
   "id": "2a5e5d21",
   "metadata": {
    "execution": {
     "iopub.execute_input": "2023-06-23T07:25:42.551965Z",
     "iopub.status.busy": "2023-06-23T07:25:42.551603Z",
     "iopub.status.idle": "2023-06-23T07:27:02.760055Z",
     "shell.execute_reply": "2023-06-23T07:27:02.759001Z"
    },
    "papermill": {
     "duration": 80.378967,
     "end_time": "2023-06-23T07:27:02.763353",
     "exception": false,
     "start_time": "2023-06-23T07:25:42.384386",
     "status": "completed"
    },
    "tags": []
   },
   "outputs": [
    {
     "name": "stderr",
     "output_type": "stream",
     "text": [
      "100%|██████████| 489/489 [01:20<00:00,  6.10it/s]\n"
     ]
    }
   ],
   "source": [
    "all_predictions = []\n",
    "\n",
    "with torch.no_grad():\n",
    "    for batch in tqdm(test_dataloader):\n",
    "        input_ids = batch['input_ids'].to(device)\n",
    "        attention_mask = batch['attention_mask'].to(device)\n",
    "\n",
    "        outputs = model(input_ids, attention_mask=attention_mask)\n",
    "        logits = outputs.logits\n",
    "        predictions = torch.argmax(logits, dim=1).tolist()\n",
    "        all_predictions.extend(predictions)\n",
    "\n",
    "# Map the predictions to their respective scores\n",
    "prediction_scores = [score / 2.0 + 1.0 for score in all_predictions]\n",
    "\n",
    "submission_df = pd.DataFrame({\n",
    "    'text_id': test_df['text_id'],\n",
    "    'cohesion': prediction_scores,\n",
    "    'syntax': prediction_scores,\n",
    "    'vocabulary': prediction_scores,\n",
    "    'phraseology': prediction_scores,\n",
    "    'grammar': prediction_scores,\n",
    "    'conventions': prediction_scores\n",
    "})\n",
    "\n",
    "submission_df.to_csv('submission.csv', index=False)\n"
   ]
  },
  {
   "cell_type": "code",
   "execution_count": null,
   "id": "46c57eed",
   "metadata": {
    "papermill": {
     "duration": 0.188653,
     "end_time": "2023-06-23T07:27:03.143515",
     "exception": false,
     "start_time": "2023-06-23T07:27:02.954862",
     "status": "completed"
    },
    "tags": []
   },
   "outputs": [],
   "source": []
  },
  {
   "cell_type": "code",
   "execution_count": null,
   "id": "728e2810",
   "metadata": {
    "papermill": {
     "duration": 0.215172,
     "end_time": "2023-06-23T07:27:03.550624",
     "exception": false,
     "start_time": "2023-06-23T07:27:03.335452",
     "status": "completed"
    },
    "tags": []
   },
   "outputs": [],
   "source": []
  }
 ],
 "metadata": {
  "kernelspec": {
   "display_name": "Python 3",
   "language": "python",
   "name": "python3"
  },
  "language_info": {
   "codemirror_mode": {
    "name": "ipython",
    "version": 3
   },
   "file_extension": ".py",
   "mimetype": "text/x-python",
   "name": "python",
   "nbconvert_exporter": "python",
   "pygments_lexer": "ipython3",
   "version": "3.10.10"
  },
  "papermill": {
   "default_parameters": {},
   "duration": 1137.191312,
   "end_time": "2023-06-23T07:27:06.633129",
   "environment_variables": {},
   "exception": null,
   "input_path": "__notebook__.ipynb",
   "output_path": "__notebook__.ipynb",
   "parameters": {},
   "start_time": "2023-06-23T07:08:09.441817",
   "version": "2.4.0"
  }
 },
 "nbformat": 4,
 "nbformat_minor": 5
}
