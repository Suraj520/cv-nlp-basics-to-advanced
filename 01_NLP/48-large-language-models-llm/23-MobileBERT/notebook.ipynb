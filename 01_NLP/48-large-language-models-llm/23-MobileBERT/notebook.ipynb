{
 "cells": [
  {
   "cell_type": "markdown",
   "id": "a4c4dabd",
   "metadata": {
    "papermill": {
     "duration": 0.01168,
     "end_time": "2023-06-21T09:04:13.014394",
     "exception": false,
     "start_time": "2023-06-21T09:04:13.002714",
     "status": "completed"
    },
    "tags": []
   },
   "source": [
    "<div style=\"background-color:#5D73F2; color:#19180F; font-size:40px; font-family:Verdana; padding:10px; border: 5px solid #19180F; border-radius:10px\"> MobileBERT </div>\n",
    "<div style=\"background-color:#A8B4F6; color:#19180F; font-size:30px; font-family:Verdana; padding:10px; border: 5px solid #19180F; border-radius:10px\"> Architecture Overview</div>\n",
    "<div style=\"background-color:#D5D9F2; color:#19180F; font-size:15px; font-family:Verdana; padding:10px; border: 5px solid #19180F; border-radius:10px\"> \n",
    "    \n",
    "1. Input: This represents the 512-dimensional input to the MobileBERT model. It might be a token sequence or word embeddings.<br><br>\n",
    "\n",
    "2. Embedding Layer: The input tokens are transferred via the Embedding Layer, which turns them into dense vector representations. The Embedding Layer is similarly 512 in size, matching the input dimension.<br><br>\n",
    "\n",
    "3. Transformer Encoder Layers: This is MobileBERT's main component. It is made up of 24 Transformer Encoder Layers stacked in an inverted bottleneck configuration. On the input sequence, each layer conducts self-attention and feed-forward operations.<br><br>\n",
    "\n",
    "- Inverted Bottleneck Structure: The arrangement of the 24 Transformer Encoder Layers is referred to as the inverted bottleneck structure. Its purpose is to minimise model size while preserving performance. The layers are built in such a way that the representation dimension gradually increases and then collapses, mimicking an inverted bottleneck form.<br><br>\n",
    "\n",
    "4. Feed-Forward Networks (FFNs): There are stacked Feed-Forward Networks (FFNs) within each Transformer Encoder Layer. These networks process the self-attention mechanism's intermediate representations and apply non-linear changes to improve the model's expressive capability. The diagram includes two FFN layers, but depending on the implementation, there may be more.<br><br>\n",
    "\n",
    "5. Pooler Layer: The output of the Transformer Encoder Layers is routed through the Pooler Layer. This layer handles pooling actions (for example, max-pooling). to summarize the information from the entire sequence into a fixed-size representation.<br><br>\n",
    "\n",
    "6. Output: Finally, the pooled representation is supplied into the Output layer, which generates MobileBERT's final output. The output's specific nature is determined by the activity for which MobileBERT is employed, such as categorization or language production.<br><br>\n",
    "\n",
    "The architecture of MobileBERT is intended to be a thin version of BERT_LARGE, with 24 layers instead of 512, and the internal representation dimension altered to strike a compromise between model size and performance. This enables MobileBERT to be more efficient and suited for deployment on low-resource devices while still attaining competitive performance on a variety of natural language processing applications.<br><br>\n",
    "</div>"
   ]
  },
  {
   "cell_type": "code",
   "execution_count": 1,
   "id": "7d3082b0",
   "metadata": {
    "execution": {
     "iopub.execute_input": "2023-06-21T09:04:13.038448Z",
     "iopub.status.busy": "2023-06-21T09:04:13.037689Z",
     "iopub.status.idle": "2023-06-21T09:04:13.061824Z",
     "shell.execute_reply": "2023-06-21T09:04:13.061003Z"
    },
    "papermill": {
     "duration": 0.038412,
     "end_time": "2023-06-21T09:04:13.063848",
     "exception": false,
     "start_time": "2023-06-21T09:04:13.025436",
     "status": "completed"
    },
    "tags": []
   },
   "outputs": [
    {
     "data": {
      "image/svg+xml": [
       "<svg xmlns=\"http://www.w3.org/2000/svg\" xmlns:xlink=\"http://www.w3.org/1999/xlink\" width=\"753pt\" height=\"227pt\" viewBox=\"0.00 0.00 752.66 227.00\">\n",
       "<g id=\"graph0\" class=\"graph\" transform=\"scale(1 1) rotate(0) translate(4 223)\">\n",
       "<title>MobileBERT</title>\n",
       "<polygon fill=\"#ffffff\" stroke=\"transparent\" points=\"-4,4 -4,-223 748.6644,-223 748.6644,4 -4,4\"/>\n",
       "<g id=\"clust1\" class=\"cluster\">\n",
       "<title>cluster_input</title>\n",
       "<polygon fill=\"none\" stroke=\"#000000\" points=\"8,-134 8,-211 103.3724,-211 103.3724,-134 8,-134\"/>\n",
       "<text text-anchor=\"middle\" x=\"55.6862\" y=\"-194.4\" font-family=\"Times,serif\" font-size=\"14.00\" fill=\"#000000\">Input</text>\n",
       "</g>\n",
       "<g id=\"clust2\" class=\"cluster\">\n",
       "<title>cluster_embedding</title>\n",
       "<polygon fill=\"none\" stroke=\"#000000\" points=\"123.3724,-134 123.3724,-211 289.8844,-211 289.8844,-134 123.3724,-134\"/>\n",
       "<text text-anchor=\"middle\" x=\"206.6284\" y=\"-194.4\" font-family=\"Times,serif\" font-size=\"14.00\" fill=\"#000000\">Embedding Layer</text>\n",
       "</g>\n",
       "<g id=\"clust3\" class=\"cluster\">\n",
       "<title>cluster_transformer</title>\n",
       "<polygon fill=\"none\" stroke=\"#000000\" points=\"12.6862,-8 12.6862,-126 529.0858,-126 529.0858,-8 12.6862,-8\"/>\n",
       "<text text-anchor=\"middle\" x=\"270.886\" y=\"-109.4\" font-family=\"Times,serif\" font-size=\"14.00\" fill=\"#000000\">Transformer Encoder Layers</text>\n",
       "</g>\n",
       "<g id=\"clust4\" class=\"cluster\">\n",
       "<title>cluster_encoder</title>\n",
       "<polygon fill=\"none\" stroke=\"#000000\" points=\"309.8844,-16 309.8844,-93 521.0858,-93 521.0858,-16 309.8844,-16\"/>\n",
       "<text text-anchor=\"middle\" x=\"415.4851\" y=\"-76.4\" font-family=\"Times,serif\" font-size=\"14.00\" fill=\"#000000\">Inverted Bottleneck Structure</text>\n",
       "</g>\n",
       "<g id=\"clust5\" class=\"cluster\">\n",
       "<title>cluster_ffn</title>\n",
       "<polygon fill=\"none\" stroke=\"#000000\" points=\"20.6862,-16 20.6862,-93 241.6284,-93 241.6284,-16 20.6862,-16\"/>\n",
       "<text text-anchor=\"middle\" x=\"131.1573\" y=\"-76.4\" font-family=\"Times,serif\" font-size=\"14.00\" fill=\"#000000\">Feed-Forward Networks (FFNs)</text>\n",
       "</g>\n",
       "<g id=\"clust6\" class=\"cluster\">\n",
       "<title>cluster_pooler</title>\n",
       "<polygon fill=\"none\" stroke=\"#000000\" points=\"541.0858,-16 541.0858,-93 645.7766,-93 645.7766,-16 541.0858,-16\"/>\n",
       "<text text-anchor=\"middle\" x=\"593.4312\" y=\"-76.4\" font-family=\"Times,serif\" font-size=\"14.00\" fill=\"#000000\">Pooler Layer</text>\n",
       "</g>\n",
       "<g id=\"clust7\" class=\"cluster\">\n",
       "<title>cluster_output</title>\n",
       "<polygon fill=\"none\" stroke=\"#000000\" points=\"665.7766,-16 665.7766,-93 736.6644,-93 736.6644,-16 665.7766,-16\"/>\n",
       "<text text-anchor=\"middle\" x=\"701.2205\" y=\"-76.4\" font-family=\"Times,serif\" font-size=\"14.00\" fill=\"#000000\">Output</text>\n",
       "</g>\n",
       "<!-- input -->\n",
       "<g id=\"node1\" class=\"node\">\n",
       "<title>input</title>\n",
       "<polygon fill=\"#ffd700\" stroke=\"#000000\" points=\"95.5595,-178 15.8129,-178 15.8129,-142 95.5595,-142 95.5595,-178\"/>\n",
       "<text text-anchor=\"middle\" x=\"55.6862\" y=\"-155.8\" font-family=\"Times,serif\" font-size=\"14.00\" fill=\"#000000\">Input (512)</text>\n",
       "</g>\n",
       "<!-- embedding -->\n",
       "<g id=\"node2\" class=\"node\">\n",
       "<title>embedding</title>\n",
       "<polygon fill=\"#ffd700\" stroke=\"#000000\" points=\"281.6412,-178 131.6156,-178 131.6156,-142 281.6412,-142 281.6412,-178\"/>\n",
       "<text text-anchor=\"middle\" x=\"206.6284\" y=\"-155.8\" font-family=\"Times,serif\" font-size=\"14.00\" fill=\"#000000\">Embedding Layer (512)</text>\n",
       "</g>\n",
       "<!-- input&#45;&gt;embedding -->\n",
       "<g id=\"edge1\" class=\"edge\">\n",
       "<title>input-&gt;embedding</title>\n",
       "<path fill=\"none\" stroke=\"#333333\" d=\"M95.7397,-153.9595C103.7352,-153.6141 112.4167,-153.3948 121.2832,-153.3016\"/>\n",
       "<polygon fill=\"#333333\" stroke=\"#333333\" points=\"121.3637,-156.8013 131.3456,-153.25 121.3277,-149.8014 121.3637,-156.8013\"/>\n",
       "</g>\n",
       "<!-- input&#45;&gt;embedding -->\n",
       "<g id=\"edge6\" class=\"edge\">\n",
       "<title>input-&gt;embedding</title>\n",
       "<path fill=\"none\" stroke=\"#333333\" d=\"M95.7397,-166.0405C103.7352,-166.3859 112.4167,-166.6052 121.2832,-166.6984\"/>\n",
       "<polygon fill=\"#333333\" stroke=\"#333333\" points=\"121.3277,-170.1986 131.3456,-166.75 121.3637,-163.1987 121.3277,-170.1986\"/>\n",
       "</g>\n",
       "<!-- encoder -->\n",
       "<g id=\"node3\" class=\"node\">\n",
       "<title>encoder</title>\n",
       "<polygon fill=\"#87ceeb\" stroke=\"#000000\" points=\"513.1866,-60 317.7836,-60 317.7836,-24 513.1866,-24 513.1866,-60\"/>\n",
       "<text text-anchor=\"middle\" x=\"415.4851\" y=\"-37.8\" font-family=\"Times,serif\" font-size=\"14.00\" fill=\"#000000\">Inverted Bottleneck (24 Layers)</text>\n",
       "</g>\n",
       "<!-- embedding&#45;&gt;encoder -->\n",
       "<g id=\"edge2\" class=\"edge\">\n",
       "<title>embedding-&gt;encoder</title>\n",
       "<path fill=\"none\" stroke=\"#333333\" d=\"M230.5869,-141.9699C263.1294,-121.1486 322.1256,-87.3533 364.7401,-64.7851\"/>\n",
       "<polygon fill=\"#333333\" stroke=\"#333333\" points=\"366.6121,-67.7554 373.8392,-60.0081 363.3582,-61.5576 366.6121,-67.7554\"/>\n",
       "</g>\n",
       "<!-- embedding&#45;&gt;encoder -->\n",
       "<g id=\"edge7\" class=\"edge\">\n",
       "<title>embedding-&gt;encoder</title>\n",
       "<path fill=\"none\" stroke=\"#333333\" d=\"M248.3917,-141.9308C287.8989,-121.3808 346.3946,-88.1809 382.6632,-65.617\"/>\n",
       "<polygon fill=\"#333333\" stroke=\"#333333\" points=\"384.7858,-68.4164 391.38,-60.1238 381.0537,-62.4943 384.7858,-68.4164\"/>\n",
       "</g>\n",
       "<!-- ffn1 -->\n",
       "<g id=\"node4\" class=\"node\">\n",
       "<title>ffn1</title>\n",
       "<polygon fill=\"#87ceeb\" stroke=\"#000000\" points=\"82.6862,-60 28.6862,-60 28.6862,-24 82.6862,-24 82.6862,-60\"/>\n",
       "<text text-anchor=\"middle\" x=\"55.6862\" y=\"-37.8\" font-family=\"Times,serif\" font-size=\"14.00\" fill=\"#000000\">FFN1</text>\n",
       "</g>\n",
       "<!-- encoder&#45;&gt;ffn1 -->\n",
       "<g id=\"edge3\" class=\"edge\">\n",
       "<title>encoder-&gt;ffn1</title>\n",
       "<path fill=\"none\" stroke=\"#333333\" d=\"M342.6044,-60.0147C283.1713,-72.0112 197.2707,-83.1952 123.3724,-69 113.0291,-67.0132 102.2551,-63.4632 92.4242,-59.577\"/>\n",
       "<polygon fill=\"#333333\" stroke=\"#333333\" points=\"93.5351,-56.248 82.9587,-55.624 90.8376,-62.7074 93.5351,-56.248\"/>\n",
       "</g>\n",
       "<!-- pooler -->\n",
       "<g id=\"node6\" class=\"node\">\n",
       "<title>pooler</title>\n",
       "<polygon fill=\"#ffd700\" stroke=\"#000000\" points=\"637.6225,-60 549.2399,-60 549.2399,-24 637.6225,-24 637.6225,-60\"/>\n",
       "<text text-anchor=\"middle\" x=\"593.4312\" y=\"-37.8\" font-family=\"Times,serif\" font-size=\"14.00\" fill=\"#000000\">Pooler Layer</text>\n",
       "</g>\n",
       "<!-- encoder&#45;&gt;pooler -->\n",
       "<g id=\"edge8\" class=\"edge\">\n",
       "<title>encoder-&gt;pooler</title>\n",
       "<path fill=\"none\" stroke=\"#333333\" d=\"M513.3077,-42C522.0525,-42 530.6821,-42 538.8542,-42\"/>\n",
       "<polygon fill=\"#333333\" stroke=\"#333333\" points=\"538.935,-45.5001 548.935,-42 538.9349,-38.5001 538.935,-45.5001\"/>\n",
       "</g>\n",
       "<!-- ffn2 -->\n",
       "<g id=\"node5\" class=\"node\">\n",
       "<title>ffn2</title>\n",
       "<polygon fill=\"#87ceeb\" stroke=\"#000000\" points=\"233.6284,-60 179.6284,-60 179.6284,-24 233.6284,-24 233.6284,-60\"/>\n",
       "<text text-anchor=\"middle\" x=\"206.6284\" y=\"-37.8\" font-family=\"Times,serif\" font-size=\"14.00\" fill=\"#000000\">FFN2</text>\n",
       "</g>\n",
       "<!-- ffn1&#45;&gt;ffn2 -->\n",
       "<g id=\"edge4\" class=\"edge\">\n",
       "<title>ffn1-&gt;ffn2</title>\n",
       "<path fill=\"none\" stroke=\"#333333\" d=\"M83.0207,-42C107.1707,-42 142.6068,-42 169.3525,-42\"/>\n",
       "<polygon fill=\"#333333\" stroke=\"#333333\" points=\"169.4973,-45.5001 179.4973,-42 169.4972,-38.5001 169.4973,-45.5001\"/>\n",
       "</g>\n",
       "<!-- ffn2&#45;&gt;encoder -->\n",
       "<g id=\"edge5\" class=\"edge\">\n",
       "<title>ffn2-&gt;encoder</title>\n",
       "<path fill=\"none\" stroke=\"#333333\" d=\"M233.9328,-42C253.1361,-42 280.2009,-42 307.5845,-42\"/>\n",
       "<polygon fill=\"#333333\" stroke=\"#333333\" points=\"307.6736,-45.5001 317.6736,-42 307.6736,-38.5001 307.6736,-45.5001\"/>\n",
       "</g>\n",
       "<!-- output -->\n",
       "<g id=\"node7\" class=\"node\">\n",
       "<title>output</title>\n",
       "<polygon fill=\"#ffd700\" stroke=\"#000000\" points=\"728.6084,-60 673.8326,-60 673.8326,-24 728.6084,-24 728.6084,-60\"/>\n",
       "<text text-anchor=\"middle\" x=\"701.2205\" y=\"-37.8\" font-family=\"Times,serif\" font-size=\"14.00\" fill=\"#000000\">Output</text>\n",
       "</g>\n",
       "<!-- pooler&#45;&gt;output -->\n",
       "<g id=\"edge9\" class=\"edge\">\n",
       "<title>pooler-&gt;output</title>\n",
       "<path fill=\"none\" stroke=\"#333333\" d=\"M637.8955,-42C646.4584,-42 655.349,-42 663.6663,-42\"/>\n",
       "<polygon fill=\"#333333\" stroke=\"#333333\" points=\"663.8269,-45.5001 673.8269,-42 663.8268,-38.5001 663.8269,-45.5001\"/>\n",
       "</g>\n",
       "</g>\n",
       "</svg>"
      ],
      "text/plain": [
       "<IPython.core.display.SVG object>"
      ]
     },
     "metadata": {},
     "output_type": "display_data"
    }
   ],
   "source": [
    "from IPython.display import SVG, display\n",
    "\n",
    "# Load the SVG file and display it\n",
    "svg_file = '/kaggle/input/mobilebert/MobileBERT.svg'\n",
    "display(SVG(filename=svg_file))"
   ]
  },
  {
   "cell_type": "markdown",
   "id": "681c2fe7",
   "metadata": {
    "papermill": {
     "duration": 0.011189,
     "end_time": "2023-06-21T09:04:13.086353",
     "exception": false,
     "start_time": "2023-06-21T09:04:13.075164",
     "status": "completed"
    },
    "tags": []
   },
   "source": [
    "<div style=\"background-color:#F0E3D2; color:#19180F; font-size:15px; font-family:Verdana; padding:10px; border: 2px solid #19180F; border-radius:10px\"> \n",
    "📌 Importing modules\n",
    "    </div>"
   ]
  },
  {
   "cell_type": "code",
   "execution_count": 2,
   "id": "42228921",
   "metadata": {
    "execution": {
     "iopub.execute_input": "2023-06-21T09:04:13.109838Z",
     "iopub.status.busy": "2023-06-21T09:04:13.109384Z",
     "iopub.status.idle": "2023-06-21T09:04:26.670981Z",
     "shell.execute_reply": "2023-06-21T09:04:26.669680Z"
    },
    "papermill": {
     "duration": 13.576848,
     "end_time": "2023-06-21T09:04:26.674226",
     "exception": false,
     "start_time": "2023-06-21T09:04:13.097378",
     "status": "completed"
    },
    "tags": []
   },
   "outputs": [
    {
     "name": "stderr",
     "output_type": "stream",
     "text": [
      "/opt/conda/lib/python3.10/site-packages/tensorflow_io/python/ops/__init__.py:98: UserWarning: unable to load libtensorflow_io_plugins.so: unable to open file: libtensorflow_io_plugins.so, from paths: ['/opt/conda/lib/python3.10/site-packages/tensorflow_io/python/ops/libtensorflow_io_plugins.so']\n",
      "caused by: ['/opt/conda/lib/python3.10/site-packages/tensorflow_io/python/ops/libtensorflow_io_plugins.so: undefined symbol: _ZN3tsl6StatusC1EN10tensorflow5error4CodeESt17basic_string_viewIcSt11char_traitsIcEENS_14SourceLocationE']\n",
      "  warnings.warn(f\"unable to load libtensorflow_io_plugins.so: {e}\")\n",
      "/opt/conda/lib/python3.10/site-packages/tensorflow_io/python/ops/__init__.py:104: UserWarning: file system plugins are not loaded: unable to open file: libtensorflow_io.so, from paths: ['/opt/conda/lib/python3.10/site-packages/tensorflow_io/python/ops/libtensorflow_io.so']\n",
      "caused by: ['/opt/conda/lib/python3.10/site-packages/tensorflow_io/python/ops/libtensorflow_io.so: undefined symbol: _ZTVN10tensorflow13GcsFileSystemE']\n",
      "  warnings.warn(f\"file system plugins are not loaded: {e}\")\n"
     ]
    }
   ],
   "source": [
    "import pandas as pd\n",
    "import matplotlib.pyplot as plt\n",
    "%matplotlib inline\n",
    "import torch\n",
    "import numpy as np\n",
    "from torch.utils.data import DataLoader, Dataset\n",
    "from transformers import MobileBertTokenizer, MobileBertForSequenceClassification\n",
    "from sklearn.model_selection import train_test_split"
   ]
  },
  {
   "cell_type": "markdown",
   "id": "8ed4ea88",
   "metadata": {
    "papermill": {
     "duration": 0.01543,
     "end_time": "2023-06-21T09:04:26.708723",
     "exception": false,
     "start_time": "2023-06-21T09:04:26.693293",
     "status": "completed"
    },
    "tags": []
   },
   "source": [
    "<div style=\"background-color:#F0E3D2; color:#19180F; font-size:15px; font-family:Verdana; padding:10px; border: 2px solid #19180F; border-radius:10px\"> \n",
    "📌\n",
    "    Saving the model and tokenizer for re-loading later </div>"
   ]
  },
  {
   "cell_type": "code",
   "execution_count": 3,
   "id": "70230af9",
   "metadata": {
    "execution": {
     "iopub.execute_input": "2023-06-21T09:04:26.749702Z",
     "iopub.status.busy": "2023-06-21T09:04:26.749187Z",
     "iopub.status.idle": "2023-06-21T09:04:26.753901Z",
     "shell.execute_reply": "2023-06-21T09:04:26.753114Z"
    },
    "papermill": {
     "duration": 0.028186,
     "end_time": "2023-06-21T09:04:26.757940",
     "exception": false,
     "start_time": "2023-06-21T09:04:26.729754",
     "status": "completed"
    },
    "tags": []
   },
   "outputs": [],
   "source": [
    "# # Instantiate the tokenizer and model\n",
    "# tokenizer = MobileBertTokenizer.from_pretrained('google/mobilebert-uncased')\n",
    "# model = MobileBertForSequenceClassification.from_pretrained('google/mobilebert-uncased',num_labels=30)\n",
    "\n",
    "# # Cache the tokenizer and model to your local machine\n",
    "# tokenizer.save_pretrained('/kaggle/working')\n",
    "# model.save_pretrained('/kaggle/working')\n"
   ]
  },
  {
   "cell_type": "code",
   "execution_count": 4,
   "id": "a5d89e69",
   "metadata": {
    "execution": {
     "iopub.execute_input": "2023-06-21T09:04:26.790818Z",
     "iopub.status.busy": "2023-06-21T09:04:26.790456Z",
     "iopub.status.idle": "2023-06-21T09:04:29.168703Z",
     "shell.execute_reply": "2023-06-21T09:04:29.166975Z"
    },
    "papermill": {
     "duration": 2.397619,
     "end_time": "2023-06-21T09:04:29.171129",
     "exception": false,
     "start_time": "2023-06-21T09:04:26.773510",
     "status": "completed"
    },
    "tags": []
   },
   "outputs": [],
   "source": [
    "# Load the tokenizer and model from your local cache\n",
    "tokenizer = MobileBertTokenizer.from_pretrained('/kaggle/input/mobilebert')\n",
    "model = MobileBertForSequenceClassification.from_pretrained('/kaggle/input/mobilebert', num_labels=30)\n"
   ]
  },
  {
   "cell_type": "markdown",
   "id": "959193ea",
   "metadata": {
    "papermill": {
     "duration": 0.011368,
     "end_time": "2023-06-21T09:04:29.194147",
     "exception": false,
     "start_time": "2023-06-21T09:04:29.182779",
     "status": "completed"
    },
    "tags": []
   },
   "source": [
    "<div style=\"background-color:#F0E3D2; color:#19180F; font-size:15px; font-family:Verdana; padding:10px; border: 2px solid #19180F; border-radius:10px\"> \n",
    "📌\n",
    "    Reading the dataframes </div>"
   ]
  },
  {
   "cell_type": "code",
   "execution_count": 5,
   "id": "707cc50b",
   "metadata": {
    "execution": {
     "iopub.execute_input": "2023-06-21T09:04:29.219729Z",
     "iopub.status.busy": "2023-06-21T09:04:29.218818Z",
     "iopub.status.idle": "2023-06-21T09:04:29.577641Z",
     "shell.execute_reply": "2023-06-21T09:04:29.576607Z"
    },
    "papermill": {
     "duration": 0.374612,
     "end_time": "2023-06-21T09:04:29.580233",
     "exception": false,
     "start_time": "2023-06-21T09:04:29.205621",
     "status": "completed"
    },
    "tags": []
   },
   "outputs": [],
   "source": [
    "train_df = pd.read_csv('/kaggle/input/google-quest-challenge/train.csv')\n",
    "test_df = pd.read_csv('/kaggle/input/google-quest-challenge/test.csv')"
   ]
  },
  {
   "cell_type": "markdown",
   "id": "514962f8",
   "metadata": {
    "papermill": {
     "duration": 0.011476,
     "end_time": "2023-06-21T09:04:29.604399",
     "exception": false,
     "start_time": "2023-06-21T09:04:29.592923",
     "status": "completed"
    },
    "tags": []
   },
   "source": [
    "<div style=\"background-color:#F0E3D2; color:#19180F; font-size:15px; font-family:Verdana; padding:10px; border: 2px solid #19180F; border-radius:10px\"> \n",
    "📌\n",
    "    Checking the columns of train and test df </div>"
   ]
  },
  {
   "cell_type": "code",
   "execution_count": 6,
   "id": "a9f45fd4",
   "metadata": {
    "execution": {
     "iopub.execute_input": "2023-06-21T09:04:29.628509Z",
     "iopub.status.busy": "2023-06-21T09:04:29.627952Z",
     "iopub.status.idle": "2023-06-21T09:04:29.635936Z",
     "shell.execute_reply": "2023-06-21T09:04:29.635065Z"
    },
    "papermill": {
     "duration": 0.022557,
     "end_time": "2023-06-21T09:04:29.638062",
     "exception": false,
     "start_time": "2023-06-21T09:04:29.615505",
     "status": "completed"
    },
    "tags": []
   },
   "outputs": [
    {
     "data": {
      "text/plain": [
       "Index(['qa_id', 'question_title', 'question_body', 'question_user_name',\n",
       "       'question_user_page', 'answer', 'answer_user_name', 'answer_user_page',\n",
       "       'url', 'category', 'host', 'question_asker_intent_understanding',\n",
       "       'question_body_critical', 'question_conversational',\n",
       "       'question_expect_short_answer', 'question_fact_seeking',\n",
       "       'question_has_commonly_accepted_answer',\n",
       "       'question_interestingness_others', 'question_interestingness_self',\n",
       "       'question_multi_intent', 'question_not_really_a_question',\n",
       "       'question_opinion_seeking', 'question_type_choice',\n",
       "       'question_type_compare', 'question_type_consequence',\n",
       "       'question_type_definition', 'question_type_entity',\n",
       "       'question_type_instructions', 'question_type_procedure',\n",
       "       'question_type_reason_explanation', 'question_type_spelling',\n",
       "       'question_well_written', 'answer_helpful',\n",
       "       'answer_level_of_information', 'answer_plausible', 'answer_relevance',\n",
       "       'answer_satisfaction', 'answer_type_instructions',\n",
       "       'answer_type_procedure', 'answer_type_reason_explanation',\n",
       "       'answer_well_written'],\n",
       "      dtype='object')"
      ]
     },
     "execution_count": 6,
     "metadata": {},
     "output_type": "execute_result"
    }
   ],
   "source": [
    "train_df.columns"
   ]
  },
  {
   "cell_type": "code",
   "execution_count": 7,
   "id": "44b1dd26",
   "metadata": {
    "execution": {
     "iopub.execute_input": "2023-06-21T09:04:29.662196Z",
     "iopub.status.busy": "2023-06-21T09:04:29.661862Z",
     "iopub.status.idle": "2023-06-21T09:04:29.670084Z",
     "shell.execute_reply": "2023-06-21T09:04:29.669218Z"
    },
    "papermill": {
     "duration": 0.022705,
     "end_time": "2023-06-21T09:04:29.672175",
     "exception": false,
     "start_time": "2023-06-21T09:04:29.649470",
     "status": "completed"
    },
    "tags": []
   },
   "outputs": [
    {
     "data": {
      "text/plain": [
       "Index(['qa_id', 'question_title', 'question_body', 'question_user_name',\n",
       "       'question_user_page', 'answer', 'answer_user_name', 'answer_user_page',\n",
       "       'url', 'category', 'host'],\n",
       "      dtype='object')"
      ]
     },
     "execution_count": 7,
     "metadata": {},
     "output_type": "execute_result"
    }
   ],
   "source": [
    "test_df.columns"
   ]
  },
  {
   "cell_type": "markdown",
   "id": "a141a5c2",
   "metadata": {
    "papermill": {
     "duration": 0.011166,
     "end_time": "2023-06-21T09:04:29.694943",
     "exception": false,
     "start_time": "2023-06-21T09:04:29.683777",
     "status": "completed"
    },
    "tags": []
   },
   "source": [
    "<div style=\"background-color:#F0E3D2; color:#19180F; font-size:15px; font-family:Verdana; padding:10px; border: 2px solid #19180F; border-radius:10px\"> \n",
    "📌\n",
    "    Defining custom dataset class </div>"
   ]
  },
  {
   "cell_type": "code",
   "execution_count": 8,
   "id": "e73ce6dc",
   "metadata": {
    "execution": {
     "iopub.execute_input": "2023-06-21T09:04:29.719690Z",
     "iopub.status.busy": "2023-06-21T09:04:29.719368Z",
     "iopub.status.idle": "2023-06-21T09:04:29.727771Z",
     "shell.execute_reply": "2023-06-21T09:04:29.726823Z"
    },
    "papermill": {
     "duration": 0.022956,
     "end_time": "2023-06-21T09:04:29.729641",
     "exception": false,
     "start_time": "2023-06-21T09:04:29.706685",
     "status": "completed"
    },
    "tags": []
   },
   "outputs": [],
   "source": [
    "class QADataset(Dataset):\n",
    "    def __init__(self, texts, tokenizer,mode=\"Train\",labels=None):\n",
    "        self.texts = texts\n",
    "        self.labels = labels\n",
    "        self.tokenizer = tokenizer\n",
    "        self.mode = mode\n",
    "    \n",
    "    def __len__(self):\n",
    "        return len(self.texts)\n",
    "    \n",
    "    def __getitem__(self, idx):\n",
    "        text = self.texts[idx]\n",
    "        if self.mode==\"Train\":\n",
    "            label = self.labels[idx]\n",
    "        \n",
    "        encoding = self.tokenizer.encode_plus(\n",
    "            text,\n",
    "            add_special_tokens=True,\n",
    "            truncation=True,\n",
    "            padding='max_length',\n",
    "            max_length=512,\n",
    "            return_tensors='pt'\n",
    "        )\n",
    "        \n",
    "        input_ids = encoding['input_ids'].squeeze()\n",
    "        attention_mask = encoding['attention_mask'].squeeze()\n",
    "        if self.mode==\"Test\":\n",
    "            return {\n",
    "            'input_ids': input_ids,\n",
    "            'attention_mask': attention_mask\n",
    "        }\n",
    "            \n",
    "        return {\n",
    "            'input_ids': input_ids,\n",
    "            'attention_mask': attention_mask,\n",
    "            'labels': label\n",
    "        }\n",
    "        "
   ]
  },
  {
   "cell_type": "markdown",
   "id": "d0b3ad11",
   "metadata": {
    "papermill": {
     "duration": 0.020506,
     "end_time": "2023-06-21T09:04:29.761980",
     "exception": false,
     "start_time": "2023-06-21T09:04:29.741474",
     "status": "completed"
    },
    "tags": []
   },
   "source": [
    "<div style=\"background-color:#F0E3D2; color:#19180F; font-size:15px; font-family:Verdana; padding:10px; border: 2px solid #19180F; border-radius:10px\"> \n",
    "📌\n",
    "    Creating train texts and labels for training </div>"
   ]
  },
  {
   "cell_type": "code",
   "execution_count": 9,
   "id": "e5c2ed96",
   "metadata": {
    "execution": {
     "iopub.execute_input": "2023-06-21T09:04:29.787716Z",
     "iopub.status.busy": "2023-06-21T09:04:29.787367Z",
     "iopub.status.idle": "2023-06-21T09:04:29.809657Z",
     "shell.execute_reply": "2023-06-21T09:04:29.808619Z"
    },
    "papermill": {
     "duration": 0.037757,
     "end_time": "2023-06-21T09:04:29.811974",
     "exception": false,
     "start_time": "2023-06-21T09:04:29.774217",
     "status": "completed"
    },
    "tags": []
   },
   "outputs": [],
   "source": [
    "\n",
    "train_texts = train_df['question_title'] + ' ' + train_df['question_body'] + ' ' + train_df['answer']\n",
    "train_labels = train_df.iloc[:, 11:]\n"
   ]
  },
  {
   "cell_type": "markdown",
   "id": "deaf3500",
   "metadata": {
    "papermill": {
     "duration": 0.0113,
     "end_time": "2023-06-21T09:04:29.835711",
     "exception": false,
     "start_time": "2023-06-21T09:04:29.824411",
     "status": "completed"
    },
    "tags": []
   },
   "source": [
    "<div style=\"background-color:#F0E3D2; color:#19180F; font-size:15px; font-family:Verdana; padding:10px; border: 2px solid #19180F; border-radius:10px\"> \n",
    "📌\n",
    "    Splitting into training and validation sets </div>"
   ]
  },
  {
   "cell_type": "code",
   "execution_count": 10,
   "id": "58599aa2",
   "metadata": {
    "execution": {
     "iopub.execute_input": "2023-06-21T09:04:29.860730Z",
     "iopub.status.busy": "2023-06-21T09:04:29.860380Z",
     "iopub.status.idle": "2023-06-21T09:04:29.869250Z",
     "shell.execute_reply": "2023-06-21T09:04:29.868365Z"
    },
    "papermill": {
     "duration": 0.023958,
     "end_time": "2023-06-21T09:04:29.871203",
     "exception": false,
     "start_time": "2023-06-21T09:04:29.847245",
     "status": "completed"
    },
    "tags": []
   },
   "outputs": [],
   "source": [
    "train_texts, val_texts, train_labels, val_labels = train_test_split(\n",
    "    train_texts,\n",
    "    train_labels,\n",
    "    test_size=0.2,\n",
    "    random_state=42\n",
    ")"
   ]
  },
  {
   "cell_type": "markdown",
   "id": "25c15a1b",
   "metadata": {
    "papermill": {
     "duration": 0.014046,
     "end_time": "2023-06-21T09:04:29.897352",
     "exception": false,
     "start_time": "2023-06-21T09:04:29.883306",
     "status": "completed"
    },
    "tags": []
   },
   "source": [
    "<div style=\"background-color:#F0E3D2; color:#19180F; font-size:15px; font-family:Verdana; padding:10px; border: 2px solid #19180F; border-radius:10px\"> \n",
    "📌\n",
    "    Creating dataset </div>"
   ]
  },
  {
   "cell_type": "code",
   "execution_count": 11,
   "id": "503a0d39",
   "metadata": {
    "execution": {
     "iopub.execute_input": "2023-06-21T09:04:29.922630Z",
     "iopub.status.busy": "2023-06-21T09:04:29.922259Z",
     "iopub.status.idle": "2023-06-21T09:04:29.928243Z",
     "shell.execute_reply": "2023-06-21T09:04:29.927062Z"
    },
    "papermill": {
     "duration": 0.021218,
     "end_time": "2023-06-21T09:04:29.930438",
     "exception": false,
     "start_time": "2023-06-21T09:04:29.909220",
     "status": "completed"
    },
    "tags": []
   },
   "outputs": [],
   "source": [
    "train_dataset = QADataset(train_texts.tolist(),tokenizer,mode=\"Train\", labels=train_labels.values)\n",
    "val_dataset = QADataset(val_texts.tolist(), tokenizer,mode=\"Train\",labels= val_labels.values)\n"
   ]
  },
  {
   "cell_type": "markdown",
   "id": "97ec6776",
   "metadata": {
    "papermill": {
     "duration": 0.019348,
     "end_time": "2023-06-21T09:04:29.962171",
     "exception": false,
     "start_time": "2023-06-21T09:04:29.942823",
     "status": "completed"
    },
    "tags": []
   },
   "source": [
    "<div style=\"background-color:#F0E3D2; color:#19180F; font-size:15px; font-family:Verdana; padding:10px; border: 2px solid #19180F; border-radius:10px\"> \n",
    "📌\n",
    "    Defining batch size and num epochs </div>"
   ]
  },
  {
   "cell_type": "code",
   "execution_count": 12,
   "id": "0c787f1c",
   "metadata": {
    "execution": {
     "iopub.execute_input": "2023-06-21T09:04:30.007451Z",
     "iopub.status.busy": "2023-06-21T09:04:30.006818Z",
     "iopub.status.idle": "2023-06-21T09:04:30.011964Z",
     "shell.execute_reply": "2023-06-21T09:04:30.011131Z"
    },
    "papermill": {
     "duration": 0.03438,
     "end_time": "2023-06-21T09:04:30.017045",
     "exception": false,
     "start_time": "2023-06-21T09:04:29.982665",
     "status": "completed"
    },
    "tags": []
   },
   "outputs": [],
   "source": [
    "batch_size = 8\n",
    "num_epochs = 10\n"
   ]
  },
  {
   "cell_type": "markdown",
   "id": "ad605c3a",
   "metadata": {
    "papermill": {
     "duration": 0.013396,
     "end_time": "2023-06-21T09:04:30.054540",
     "exception": false,
     "start_time": "2023-06-21T09:04:30.041144",
     "status": "completed"
    },
    "tags": []
   },
   "source": [
    "<div style=\"background-color:#F0E3D2; color:#19180F; font-size:15px; font-family:Verdana; padding:10px; border: 2px solid #19180F; border-radius:10px\"> \n",
    "📌\n",
    "    Defining the train and val loaders </div>"
   ]
  },
  {
   "cell_type": "code",
   "execution_count": 13,
   "id": "15d8202c",
   "metadata": {
    "execution": {
     "iopub.execute_input": "2023-06-21T09:04:30.079481Z",
     "iopub.status.busy": "2023-06-21T09:04:30.079133Z",
     "iopub.status.idle": "2023-06-21T09:04:30.084131Z",
     "shell.execute_reply": "2023-06-21T09:04:30.083219Z"
    },
    "papermill": {
     "duration": 0.019739,
     "end_time": "2023-06-21T09:04:30.086199",
     "exception": false,
     "start_time": "2023-06-21T09:04:30.066460",
     "status": "completed"
    },
    "tags": []
   },
   "outputs": [],
   "source": [
    "train_dataloader = DataLoader(train_dataset, batch_size=batch_size, shuffle=True)\n",
    "val_dataloader = DataLoader(val_dataset, batch_size=batch_size)\n"
   ]
  },
  {
   "cell_type": "markdown",
   "id": "660be0b0",
   "metadata": {
    "papermill": {
     "duration": 0.011525,
     "end_time": "2023-06-21T09:04:30.109230",
     "exception": false,
     "start_time": "2023-06-21T09:04:30.097705",
     "status": "completed"
    },
    "tags": []
   },
   "source": [
    "<div style=\"background-color:#F0E3D2; color:#19180F; font-size:15px; font-family:Verdana; padding:10px; border: 2px solid #19180F; border-radius:10px\"> \n",
    "📌\n",
    "    Setting the device and moving the model to device </div>"
   ]
  },
  {
   "cell_type": "code",
   "execution_count": 14,
   "id": "c0cb1c9a",
   "metadata": {
    "execution": {
     "iopub.execute_input": "2023-06-21T09:04:30.134729Z",
     "iopub.status.busy": "2023-06-21T09:04:30.134391Z",
     "iopub.status.idle": "2023-06-21T09:04:35.284948Z",
     "shell.execute_reply": "2023-06-21T09:04:35.284063Z"
    },
    "papermill": {
     "duration": 5.166081,
     "end_time": "2023-06-21T09:04:35.287028",
     "exception": false,
     "start_time": "2023-06-21T09:04:30.120947",
     "status": "completed"
    },
    "tags": []
   },
   "outputs": [
    {
     "data": {
      "text/plain": [
       "MobileBertForSequenceClassification(\n",
       "  (mobilebert): MobileBertModel(\n",
       "    (embeddings): MobileBertEmbeddings(\n",
       "      (word_embeddings): Embedding(30522, 128, padding_idx=0)\n",
       "      (position_embeddings): Embedding(512, 512)\n",
       "      (token_type_embeddings): Embedding(2, 512)\n",
       "      (embedding_transformation): Linear(in_features=384, out_features=512, bias=True)\n",
       "      (LayerNorm): NoNorm()\n",
       "      (dropout): Dropout(p=0.0, inplace=False)\n",
       "    )\n",
       "    (encoder): MobileBertEncoder(\n",
       "      (layer): ModuleList(\n",
       "        (0-23): 24 x MobileBertLayer(\n",
       "          (attention): MobileBertAttention(\n",
       "            (self): MobileBertSelfAttention(\n",
       "              (query): Linear(in_features=128, out_features=128, bias=True)\n",
       "              (key): Linear(in_features=128, out_features=128, bias=True)\n",
       "              (value): Linear(in_features=512, out_features=128, bias=True)\n",
       "              (dropout): Dropout(p=0.1, inplace=False)\n",
       "            )\n",
       "            (output): MobileBertSelfOutput(\n",
       "              (dense): Linear(in_features=128, out_features=128, bias=True)\n",
       "              (LayerNorm): NoNorm()\n",
       "            )\n",
       "          )\n",
       "          (intermediate): MobileBertIntermediate(\n",
       "            (dense): Linear(in_features=128, out_features=512, bias=True)\n",
       "            (intermediate_act_fn): ReLU()\n",
       "          )\n",
       "          (output): MobileBertOutput(\n",
       "            (dense): Linear(in_features=512, out_features=128, bias=True)\n",
       "            (LayerNorm): NoNorm()\n",
       "            (bottleneck): OutputBottleneck(\n",
       "              (dense): Linear(in_features=128, out_features=512, bias=True)\n",
       "              (LayerNorm): NoNorm()\n",
       "              (dropout): Dropout(p=0.0, inplace=False)\n",
       "            )\n",
       "          )\n",
       "          (bottleneck): Bottleneck(\n",
       "            (input): BottleneckLayer(\n",
       "              (dense): Linear(in_features=512, out_features=128, bias=True)\n",
       "              (LayerNorm): NoNorm()\n",
       "            )\n",
       "            (attention): BottleneckLayer(\n",
       "              (dense): Linear(in_features=512, out_features=128, bias=True)\n",
       "              (LayerNorm): NoNorm()\n",
       "            )\n",
       "          )\n",
       "          (ffn): ModuleList(\n",
       "            (0-2): 3 x FFNLayer(\n",
       "              (intermediate): MobileBertIntermediate(\n",
       "                (dense): Linear(in_features=128, out_features=512, bias=True)\n",
       "                (intermediate_act_fn): ReLU()\n",
       "              )\n",
       "              (output): FFNOutput(\n",
       "                (dense): Linear(in_features=512, out_features=128, bias=True)\n",
       "                (LayerNorm): NoNorm()\n",
       "              )\n",
       "            )\n",
       "          )\n",
       "        )\n",
       "      )\n",
       "    )\n",
       "    (pooler): MobileBertPooler()\n",
       "  )\n",
       "  (dropout): Dropout(p=0.0, inplace=False)\n",
       "  (classifier): Linear(in_features=512, out_features=30, bias=True)\n",
       ")"
      ]
     },
     "execution_count": 14,
     "metadata": {},
     "output_type": "execute_result"
    }
   ],
   "source": [
    "device = torch.device('cuda' if torch.cuda.is_available() else 'cpu')\n",
    "model.to(device)\n"
   ]
  },
  {
   "cell_type": "markdown",
   "id": "bc0664da",
   "metadata": {
    "papermill": {
     "duration": 0.011683,
     "end_time": "2023-06-21T09:04:35.310702",
     "exception": false,
     "start_time": "2023-06-21T09:04:35.299019",
     "status": "completed"
    },
    "tags": []
   },
   "source": [
    "<div style=\"background-color:#F0E3D2; color:#19180F; font-size:15px; font-family:Verdana; padding:10px; border: 2px solid #19180F; border-radius:10px\"> \n",
    "📌\n",
    "    Defining the optimizer and loss function </div>"
   ]
  },
  {
   "cell_type": "code",
   "execution_count": 15,
   "id": "195d3dbb",
   "metadata": {
    "execution": {
     "iopub.execute_input": "2023-06-21T09:04:35.336272Z",
     "iopub.status.busy": "2023-06-21T09:04:35.335921Z",
     "iopub.status.idle": "2023-06-21T09:04:35.347006Z",
     "shell.execute_reply": "2023-06-21T09:04:35.346139Z"
    },
    "papermill": {
     "duration": 0.02615,
     "end_time": "2023-06-21T09:04:35.349028",
     "exception": false,
     "start_time": "2023-06-21T09:04:35.322878",
     "status": "completed"
    },
    "tags": []
   },
   "outputs": [],
   "source": [
    "optimizer = torch.optim.AdamW(model.parameters(), lr=2e-5)\n",
    "loss_fn = torch.nn.MSELoss()\n"
   ]
  },
  {
   "cell_type": "markdown",
   "id": "aa07f6f4",
   "metadata": {
    "papermill": {
     "duration": 0.011474,
     "end_time": "2023-06-21T09:04:35.372275",
     "exception": false,
     "start_time": "2023-06-21T09:04:35.360801",
     "status": "completed"
    },
    "tags": []
   },
   "source": [
    "<div style=\"background-color:#F0E3D2; color:#19180F; font-size:15px; font-family:Verdana; padding:10px; border: 2px solid #19180F; border-radius:10px\"> \n",
    "📌\n",
    "    Performing sanity check of the train dataloader </div>"
   ]
  },
  {
   "cell_type": "code",
   "execution_count": 16,
   "id": "84314d4b",
   "metadata": {
    "_kg_hide-output": true,
    "execution": {
     "iopub.execute_input": "2023-06-21T09:04:35.397878Z",
     "iopub.status.busy": "2023-06-21T09:04:35.396771Z",
     "iopub.status.idle": "2023-06-21T09:04:35.547763Z",
     "shell.execute_reply": "2023-06-21T09:04:35.546199Z"
    },
    "papermill": {
     "duration": 0.166061,
     "end_time": "2023-06-21T09:04:35.550085",
     "exception": false,
     "start_time": "2023-06-21T09:04:35.384024",
     "status": "completed"
    },
    "tags": []
   },
   "outputs": [
    {
     "name": "stdout",
     "output_type": "stream",
     "text": [
      "{'input_ids': tensor([[  101,  4022, 25718,  ...,     0,     0,     0],\n",
      "        [  101,  2129,  2000,  ...,  2069,  2004,   102],\n",
      "        [  101,  2073,  2001,  ...,     0,     0,     0],\n",
      "        ...,\n",
      "        [  101, 25081,  2104,  ...,     0,     0,     0],\n",
      "        [  101,  2339,  2515,  ...,     0,     0,     0],\n",
      "        [  101,  3443,  9398,  ...,     0,     0,     0]]), 'attention_mask': tensor([[1, 1, 1,  ..., 0, 0, 0],\n",
      "        [1, 1, 1,  ..., 1, 1, 1],\n",
      "        [1, 1, 1,  ..., 0, 0, 0],\n",
      "        ...,\n",
      "        [1, 1, 1,  ..., 0, 0, 0],\n",
      "        [1, 1, 1,  ..., 0, 0, 0],\n",
      "        [1, 1, 1,  ..., 0, 0, 0]]), 'labels': tensor([[1.0000, 0.3333, 0.3333, 1.0000, 1.0000, 0.5000, 0.5556, 0.4444, 0.0000,\n",
      "         0.0000, 1.0000, 1.0000, 0.0000, 0.0000, 0.0000, 0.0000, 0.0000, 0.0000,\n",
      "         1.0000, 0.0000, 0.6667, 0.8889, 0.6667, 0.8889, 1.0000, 0.9333, 0.0000,\n",
      "         0.0000, 1.0000, 0.7778],\n",
      "        [1.0000, 1.0000, 0.0000, 0.3333, 1.0000, 1.0000, 0.6667, 0.7778, 0.0000,\n",
      "         0.0000, 0.0000, 0.0000, 0.0000, 0.0000, 0.0000, 0.0000, 1.0000, 0.0000,\n",
      "         0.0000, 0.0000, 0.6667, 1.0000, 0.8889, 1.0000, 1.0000, 1.0000, 1.0000,\n",
      "         0.0000, 0.0000, 0.8889],\n",
      "        [1.0000, 1.0000, 0.0000, 1.0000, 0.6667, 1.0000, 0.7778, 0.6667, 0.0000,\n",
      "         0.0000, 0.3333, 0.0000, 0.0000, 0.0000, 0.0000, 1.0000, 0.0000, 0.0000,\n",
      "         0.0000, 0.0000, 0.8889, 1.0000, 0.6667, 1.0000, 1.0000, 1.0000, 0.0000,\n",
      "         0.0000, 0.0000, 1.0000],\n",
      "        [0.7778, 0.3333, 0.0000, 0.5000, 1.0000, 1.0000, 0.5556, 0.5556, 0.6667,\n",
      "         0.0000, 0.0000, 0.0000, 0.0000, 0.3333, 0.0000, 0.0000, 0.6667, 0.3333,\n",
      "         1.0000, 0.0000, 0.7778, 1.0000, 0.6667, 1.0000, 1.0000, 0.9333, 0.6667,\n",
      "         0.3333, 0.6667, 0.8889],\n",
      "        [0.6667, 0.3333, 0.5000, 0.5000, 1.0000, 1.0000, 0.6667, 0.6667, 0.5000,\n",
      "         0.0000, 0.0000, 0.5000, 0.0000, 0.0000, 0.5000, 0.0000, 0.0000, 0.0000,\n",
      "         1.0000, 0.0000, 0.8333, 0.8333, 0.6667, 0.6667, 1.0000, 0.9000, 0.0000,\n",
      "         0.0000, 1.0000, 1.0000],\n",
      "        [1.0000, 0.6667, 0.0000, 0.3333, 1.0000, 0.6667, 0.7778, 0.7778, 0.0000,\n",
      "         0.0000, 0.3333, 1.0000, 0.0000, 0.0000, 0.0000, 0.0000, 0.0000, 0.0000,\n",
      "         1.0000, 0.0000, 1.0000, 1.0000, 0.7778, 1.0000, 1.0000, 0.8667, 0.3333,\n",
      "         0.3333, 1.0000, 0.8889],\n",
      "        [1.0000, 1.0000, 0.0000, 1.0000, 1.0000, 1.0000, 0.6667, 0.6667, 0.0000,\n",
      "         0.0000, 0.0000, 0.0000, 0.0000, 0.0000, 0.0000, 0.0000, 0.0000, 0.0000,\n",
      "         1.0000, 0.0000, 1.0000, 1.0000, 0.6667, 1.0000, 1.0000, 0.8000, 0.0000,\n",
      "         0.0000, 1.0000, 1.0000],\n",
      "        [1.0000, 0.4444, 0.0000, 0.6667, 0.3333, 0.6667, 0.5556, 0.4444, 0.0000,\n",
      "         0.0000, 1.0000, 0.0000, 0.0000, 0.0000, 0.0000, 0.0000, 1.0000, 0.3333,\n",
      "         0.0000, 0.0000, 0.5556, 0.8889, 0.6667, 1.0000, 1.0000, 0.9333, 1.0000,\n",
      "         0.3333, 0.0000, 1.0000]], dtype=torch.float64)}\n"
     ]
    }
   ],
   "source": [
    "for batch in train_dataloader:\n",
    "    print(batch)\n",
    "    break"
   ]
  },
  {
   "cell_type": "markdown",
   "id": "41476f4e",
   "metadata": {
    "papermill": {
     "duration": 0.011687,
     "end_time": "2023-06-21T09:04:35.573867",
     "exception": false,
     "start_time": "2023-06-21T09:04:35.562180",
     "status": "completed"
    },
    "tags": []
   },
   "source": [
    "<div style=\"background-color:#F0E3D2; color:#19180F; font-size:15px; font-family:Verdana; padding:10px; border: 2px solid #19180F; border-radius:10px\"> \n",
    "📌\n",
    "    Checking the number of steps per epoch </div>"
   ]
  },
  {
   "cell_type": "code",
   "execution_count": 17,
   "id": "e4822d35",
   "metadata": {
    "execution": {
     "iopub.execute_input": "2023-06-21T09:04:35.599322Z",
     "iopub.status.busy": "2023-06-21T09:04:35.598963Z",
     "iopub.status.idle": "2023-06-21T09:04:35.604875Z",
     "shell.execute_reply": "2023-06-21T09:04:35.604011Z"
    },
    "papermill": {
     "duration": 0.02114,
     "end_time": "2023-06-21T09:04:35.606786",
     "exception": false,
     "start_time": "2023-06-21T09:04:35.585646",
     "status": "completed"
    },
    "tags": []
   },
   "outputs": [
    {
     "data": {
      "text/plain": [
       "(608, 152)"
      ]
     },
     "execution_count": 17,
     "metadata": {},
     "output_type": "execute_result"
    }
   ],
   "source": [
    "len(train_dataloader),len(val_dataloader)"
   ]
  },
  {
   "cell_type": "markdown",
   "id": "65bb7807",
   "metadata": {
    "papermill": {
     "duration": 0.011935,
     "end_time": "2023-06-21T09:04:35.630656",
     "exception": false,
     "start_time": "2023-06-21T09:04:35.618721",
     "status": "completed"
    },
    "tags": []
   },
   "source": [
    "<div style=\"background-color:#F0E3D2; color:#19180F; font-size:15px; font-family:Verdana; padding:10px; border: 2px solid #19180F; border-radius:10px\"> \n",
    "📌\n",
    "    Training the model </div>"
   ]
  },
  {
   "cell_type": "code",
   "execution_count": 18,
   "id": "fbf72082",
   "metadata": {
    "execution": {
     "iopub.execute_input": "2023-06-21T09:04:35.657494Z",
     "iopub.status.busy": "2023-06-21T09:04:35.656580Z",
     "iopub.status.idle": "2023-06-21T09:45:14.409915Z",
     "shell.execute_reply": "2023-06-21T09:45:14.408956Z"
    },
    "papermill": {
     "duration": 2439.260073,
     "end_time": "2023-06-21T09:45:14.903459",
     "exception": false,
     "start_time": "2023-06-21T09:04:35.643386",
     "status": "completed"
    },
    "tags": []
   },
   "outputs": [
    {
     "name": "stderr",
     "output_type": "stream",
     "text": [
      "1it [00:02,  2.10s/it]"
     ]
    },
    {
     "name": "stdout",
     "output_type": "stream",
     "text": [
      "Step-0,Loss-3362094.459560185\n"
     ]
    },
    {
     "name": "stderr",
     "output_type": "stream",
     "text": [
      "101it [00:39,  2.68it/s]"
     ]
    },
    {
     "name": "stdout",
     "output_type": "stream",
     "text": [
      "Step-100,Loss-33.69345577404807\n"
     ]
    },
    {
     "name": "stderr",
     "output_type": "stream",
     "text": [
      "201it [01:15,  2.65it/s]"
     ]
    },
    {
     "name": "stdout",
     "output_type": "stream",
     "text": [
      "Step-200,Loss-10.6375881678224\n"
     ]
    },
    {
     "name": "stderr",
     "output_type": "stream",
     "text": [
      "301it [01:52,  2.88it/s]"
     ]
    },
    {
     "name": "stdout",
     "output_type": "stream",
     "text": [
      "Step-300,Loss-1.2305660220229044\n"
     ]
    },
    {
     "name": "stderr",
     "output_type": "stream",
     "text": [
      "401it [02:28,  2.58it/s]"
     ]
    },
    {
     "name": "stdout",
     "output_type": "stream",
     "text": [
      "Step-400,Loss-1.0069733729923394\n"
     ]
    },
    {
     "name": "stderr",
     "output_type": "stream",
     "text": [
      "501it [03:04,  2.88it/s]"
     ]
    },
    {
     "name": "stdout",
     "output_type": "stream",
     "text": [
      "Step-500,Loss-0.9065624776635216\n"
     ]
    },
    {
     "name": "stderr",
     "output_type": "stream",
     "text": [
      "601it [03:40,  2.85it/s]"
     ]
    },
    {
     "name": "stdout",
     "output_type": "stream",
     "text": [
      "Step-600,Loss-0.8241211687956281\n"
     ]
    },
    {
     "name": "stderr",
     "output_type": "stream",
     "text": [
      "608it [03:42,  2.73it/s]\n"
     ]
    },
    {
     "name": "stdout",
     "output_type": "stream",
     "text": [
      "Epoch 1/10, Loss: 52053.872138154715\n",
      "Validation Loss: 14.772195683964203\n"
     ]
    },
    {
     "name": "stderr",
     "output_type": "stream",
     "text": [
      "1it [00:00,  2.76it/s]"
     ]
    },
    {
     "name": "stdout",
     "output_type": "stream",
     "text": [
      "Step-0,Loss-0.7834524495636664\n"
     ]
    },
    {
     "name": "stderr",
     "output_type": "stream",
     "text": [
      "101it [00:36,  2.67it/s]"
     ]
    },
    {
     "name": "stdout",
     "output_type": "stream",
     "text": [
      "Step-100,Loss-0.6742921656133882\n"
     ]
    },
    {
     "name": "stderr",
     "output_type": "stream",
     "text": [
      "201it [01:13,  2.89it/s]"
     ]
    },
    {
     "name": "stdout",
     "output_type": "stream",
     "text": [
      "Step-200,Loss-33.93309425273458\n"
     ]
    },
    {
     "name": "stderr",
     "output_type": "stream",
     "text": [
      "301it [01:49,  2.84it/s]"
     ]
    },
    {
     "name": "stdout",
     "output_type": "stream",
     "text": [
      "Step-300,Loss-38.46864387704322\n"
     ]
    },
    {
     "name": "stderr",
     "output_type": "stream",
     "text": [
      "401it [02:25,  2.90it/s]"
     ]
    },
    {
     "name": "stdout",
     "output_type": "stream",
     "text": [
      "Step-400,Loss-0.5041369775501167\n"
     ]
    },
    {
     "name": "stderr",
     "output_type": "stream",
     "text": [
      "501it [03:01,  2.80it/s]"
     ]
    },
    {
     "name": "stdout",
     "output_type": "stream",
     "text": [
      "Step-500,Loss-0.48797769028158794\n"
     ]
    },
    {
     "name": "stderr",
     "output_type": "stream",
     "text": [
      "601it [03:37,  2.79it/s]"
     ]
    },
    {
     "name": "stdout",
     "output_type": "stream",
     "text": [
      "Step-600,Loss-0.5165363903044016\n"
     ]
    },
    {
     "name": "stderr",
     "output_type": "stream",
     "text": [
      "608it [03:40,  2.76it/s]\n"
     ]
    },
    {
     "name": "stdout",
     "output_type": "stream",
     "text": [
      "Epoch 2/10, Loss: 5.907780614466032\n",
      "Validation Loss: 4.2154875681639705\n"
     ]
    },
    {
     "name": "stderr",
     "output_type": "stream",
     "text": [
      "1it [00:00,  2.99it/s]"
     ]
    },
    {
     "name": "stdout",
     "output_type": "stream",
     "text": [
      "Step-0,Loss-0.43461215079011806\n"
     ]
    },
    {
     "name": "stderr",
     "output_type": "stream",
     "text": [
      "101it [00:37,  2.79it/s]"
     ]
    },
    {
     "name": "stdout",
     "output_type": "stream",
     "text": [
      "Step-100,Loss-0.49319845217293024\n"
     ]
    },
    {
     "name": "stderr",
     "output_type": "stream",
     "text": [
      "201it [01:13,  2.89it/s]"
     ]
    },
    {
     "name": "stdout",
     "output_type": "stream",
     "text": [
      "Step-200,Loss-0.4589844835774015\n"
     ]
    },
    {
     "name": "stderr",
     "output_type": "stream",
     "text": [
      "301it [01:49,  2.68it/s]"
     ]
    },
    {
     "name": "stdout",
     "output_type": "stream",
     "text": [
      "Step-300,Loss-0.4735536767227394\n"
     ]
    },
    {
     "name": "stderr",
     "output_type": "stream",
     "text": [
      "401it [02:25,  2.89it/s]"
     ]
    },
    {
     "name": "stdout",
     "output_type": "stream",
     "text": [
      "Step-400,Loss-0.4434456498687871\n"
     ]
    },
    {
     "name": "stderr",
     "output_type": "stream",
     "text": [
      "501it [03:01,  2.81it/s]"
     ]
    },
    {
     "name": "stdout",
     "output_type": "stream",
     "text": [
      "Step-500,Loss-0.4089080541278128\n"
     ]
    },
    {
     "name": "stderr",
     "output_type": "stream",
     "text": [
      "601it [03:37,  2.92it/s]"
     ]
    },
    {
     "name": "stdout",
     "output_type": "stream",
     "text": [
      "Step-600,Loss-0.5023948646266244\n"
     ]
    },
    {
     "name": "stderr",
     "output_type": "stream",
     "text": [
      "608it [03:39,  2.77it/s]\n"
     ]
    },
    {
     "name": "stdout",
     "output_type": "stream",
     "text": [
      "Epoch 3/10, Loss: 1.2747685995208258\n",
      "Validation Loss: 2.09589028090342\n"
     ]
    },
    {
     "name": "stderr",
     "output_type": "stream",
     "text": [
      "1it [00:00,  2.50it/s]"
     ]
    },
    {
     "name": "stdout",
     "output_type": "stream",
     "text": [
      "Step-0,Loss-0.43084080960983157\n"
     ]
    },
    {
     "name": "stderr",
     "output_type": "stream",
     "text": [
      "101it [00:37,  2.94it/s]"
     ]
    },
    {
     "name": "stdout",
     "output_type": "stream",
     "text": [
      "Step-100,Loss-0.4802970802455335\n"
     ]
    },
    {
     "name": "stderr",
     "output_type": "stream",
     "text": [
      "201it [01:13,  2.56it/s]"
     ]
    },
    {
     "name": "stdout",
     "output_type": "stream",
     "text": [
      "Step-200,Loss-0.44331933026043574\n"
     ]
    },
    {
     "name": "stderr",
     "output_type": "stream",
     "text": [
      "301it [01:49,  2.83it/s]"
     ]
    },
    {
     "name": "stdout",
     "output_type": "stream",
     "text": [
      "Step-300,Loss-48.96481824416302\n"
     ]
    },
    {
     "name": "stderr",
     "output_type": "stream",
     "text": [
      "401it [02:24,  2.77it/s]"
     ]
    },
    {
     "name": "stdout",
     "output_type": "stream",
     "text": [
      "Step-400,Loss-0.5221288621841341\n"
     ]
    },
    {
     "name": "stderr",
     "output_type": "stream",
     "text": [
      "501it [03:00,  2.83it/s]"
     ]
    },
    {
     "name": "stdout",
     "output_type": "stream",
     "text": [
      "Step-500,Loss-0.4691737446780543\n"
     ]
    },
    {
     "name": "stderr",
     "output_type": "stream",
     "text": [
      "601it [03:36,  2.83it/s]"
     ]
    },
    {
     "name": "stdout",
     "output_type": "stream",
     "text": [
      "Step-600,Loss-0.4535426800105833\n"
     ]
    },
    {
     "name": "stderr",
     "output_type": "stream",
     "text": [
      "608it [03:38,  2.78it/s]\n"
     ]
    },
    {
     "name": "stdout",
     "output_type": "stream",
     "text": [
      "Epoch 4/10, Loss: 1.0445517306559962\n",
      "Validation Loss: 1.026870458059057\n"
     ]
    },
    {
     "name": "stderr",
     "output_type": "stream",
     "text": [
      "1it [00:00,  3.13it/s]"
     ]
    },
    {
     "name": "stdout",
     "output_type": "stream",
     "text": [
      "Step-0,Loss-0.4483680996690129\n"
     ]
    },
    {
     "name": "stderr",
     "output_type": "stream",
     "text": [
      "101it [00:36,  2.83it/s]"
     ]
    },
    {
     "name": "stdout",
     "output_type": "stream",
     "text": [
      "Step-100,Loss-0.4885737335621363\n"
     ]
    },
    {
     "name": "stderr",
     "output_type": "stream",
     "text": [
      "201it [01:12,  2.73it/s]"
     ]
    },
    {
     "name": "stdout",
     "output_type": "stream",
     "text": [
      "Step-200,Loss-0.3708848577814044\n"
     ]
    },
    {
     "name": "stderr",
     "output_type": "stream",
     "text": [
      "301it [01:48,  2.89it/s]"
     ]
    },
    {
     "name": "stdout",
     "output_type": "stream",
     "text": [
      "Step-300,Loss-0.4542896023016194\n"
     ]
    },
    {
     "name": "stderr",
     "output_type": "stream",
     "text": [
      "401it [02:23,  2.70it/s]"
     ]
    },
    {
     "name": "stdout",
     "output_type": "stream",
     "text": [
      "Step-400,Loss-0.42589449719553596\n"
     ]
    },
    {
     "name": "stderr",
     "output_type": "stream",
     "text": [
      "501it [02:59,  2.69it/s]"
     ]
    },
    {
     "name": "stdout",
     "output_type": "stream",
     "text": [
      "Step-500,Loss-0.5182454722502263\n"
     ]
    },
    {
     "name": "stderr",
     "output_type": "stream",
     "text": [
      "601it [03:35,  2.74it/s]"
     ]
    },
    {
     "name": "stdout",
     "output_type": "stream",
     "text": [
      "Step-600,Loss-0.4324467881589522\n"
     ]
    },
    {
     "name": "stderr",
     "output_type": "stream",
     "text": [
      "608it [03:37,  2.79it/s]\n"
     ]
    },
    {
     "name": "stdout",
     "output_type": "stream",
     "text": [
      "Epoch 5/10, Loss: 0.9364368036487968\n",
      "Validation Loss: 0.47103088399383697\n"
     ]
    },
    {
     "name": "stderr",
     "output_type": "stream",
     "text": [
      "1it [00:00,  2.99it/s]"
     ]
    },
    {
     "name": "stdout",
     "output_type": "stream",
     "text": [
      "Step-0,Loss-0.418630412313916\n"
     ]
    },
    {
     "name": "stderr",
     "output_type": "stream",
     "text": [
      "101it [00:36,  2.86it/s]"
     ]
    },
    {
     "name": "stdout",
     "output_type": "stream",
     "text": [
      "Step-100,Loss-0.4408616268173082\n"
     ]
    },
    {
     "name": "stderr",
     "output_type": "stream",
     "text": [
      "201it [01:12,  2.80it/s]"
     ]
    },
    {
     "name": "stdout",
     "output_type": "stream",
     "text": [
      "Step-200,Loss-0.40901848865556534\n"
     ]
    },
    {
     "name": "stderr",
     "output_type": "stream",
     "text": [
      "301it [01:47,  2.91it/s]"
     ]
    },
    {
     "name": "stdout",
     "output_type": "stream",
     "text": [
      "Step-300,Loss-0.42695256222145905\n"
     ]
    },
    {
     "name": "stderr",
     "output_type": "stream",
     "text": [
      "401it [02:23,  2.74it/s]"
     ]
    },
    {
     "name": "stdout",
     "output_type": "stream",
     "text": [
      "Step-400,Loss-0.4427453169995638\n"
     ]
    },
    {
     "name": "stderr",
     "output_type": "stream",
     "text": [
      "501it [02:59,  2.70it/s]"
     ]
    },
    {
     "name": "stdout",
     "output_type": "stream",
     "text": [
      "Step-500,Loss-0.4190250631672151\n"
     ]
    },
    {
     "name": "stderr",
     "output_type": "stream",
     "text": [
      "601it [03:35,  2.80it/s]"
     ]
    },
    {
     "name": "stdout",
     "output_type": "stream",
     "text": [
      "Step-600,Loss-0.4379872174187417\n"
     ]
    },
    {
     "name": "stderr",
     "output_type": "stream",
     "text": [
      "608it [03:38,  2.78it/s]\n"
     ]
    },
    {
     "name": "stdout",
     "output_type": "stream",
     "text": [
      "Epoch 6/10, Loss: 21.46493694555579\n",
      "Validation Loss: 0.4351223749020878\n"
     ]
    },
    {
     "name": "stderr",
     "output_type": "stream",
     "text": [
      "1it [00:00,  2.44it/s]"
     ]
    },
    {
     "name": "stdout",
     "output_type": "stream",
     "text": [
      "Step-0,Loss-0.38628833508812427\n"
     ]
    },
    {
     "name": "stderr",
     "output_type": "stream",
     "text": [
      "101it [00:36,  2.68it/s]"
     ]
    },
    {
     "name": "stdout",
     "output_type": "stream",
     "text": [
      "Step-100,Loss-0.4470720883850501\n"
     ]
    },
    {
     "name": "stderr",
     "output_type": "stream",
     "text": [
      "201it [01:12,  2.77it/s]"
     ]
    },
    {
     "name": "stdout",
     "output_type": "stream",
     "text": [
      "Step-200,Loss-0.3794273826994845\n"
     ]
    },
    {
     "name": "stderr",
     "output_type": "stream",
     "text": [
      "301it [01:48,  2.63it/s]"
     ]
    },
    {
     "name": "stdout",
     "output_type": "stream",
     "text": [
      "Step-300,Loss-0.437924356507353\n"
     ]
    },
    {
     "name": "stderr",
     "output_type": "stream",
     "text": [
      "401it [02:24,  2.85it/s]"
     ]
    },
    {
     "name": "stdout",
     "output_type": "stream",
     "text": [
      "Step-400,Loss-0.4350894724696565\n"
     ]
    },
    {
     "name": "stderr",
     "output_type": "stream",
     "text": [
      "501it [02:59,  2.92it/s]"
     ]
    },
    {
     "name": "stdout",
     "output_type": "stream",
     "text": [
      "Step-500,Loss-0.4337772678026603\n"
     ]
    },
    {
     "name": "stderr",
     "output_type": "stream",
     "text": [
      "601it [03:35,  2.89it/s]"
     ]
    },
    {
     "name": "stdout",
     "output_type": "stream",
     "text": [
      "Step-600,Loss-0.4693892160402115\n"
     ]
    },
    {
     "name": "stderr",
     "output_type": "stream",
     "text": [
      "608it [03:38,  2.79it/s]\n"
     ]
    },
    {
     "name": "stdout",
     "output_type": "stream",
     "text": [
      "Epoch 7/10, Loss: 0.43479231313601735\n",
      "Validation Loss: 0.4323853396829636\n"
     ]
    },
    {
     "name": "stderr",
     "output_type": "stream",
     "text": [
      "1it [00:00,  2.75it/s]"
     ]
    },
    {
     "name": "stdout",
     "output_type": "stream",
     "text": [
      "Step-0,Loss-0.49269236865638844\n"
     ]
    },
    {
     "name": "stderr",
     "output_type": "stream",
     "text": [
      "101it [00:36,  2.66it/s]"
     ]
    },
    {
     "name": "stdout",
     "output_type": "stream",
     "text": [
      "Step-100,Loss-0.45976743797821684\n"
     ]
    },
    {
     "name": "stderr",
     "output_type": "stream",
     "text": [
      "201it [01:12,  2.76it/s]"
     ]
    },
    {
     "name": "stdout",
     "output_type": "stream",
     "text": [
      "Step-200,Loss-0.4505307964188924\n"
     ]
    },
    {
     "name": "stderr",
     "output_type": "stream",
     "text": [
      "301it [01:48,  2.60it/s]"
     ]
    },
    {
     "name": "stdout",
     "output_type": "stream",
     "text": [
      "Step-300,Loss-0.43359371420184595\n"
     ]
    },
    {
     "name": "stderr",
     "output_type": "stream",
     "text": [
      "401it [02:24,  2.70it/s]"
     ]
    },
    {
     "name": "stdout",
     "output_type": "stream",
     "text": [
      "Step-400,Loss-0.44605686085311486\n"
     ]
    },
    {
     "name": "stderr",
     "output_type": "stream",
     "text": [
      "501it [03:00,  2.87it/s]"
     ]
    },
    {
     "name": "stdout",
     "output_type": "stream",
     "text": [
      "Step-500,Loss-0.41166189391264596\n"
     ]
    },
    {
     "name": "stderr",
     "output_type": "stream",
     "text": [
      "601it [03:35,  2.92it/s]"
     ]
    },
    {
     "name": "stdout",
     "output_type": "stream",
     "text": [
      "Step-600,Loss-0.44749812103155256\n"
     ]
    },
    {
     "name": "stderr",
     "output_type": "stream",
     "text": [
      "608it [03:38,  2.79it/s]\n"
     ]
    },
    {
     "name": "stdout",
     "output_type": "stream",
     "text": [
      "Epoch 8/10, Loss: 0.4323503954117528\n",
      "Validation Loss: 0.42990914045962114\n"
     ]
    },
    {
     "name": "stderr",
     "output_type": "stream",
     "text": [
      "1it [00:00,  2.85it/s]"
     ]
    },
    {
     "name": "stdout",
     "output_type": "stream",
     "text": [
      "Step-0,Loss-0.44905088823653394\n"
     ]
    },
    {
     "name": "stderr",
     "output_type": "stream",
     "text": [
      "101it [00:36,  2.75it/s]"
     ]
    },
    {
     "name": "stdout",
     "output_type": "stream",
     "text": [
      "Step-100,Loss-0.4379208134685164\n"
     ]
    },
    {
     "name": "stderr",
     "output_type": "stream",
     "text": [
      "201it [01:12,  2.77it/s]"
     ]
    },
    {
     "name": "stdout",
     "output_type": "stream",
     "text": [
      "Step-200,Loss-0.48754241616981203\n"
     ]
    },
    {
     "name": "stderr",
     "output_type": "stream",
     "text": [
      "301it [01:48,  2.91it/s]"
     ]
    },
    {
     "name": "stdout",
     "output_type": "stream",
     "text": [
      "Step-300,Loss-0.38388012163358154\n"
     ]
    },
    {
     "name": "stderr",
     "output_type": "stream",
     "text": [
      "401it [02:24,  2.75it/s]"
     ]
    },
    {
     "name": "stdout",
     "output_type": "stream",
     "text": [
      "Step-400,Loss-0.445685659892554\n"
     ]
    },
    {
     "name": "stderr",
     "output_type": "stream",
     "text": [
      "501it [02:59,  2.92it/s]"
     ]
    },
    {
     "name": "stdout",
     "output_type": "stream",
     "text": [
      "Step-500,Loss-0.46837148167220355\n"
     ]
    },
    {
     "name": "stderr",
     "output_type": "stream",
     "text": [
      "601it [03:35,  2.78it/s]"
     ]
    },
    {
     "name": "stdout",
     "output_type": "stream",
     "text": [
      "Step-600,Loss-0.4904954288169837\n"
     ]
    },
    {
     "name": "stderr",
     "output_type": "stream",
     "text": [
      "608it [03:38,  2.79it/s]\n"
     ]
    },
    {
     "name": "stdout",
     "output_type": "stream",
     "text": [
      "Epoch 9/10, Loss: 0.42986050238204143\n",
      "Validation Loss: 0.4284029771516826\n"
     ]
    },
    {
     "name": "stderr",
     "output_type": "stream",
     "text": [
      "1it [00:00,  2.68it/s]"
     ]
    },
    {
     "name": "stdout",
     "output_type": "stream",
     "text": [
      "Step-0,Loss-0.40917511497294556\n"
     ]
    },
    {
     "name": "stderr",
     "output_type": "stream",
     "text": [
      "101it [00:37,  2.40it/s]"
     ]
    },
    {
     "name": "stdout",
     "output_type": "stream",
     "text": [
      "Step-100,Loss-0.4391302320089919\n"
     ]
    },
    {
     "name": "stderr",
     "output_type": "stream",
     "text": [
      "201it [01:12,  2.77it/s]"
     ]
    },
    {
     "name": "stdout",
     "output_type": "stream",
     "text": [
      "Step-200,Loss-0.42295106309604275\n"
     ]
    },
    {
     "name": "stderr",
     "output_type": "stream",
     "text": [
      "301it [01:48,  2.82it/s]"
     ]
    },
    {
     "name": "stdout",
     "output_type": "stream",
     "text": [
      "Step-300,Loss-0.42651041349393226\n"
     ]
    },
    {
     "name": "stderr",
     "output_type": "stream",
     "text": [
      "401it [02:24,  2.90it/s]"
     ]
    },
    {
     "name": "stdout",
     "output_type": "stream",
     "text": [
      "Step-400,Loss-0.3887273885400574\n"
     ]
    },
    {
     "name": "stderr",
     "output_type": "stream",
     "text": [
      "501it [03:00,  2.80it/s]"
     ]
    },
    {
     "name": "stdout",
     "output_type": "stream",
     "text": [
      "Step-500,Loss-0.3682196360182112\n"
     ]
    },
    {
     "name": "stderr",
     "output_type": "stream",
     "text": [
      "601it [03:37,  2.85it/s]"
     ]
    },
    {
     "name": "stdout",
     "output_type": "stream",
     "text": [
      "Step-600,Loss-0.4669545429459972\n"
     ]
    },
    {
     "name": "stderr",
     "output_type": "stream",
     "text": [
      "608it [03:39,  2.77it/s]\n"
     ]
    },
    {
     "name": "stdout",
     "output_type": "stream",
     "text": [
      "Epoch 10/10, Loss: 0.42835722713717916\n",
      "Validation Loss: 0.4271932053128618\n"
     ]
    }
   ],
   "source": [
    "from tqdm import tqdm\n",
    "\n",
    "for epoch in range(num_epochs):\n",
    "    model.train()\n",
    "    total_loss = 0\n",
    "    \n",
    "    for step, batch in tqdm(enumerate(train_dataloader)):\n",
    "        input_ids = batch['input_ids'].to(device)\n",
    "        attention_mask = batch['attention_mask'].to(device)\n",
    "        labels = batch['labels'].to(device)\n",
    "        \n",
    "        optimizer.zero_grad()\n",
    "        \n",
    "        outputs = model(input_ids=input_ids, attention_mask=attention_mask, labels=labels)\n",
    "        loss = outputs.loss\n",
    "        \n",
    "        loss.backward()\n",
    "        optimizer.step()\n",
    "        if step%100==0:\n",
    "            print(\"Step-{},Loss-{}\".format(step,loss.item()))\n",
    "        \n",
    "        total_loss += loss.item()\n",
    "    \n",
    "    avg_loss = total_loss / len(train_dataloader)\n",
    "    print(f'Epoch {epoch+1}/{num_epochs}, Loss: {avg_loss}')\n",
    "    \n",
    "    # Validation\n",
    "    model.eval()\n",
    "    val_loss = 0\n",
    "    \n",
    "    with torch.no_grad():\n",
    "        for batch in val_dataloader:\n",
    "            input_ids = batch['input_ids'].to(device)\n",
    "            attention_mask = batch['attention_mask'].to(device)\n",
    "            labels = batch['labels'].to(device)\n",
    "            \n",
    "            outputs = model(input_ids=input_ids, attention_mask=attention_mask, labels=labels)\n",
    "            loss = outputs.loss\n",
    "            \n",
    "            val_loss += loss.item()\n",
    "    \n",
    "    avg_val_loss = val_loss / len(val_dataloader)\n",
    "    print(f'Validation Loss: {avg_val_loss}')"
   ]
  },
  {
   "cell_type": "markdown",
   "id": "ea4577d4",
   "metadata": {
    "papermill": {
     "duration": 0.531305,
     "end_time": "2023-06-21T09:45:15.909175",
     "exception": false,
     "start_time": "2023-06-21T09:45:15.377870",
     "status": "completed"
    },
    "tags": []
   },
   "source": [
    "<div style=\"background-color:#F0E3D2; color:#19180F; font-size:15px; font-family:Verdana; padding:10px; border: 2px solid #19180F; border-radius:10px\"> \n",
    "📌\n",
    "    Creating train texts </div>"
   ]
  },
  {
   "cell_type": "code",
   "execution_count": 19,
   "id": "c713e2fe",
   "metadata": {
    "execution": {
     "iopub.execute_input": "2023-06-21T09:45:16.846184Z",
     "iopub.status.busy": "2023-06-21T09:45:16.845801Z",
     "iopub.status.idle": "2023-06-21T09:45:16.853177Z",
     "shell.execute_reply": "2023-06-21T09:45:16.852232Z"
    },
    "papermill": {
     "duration": 0.476799,
     "end_time": "2023-06-21T09:45:16.855118",
     "exception": false,
     "start_time": "2023-06-21T09:45:16.378319",
     "status": "completed"
    },
    "tags": []
   },
   "outputs": [],
   "source": [
    "# Combine the question and answer texts for testing\n",
    "test_texts = test_df['question_title'] + ' ' + test_df['question_body'] + ' ' + test_df['answer']"
   ]
  },
  {
   "cell_type": "markdown",
   "id": "bf2cf7e9",
   "metadata": {
    "papermill": {
     "duration": 0.462406,
     "end_time": "2023-06-21T09:45:17.789782",
     "exception": false,
     "start_time": "2023-06-21T09:45:17.327376",
     "status": "completed"
    },
    "tags": []
   },
   "source": [
    "<div style=\"background-color:#F0E3D2; color:#19180F; font-size:15px; font-family:Verdana; padding:10px; border: 2px solid #19180F; border-radius:10px\"> \n",
    "📌\n",
    "    loading the tokenizer </div>"
   ]
  },
  {
   "cell_type": "code",
   "execution_count": 20,
   "id": "67bddba0",
   "metadata": {
    "execution": {
     "iopub.execute_input": "2023-06-21T09:45:18.786882Z",
     "iopub.status.busy": "2023-06-21T09:45:18.786498Z",
     "iopub.status.idle": "2023-06-21T09:45:18.791494Z",
     "shell.execute_reply": "2023-06-21T09:45:18.790499Z"
    },
    "papermill": {
     "duration": 0.484748,
     "end_time": "2023-06-21T09:45:18.793756",
     "exception": false,
     "start_time": "2023-06-21T09:45:18.309008",
     "status": "completed"
    },
    "tags": []
   },
   "outputs": [],
   "source": [
    "test_dataset = QADataset(test_texts.tolist(), tokenizer, mode=\"Test\")\n"
   ]
  },
  {
   "cell_type": "markdown",
   "id": "c701937e",
   "metadata": {
    "papermill": {
     "duration": 0.461148,
     "end_time": "2023-06-21T09:45:19.724152",
     "exception": false,
     "start_time": "2023-06-21T09:45:19.263004",
     "status": "completed"
    },
    "tags": []
   },
   "source": [
    "<div style=\"background-color:#F0E3D2; color:#19180F; font-size:15px; font-family:Verdana; padding:10px; border: 2px solid #19180F; border-radius:10px\"> \n",
    "📌\n",
    "    Defining batch size and dataloader for test set </div>"
   ]
  },
  {
   "cell_type": "code",
   "execution_count": 21,
   "id": "91fa769a",
   "metadata": {
    "execution": {
     "iopub.execute_input": "2023-06-21T09:45:20.699943Z",
     "iopub.status.busy": "2023-06-21T09:45:20.699590Z",
     "iopub.status.idle": "2023-06-21T09:45:20.704186Z",
     "shell.execute_reply": "2023-06-21T09:45:20.703298Z"
    },
    "papermill": {
     "duration": 0.474126,
     "end_time": "2023-06-21T09:45:20.706059",
     "exception": false,
     "start_time": "2023-06-21T09:45:20.231933",
     "status": "completed"
    },
    "tags": []
   },
   "outputs": [],
   "source": [
    "batch_size = 8\n",
    "\n",
    "test_dataloader = DataLoader(test_dataset, batch_size=batch_size)\n"
   ]
  },
  {
   "cell_type": "markdown",
   "id": "ba049731",
   "metadata": {
    "papermill": {
     "duration": 0.45914,
     "end_time": "2023-06-21T09:45:21.678794",
     "exception": false,
     "start_time": "2023-06-21T09:45:21.219654",
     "status": "completed"
    },
    "tags": []
   },
   "source": [
    "<div style=\"background-color:#F0E3D2; color:#19180F; font-size:15px; font-family:Verdana; padding:10px; border: 2px solid #19180F; border-radius:10px\"> \n",
    "📌\n",
    "    Performing sanity check of the dataloader </div>"
   ]
  },
  {
   "cell_type": "code",
   "execution_count": 22,
   "id": "f413953c",
   "metadata": {
    "execution": {
     "iopub.execute_input": "2023-06-21T09:45:22.785605Z",
     "iopub.status.busy": "2023-06-21T09:45:22.785057Z",
     "iopub.status.idle": "2023-06-21T09:45:23.026947Z",
     "shell.execute_reply": "2023-06-21T09:45:23.026108Z"
    },
    "papermill": {
     "duration": 0.889267,
     "end_time": "2023-06-21T09:45:23.029515",
     "exception": false,
     "start_time": "2023-06-21T09:45:22.140248",
     "status": "completed"
    },
    "tags": []
   },
   "outputs": [
    {
     "name": "stdout",
     "output_type": "stream",
     "text": [
      "{'input_ids': tensor([[  101,  2097,  2975,  ...,     0,     0,     0],\n",
      "        [  101, 24471,  2140,  ...,     0,     0,     0],\n",
      "        [  101,  2003, 10640,  ...,     0,     0,     0],\n",
      "        ...,\n",
      "        [  101,  3599,  2129,  ...,     0,     0,     0],\n",
      "        [  101,  9530,  8873,  ...,  2022,  5068,   102],\n",
      "        [  101,  2339,  2360,  ...,     0,     0,     0]]), 'attention_mask': tensor([[1, 1, 1,  ..., 0, 0, 0],\n",
      "        [1, 1, 1,  ..., 0, 0, 0],\n",
      "        [1, 1, 1,  ..., 0, 0, 0],\n",
      "        ...,\n",
      "        [1, 1, 1,  ..., 0, 0, 0],\n",
      "        [1, 1, 1,  ..., 1, 1, 1],\n",
      "        [1, 1, 1,  ..., 0, 0, 0]])}\n"
     ]
    }
   ],
   "source": [
    "for batch in test_dataloader:\n",
    "    print(batch)\n",
    "    break"
   ]
  },
  {
   "cell_type": "markdown",
   "id": "0d94f0e0",
   "metadata": {
    "papermill": {
     "duration": 0.464485,
     "end_time": "2023-06-21T09:45:24.147289",
     "exception": false,
     "start_time": "2023-06-21T09:45:23.682804",
     "status": "completed"
    },
    "tags": []
   },
   "source": [
    "<div style=\"background-color:#F0E3D2; color:#19180F; font-size:15px; font-family:Verdana; padding:10px; border: 2px solid #19180F; border-radius:10px\"> \n",
    "📌\n",
    "    Generating predictions </div>"
   ]
  },
  {
   "cell_type": "code",
   "execution_count": 23,
   "id": "72cb3e23",
   "metadata": {
    "execution": {
     "iopub.execute_input": "2023-06-21T09:45:25.129858Z",
     "iopub.status.busy": "2023-06-21T09:45:25.129515Z",
     "iopub.status.idle": "2023-06-21T09:45:35.192899Z",
     "shell.execute_reply": "2023-06-21T09:45:35.191983Z"
    },
    "papermill": {
     "duration": 10.53267,
     "end_time": "2023-06-21T09:45:35.195490",
     "exception": false,
     "start_time": "2023-06-21T09:45:24.662820",
     "status": "completed"
    },
    "tags": []
   },
   "outputs": [
    {
     "name": "stderr",
     "output_type": "stream",
     "text": [
      "100%|██████████| 60/60 [00:10<00:00,  5.99it/s]\n"
     ]
    }
   ],
   "source": [
    "model.eval()\n",
    "model.to(device)\n",
    "predictions = []\n",
    "\n",
    "with torch.no_grad():\n",
    "    for batch in tqdm(test_dataloader):\n",
    "        input_ids = batch['input_ids'].to(device)\n",
    "        attention_mask = batch['attention_mask'].to(device)\n",
    "        \n",
    "        outputs = model(input_ids=input_ids, attention_mask=attention_mask)\n",
    "        logits = outputs.logits\n",
    "        \n",
    "        # Apply sigmoid activation to convert logits to probabilities\n",
    "        probabilities = torch.sigmoid(logits)\n",
    "        \n",
    "        # Append the probabilities to the predictions list\n",
    "        predictions.append(probabilities.detach().cpu().numpy())\n",
    "    "
   ]
  },
  {
   "cell_type": "markdown",
   "id": "de4992cb",
   "metadata": {
    "papermill": {
     "duration": 0.469268,
     "end_time": "2023-06-21T09:45:36.135467",
     "exception": false,
     "start_time": "2023-06-21T09:45:35.666199",
     "status": "completed"
    },
    "tags": []
   },
   "source": [
    "<div style=\"background-color:#F0E3D2; color:#19180F; font-size:15px; font-family:Verdana; padding:10px; border: 2px solid #19180F; border-radius:10px\"> \n",
    "📌\n",
    "    Generating submission </div>"
   ]
  },
  {
   "cell_type": "code",
   "execution_count": 24,
   "id": "43e43750",
   "metadata": {
    "execution": {
     "iopub.execute_input": "2023-06-21T09:45:37.130083Z",
     "iopub.status.busy": "2023-06-21T09:45:37.129711Z",
     "iopub.status.idle": "2023-06-21T09:45:37.180462Z",
     "shell.execute_reply": "2023-06-21T09:45:37.179545Z"
    },
    "papermill": {
     "duration": 0.524913,
     "end_time": "2023-06-21T09:45:37.182634",
     "exception": false,
     "start_time": "2023-06-21T09:45:36.657721",
     "status": "completed"
    },
    "tags": []
   },
   "outputs": [],
   "source": [
    "# Concatenate the predictions from multiple batches\n",
    "predictions = np.concatenate(predictions)\n",
    "# Create a DataFrame for the submission file\n",
    "submission_df = pd.DataFrame(predictions, columns=train_df.columns[11:])\n",
    "submission_df.insert(0, 'qa_id', test_df['qa_id'])\n",
    "\n",
    "# Save the submission file\n",
    "submission_df.to_csv('submission.csv', index=False, float_format='%.6f')\n"
   ]
  },
  {
   "cell_type": "code",
   "execution_count": 25,
   "id": "1c84c678",
   "metadata": {
    "execution": {
     "iopub.execute_input": "2023-06-21T09:45:38.129514Z",
     "iopub.status.busy": "2023-06-21T09:45:38.129149Z",
     "iopub.status.idle": "2023-06-21T09:45:38.160923Z",
     "shell.execute_reply": "2023-06-21T09:45:38.160115Z"
    },
    "papermill": {
     "duration": 0.510616,
     "end_time": "2023-06-21T09:45:38.162884",
     "exception": false,
     "start_time": "2023-06-21T09:45:37.652268",
     "status": "completed"
    },
    "tags": []
   },
   "outputs": [
    {
     "data": {
      "text/html": [
       "<div>\n",
       "<style scoped>\n",
       "    .dataframe tbody tr th:only-of-type {\n",
       "        vertical-align: middle;\n",
       "    }\n",
       "\n",
       "    .dataframe tbody tr th {\n",
       "        vertical-align: top;\n",
       "    }\n",
       "\n",
       "    .dataframe thead th {\n",
       "        text-align: right;\n",
       "    }\n",
       "</style>\n",
       "<table border=\"1\" class=\"dataframe\">\n",
       "  <thead>\n",
       "    <tr style=\"text-align: right;\">\n",
       "      <th></th>\n",
       "      <th>qa_id</th>\n",
       "      <th>question_asker_intent_understanding</th>\n",
       "      <th>question_body_critical</th>\n",
       "      <th>question_conversational</th>\n",
       "      <th>question_expect_short_answer</th>\n",
       "      <th>question_fact_seeking</th>\n",
       "      <th>question_has_commonly_accepted_answer</th>\n",
       "      <th>question_interestingness_others</th>\n",
       "      <th>question_interestingness_self</th>\n",
       "      <th>question_multi_intent</th>\n",
       "      <th>...</th>\n",
       "      <th>question_well_written</th>\n",
       "      <th>answer_helpful</th>\n",
       "      <th>answer_level_of_information</th>\n",
       "      <th>answer_plausible</th>\n",
       "      <th>answer_relevance</th>\n",
       "      <th>answer_satisfaction</th>\n",
       "      <th>answer_type_instructions</th>\n",
       "      <th>answer_type_procedure</th>\n",
       "      <th>answer_type_reason_explanation</th>\n",
       "      <th>answer_well_written</th>\n",
       "    </tr>\n",
       "  </thead>\n",
       "  <tbody>\n",
       "    <tr>\n",
       "      <th>0</th>\n",
       "      <td>39</td>\n",
       "      <td>0.870615</td>\n",
       "      <td>0.573468</td>\n",
       "      <td>0.069259</td>\n",
       "      <td>0.720707</td>\n",
       "      <td>0.723637</td>\n",
       "      <td>0.742527</td>\n",
       "      <td>0.840545</td>\n",
       "      <td>0.546499</td>\n",
       "      <td>0.183518</td>\n",
       "      <td>...</td>\n",
       "      <td>0.927567</td>\n",
       "      <td>0.919456</td>\n",
       "      <td>0.734087</td>\n",
       "      <td>0.936989</td>\n",
       "      <td>0.968663</td>\n",
       "      <td>0.735645</td>\n",
       "      <td>0.208977</td>\n",
       "      <td>0.197058</td>\n",
       "      <td>0.537305</td>\n",
       "      <td>0.903201</td>\n",
       "    </tr>\n",
       "    <tr>\n",
       "      <th>1</th>\n",
       "      <td>46</td>\n",
       "      <td>0.845006</td>\n",
       "      <td>0.511829</td>\n",
       "      <td>0.044824</td>\n",
       "      <td>0.739275</td>\n",
       "      <td>0.765682</td>\n",
       "      <td>0.814950</td>\n",
       "      <td>0.707765</td>\n",
       "      <td>0.486531</td>\n",
       "      <td>0.097087</td>\n",
       "      <td>...</td>\n",
       "      <td>0.835540</td>\n",
       "      <td>0.872437</td>\n",
       "      <td>0.682513</td>\n",
       "      <td>0.948103</td>\n",
       "      <td>0.982129</td>\n",
       "      <td>0.876212</td>\n",
       "      <td>0.682497</td>\n",
       "      <td>0.205851</td>\n",
       "      <td>0.201307</td>\n",
       "      <td>0.935099</td>\n",
       "    </tr>\n",
       "    <tr>\n",
       "      <th>2</th>\n",
       "      <td>70</td>\n",
       "      <td>0.911381</td>\n",
       "      <td>0.791037</td>\n",
       "      <td>0.039504</td>\n",
       "      <td>0.917522</td>\n",
       "      <td>0.814673</td>\n",
       "      <td>0.627874</td>\n",
       "      <td>0.595965</td>\n",
       "      <td>0.614238</td>\n",
       "      <td>0.505424</td>\n",
       "      <td>...</td>\n",
       "      <td>0.826478</td>\n",
       "      <td>0.940760</td>\n",
       "      <td>0.694538</td>\n",
       "      <td>0.976739</td>\n",
       "      <td>0.972976</td>\n",
       "      <td>0.874560</td>\n",
       "      <td>0.459345</td>\n",
       "      <td>0.070560</td>\n",
       "      <td>0.567622</td>\n",
       "      <td>0.850125</td>\n",
       "    </tr>\n",
       "    <tr>\n",
       "      <th>3</th>\n",
       "      <td>132</td>\n",
       "      <td>0.858099</td>\n",
       "      <td>0.544629</td>\n",
       "      <td>0.042124</td>\n",
       "      <td>0.580980</td>\n",
       "      <td>0.800564</td>\n",
       "      <td>0.845020</td>\n",
       "      <td>0.517074</td>\n",
       "      <td>0.431164</td>\n",
       "      <td>0.403949</td>\n",
       "      <td>...</td>\n",
       "      <td>0.785153</td>\n",
       "      <td>0.946136</td>\n",
       "      <td>0.656469</td>\n",
       "      <td>0.955076</td>\n",
       "      <td>0.963581</td>\n",
       "      <td>0.615057</td>\n",
       "      <td>0.504857</td>\n",
       "      <td>0.296519</td>\n",
       "      <td>0.500510</td>\n",
       "      <td>0.895737</td>\n",
       "    </tr>\n",
       "    <tr>\n",
       "      <th>4</th>\n",
       "      <td>200</td>\n",
       "      <td>0.782949</td>\n",
       "      <td>0.487207</td>\n",
       "      <td>0.052834</td>\n",
       "      <td>0.573099</td>\n",
       "      <td>0.714412</td>\n",
       "      <td>0.775226</td>\n",
       "      <td>0.707194</td>\n",
       "      <td>0.702011</td>\n",
       "      <td>0.281686</td>\n",
       "      <td>...</td>\n",
       "      <td>0.855692</td>\n",
       "      <td>0.947688</td>\n",
       "      <td>0.727051</td>\n",
       "      <td>0.929366</td>\n",
       "      <td>0.961163</td>\n",
       "      <td>0.540924</td>\n",
       "      <td>0.143241</td>\n",
       "      <td>0.195146</td>\n",
       "      <td>0.558673</td>\n",
       "      <td>0.871724</td>\n",
       "    </tr>\n",
       "    <tr>\n",
       "      <th>...</th>\n",
       "      <td>...</td>\n",
       "      <td>...</td>\n",
       "      <td>...</td>\n",
       "      <td>...</td>\n",
       "      <td>...</td>\n",
       "      <td>...</td>\n",
       "      <td>...</td>\n",
       "      <td>...</td>\n",
       "      <td>...</td>\n",
       "      <td>...</td>\n",
       "      <td>...</td>\n",
       "      <td>...</td>\n",
       "      <td>...</td>\n",
       "      <td>...</td>\n",
       "      <td>...</td>\n",
       "      <td>...</td>\n",
       "      <td>...</td>\n",
       "      <td>...</td>\n",
       "      <td>...</td>\n",
       "      <td>...</td>\n",
       "      <td>...</td>\n",
       "    </tr>\n",
       "    <tr>\n",
       "      <th>471</th>\n",
       "      <td>9569</td>\n",
       "      <td>0.806210</td>\n",
       "      <td>0.459952</td>\n",
       "      <td>0.092608</td>\n",
       "      <td>0.626685</td>\n",
       "      <td>0.783732</td>\n",
       "      <td>0.825043</td>\n",
       "      <td>0.556185</td>\n",
       "      <td>0.516255</td>\n",
       "      <td>0.148821</td>\n",
       "      <td>...</td>\n",
       "      <td>0.724008</td>\n",
       "      <td>0.920363</td>\n",
       "      <td>0.681870</td>\n",
       "      <td>0.894746</td>\n",
       "      <td>0.942731</td>\n",
       "      <td>0.833920</td>\n",
       "      <td>0.608634</td>\n",
       "      <td>0.095704</td>\n",
       "      <td>0.457749</td>\n",
       "      <td>0.830477</td>\n",
       "    </tr>\n",
       "    <tr>\n",
       "      <th>472</th>\n",
       "      <td>9590</td>\n",
       "      <td>0.754014</td>\n",
       "      <td>0.313052</td>\n",
       "      <td>0.009161</td>\n",
       "      <td>0.735268</td>\n",
       "      <td>0.772561</td>\n",
       "      <td>0.917004</td>\n",
       "      <td>0.594177</td>\n",
       "      <td>0.339694</td>\n",
       "      <td>0.197627</td>\n",
       "      <td>...</td>\n",
       "      <td>0.747171</td>\n",
       "      <td>0.965442</td>\n",
       "      <td>0.606469</td>\n",
       "      <td>0.952816</td>\n",
       "      <td>0.978001</td>\n",
       "      <td>0.888002</td>\n",
       "      <td>0.856456</td>\n",
       "      <td>0.262908</td>\n",
       "      <td>0.284222</td>\n",
       "      <td>0.975316</td>\n",
       "    </tr>\n",
       "    <tr>\n",
       "      <th>473</th>\n",
       "      <td>9597</td>\n",
       "      <td>0.908857</td>\n",
       "      <td>0.583960</td>\n",
       "      <td>0.052261</td>\n",
       "      <td>0.611765</td>\n",
       "      <td>0.715374</td>\n",
       "      <td>0.837003</td>\n",
       "      <td>0.629163</td>\n",
       "      <td>0.474146</td>\n",
       "      <td>0.197706</td>\n",
       "      <td>...</td>\n",
       "      <td>0.782750</td>\n",
       "      <td>0.889394</td>\n",
       "      <td>0.700846</td>\n",
       "      <td>0.932147</td>\n",
       "      <td>0.979403</td>\n",
       "      <td>0.868431</td>\n",
       "      <td>0.559343</td>\n",
       "      <td>0.112223</td>\n",
       "      <td>0.365423</td>\n",
       "      <td>0.860712</td>\n",
       "    </tr>\n",
       "    <tr>\n",
       "      <th>474</th>\n",
       "      <td>9623</td>\n",
       "      <td>0.896441</td>\n",
       "      <td>0.784940</td>\n",
       "      <td>0.061609</td>\n",
       "      <td>0.880021</td>\n",
       "      <td>0.875479</td>\n",
       "      <td>0.614889</td>\n",
       "      <td>0.512765</td>\n",
       "      <td>0.352680</td>\n",
       "      <td>0.231918</td>\n",
       "      <td>...</td>\n",
       "      <td>0.812295</td>\n",
       "      <td>0.930355</td>\n",
       "      <td>0.672897</td>\n",
       "      <td>0.969578</td>\n",
       "      <td>0.976254</td>\n",
       "      <td>0.940048</td>\n",
       "      <td>0.342601</td>\n",
       "      <td>0.093753</td>\n",
       "      <td>0.820381</td>\n",
       "      <td>0.895607</td>\n",
       "    </tr>\n",
       "    <tr>\n",
       "      <th>475</th>\n",
       "      <td>9640</td>\n",
       "      <td>0.849782</td>\n",
       "      <td>0.516610</td>\n",
       "      <td>0.019943</td>\n",
       "      <td>0.881107</td>\n",
       "      <td>0.819482</td>\n",
       "      <td>0.560822</td>\n",
       "      <td>0.726644</td>\n",
       "      <td>0.668561</td>\n",
       "      <td>0.232251</td>\n",
       "      <td>...</td>\n",
       "      <td>0.769259</td>\n",
       "      <td>0.938268</td>\n",
       "      <td>0.821356</td>\n",
       "      <td>0.975196</td>\n",
       "      <td>0.974057</td>\n",
       "      <td>0.867412</td>\n",
       "      <td>0.715286</td>\n",
       "      <td>0.095931</td>\n",
       "      <td>0.441957</td>\n",
       "      <td>0.705252</td>\n",
       "    </tr>\n",
       "  </tbody>\n",
       "</table>\n",
       "<p>476 rows × 31 columns</p>\n",
       "</div>"
      ],
      "text/plain": [
       "     qa_id  question_asker_intent_understanding  question_body_critical  \\\n",
       "0       39                             0.870615                0.573468   \n",
       "1       46                             0.845006                0.511829   \n",
       "2       70                             0.911381                0.791037   \n",
       "3      132                             0.858099                0.544629   \n",
       "4      200                             0.782949                0.487207   \n",
       "..     ...                                  ...                     ...   \n",
       "471   9569                             0.806210                0.459952   \n",
       "472   9590                             0.754014                0.313052   \n",
       "473   9597                             0.908857                0.583960   \n",
       "474   9623                             0.896441                0.784940   \n",
       "475   9640                             0.849782                0.516610   \n",
       "\n",
       "     question_conversational  question_expect_short_answer  \\\n",
       "0                   0.069259                      0.720707   \n",
       "1                   0.044824                      0.739275   \n",
       "2                   0.039504                      0.917522   \n",
       "3                   0.042124                      0.580980   \n",
       "4                   0.052834                      0.573099   \n",
       "..                       ...                           ...   \n",
       "471                 0.092608                      0.626685   \n",
       "472                 0.009161                      0.735268   \n",
       "473                 0.052261                      0.611765   \n",
       "474                 0.061609                      0.880021   \n",
       "475                 0.019943                      0.881107   \n",
       "\n",
       "     question_fact_seeking  question_has_commonly_accepted_answer  \\\n",
       "0                 0.723637                               0.742527   \n",
       "1                 0.765682                               0.814950   \n",
       "2                 0.814673                               0.627874   \n",
       "3                 0.800564                               0.845020   \n",
       "4                 0.714412                               0.775226   \n",
       "..                     ...                                    ...   \n",
       "471               0.783732                               0.825043   \n",
       "472               0.772561                               0.917004   \n",
       "473               0.715374                               0.837003   \n",
       "474               0.875479                               0.614889   \n",
       "475               0.819482                               0.560822   \n",
       "\n",
       "     question_interestingness_others  question_interestingness_self  \\\n",
       "0                           0.840545                       0.546499   \n",
       "1                           0.707765                       0.486531   \n",
       "2                           0.595965                       0.614238   \n",
       "3                           0.517074                       0.431164   \n",
       "4                           0.707194                       0.702011   \n",
       "..                               ...                            ...   \n",
       "471                         0.556185                       0.516255   \n",
       "472                         0.594177                       0.339694   \n",
       "473                         0.629163                       0.474146   \n",
       "474                         0.512765                       0.352680   \n",
       "475                         0.726644                       0.668561   \n",
       "\n",
       "     question_multi_intent  ...  question_well_written  answer_helpful  \\\n",
       "0                 0.183518  ...               0.927567        0.919456   \n",
       "1                 0.097087  ...               0.835540        0.872437   \n",
       "2                 0.505424  ...               0.826478        0.940760   \n",
       "3                 0.403949  ...               0.785153        0.946136   \n",
       "4                 0.281686  ...               0.855692        0.947688   \n",
       "..                     ...  ...                    ...             ...   \n",
       "471               0.148821  ...               0.724008        0.920363   \n",
       "472               0.197627  ...               0.747171        0.965442   \n",
       "473               0.197706  ...               0.782750        0.889394   \n",
       "474               0.231918  ...               0.812295        0.930355   \n",
       "475               0.232251  ...               0.769259        0.938268   \n",
       "\n",
       "     answer_level_of_information  answer_plausible  answer_relevance  \\\n",
       "0                       0.734087          0.936989          0.968663   \n",
       "1                       0.682513          0.948103          0.982129   \n",
       "2                       0.694538          0.976739          0.972976   \n",
       "3                       0.656469          0.955076          0.963581   \n",
       "4                       0.727051          0.929366          0.961163   \n",
       "..                           ...               ...               ...   \n",
       "471                     0.681870          0.894746          0.942731   \n",
       "472                     0.606469          0.952816          0.978001   \n",
       "473                     0.700846          0.932147          0.979403   \n",
       "474                     0.672897          0.969578          0.976254   \n",
       "475                     0.821356          0.975196          0.974057   \n",
       "\n",
       "     answer_satisfaction  answer_type_instructions  answer_type_procedure  \\\n",
       "0               0.735645                  0.208977               0.197058   \n",
       "1               0.876212                  0.682497               0.205851   \n",
       "2               0.874560                  0.459345               0.070560   \n",
       "3               0.615057                  0.504857               0.296519   \n",
       "4               0.540924                  0.143241               0.195146   \n",
       "..                   ...                       ...                    ...   \n",
       "471             0.833920                  0.608634               0.095704   \n",
       "472             0.888002                  0.856456               0.262908   \n",
       "473             0.868431                  0.559343               0.112223   \n",
       "474             0.940048                  0.342601               0.093753   \n",
       "475             0.867412                  0.715286               0.095931   \n",
       "\n",
       "     answer_type_reason_explanation  answer_well_written  \n",
       "0                          0.537305             0.903201  \n",
       "1                          0.201307             0.935099  \n",
       "2                          0.567622             0.850125  \n",
       "3                          0.500510             0.895737  \n",
       "4                          0.558673             0.871724  \n",
       "..                              ...                  ...  \n",
       "471                        0.457749             0.830477  \n",
       "472                        0.284222             0.975316  \n",
       "473                        0.365423             0.860712  \n",
       "474                        0.820381             0.895607  \n",
       "475                        0.441957             0.705252  \n",
       "\n",
       "[476 rows x 31 columns]"
      ]
     },
     "execution_count": 25,
     "metadata": {},
     "output_type": "execute_result"
    }
   ],
   "source": [
    "submission_df"
   ]
  },
  {
   "cell_type": "code",
   "execution_count": null,
   "id": "edf28500",
   "metadata": {
    "papermill": {
     "duration": 0.473299,
     "end_time": "2023-06-21T09:45:39.117722",
     "exception": false,
     "start_time": "2023-06-21T09:45:38.644423",
     "status": "completed"
    },
    "tags": []
   },
   "outputs": [],
   "source": []
  },
  {
   "cell_type": "code",
   "execution_count": null,
   "id": "1ce090a6",
   "metadata": {
    "papermill": {
     "duration": 0.519599,
     "end_time": "2023-06-21T09:45:40.158101",
     "exception": false,
     "start_time": "2023-06-21T09:45:39.638502",
     "status": "completed"
    },
    "tags": []
   },
   "outputs": [],
   "source": []
  },
  {
   "cell_type": "code",
   "execution_count": null,
   "id": "0275f9d9",
   "metadata": {
    "papermill": {
     "duration": 0.477545,
     "end_time": "2023-06-21T09:45:41.106600",
     "exception": false,
     "start_time": "2023-06-21T09:45:40.629055",
     "status": "completed"
    },
    "tags": []
   },
   "outputs": [],
   "source": []
  }
 ],
 "metadata": {
  "kernelspec": {
   "display_name": "Python 3",
   "language": "python",
   "name": "python3"
  },
  "language_info": {
   "codemirror_mode": {
    "name": "ipython",
    "version": 3
   },
   "file_extension": ".py",
   "mimetype": "text/x-python",
   "name": "python",
   "nbconvert_exporter": "python",
   "pygments_lexer": "ipython3",
   "version": "3.10.10"
  },
  "papermill": {
   "default_parameters": {},
   "duration": 2502.179316,
   "end_time": "2023-06-21T09:45:44.674908",
   "environment_variables": {},
   "exception": null,
   "input_path": "__notebook__.ipynb",
   "output_path": "__notebook__.ipynb",
   "parameters": {},
   "start_time": "2023-06-21T09:04:02.495592",
   "version": "2.4.0"
  }
 },
 "nbformat": 4,
 "nbformat_minor": 5
}
