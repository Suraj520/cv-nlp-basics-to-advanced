{
  "nbformat": 4,
  "nbformat_minor": 0,
  "metadata": {
    "colab": {
      "provenance": [],
      "gpuType": "T4"
    },
    "kernelspec": {
      "name": "python3",
      "display_name": "Python 3"
    },
    "language_info": {
      "name": "python"
    },
    "accelerator": "GPU",
    "gpuClass": "standard"
  },
  "cells": [
    {
      "cell_type": "markdown",
      "source": [
        "## About\n",
        "\n",
        "> RoBERTA\n",
        "\n",
        "- It is also known as Robustly Optimized BERT Approach.\n",
        "- It is a language model based on the BERT(Bidirectional Encoder Representations from Transformers) architecture.\n",
        "- The core components of a block diagram of RoBERTA consists of Input Text, Tokenizer, Embedding Layer, multiple transformer encoders, pooling layer and the output.\n",
        "- Input text is basically the raw text that needs to processed and can be a sentence, paragraph or an entire document.\n",
        "- Tokenizer is the block where the input text is being fed and it splits it into individual tokens. The tokens can be words, subwords or even chars. Tokenization as a process helps in breaking down the text into meaningful units for further processing.\n",
        "- Embeddings layer is the block which converts the tokenized text into word embeddings. Embeddings are vector representations of words or tokens which aim at capturing the semantic and contextual information. These embeddings are learned during the training proces and are used to represent the input tokens.\n",
        "- Transformer Encoder is being utilized by ROBERTA over a stack. Each transformer encoder consists of multiple attention layers and feed forward neural networks. These encoders process the embedding in a self attention mechanism where each token attends to other tokens in the input sequence thereby capturing the dependencies and relationships between them. These stacked transformer encoders capture hierarhical information in the input text.\n",
        "- The output of the transformer encoder's last layer is being passed through the pooling layer. The pooling layer aggregates the information from all the tokens into a fixed length representation such as mean or max of them. This pooled representation captures the semantic meaning of the input text.\n",
        "- Finally, The pooled representation is passed through a linear layer or other classif/regression layers to produce the desired output."
      ],
      "metadata": {
        "id": "7IdCI-mC8IhR"
      }
    },
    {
      "cell_type": "code",
      "execution_count": null,
      "metadata": {
        "colab": {
          "base_uri": "https://localhost:8080/"
        },
        "id": "n1EOwBwS5QMR",
        "outputId": "87e52bca-ed62-479e-a4dd-8e461c2f7828"
      },
      "outputs": [
        {
          "output_type": "stream",
          "name": "stdout",
          "text": [
            "Looking in indexes: https://pypi.org/simple, https://us-python.pkg.dev/colab-wheels/public/simple/\n",
            "Requirement already satisfied: kaggle in /usr/local/lib/python3.10/dist-packages (1.5.13)\n",
            "Requirement already satisfied: six>=1.10 in /usr/local/lib/python3.10/dist-packages (from kaggle) (1.16.0)\n",
            "Requirement already satisfied: certifi in /usr/local/lib/python3.10/dist-packages (from kaggle) (2022.12.7)\n",
            "Requirement already satisfied: python-dateutil in /usr/local/lib/python3.10/dist-packages (from kaggle) (2.8.2)\n",
            "Requirement already satisfied: requests in /usr/local/lib/python3.10/dist-packages (from kaggle) (2.27.1)\n",
            "Requirement already satisfied: tqdm in /usr/local/lib/python3.10/dist-packages (from kaggle) (4.65.0)\n",
            "Requirement already satisfied: python-slugify in /usr/local/lib/python3.10/dist-packages (from kaggle) (8.0.1)\n",
            "Requirement already satisfied: urllib3 in /usr/local/lib/python3.10/dist-packages (from kaggle) (1.26.15)\n",
            "Requirement already satisfied: text-unidecode>=1.3 in /usr/local/lib/python3.10/dist-packages (from python-slugify->kaggle) (1.3)\n",
            "Requirement already satisfied: charset-normalizer~=2.0.0 in /usr/local/lib/python3.10/dist-packages (from requests->kaggle) (2.0.12)\n",
            "Requirement already satisfied: idna<4,>=2.5 in /usr/local/lib/python3.10/dist-packages (from requests->kaggle) (3.4)\n"
          ]
        }
      ],
      "source": [
        "!pip install kaggle"
      ]
    },
    {
      "cell_type": "code",
      "source": [
        "import os\n",
        "os.environ[\"KAGGLE_USERNAME\"] = \"suraj520\"\n",
        "os.environ[\"KAGGLE_KEY\"] = \"3f7b336dcca01a32b5c1c511af889e78\""
      ],
      "metadata": {
        "id": "OpfQhJwbBPi-"
      },
      "execution_count": null,
      "outputs": []
    },
    {
      "cell_type": "code",
      "source": [
        "!kaggle competitions download -c sentiment-analysis-on-movie-reviews\n"
      ],
      "metadata": {
        "colab": {
          "base_uri": "https://localhost:8080/"
        },
        "id": "gyMcE_g4Awsy",
        "outputId": "61bf1bbb-1757-4416-afb0-7f45c26d0988"
      },
      "execution_count": null,
      "outputs": [
        {
          "output_type": "stream",
          "name": "stdout",
          "text": [
            "Downloading sentiment-analysis-on-movie-reviews.zip to /content\n",
            "\r  0% 0.00/1.90M [00:00<?, ?B/s]\n",
            "\r100% 1.90M/1.90M [00:00<00:00, 171MB/s]\n"
          ]
        }
      ]
    },
    {
      "cell_type": "code",
      "source": [
        "!unzip sentiment-analysis-on-movie-reviews.zip"
      ],
      "metadata": {
        "colab": {
          "base_uri": "https://localhost:8080/"
        },
        "id": "h2koI98uAx5d",
        "outputId": "70cfc99b-75b2-4f48-b931-4acbcceb1013"
      },
      "execution_count": null,
      "outputs": [
        {
          "output_type": "stream",
          "name": "stdout",
          "text": [
            "Archive:  sentiment-analysis-on-movie-reviews.zip\n",
            "  inflating: sampleSubmission.csv    \n",
            "  inflating: test.tsv.zip            \n",
            "  inflating: train.tsv.zip           \n"
          ]
        }
      ]
    },
    {
      "cell_type": "code",
      "source": [
        "!pip install transformers"
      ],
      "metadata": {
        "colab": {
          "base_uri": "https://localhost:8080/"
        },
        "id": "u1MqfJypBhht",
        "outputId": "cb7c4c0a-4791-49ec-8b11-0e52839f3e06"
      },
      "execution_count": null,
      "outputs": [
        {
          "output_type": "stream",
          "name": "stdout",
          "text": [
            "Looking in indexes: https://pypi.org/simple, https://us-python.pkg.dev/colab-wheels/public/simple/\n",
            "Collecting transformers\n",
            "  Downloading transformers-4.29.2-py3-none-any.whl (7.1 MB)\n",
            "\u001b[2K     \u001b[90m━━━━━━━━━━━━━━━━━━━━━━━━━━━━━━━━━━━━━━━━\u001b[0m \u001b[32m7.1/7.1 MB\u001b[0m \u001b[31m54.6 MB/s\u001b[0m eta \u001b[36m0:00:00\u001b[0m\n",
            "\u001b[?25hRequirement already satisfied: filelock in /usr/local/lib/python3.10/dist-packages (from transformers) (3.12.0)\n",
            "Collecting huggingface-hub<1.0,>=0.14.1 (from transformers)\n",
            "  Downloading huggingface_hub-0.14.1-py3-none-any.whl (224 kB)\n",
            "\u001b[2K     \u001b[90m━━━━━━━━━━━━━━━━━━━━━━━━━━━━━━━━━━━━━━\u001b[0m \u001b[32m224.5/224.5 kB\u001b[0m \u001b[31m27.2 MB/s\u001b[0m eta \u001b[36m0:00:00\u001b[0m\n",
            "\u001b[?25hRequirement already satisfied: numpy>=1.17 in /usr/local/lib/python3.10/dist-packages (from transformers) (1.22.4)\n",
            "Requirement already satisfied: packaging>=20.0 in /usr/local/lib/python3.10/dist-packages (from transformers) (23.1)\n",
            "Requirement already satisfied: pyyaml>=5.1 in /usr/local/lib/python3.10/dist-packages (from transformers) (6.0)\n",
            "Requirement already satisfied: regex!=2019.12.17 in /usr/local/lib/python3.10/dist-packages (from transformers) (2022.10.31)\n",
            "Requirement already satisfied: requests in /usr/local/lib/python3.10/dist-packages (from transformers) (2.27.1)\n",
            "Collecting tokenizers!=0.11.3,<0.14,>=0.11.1 (from transformers)\n",
            "  Downloading tokenizers-0.13.3-cp310-cp310-manylinux_2_17_x86_64.manylinux2014_x86_64.whl (7.8 MB)\n",
            "\u001b[2K     \u001b[90m━━━━━━━━━━━━━━━━━━━━━━━━━━━━━━━━━━━━━━━━\u001b[0m \u001b[32m7.8/7.8 MB\u001b[0m \u001b[31m101.4 MB/s\u001b[0m eta \u001b[36m0:00:00\u001b[0m\n",
            "\u001b[?25hRequirement already satisfied: tqdm>=4.27 in /usr/local/lib/python3.10/dist-packages (from transformers) (4.65.0)\n",
            "Requirement already satisfied: fsspec in /usr/local/lib/python3.10/dist-packages (from huggingface-hub<1.0,>=0.14.1->transformers) (2023.4.0)\n",
            "Requirement already satisfied: typing-extensions>=3.7.4.3 in /usr/local/lib/python3.10/dist-packages (from huggingface-hub<1.0,>=0.14.1->transformers) (4.5.0)\n",
            "Requirement already satisfied: urllib3<1.27,>=1.21.1 in /usr/local/lib/python3.10/dist-packages (from requests->transformers) (1.26.15)\n",
            "Requirement already satisfied: certifi>=2017.4.17 in /usr/local/lib/python3.10/dist-packages (from requests->transformers) (2022.12.7)\n",
            "Requirement already satisfied: charset-normalizer~=2.0.0 in /usr/local/lib/python3.10/dist-packages (from requests->transformers) (2.0.12)\n",
            "Requirement already satisfied: idna<4,>=2.5 in /usr/local/lib/python3.10/dist-packages (from requests->transformers) (3.4)\n",
            "Installing collected packages: tokenizers, huggingface-hub, transformers\n",
            "Successfully installed huggingface-hub-0.14.1 tokenizers-0.13.3 transformers-4.29.2\n"
          ]
        }
      ]
    },
    {
      "cell_type": "code",
      "source": [
        "import pandas as pd\n",
        "import torch\n",
        "from transformers import RobertaTokenizer, RobertaForSequenceClassification, AdamW\n",
        "from torch.utils.data import DataLoader, Dataset"
      ],
      "metadata": {
        "id": "_1gUp5KWBb1O"
      },
      "execution_count": null,
      "outputs": []
    },
    {
      "cell_type": "code",
      "source": [
        "train_df = pd.read_csv(\"train.tsv.zip\", sep=\"\\t\")\n",
        "test_df = pd.read_csv(\"test.tsv.zip\", sep=\"\\t\")\n",
        "\n",
        "# Split into input text and corresponding labels\n",
        "train_text = train_df[\"Phrase\"].tolist()\n",
        "train_labels = train_df[\"Sentiment\"].tolist()\n",
        "test_text = test_df[\"Phrase\"].tolist()\n"
      ],
      "metadata": {
        "id": "63i_Zvz0Be9S"
      },
      "execution_count": null,
      "outputs": []
    },
    {
      "cell_type": "code",
      "source": [
        "# Initialize the tokenizer\n",
        "tokenizer = RobertaTokenizer.from_pretrained(\"roberta-base\")\n"
      ],
      "metadata": {
        "id": "jXLUWdgFBpyt"
      },
      "execution_count": null,
      "outputs": []
    },
    {
      "cell_type": "code",
      "source": [
        "# Tokenize the input text\n",
        "train_tokens = tokenizer.batch_encode_plus(\n",
        "    train_text,\n",
        "    padding=True,\n",
        "    truncation=True,\n",
        "    return_tensors=\"pt\"\n",
        ")\n"
      ],
      "metadata": {
        "id": "Jz-Qub4mBu3K"
      },
      "execution_count": null,
      "outputs": []
    },
    {
      "cell_type": "code",
      "source": [
        "# Prepare the input dataset\n",
        "class MovieReviewsDataset(Dataset):\n",
        "    def __init__(self, tokens, labels):\n",
        "        self.input_ids = tokens[\"input_ids\"]\n",
        "        self.attention_mask = tokens[\"attention_mask\"]\n",
        "        self.labels = labels\n",
        "        \n",
        "    def __len__(self):\n",
        "        return len(self.labels)\n",
        "    \n",
        "    def __getitem__(self, index):\n",
        "        return {\n",
        "            \"input_ids\": self.input_ids[index],\n",
        "            \"attention_mask\": self.attention_mask[index],\n",
        "            \"labels\": self.labels[index]\n",
        "        }\n"
      ],
      "metadata": {
        "id": "Whq__yZpBw0B"
      },
      "execution_count": null,
      "outputs": []
    },
    {
      "cell_type": "code",
      "source": [
        "train_dataset = MovieReviewsDataset(train_tokens, train_labels)"
      ],
      "metadata": {
        "id": "dq2zEe9BB0f2"
      },
      "execution_count": null,
      "outputs": []
    },
    {
      "cell_type": "code",
      "source": [
        "# Set device (GPU if available)\n",
        "device = torch.device(\"cuda\" if torch.cuda.is_available() else \"cpu\")\n",
        "\n",
        "# Initialize the model\n",
        "model = RobertaForSequenceClassification.from_pretrained(\"roberta-base\", num_labels=5)\n",
        "model.to(device)\n",
        "\n",
        "# Prepare the dataloader\n",
        "batch_size = 32*4\n",
        "train_dataloader = DataLoader(train_dataset, batch_size=batch_size, shuffle=True)\n"
      ],
      "metadata": {
        "colab": {
          "base_uri": "https://localhost:8080/"
        },
        "id": "nG3uG3D6B2PO",
        "outputId": "6595e83f-3dec-4588-9ea8-b796654234ae"
      },
      "execution_count": null,
      "outputs": [
        {
          "output_type": "stream",
          "name": "stderr",
          "text": [
            "Some weights of the model checkpoint at roberta-base were not used when initializing RobertaForSequenceClassification: ['lm_head.layer_norm.weight', 'roberta.pooler.dense.weight', 'lm_head.decoder.weight', 'lm_head.dense.weight', 'lm_head.bias', 'lm_head.layer_norm.bias', 'lm_head.dense.bias', 'roberta.pooler.dense.bias']\n",
            "- This IS expected if you are initializing RobertaForSequenceClassification from the checkpoint of a model trained on another task or with another architecture (e.g. initializing a BertForSequenceClassification model from a BertForPreTraining model).\n",
            "- This IS NOT expected if you are initializing RobertaForSequenceClassification from the checkpoint of a model that you expect to be exactly identical (initializing a BertForSequenceClassification model from a BertForSequenceClassification model).\n",
            "Some weights of RobertaForSequenceClassification were not initialized from the model checkpoint at roberta-base and are newly initialized: ['classifier.dense.weight', 'classifier.dense.bias', 'classifier.out_proj.weight', 'classifier.out_proj.bias']\n",
            "You should probably TRAIN this model on a down-stream task to be able to use it for predictions and inference.\n"
          ]
        }
      ]
    },
    {
      "cell_type": "code",
      "source": [
        "# Initialize the optimizer and scheduler\n",
        "optimizer = AdamW(model.parameters(), lr=2e-5)\n",
        "num_epochs = 5\n"
      ],
      "metadata": {
        "colab": {
          "base_uri": "https://localhost:8080/"
        },
        "id": "etDyyQQNB8KB",
        "outputId": "66ace797-75bb-4eb0-9b87-5928996b7a4e"
      },
      "execution_count": null,
      "outputs": [
        {
          "output_type": "stream",
          "name": "stderr",
          "text": [
            "/usr/local/lib/python3.10/dist-packages/transformers/optimization.py:407: FutureWarning: This implementation of AdamW is deprecated and will be removed in a future version. Use the PyTorch implementation torch.optim.AdamW instead, or set `no_deprecation_warning=True` to disable this warning\n",
            "  warnings.warn(\n"
          ]
        }
      ]
    },
    {
      "cell_type": "code",
      "source": [
        "# Training loop\n",
        "from tqdm import tqdm\n",
        "model.train()\n",
        "for epoch in range(num_epochs):\n",
        "    total_loss = 0\n",
        "    for step, batch in tqdm(enumerate(train_dataloader)):\n",
        "        input_ids = batch[\"input_ids\"].to(device)\n",
        "        attention_mask = batch[\"attention_mask\"].to(device)\n",
        "        labels = batch[\"labels\"].to(device)\n",
        "        \n",
        "        optimizer.zero_grad()\n",
        "        \n",
        "        outputs = model(input_ids, attention_mask=attention_mask, labels=labels)\n",
        "        loss = outputs.loss\n",
        "        if step%100==0:\n",
        "          print(\"Step-{}, Loss-{}\".format(step,loss.item()))\n",
        "        total_loss += loss.item()\n",
        "        \n",
        "        loss.backward()\n",
        "        optimizer.step()\n",
        "        \n",
        "    average_loss = total_loss / len(train_dataloader)\n",
        "    print(f\"Epoch {epoch+1}/{num_epochs}, Average Loss: {average_loss:.4f}\")"
      ],
      "metadata": {
        "colab": {
          "base_uri": "https://localhost:8080/"
        },
        "id": "Z_460-rRB-ft",
        "outputId": "02c90232-aea0-4eb0-8892-8ba27d029748"
      },
      "execution_count": 9,
      "outputs": [
        {
          "metadata": {
            "tags": null
          },
          "name": "stderr",
          "output_type": "stream",
          "text": [
            "\r0it [00:00, ?it/s]"
          ]
        },
        {
          "metadata": {
            "tags": null
          },
          "name": "stdout",
          "output_type": "stream",
          "text": [
            "Step-0, Loss-1.5351877212524414\n"
          ]
        },
        {
          "metadata": {
            "tags": null
          },
          "name": "stderr",
          "output_type": "stream",
          "text": [
            "100it [02:26,  1.46s/it]"
          ]
        },
        {
          "metadata": {
            "tags": null
          },
          "name": "stdout",
          "output_type": "stream",
          "text": [
            "Step-100, Loss-0.9756748080253601\n"
          ]
        },
        {
          "metadata": {
            "tags": null
          },
          "name": "stderr",
          "output_type": "stream",
          "text": [
            "200it [04:51,  1.46s/it]"
          ]
        },
        {
          "metadata": {
            "tags": null
          },
          "name": "stdout",
          "output_type": "stream",
          "text": [
            "Step-200, Loss-0.8548558950424194\n"
          ]
        },
        {
          "metadata": {
            "tags": null
          },
          "name": "stderr",
          "output_type": "stream",
          "text": [
            "300it [07:17,  1.45s/it]"
          ]
        },
        {
          "metadata": {
            "tags": null
          },
          "name": "stdout",
          "output_type": "stream",
          "text": [
            "Step-300, Loss-0.6825312972068787\n"
          ]
        },
        {
          "metadata": {
            "tags": null
          },
          "name": "stderr",
          "output_type": "stream",
          "text": [
            "400it [09:43,  1.45s/it]"
          ]
        },
        {
          "metadata": {
            "tags": null
          },
          "name": "stdout",
          "output_type": "stream",
          "text": [
            "Step-400, Loss-0.8613194823265076\n"
          ]
        },
        {
          "metadata": {
            "tags": null
          },
          "name": "stderr",
          "output_type": "stream",
          "text": [
            "500it [12:08,  1.45s/it]"
          ]
        },
        {
          "metadata": {
            "tags": null
          },
          "name": "stdout",
          "output_type": "stream",
          "text": [
            "Step-500, Loss-0.630751371383667\n"
          ]
        },
        {
          "metadata": {
            "tags": null
          },
          "name": "stderr",
          "output_type": "stream",
          "text": [
            "600it [14:34,  1.45s/it]"
          ]
        },
        {
          "metadata": {
            "tags": null
          },
          "name": "stdout",
          "output_type": "stream",
          "text": [
            "Step-600, Loss-0.7979530096054077\n"
          ]
        },
        {
          "metadata": {
            "tags": null
          },
          "name": "stderr",
          "output_type": "stream",
          "text": [
            "700it [16:59,  1.45s/it]"
          ]
        },
        {
          "metadata": {
            "tags": null
          },
          "name": "stdout",
          "output_type": "stream",
          "text": [
            "Step-700, Loss-0.7271313667297363\n"
          ]
        },
        {
          "output_type": "stream",
          "name": "stderr",
          "text": [
            "800it [19:25,  1.45s/it]"
          ]
        },
        {
          "output_type": "stream",
          "name": "stdout",
          "text": [
            "Step-800, Loss-0.6418065428733826\n"
          ]
        },
        {
          "output_type": "stream",
          "name": "stderr",
          "text": [
            "900it [21:51,  1.46s/it]"
          ]
        },
        {
          "output_type": "stream",
          "name": "stdout",
          "text": [
            "Step-900, Loss-0.8061614036560059\n"
          ]
        },
        {
          "output_type": "stream",
          "name": "stderr",
          "text": [
            "1000it [24:16,  1.45s/it]"
          ]
        },
        {
          "output_type": "stream",
          "name": "stdout",
          "text": [
            "Step-1000, Loss-0.7546658515930176\n"
          ]
        },
        {
          "output_type": "stream",
          "name": "stderr",
          "text": [
            "1100it [26:41,  1.45s/it]"
          ]
        },
        {
          "output_type": "stream",
          "name": "stdout",
          "text": [
            "Step-1100, Loss-0.881874144077301\n"
          ]
        },
        {
          "output_type": "stream",
          "name": "stderr",
          "text": [
            "1200it [29:07,  1.46s/it]"
          ]
        },
        {
          "output_type": "stream",
          "name": "stdout",
          "text": [
            "Step-1200, Loss-0.8997511863708496\n"
          ]
        },
        {
          "output_type": "stream",
          "name": "stderr",
          "text": [
            "1220it [29:35,  1.46s/it]\n"
          ]
        },
        {
          "output_type": "stream",
          "name": "stdout",
          "text": [
            "Epoch 1/5, Average Loss: 0.8083\n"
          ]
        },
        {
          "output_type": "stream",
          "name": "stderr",
          "text": [
            "\r0it [00:00, ?it/s]"
          ]
        },
        {
          "output_type": "stream",
          "name": "stdout",
          "text": [
            "Step-0, Loss-0.7351599335670471\n"
          ]
        },
        {
          "output_type": "stream",
          "name": "stderr",
          "text": [
            "100it [02:25,  1.46s/it]"
          ]
        },
        {
          "output_type": "stream",
          "name": "stdout",
          "text": [
            "Step-100, Loss-0.735181450843811\n"
          ]
        },
        {
          "output_type": "stream",
          "name": "stderr",
          "text": [
            "200it [04:51,  1.45s/it]"
          ]
        },
        {
          "output_type": "stream",
          "name": "stdout",
          "text": [
            "Step-200, Loss-0.7025976777076721\n"
          ]
        },
        {
          "output_type": "stream",
          "name": "stderr",
          "text": [
            "300it [07:16,  1.46s/it]"
          ]
        },
        {
          "output_type": "stream",
          "name": "stdout",
          "text": [
            "Step-300, Loss-0.7172818779945374\n"
          ]
        },
        {
          "output_type": "stream",
          "name": "stderr",
          "text": [
            "400it [09:42,  1.46s/it]"
          ]
        },
        {
          "output_type": "stream",
          "name": "stdout",
          "text": [
            "Step-400, Loss-0.7566203474998474\n"
          ]
        },
        {
          "output_type": "stream",
          "name": "stderr",
          "text": [
            "500it [12:07,  1.45s/it]"
          ]
        },
        {
          "output_type": "stream",
          "name": "stdout",
          "text": [
            "Step-500, Loss-0.6831374168395996\n"
          ]
        },
        {
          "output_type": "stream",
          "name": "stderr",
          "text": [
            "600it [14:33,  1.46s/it]"
          ]
        },
        {
          "output_type": "stream",
          "name": "stdout",
          "text": [
            "Step-600, Loss-0.6197997331619263\n"
          ]
        },
        {
          "output_type": "stream",
          "name": "stderr",
          "text": [
            "700it [16:58,  1.45s/it]"
          ]
        },
        {
          "output_type": "stream",
          "name": "stdout",
          "text": [
            "Step-700, Loss-0.6673067808151245\n"
          ]
        },
        {
          "output_type": "stream",
          "name": "stderr",
          "text": [
            "800it [19:24,  1.45s/it]"
          ]
        },
        {
          "output_type": "stream",
          "name": "stdout",
          "text": [
            "Step-800, Loss-0.5941049456596375\n"
          ]
        },
        {
          "output_type": "stream",
          "name": "stderr",
          "text": [
            "900it [21:49,  1.45s/it]"
          ]
        },
        {
          "output_type": "stream",
          "name": "stdout",
          "text": [
            "Step-900, Loss-0.733845591545105\n"
          ]
        },
        {
          "output_type": "stream",
          "name": "stderr",
          "text": [
            "1000it [24:15,  1.46s/it]"
          ]
        },
        {
          "output_type": "stream",
          "name": "stdout",
          "text": [
            "Step-1000, Loss-0.6613959074020386\n"
          ]
        },
        {
          "output_type": "stream",
          "name": "stderr",
          "text": [
            "1100it [26:40,  1.46s/it]"
          ]
        },
        {
          "output_type": "stream",
          "name": "stdout",
          "text": [
            "Step-1100, Loss-0.7154840230941772\n"
          ]
        },
        {
          "output_type": "stream",
          "name": "stderr",
          "text": [
            "1200it [29:06,  1.45s/it]"
          ]
        },
        {
          "output_type": "stream",
          "name": "stdout",
          "text": [
            "Step-1200, Loss-0.7117800116539001\n"
          ]
        },
        {
          "output_type": "stream",
          "name": "stderr",
          "text": [
            "1220it [29:34,  1.45s/it]\n"
          ]
        },
        {
          "output_type": "stream",
          "name": "stdout",
          "text": [
            "Epoch 2/5, Average Loss: 0.6983\n"
          ]
        },
        {
          "output_type": "stream",
          "name": "stderr",
          "text": [
            "\r0it [00:00, ?it/s]"
          ]
        },
        {
          "output_type": "stream",
          "name": "stdout",
          "text": [
            "Step-0, Loss-0.5501241087913513\n"
          ]
        },
        {
          "output_type": "stream",
          "name": "stderr",
          "text": [
            "100it [02:25,  1.45s/it]"
          ]
        },
        {
          "output_type": "stream",
          "name": "stdout",
          "text": [
            "Step-100, Loss-0.6431103944778442\n"
          ]
        },
        {
          "output_type": "stream",
          "name": "stderr",
          "text": [
            "200it [04:51,  1.46s/it]"
          ]
        },
        {
          "output_type": "stream",
          "name": "stdout",
          "text": [
            "Step-200, Loss-0.6930710077285767\n"
          ]
        },
        {
          "output_type": "stream",
          "name": "stderr",
          "text": [
            "300it [07:16,  1.45s/it]"
          ]
        },
        {
          "output_type": "stream",
          "name": "stdout",
          "text": [
            "Step-300, Loss-0.6709518432617188\n"
          ]
        },
        {
          "output_type": "stream",
          "name": "stderr",
          "text": [
            "400it [09:42,  1.46s/it]"
          ]
        },
        {
          "output_type": "stream",
          "name": "stdout",
          "text": [
            "Step-400, Loss-0.6845566034317017\n"
          ]
        },
        {
          "output_type": "stream",
          "name": "stderr",
          "text": [
            "500it [12:07,  1.45s/it]"
          ]
        },
        {
          "output_type": "stream",
          "name": "stdout",
          "text": [
            "Step-500, Loss-0.7604778409004211\n"
          ]
        },
        {
          "output_type": "stream",
          "name": "stderr",
          "text": [
            "600it [14:33,  1.45s/it]"
          ]
        },
        {
          "output_type": "stream",
          "name": "stdout",
          "text": [
            "Step-600, Loss-0.5870668292045593\n"
          ]
        },
        {
          "output_type": "stream",
          "name": "stderr",
          "text": [
            "700it [16:58,  1.45s/it]"
          ]
        },
        {
          "output_type": "stream",
          "name": "stdout",
          "text": [
            "Step-700, Loss-0.6723702549934387\n"
          ]
        },
        {
          "output_type": "stream",
          "name": "stderr",
          "text": [
            "800it [19:23,  1.45s/it]"
          ]
        },
        {
          "output_type": "stream",
          "name": "stdout",
          "text": [
            "Step-800, Loss-0.6351805329322815\n"
          ]
        },
        {
          "output_type": "stream",
          "name": "stderr",
          "text": [
            "900it [21:49,  1.46s/it]"
          ]
        },
        {
          "output_type": "stream",
          "name": "stdout",
          "text": [
            "Step-900, Loss-0.6650876998901367\n"
          ]
        },
        {
          "output_type": "stream",
          "name": "stderr",
          "text": [
            "1000it [24:14,  1.45s/it]"
          ]
        },
        {
          "output_type": "stream",
          "name": "stdout",
          "text": [
            "Step-1000, Loss-0.6299334168434143\n"
          ]
        },
        {
          "output_type": "stream",
          "name": "stderr",
          "text": [
            "1100it [26:40,  1.45s/it]"
          ]
        },
        {
          "output_type": "stream",
          "name": "stdout",
          "text": [
            "Step-1100, Loss-0.6397178769111633\n"
          ]
        },
        {
          "output_type": "stream",
          "name": "stderr",
          "text": [
            "1200it [29:05,  1.45s/it]"
          ]
        },
        {
          "output_type": "stream",
          "name": "stdout",
          "text": [
            "Step-1200, Loss-0.5819687247276306\n"
          ]
        },
        {
          "output_type": "stream",
          "name": "stderr",
          "text": [
            "1220it [29:33,  1.45s/it]\n"
          ]
        },
        {
          "output_type": "stream",
          "name": "stdout",
          "text": [
            "Epoch 3/5, Average Loss: 0.6491\n"
          ]
        },
        {
          "output_type": "stream",
          "name": "stderr",
          "text": [
            "\r0it [00:00, ?it/s]"
          ]
        },
        {
          "output_type": "stream",
          "name": "stdout",
          "text": [
            "Step-0, Loss-0.5726202130317688\n"
          ]
        },
        {
          "output_type": "stream",
          "name": "stderr",
          "text": [
            "100it [02:25,  1.45s/it]"
          ]
        },
        {
          "output_type": "stream",
          "name": "stdout",
          "text": [
            "Step-100, Loss-0.6116303205490112\n"
          ]
        },
        {
          "output_type": "stream",
          "name": "stderr",
          "text": [
            "200it [04:50,  1.45s/it]"
          ]
        },
        {
          "output_type": "stream",
          "name": "stdout",
          "text": [
            "Step-200, Loss-0.5551882386207581\n"
          ]
        },
        {
          "output_type": "stream",
          "name": "stderr",
          "text": [
            "300it [07:16,  1.45s/it]"
          ]
        },
        {
          "output_type": "stream",
          "name": "stdout",
          "text": [
            "Step-300, Loss-0.6866909265518188\n"
          ]
        },
        {
          "output_type": "stream",
          "name": "stderr",
          "text": [
            "400it [09:41,  1.45s/it]"
          ]
        },
        {
          "output_type": "stream",
          "name": "stdout",
          "text": [
            "Step-400, Loss-0.5046600699424744\n"
          ]
        },
        {
          "output_type": "stream",
          "name": "stderr",
          "text": [
            "500it [12:06,  1.45s/it]"
          ]
        },
        {
          "output_type": "stream",
          "name": "stdout",
          "text": [
            "Step-500, Loss-0.6812744736671448\n"
          ]
        },
        {
          "output_type": "stream",
          "name": "stderr",
          "text": [
            "600it [14:32,  1.45s/it]"
          ]
        },
        {
          "output_type": "stream",
          "name": "stdout",
          "text": [
            "Step-600, Loss-0.5305469632148743\n"
          ]
        },
        {
          "output_type": "stream",
          "name": "stderr",
          "text": [
            "700it [16:57,  1.45s/it]"
          ]
        },
        {
          "output_type": "stream",
          "name": "stdout",
          "text": [
            "Step-700, Loss-0.5688374042510986\n"
          ]
        },
        {
          "output_type": "stream",
          "name": "stderr",
          "text": [
            "800it [19:23,  1.46s/it]"
          ]
        },
        {
          "output_type": "stream",
          "name": "stdout",
          "text": [
            "Step-800, Loss-0.41824278235435486\n"
          ]
        },
        {
          "output_type": "stream",
          "name": "stderr",
          "text": [
            "900it [21:49,  1.46s/it]"
          ]
        },
        {
          "output_type": "stream",
          "name": "stdout",
          "text": [
            "Step-900, Loss-0.48342445492744446\n"
          ]
        },
        {
          "output_type": "stream",
          "name": "stderr",
          "text": [
            "1000it [24:14,  1.46s/it]"
          ]
        },
        {
          "output_type": "stream",
          "name": "stdout",
          "text": [
            "Step-1000, Loss-0.6759509444236755\n"
          ]
        },
        {
          "output_type": "stream",
          "name": "stderr",
          "text": [
            "1100it [26:40,  1.45s/it]"
          ]
        },
        {
          "output_type": "stream",
          "name": "stdout",
          "text": [
            "Step-1100, Loss-0.7022517323493958\n"
          ]
        },
        {
          "output_type": "stream",
          "name": "stderr",
          "text": [
            "1200it [29:05,  1.45s/it]"
          ]
        },
        {
          "output_type": "stream",
          "name": "stdout",
          "text": [
            "Step-1200, Loss-0.6426094770431519\n"
          ]
        },
        {
          "output_type": "stream",
          "name": "stderr",
          "text": [
            "1220it [29:33,  1.45s/it]\n"
          ]
        },
        {
          "output_type": "stream",
          "name": "stdout",
          "text": [
            "Epoch 4/5, Average Loss: 0.6121\n"
          ]
        },
        {
          "output_type": "stream",
          "name": "stderr",
          "text": [
            "\r0it [00:00, ?it/s]"
          ]
        },
        {
          "output_type": "stream",
          "name": "stdout",
          "text": [
            "Step-0, Loss-0.523365318775177\n"
          ]
        },
        {
          "output_type": "stream",
          "name": "stderr",
          "text": [
            "100it [02:25,  1.45s/it]"
          ]
        },
        {
          "output_type": "stream",
          "name": "stdout",
          "text": [
            "Step-100, Loss-0.4929826557636261\n"
          ]
        },
        {
          "output_type": "stream",
          "name": "stderr",
          "text": [
            "200it [04:50,  1.45s/it]"
          ]
        },
        {
          "output_type": "stream",
          "name": "stdout",
          "text": [
            "Step-200, Loss-0.5775153636932373\n"
          ]
        },
        {
          "output_type": "stream",
          "name": "stderr",
          "text": [
            "300it [07:15,  1.45s/it]"
          ]
        },
        {
          "output_type": "stream",
          "name": "stdout",
          "text": [
            "Step-300, Loss-0.5991526246070862\n"
          ]
        },
        {
          "output_type": "stream",
          "name": "stderr",
          "text": [
            "400it [09:40,  1.45s/it]"
          ]
        },
        {
          "output_type": "stream",
          "name": "stdout",
          "text": [
            "Step-400, Loss-0.6172200441360474\n"
          ]
        },
        {
          "output_type": "stream",
          "name": "stderr",
          "text": [
            "500it [12:05,  1.45s/it]"
          ]
        },
        {
          "output_type": "stream",
          "name": "stdout",
          "text": [
            "Step-500, Loss-0.5966829061508179\n"
          ]
        },
        {
          "output_type": "stream",
          "name": "stderr",
          "text": [
            "600it [14:30,  1.45s/it]"
          ]
        },
        {
          "output_type": "stream",
          "name": "stdout",
          "text": [
            "Step-600, Loss-0.4454188644886017\n"
          ]
        },
        {
          "output_type": "stream",
          "name": "stderr",
          "text": [
            "700it [16:55,  1.45s/it]"
          ]
        },
        {
          "output_type": "stream",
          "name": "stdout",
          "text": [
            "Step-700, Loss-0.5131547451019287\n"
          ]
        },
        {
          "output_type": "stream",
          "name": "stderr",
          "text": [
            "800it [19:20,  1.44s/it]"
          ]
        },
        {
          "output_type": "stream",
          "name": "stdout",
          "text": [
            "Step-800, Loss-0.6010434031486511\n"
          ]
        },
        {
          "output_type": "stream",
          "name": "stderr",
          "text": [
            "900it [21:45,  1.45s/it]"
          ]
        },
        {
          "output_type": "stream",
          "name": "stdout",
          "text": [
            "Step-900, Loss-0.569153904914856\n"
          ]
        },
        {
          "output_type": "stream",
          "name": "stderr",
          "text": [
            "1000it [24:10,  1.46s/it]"
          ]
        },
        {
          "output_type": "stream",
          "name": "stdout",
          "text": [
            "Step-1000, Loss-0.5800294280052185\n"
          ]
        },
        {
          "output_type": "stream",
          "name": "stderr",
          "text": [
            "1100it [26:36,  1.46s/it]"
          ]
        },
        {
          "output_type": "stream",
          "name": "stdout",
          "text": [
            "Step-1100, Loss-0.5638339519500732\n"
          ]
        },
        {
          "output_type": "stream",
          "name": "stderr",
          "text": [
            "1200it [29:01,  1.45s/it]"
          ]
        },
        {
          "output_type": "stream",
          "name": "stdout",
          "text": [
            "Step-1200, Loss-0.6426364183425903\n"
          ]
        },
        {
          "output_type": "stream",
          "name": "stderr",
          "text": [
            "1220it [29:29,  1.45s/it]"
          ]
        },
        {
          "output_type": "stream",
          "name": "stdout",
          "text": [
            "Epoch 5/5, Average Loss: 0.5784\n"
          ]
        },
        {
          "output_type": "stream",
          "name": "stderr",
          "text": [
            "\n"
          ]
        }
      ]
    },
    {
      "cell_type": "code",
      "source": [
        "# Tokenize the test text\n",
        "test_tokens = tokenizer.batch_encode_plus(\n",
        "    test_text,\n",
        "    padding=True,\n",
        "    truncation=True,\n",
        "    return_tensors=\"pt\"\n",
        ")"
      ],
      "metadata": {
        "id": "omonaQheCCUt"
      },
      "execution_count": 10,
      "outputs": []
    },
    {
      "cell_type": "code",
      "source": [
        "# Prepare the test dataset\n",
        "test_dataset = MovieReviewsDataset(test_tokens, [0]*len(test_text))\n",
        "test_dataloader = DataLoader(test_dataset, batch_size=batch_size)\n"
      ],
      "metadata": {
        "id": "IsZ_n0quCYLM"
      },
      "execution_count": 11,
      "outputs": []
    },
    {
      "cell_type": "code",
      "source": [
        "# Evaluation loop\n",
        "model.eval()\n",
        "predictions = []\n",
        "with torch.no_grad():\n",
        "    for batch in tqdm(test_dataloader):\n",
        "        input_ids = batch[\"input_ids\"].to(device)\n",
        "        attention_mask = batch[\"attention_mask\"].to(device)\n",
        "        \n",
        "        outputs = model(input_ids, attention_mask=attention_mask)\n",
        "        logits = outputs.logits\n",
        "        probabilities = torch.softmax(logits, dim=1)\n",
        "        predicted_labels = torch.argmax(probabilities, dim=1)\n",
        "        predictions.extend(predicted_labels.cpu().numpy().tolist())\n"
      ],
      "metadata": {
        "id": "Cq3DE723CZcG",
        "colab": {
          "base_uri": "https://localhost:8080/"
        },
        "outputId": "4fbd8ecf-92db-4920-bdff-83cd1e87348a"
      },
      "execution_count": 13,
      "outputs": [
        {
          "output_type": "stream",
          "name": "stderr",
          "text": [
            "100%|██████████| 518/518 [03:57<00:00,  2.18it/s]\n"
          ]
        }
      ]
    },
    {
      "cell_type": "code",
      "source": [
        "# Prepare the submission file\n",
        "submission_df = pd.DataFrame({\"PhraseId\": test_df[\"PhraseId\"], \"Sentiment\": predictions})\n"
      ],
      "metadata": {
        "id": "c9J8HsZ5CiNq"
      },
      "execution_count": 17,
      "outputs": []
    },
    {
      "cell_type": "code",
      "source": [
        "# Convert sentiment labels to the required format\n",
        "sentiment_labels = [\"negative\", \"somewhat negative\", \"neutral\", \"somewhat positive\", \"positive\"]\n",
        "submission_df[\"Sentiment\"] = submission_df[\"Sentiment\"].apply(lambda x: sentiment_labels[x])\n"
      ],
      "metadata": {
        "id": "8eFH7tSAioFZ"
      },
      "execution_count": 15,
      "outputs": []
    },
    {
      "cell_type": "code",
      "source": [
        "submission_df"
      ],
      "metadata": {
        "colab": {
          "base_uri": "https://localhost:8080/",
          "height": 424
        },
        "id": "PhzYGpLDmYsX",
        "outputId": "37ca38a8-6592-4560-94da-56634c4efe0e"
      },
      "execution_count": 18,
      "outputs": [
        {
          "output_type": "execute_result",
          "data": {
            "text/plain": [
              "       PhraseId  Sentiment\n",
              "0        156061          2\n",
              "1        156062          2\n",
              "2        156063          2\n",
              "3        156064          2\n",
              "4        156065          2\n",
              "...         ...        ...\n",
              "66287    222348          1\n",
              "66288    222349          1\n",
              "66289    222350          1\n",
              "66290    222351          1\n",
              "66291    222352          1\n",
              "\n",
              "[66292 rows x 2 columns]"
            ],
            "text/html": [
              "\n",
              "  <div id=\"df-6389ef22-1f75-4ed4-9de0-b96e000a0f44\">\n",
              "    <div class=\"colab-df-container\">\n",
              "      <div>\n",
              "<style scoped>\n",
              "    .dataframe tbody tr th:only-of-type {\n",
              "        vertical-align: middle;\n",
              "    }\n",
              "\n",
              "    .dataframe tbody tr th {\n",
              "        vertical-align: top;\n",
              "    }\n",
              "\n",
              "    .dataframe thead th {\n",
              "        text-align: right;\n",
              "    }\n",
              "</style>\n",
              "<table border=\"1\" class=\"dataframe\">\n",
              "  <thead>\n",
              "    <tr style=\"text-align: right;\">\n",
              "      <th></th>\n",
              "      <th>PhraseId</th>\n",
              "      <th>Sentiment</th>\n",
              "    </tr>\n",
              "  </thead>\n",
              "  <tbody>\n",
              "    <tr>\n",
              "      <th>0</th>\n",
              "      <td>156061</td>\n",
              "      <td>2</td>\n",
              "    </tr>\n",
              "    <tr>\n",
              "      <th>1</th>\n",
              "      <td>156062</td>\n",
              "      <td>2</td>\n",
              "    </tr>\n",
              "    <tr>\n",
              "      <th>2</th>\n",
              "      <td>156063</td>\n",
              "      <td>2</td>\n",
              "    </tr>\n",
              "    <tr>\n",
              "      <th>3</th>\n",
              "      <td>156064</td>\n",
              "      <td>2</td>\n",
              "    </tr>\n",
              "    <tr>\n",
              "      <th>4</th>\n",
              "      <td>156065</td>\n",
              "      <td>2</td>\n",
              "    </tr>\n",
              "    <tr>\n",
              "      <th>...</th>\n",
              "      <td>...</td>\n",
              "      <td>...</td>\n",
              "    </tr>\n",
              "    <tr>\n",
              "      <th>66287</th>\n",
              "      <td>222348</td>\n",
              "      <td>1</td>\n",
              "    </tr>\n",
              "    <tr>\n",
              "      <th>66288</th>\n",
              "      <td>222349</td>\n",
              "      <td>1</td>\n",
              "    </tr>\n",
              "    <tr>\n",
              "      <th>66289</th>\n",
              "      <td>222350</td>\n",
              "      <td>1</td>\n",
              "    </tr>\n",
              "    <tr>\n",
              "      <th>66290</th>\n",
              "      <td>222351</td>\n",
              "      <td>1</td>\n",
              "    </tr>\n",
              "    <tr>\n",
              "      <th>66291</th>\n",
              "      <td>222352</td>\n",
              "      <td>1</td>\n",
              "    </tr>\n",
              "  </tbody>\n",
              "</table>\n",
              "<p>66292 rows × 2 columns</p>\n",
              "</div>\n",
              "      <button class=\"colab-df-convert\" onclick=\"convertToInteractive('df-6389ef22-1f75-4ed4-9de0-b96e000a0f44')\"\n",
              "              title=\"Convert this dataframe to an interactive table.\"\n",
              "              style=\"display:none;\">\n",
              "        \n",
              "  <svg xmlns=\"http://www.w3.org/2000/svg\" height=\"24px\"viewBox=\"0 0 24 24\"\n",
              "       width=\"24px\">\n",
              "    <path d=\"M0 0h24v24H0V0z\" fill=\"none\"/>\n",
              "    <path d=\"M18.56 5.44l.94 2.06.94-2.06 2.06-.94-2.06-.94-.94-2.06-.94 2.06-2.06.94zm-11 1L8.5 8.5l.94-2.06 2.06-.94-2.06-.94L8.5 2.5l-.94 2.06-2.06.94zm10 10l.94 2.06.94-2.06 2.06-.94-2.06-.94-.94-2.06-.94 2.06-2.06.94z\"/><path d=\"M17.41 7.96l-1.37-1.37c-.4-.4-.92-.59-1.43-.59-.52 0-1.04.2-1.43.59L10.3 9.45l-7.72 7.72c-.78.78-.78 2.05 0 2.83L4 21.41c.39.39.9.59 1.41.59.51 0 1.02-.2 1.41-.59l7.78-7.78 2.81-2.81c.8-.78.8-2.07 0-2.86zM5.41 20L4 18.59l7.72-7.72 1.47 1.35L5.41 20z\"/>\n",
              "  </svg>\n",
              "      </button>\n",
              "      \n",
              "  <style>\n",
              "    .colab-df-container {\n",
              "      display:flex;\n",
              "      flex-wrap:wrap;\n",
              "      gap: 12px;\n",
              "    }\n",
              "\n",
              "    .colab-df-convert {\n",
              "      background-color: #E8F0FE;\n",
              "      border: none;\n",
              "      border-radius: 50%;\n",
              "      cursor: pointer;\n",
              "      display: none;\n",
              "      fill: #1967D2;\n",
              "      height: 32px;\n",
              "      padding: 0 0 0 0;\n",
              "      width: 32px;\n",
              "    }\n",
              "\n",
              "    .colab-df-convert:hover {\n",
              "      background-color: #E2EBFA;\n",
              "      box-shadow: 0px 1px 2px rgba(60, 64, 67, 0.3), 0px 1px 3px 1px rgba(60, 64, 67, 0.15);\n",
              "      fill: #174EA6;\n",
              "    }\n",
              "\n",
              "    [theme=dark] .colab-df-convert {\n",
              "      background-color: #3B4455;\n",
              "      fill: #D2E3FC;\n",
              "    }\n",
              "\n",
              "    [theme=dark] .colab-df-convert:hover {\n",
              "      background-color: #434B5C;\n",
              "      box-shadow: 0px 1px 3px 1px rgba(0, 0, 0, 0.15);\n",
              "      filter: drop-shadow(0px 1px 2px rgba(0, 0, 0, 0.3));\n",
              "      fill: #FFFFFF;\n",
              "    }\n",
              "  </style>\n",
              "\n",
              "      <script>\n",
              "        const buttonEl =\n",
              "          document.querySelector('#df-6389ef22-1f75-4ed4-9de0-b96e000a0f44 button.colab-df-convert');\n",
              "        buttonEl.style.display =\n",
              "          google.colab.kernel.accessAllowed ? 'block' : 'none';\n",
              "\n",
              "        async function convertToInteractive(key) {\n",
              "          const element = document.querySelector('#df-6389ef22-1f75-4ed4-9de0-b96e000a0f44');\n",
              "          const dataTable =\n",
              "            await google.colab.kernel.invokeFunction('convertToInteractive',\n",
              "                                                     [key], {});\n",
              "          if (!dataTable) return;\n",
              "\n",
              "          const docLinkHtml = 'Like what you see? Visit the ' +\n",
              "            '<a target=\"_blank\" href=https://colab.research.google.com/notebooks/data_table.ipynb>data table notebook</a>'\n",
              "            + ' to learn more about interactive tables.';\n",
              "          element.innerHTML = '';\n",
              "          dataTable['output_type'] = 'display_data';\n",
              "          await google.colab.output.renderOutput(dataTable, element);\n",
              "          const docLink = document.createElement('div');\n",
              "          docLink.innerHTML = docLinkHtml;\n",
              "          element.appendChild(docLink);\n",
              "        }\n",
              "      </script>\n",
              "    </div>\n",
              "  </div>\n",
              "  "
            ]
          },
          "metadata": {},
          "execution_count": 18
        }
      ]
    },
    {
      "cell_type": "code",
      "source": [
        "# Save the submission file\n",
        "submission_df.to_csv(\"submission.csv\", index=False)"
      ],
      "metadata": {
        "id": "48me_3oRiq28"
      },
      "execution_count": 19,
      "outputs": []
    },
    {
      "cell_type": "markdown",
      "source": [
        "![image.png](data:image/png;base64,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)"
      ],
      "metadata": {
        "id": "326dRwK8nXsH"
      }
    },
    {
      "cell_type": "code",
      "source": [],
      "metadata": {
        "id": "SSdICFrple5P"
      },
      "execution_count": null,
      "outputs": []
    }
  ]
}