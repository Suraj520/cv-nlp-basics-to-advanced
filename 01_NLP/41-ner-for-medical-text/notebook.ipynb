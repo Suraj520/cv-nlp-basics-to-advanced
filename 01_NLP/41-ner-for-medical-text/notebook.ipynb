{
 "cells": [
  {
   "cell_type": "code",
   "execution_count": null,
   "metadata": {},
   "outputs": [],
   "source": [
    "import numpy as np\n",
    "from keras.models import Sequential\n",
    "from keras.layers import Dense, Dropout, LSTM, Bidirectional\n",
    "from keras.optimizers import Adam\n",
    "from tensorflow.keras.preprocessing.sequence import pad_sequences\n",
    "from keras.utils import to_categorical\n"
   ]
  },
  {
   "cell_type": "code",
   "execution_count": 6,
   "metadata": {},
   "outputs": [],
   "source": [
    "# Define the training data\n",
    "train_data = [\n",
    "    (\"Patient has a history of diabetes.\", [(0, 7, \"PROBLEM\")]),\n",
    "    (\"The patient is allergic to penicillin.\", [(20, 30, \"TREATMENT\")]),\n",
    "    (\"The patient has a family history of heart disease.\", [(23, 36, \"PROBLEM\")]),\n",
    "    (\"The patient is taking aspirin for pain relief.\", [(20, 26, \"TREATMENT\")]),\n",
    "    (\"The patient has a history of asthma.\", [(0, 7, \"PROBLEM\")])\n",
    "]\n",
    "\n",
    "# Define the labels\n",
    "labels = {\"PROBLEM\": 0, \"TREATMENT\": 1}\n"
   ]
  },
  {
   "attachments": {},
   "cell_type": "markdown",
   "metadata": {},
   "source": [
    "Consider the first sentence in train_data: \"Patient has a history of diabetes.\" The corresponding entity is \"(0, 7, \"PROBLEM\")\", which indicates that the entity is a problem related to the patient's medical history, and it starts at position 0 and ends at position 7 in the sentence. \n",
    "\n",
    "To label this sentence using the BIO tagging scheme, we would first split the sentence into tokens: [\"Patient\", \"has\", \"a\", \"history\", \"of\", \"diabetes\", \".\"]. Then, we would label each token with a tag based on its position in the entity. Since the entity starts at position 0, the first token (\"Patient\") would be labeled \"B-PROBLEM\", indicating that it is the beginning of the entity. \n",
    "\n",
    "The next token (\"has\") is outside the entity, so it is labeled \"O\". The next token (\"a\") is also outside the entity, so it is labeled \"O\". The next token (\"history\") is inside the entity, so it is labeled \"I-PROBLEM\". The next token (\"of\") is inside the entity, so it is also labeled \"I-PROBLEM\". \n",
    "\n",
    "The next token (\"diabetes\") is inside the entity, so it is also labeled \"I-PROBLEM\". Finally, the last token (\".\") is outside the entity, so it is labeled \"O\". The resulting sequence of labels for this sentence would be: [\"B-PROBLEM\", \"O\", \"O\", \"I-PROBLEM\", \"I-PROBLEM\", \"I-PROBLEM\", \"O\"]."
   ]
  },
  {
   "cell_type": "code",
   "execution_count": 7,
   "metadata": {},
   "outputs": [],
   "source": [
    "# Define the vocabulary\n",
    "vocab = {\"<PAD>\": 0, \"<UNK>\": 1, \"Patient\": 2, \"has\": 3, \"a\": 4, \"history\": 5, \"of\": 6, \"diabetes\": 7, \".\": 8, \"The\": 9, \"patient\": 10, \"is\": 11, \"allergic\": 12, \"to\": 13, \"penicillin\": 14, \"family\": 15, \"heart\": 16, \"disease\": 17, \"taking\": 18, \"aspirin\": 19, \"for\": 20, \"pain\": 21, \"relief\": 22, \"asthma\": 23}\n",
    "\n",
    "# Define the maximum sequence length\n",
    "max_len = 50\n"
   ]
  },
  {
   "cell_type": "code",
   "execution_count": 8,
   "metadata": {},
   "outputs": [],
   "source": [
    "# Convert the training data to sequences of word indices and label indices\n",
    "X = []\n",
    "y = []\n",
    "for sentence, entities in train_data:\n",
    "    X_seq = [vocab.get(word, vocab[\"<UNK>\"]) for word in sentence.split()]\n",
    "    y_seq = np.zeros(len(X_seq))\n",
    "    for entity in entities:\n",
    "        start, end, label = entity\n",
    "        start_idx = len(sentence[:start].split())\n",
    "        end_idx = len(sentence[:end].split()) - 1\n",
    "        for i in range(start_idx, end_idx + 1):\n",
    "            y_seq[i] = labels[label]\n",
    "    X.append(X_seq)\n",
    "    y.append(y_seq)\n"
   ]
  },
  {
   "cell_type": "code",
   "execution_count": 9,
   "metadata": {},
   "outputs": [],
   "source": [
    "# Pad the sequences to the maximum length\n",
    "X = pad_sequences(X, maxlen=max_len, padding=\"post\", value=vocab[\"<PAD>\"])\n",
    "y = pad_sequences(y, maxlen=max_len, padding=\"post\", value=-1)\n",
    "\n",
    "# Convert the label indices to one-hot vectors\n",
    "y = to_categorical(y, num_classes=len(labels))\n"
   ]
  },
  {
   "cell_type": "code",
   "execution_count": 10,
   "metadata": {},
   "outputs": [
    {
     "name": "stderr",
     "output_type": "stream",
     "text": [
      "2023-05-15 18:42:54.998350: I tensorflow/core/common_runtime/executor.cc:1197] [/device:CPU:0] (DEBUG INFO) Executor start aborting (this does not indicate an error and you can ignore this message): INVALID_ARGUMENT: You must feed a value for placeholder tensor 'gradients/split_2_grad/concat/split_2/split_dim' with dtype int32\n",
      "\t [[{{node gradients/split_2_grad/concat/split_2/split_dim}}]]\n",
      "2023-05-15 18:42:55.005439: I tensorflow/core/common_runtime/executor.cc:1197] [/device:CPU:0] (DEBUG INFO) Executor start aborting (this does not indicate an error and you can ignore this message): INVALID_ARGUMENT: You must feed a value for placeholder tensor 'gradients/split_grad/concat/split/split_dim' with dtype int32\n",
      "\t [[{{node gradients/split_grad/concat/split/split_dim}}]]\n",
      "2023-05-15 18:42:55.009410: I tensorflow/core/common_runtime/executor.cc:1197] [/device:CPU:0] (DEBUG INFO) Executor start aborting (this does not indicate an error and you can ignore this message): INVALID_ARGUMENT: You must feed a value for placeholder tensor 'gradients/split_1_grad/concat/split_1/split_dim' with dtype int32\n",
      "\t [[{{node gradients/split_1_grad/concat/split_1/split_dim}}]]\n",
      "2023-05-15 18:42:55.372853: I tensorflow/core/common_runtime/executor.cc:1197] [/device:CPU:0] (DEBUG INFO) Executor start aborting (this does not indicate an error and you can ignore this message): INVALID_ARGUMENT: You must feed a value for placeholder tensor 'gradients/ReverseV2_grad/ReverseV2/ReverseV2/axis' with dtype int32 and shape [1]\n",
      "\t [[{{node gradients/ReverseV2_grad/ReverseV2/ReverseV2/axis}}]]\n",
      "2023-05-15 18:42:55.517550: I tensorflow/core/common_runtime/executor.cc:1197] [/device:CPU:0] (DEBUG INFO) Executor start aborting (this does not indicate an error and you can ignore this message): INVALID_ARGUMENT: You must feed a value for placeholder tensor 'gradients/split_2_grad/concat/split_2/split_dim' with dtype int32\n",
      "\t [[{{node gradients/split_2_grad/concat/split_2/split_dim}}]]\n",
      "2023-05-15 18:42:55.519526: I tensorflow/core/common_runtime/executor.cc:1197] [/device:CPU:0] (DEBUG INFO) Executor start aborting (this does not indicate an error and you can ignore this message): INVALID_ARGUMENT: You must feed a value for placeholder tensor 'gradients/split_grad/concat/split/split_dim' with dtype int32\n",
      "\t [[{{node gradients/split_grad/concat/split/split_dim}}]]\n",
      "2023-05-15 18:42:55.523619: I tensorflow/core/common_runtime/executor.cc:1197] [/device:CPU:0] (DEBUG INFO) Executor start aborting (this does not indicate an error and you can ignore this message): INVALID_ARGUMENT: You must feed a value for placeholder tensor 'gradients/split_1_grad/concat/split_1/split_dim' with dtype int32\n",
      "\t [[{{node gradients/split_1_grad/concat/split_1/split_dim}}]]\n"
     ]
    }
   ],
   "source": [
    "# Define the model architecture\n",
    "model = Sequential()\n",
    "model.add(Embedding(input_dim=len(vocab), output_dim=128, input_length=max_len))\n",
    "model.add(Bidirectional(LSTM(64, return_sequences=True)))\n",
    "model.add(Dropout(0.5))\n",
    "model.add(TimeDistributed(Dense(len(labels), activation=\"softmax\")))\n"
   ]
  },
  {
   "cell_type": "code",
   "execution_count": 11,
   "metadata": {},
   "outputs": [
    {
     "name": "stdout",
     "output_type": "stream",
     "text": [
      "Epoch 1/10\n"
     ]
    },
    {
     "name": "stderr",
     "output_type": "stream",
     "text": [
      "/home/suraj/anaconda3/envs/dl/lib/python3.9/site-packages/keras/optimizers/legacy/adam.py:117: UserWarning: The `lr` argument is deprecated, use `learning_rate` instead.\n",
      "  super().__init__(name, **kwargs)\n",
      "2023-05-15 18:43:03.356519: I tensorflow/core/common_runtime/executor.cc:1197] [/device:CPU:0] (DEBUG INFO) Executor start aborting (this does not indicate an error and you can ignore this message): INVALID_ARGUMENT: You must feed a value for placeholder tensor 'gradients/split_2_grad/concat/split_2/split_dim' with dtype int32\n",
      "\t [[{{node gradients/split_2_grad/concat/split_2/split_dim}}]]\n",
      "2023-05-15 18:43:03.364033: I tensorflow/core/common_runtime/executor.cc:1197] [/device:CPU:0] (DEBUG INFO) Executor start aborting (this does not indicate an error and you can ignore this message): INVALID_ARGUMENT: You must feed a value for placeholder tensor 'gradients/split_grad/concat/split/split_dim' with dtype int32\n",
      "\t [[{{node gradients/split_grad/concat/split/split_dim}}]]\n",
      "2023-05-15 18:43:03.366214: I tensorflow/core/common_runtime/executor.cc:1197] [/device:CPU:0] (DEBUG INFO) Executor start aborting (this does not indicate an error and you can ignore this message): INVALID_ARGUMENT: You must feed a value for placeholder tensor 'gradients/split_1_grad/concat/split_1/split_dim' with dtype int32\n",
      "\t [[{{node gradients/split_1_grad/concat/split_1/split_dim}}]]\n",
      "2023-05-15 18:43:03.712032: I tensorflow/core/common_runtime/executor.cc:1197] [/device:CPU:0] (DEBUG INFO) Executor start aborting (this does not indicate an error and you can ignore this message): INVALID_ARGUMENT: You must feed a value for placeholder tensor 'gradients/ReverseV2_grad/ReverseV2/ReverseV2/axis' with dtype int32 and shape [1]\n",
      "\t [[{{node gradients/ReverseV2_grad/ReverseV2/ReverseV2/axis}}]]\n",
      "2023-05-15 18:43:03.872847: I tensorflow/core/common_runtime/executor.cc:1197] [/device:CPU:0] (DEBUG INFO) Executor start aborting (this does not indicate an error and you can ignore this message): INVALID_ARGUMENT: You must feed a value for placeholder tensor 'gradients/split_2_grad/concat/split_2/split_dim' with dtype int32\n",
      "\t [[{{node gradients/split_2_grad/concat/split_2/split_dim}}]]\n",
      "2023-05-15 18:43:03.874740: I tensorflow/core/common_runtime/executor.cc:1197] [/device:CPU:0] (DEBUG INFO) Executor start aborting (this does not indicate an error and you can ignore this message): INVALID_ARGUMENT: You must feed a value for placeholder tensor 'gradients/split_grad/concat/split/split_dim' with dtype int32\n",
      "\t [[{{node gradients/split_grad/concat/split/split_dim}}]]\n",
      "2023-05-15 18:43:03.877258: I tensorflow/core/common_runtime/executor.cc:1197] [/device:CPU:0] (DEBUG INFO) Executor start aborting (this does not indicate an error and you can ignore this message): INVALID_ARGUMENT: You must feed a value for placeholder tensor 'gradients/split_1_grad/concat/split_1/split_dim' with dtype int32\n",
      "\t [[{{node gradients/split_1_grad/concat/split_1/split_dim}}]]\n",
      "2023-05-15 18:43:05.373359: I tensorflow/core/common_runtime/executor.cc:1197] [/device:CPU:0] (DEBUG INFO) Executor start aborting (this does not indicate an error and you can ignore this message): INVALID_ARGUMENT: You must feed a value for placeholder tensor 'gradients/ReverseV2_grad/ReverseV2/ReverseV2/axis' with dtype int32 and shape [1]\n",
      "\t [[{{node gradients/ReverseV2_grad/ReverseV2/ReverseV2/axis}}]]\n",
      "2023-05-15 18:43:06.012752: I tensorflow/core/common_runtime/executor.cc:1197] [/device:CPU:0] (DEBUG INFO) Executor start aborting (this does not indicate an error and you can ignore this message): INVALID_ARGUMENT: You must feed a value for placeholder tensor 'gradients/split_2_grad/concat/split_2/split_dim' with dtype int32\n",
      "\t [[{{node gradients/split_2_grad/concat/split_2/split_dim}}]]\n",
      "2023-05-15 18:43:06.020136: I tensorflow/core/common_runtime/executor.cc:1197] [/device:CPU:0] (DEBUG INFO) Executor start aborting (this does not indicate an error and you can ignore this message): INVALID_ARGUMENT: You must feed a value for placeholder tensor 'gradients/split_grad/concat/split/split_dim' with dtype int32\n",
      "\t [[{{node gradients/split_grad/concat/split/split_dim}}]]\n",
      "2023-05-15 18:43:06.022139: I tensorflow/core/common_runtime/executor.cc:1197] [/device:CPU:0] (DEBUG INFO) Executor start aborting (this does not indicate an error and you can ignore this message): INVALID_ARGUMENT: You must feed a value for placeholder tensor 'gradients/split_1_grad/concat/split_1/split_dim' with dtype int32\n",
      "\t [[{{node gradients/split_1_grad/concat/split_1/split_dim}}]]\n",
      "2023-05-15 18:43:06.368086: I tensorflow/core/common_runtime/executor.cc:1197] [/device:CPU:0] (DEBUG INFO) Executor start aborting (this does not indicate an error and you can ignore this message): INVALID_ARGUMENT: You must feed a value for placeholder tensor 'gradients/ReverseV2_grad/ReverseV2/ReverseV2/axis' with dtype int32 and shape [1]\n",
      "\t [[{{node gradients/ReverseV2_grad/ReverseV2/ReverseV2/axis}}]]\n",
      "2023-05-15 18:43:06.478154: I tensorflow/core/common_runtime/executor.cc:1197] [/device:CPU:0] (DEBUG INFO) Executor start aborting (this does not indicate an error and you can ignore this message): INVALID_ARGUMENT: You must feed a value for placeholder tensor 'gradients/split_2_grad/concat/split_2/split_dim' with dtype int32\n",
      "\t [[{{node gradients/split_2_grad/concat/split_2/split_dim}}]]\n",
      "2023-05-15 18:43:06.480007: I tensorflow/core/common_runtime/executor.cc:1197] [/device:CPU:0] (DEBUG INFO) Executor start aborting (this does not indicate an error and you can ignore this message): INVALID_ARGUMENT: You must feed a value for placeholder tensor 'gradients/split_grad/concat/split/split_dim' with dtype int32\n",
      "\t [[{{node gradients/split_grad/concat/split/split_dim}}]]\n",
      "2023-05-15 18:43:06.486991: I tensorflow/core/common_runtime/executor.cc:1197] [/device:CPU:0] (DEBUG INFO) Executor start aborting (this does not indicate an error and you can ignore this message): INVALID_ARGUMENT: You must feed a value for placeholder tensor 'gradients/split_1_grad/concat/split_1/split_dim' with dtype int32\n",
      "\t [[{{node gradients/split_1_grad/concat/split_1/split_dim}}]]\n",
      "2023-05-15 18:43:08.065426: I tensorflow/core/common_runtime/executor.cc:1197] [/device:CPU:0] (DEBUG INFO) Executor start aborting (this does not indicate an error and you can ignore this message): INVALID_ARGUMENT: You must feed a value for placeholder tensor 'gradients/ReverseV2_grad/ReverseV2/ReverseV2/axis' with dtype int32 and shape [1]\n",
      "\t [[{{node gradients/ReverseV2_grad/ReverseV2/ReverseV2/axis}}]]\n"
     ]
    },
    {
     "name": "stdout",
     "output_type": "stream",
     "text": [
      "1/1 [==============================] - ETA: 0s - loss: 0.7081 - accuracy: 0.3100"
     ]
    },
    {
     "name": "stderr",
     "output_type": "stream",
     "text": [
      "2023-05-15 18:43:10.284583: I tensorflow/core/common_runtime/executor.cc:1197] [/device:CPU:0] (DEBUG INFO) Executor start aborting (this does not indicate an error and you can ignore this message): INVALID_ARGUMENT: You must feed a value for placeholder tensor 'gradients/split_2_grad/concat/split_2/split_dim' with dtype int32\n",
      "\t [[{{node gradients/split_2_grad/concat/split_2/split_dim}}]]\n",
      "2023-05-15 18:43:10.288449: I tensorflow/core/common_runtime/executor.cc:1197] [/device:CPU:0] (DEBUG INFO) Executor start aborting (this does not indicate an error and you can ignore this message): INVALID_ARGUMENT: You must feed a value for placeholder tensor 'gradients/split_grad/concat/split/split_dim' with dtype int32\n",
      "\t [[{{node gradients/split_grad/concat/split/split_dim}}]]\n",
      "2023-05-15 18:43:10.294587: I tensorflow/core/common_runtime/executor.cc:1197] [/device:CPU:0] (DEBUG INFO) Executor start aborting (this does not indicate an error and you can ignore this message): INVALID_ARGUMENT: You must feed a value for placeholder tensor 'gradients/split_1_grad/concat/split_1/split_dim' with dtype int32\n",
      "\t [[{{node gradients/split_1_grad/concat/split_1/split_dim}}]]\n",
      "2023-05-15 18:43:10.670595: I tensorflow/core/common_runtime/executor.cc:1197] [/device:CPU:0] (DEBUG INFO) Executor start aborting (this does not indicate an error and you can ignore this message): INVALID_ARGUMENT: You must feed a value for placeholder tensor 'gradients/ReverseV2_grad/ReverseV2/ReverseV2/axis' with dtype int32 and shape [1]\n",
      "\t [[{{node gradients/ReverseV2_grad/ReverseV2/ReverseV2/axis}}]]\n",
      "2023-05-15 18:43:10.803439: I tensorflow/core/common_runtime/executor.cc:1197] [/device:CPU:0] (DEBUG INFO) Executor start aborting (this does not indicate an error and you can ignore this message): INVALID_ARGUMENT: You must feed a value for placeholder tensor 'gradients/split_2_grad/concat/split_2/split_dim' with dtype int32\n",
      "\t [[{{node gradients/split_2_grad/concat/split_2/split_dim}}]]\n",
      "2023-05-15 18:43:10.805083: I tensorflow/core/common_runtime/executor.cc:1197] [/device:CPU:0] (DEBUG INFO) Executor start aborting (this does not indicate an error and you can ignore this message): INVALID_ARGUMENT: You must feed a value for placeholder tensor 'gradients/split_grad/concat/split/split_dim' with dtype int32\n",
      "\t [[{{node gradients/split_grad/concat/split/split_dim}}]]\n",
      "2023-05-15 18:43:10.812332: I tensorflow/core/common_runtime/executor.cc:1197] [/device:CPU:0] (DEBUG INFO) Executor start aborting (this does not indicate an error and you can ignore this message): INVALID_ARGUMENT: You must feed a value for placeholder tensor 'gradients/split_1_grad/concat/split_1/split_dim' with dtype int32\n",
      "\t [[{{node gradients/split_1_grad/concat/split_1/split_dim}}]]\n"
     ]
    },
    {
     "name": "stdout",
     "output_type": "stream",
     "text": [
      "1/1 [==============================] - 8s 8s/step - loss: 0.7081 - accuracy: 0.3100 - val_loss: 0.6635 - val_accuracy: 0.8600\n",
      "Epoch 2/10\n",
      "1/1 [==============================] - 0s 94ms/step - loss: 0.6632 - accuracy: 0.8350 - val_loss: 0.6202 - val_accuracy: 0.8600\n",
      "Epoch 3/10\n",
      "1/1 [==============================] - 0s 95ms/step - loss: 0.6183 - accuracy: 0.8700 - val_loss: 0.5777 - val_accuracy: 0.8600\n",
      "Epoch 4/10\n",
      "1/1 [==============================] - 0s 98ms/step - loss: 0.5782 - accuracy: 0.8700 - val_loss: 0.5351 - val_accuracy: 0.8600\n",
      "Epoch 5/10\n",
      "1/1 [==============================] - 0s 92ms/step - loss: 0.5352 - accuracy: 0.8700 - val_loss: 0.4920 - val_accuracy: 0.8600\n",
      "Epoch 6/10\n",
      "1/1 [==============================] - 0s 95ms/step - loss: 0.4906 - accuracy: 0.8700 - val_loss: 0.4483 - val_accuracy: 0.8600\n",
      "Epoch 7/10\n",
      "1/1 [==============================] - 0s 96ms/step - loss: 0.4489 - accuracy: 0.8700 - val_loss: 0.4042 - val_accuracy: 0.8600\n",
      "Epoch 8/10\n",
      "1/1 [==============================] - 0s 97ms/step - loss: 0.4032 - accuracy: 0.8700 - val_loss: 0.3610 - val_accuracy: 0.8600\n",
      "Epoch 9/10\n",
      "1/1 [==============================] - 0s 95ms/step - loss: 0.3619 - accuracy: 0.8700 - val_loss: 0.3210 - val_accuracy: 0.8600\n",
      "Epoch 10/10\n",
      "1/1 [==============================] - 0s 105ms/step - loss: 0.3132 - accuracy: 0.8700 - val_loss: 0.2878 - val_accuracy: 0.8600\n"
     ]
    },
    {
     "data": {
      "text/plain": [
       "<keras.callbacks.History at 0x7fec74322250>"
      ]
     },
     "execution_count": 11,
     "metadata": {},
     "output_type": "execute_result"
    }
   ],
   "source": [
    "# Compile the model\n",
    "model.compile(loss=\"categorical_crossentropy\", optimizer=Adam(lr=0.001), metrics=[\"accuracy\"])\n",
    "\n",
    "# Train the model\n",
    "model.fit(X, y, batch_size=32, epochs=10, validation_split=0.2)\n",
    "\n"
   ]
  },
  {
   "cell_type": "code",
   "execution_count": 13,
   "metadata": {},
   "outputs": [],
   "source": [
    "# Define the test data\n",
    "test_data = [\n",
    "    \"The patient has a history of heart disease.\",\n",
    "    \"The patient is allergic to penicillin.\",\n",
    "    \"The patient is taking aspirin for pain relief.\"\n",
    "]\n",
    "\n"
   ]
  },
  {
   "cell_type": "code",
   "execution_count": 14,
   "metadata": {},
   "outputs": [],
   "source": [
    "# Convert the test data to sequences of word indices\n",
    "X_test = []\n",
    "for sentence in test_data:\n",
    "    X_test_seq = [vocab.get(word, vocab[\"<UNK>\"]) for word in sentence.split()]\n",
    "    X_test.append(X_test_seq)\n",
    "\n"
   ]
  },
  {
   "cell_type": "code",
   "execution_count": 15,
   "metadata": {},
   "outputs": [
    {
     "name": "stderr",
     "output_type": "stream",
     "text": [
      "2023-05-15 18:43:48.600454: I tensorflow/core/common_runtime/executor.cc:1197] [/device:CPU:0] (DEBUG INFO) Executor start aborting (this does not indicate an error and you can ignore this message): INVALID_ARGUMENT: You must feed a value for placeholder tensor 'gradients/split_2_grad/concat/split_2/split_dim' with dtype int32\n",
      "\t [[{{node gradients/split_2_grad/concat/split_2/split_dim}}]]\n",
      "2023-05-15 18:43:48.603349: I tensorflow/core/common_runtime/executor.cc:1197] [/device:CPU:0] (DEBUG INFO) Executor start aborting (this does not indicate an error and you can ignore this message): INVALID_ARGUMENT: You must feed a value for placeholder tensor 'gradients/split_grad/concat/split/split_dim' with dtype int32\n",
      "\t [[{{node gradients/split_grad/concat/split/split_dim}}]]\n",
      "2023-05-15 18:43:48.609910: I tensorflow/core/common_runtime/executor.cc:1197] [/device:CPU:0] (DEBUG INFO) Executor start aborting (this does not indicate an error and you can ignore this message): INVALID_ARGUMENT: You must feed a value for placeholder tensor 'gradients/split_1_grad/concat/split_1/split_dim' with dtype int32\n",
      "\t [[{{node gradients/split_1_grad/concat/split_1/split_dim}}]]\n",
      "2023-05-15 18:43:49.014102: I tensorflow/core/common_runtime/executor.cc:1197] [/device:CPU:0] (DEBUG INFO) Executor start aborting (this does not indicate an error and you can ignore this message): INVALID_ARGUMENT: You must feed a value for placeholder tensor 'gradients/ReverseV2_grad/ReverseV2/ReverseV2/axis' with dtype int32 and shape [1]\n",
      "\t [[{{node gradients/ReverseV2_grad/ReverseV2/ReverseV2/axis}}]]\n",
      "2023-05-15 18:43:49.184833: I tensorflow/core/common_runtime/executor.cc:1197] [/device:CPU:0] (DEBUG INFO) Executor start aborting (this does not indicate an error and you can ignore this message): INVALID_ARGUMENT: You must feed a value for placeholder tensor 'gradients/split_2_grad/concat/split_2/split_dim' with dtype int32\n",
      "\t [[{{node gradients/split_2_grad/concat/split_2/split_dim}}]]\n",
      "2023-05-15 18:43:49.187629: I tensorflow/core/common_runtime/executor.cc:1197] [/device:CPU:0] (DEBUG INFO) Executor start aborting (this does not indicate an error and you can ignore this message): INVALID_ARGUMENT: You must feed a value for placeholder tensor 'gradients/split_grad/concat/split/split_dim' with dtype int32\n",
      "\t [[{{node gradients/split_grad/concat/split/split_dim}}]]\n",
      "2023-05-15 18:43:49.194925: I tensorflow/core/common_runtime/executor.cc:1197] [/device:CPU:0] (DEBUG INFO) Executor start aborting (this does not indicate an error and you can ignore this message): INVALID_ARGUMENT: You must feed a value for placeholder tensor 'gradients/split_1_grad/concat/split_1/split_dim' with dtype int32\n",
      "\t [[{{node gradients/split_1_grad/concat/split_1/split_dim}}]]\n"
     ]
    },
    {
     "name": "stdout",
     "output_type": "stream",
     "text": [
      "1/1 [==============================] - 1s 1s/step\n"
     ]
    }
   ],
   "source": [
    "# Pad the sequences to the maximum length\n",
    "X_test = pad_sequences(X_test, maxlen=max_len, padding=\"post\", value=vocab[\"<PAD>\"])\n",
    "\n",
    "# Make predictions on the test data\n",
    "y_pred = model.predict(X_test)\n",
    "\n",
    "# Convert the predicted label probabilities to label indices\n",
    "y_pred = np.argmax(y_pred, axis=-1)\n",
    "\n"
   ]
  },
  {
   "cell_type": "code",
   "execution_count": 16,
   "metadata": {},
   "outputs": [
    {
     "name": "stdout",
     "output_type": "stream",
     "text": [
      "Sentence 1: The patient has a history of heart disease.\n",
      "Entity 1: TREATMENT\n",
      "Entity 2: TREATMENT\n",
      "Entity 3: TREATMENT\n",
      "Entity 4: TREATMENT\n",
      "Entity 5: TREATMENT\n",
      "Entity 6: TREATMENT\n",
      "Entity 7: TREATMENT\n",
      "Entity 8: TREATMENT\n",
      "Entity 9: TREATMENT\n",
      "Entity 10: TREATMENT\n",
      "Entity 11: TREATMENT\n",
      "Entity 12: TREATMENT\n",
      "Entity 13: TREATMENT\n",
      "Entity 14: TREATMENT\n",
      "Entity 15: TREATMENT\n",
      "Entity 16: TREATMENT\n",
      "Entity 17: TREATMENT\n",
      "Entity 18: TREATMENT\n",
      "Entity 19: TREATMENT\n",
      "Entity 20: TREATMENT\n",
      "Entity 21: TREATMENT\n",
      "Entity 22: TREATMENT\n",
      "Entity 23: TREATMENT\n",
      "Entity 24: TREATMENT\n",
      "Entity 25: TREATMENT\n",
      "Entity 26: TREATMENT\n",
      "Entity 27: TREATMENT\n",
      "Entity 28: TREATMENT\n",
      "Entity 29: TREATMENT\n",
      "Entity 30: TREATMENT\n",
      "Entity 31: TREATMENT\n",
      "Entity 32: TREATMENT\n",
      "Entity 33: TREATMENT\n",
      "Entity 34: TREATMENT\n",
      "Entity 35: TREATMENT\n",
      "Entity 36: TREATMENT\n",
      "Entity 37: TREATMENT\n",
      "Entity 38: TREATMENT\n",
      "Entity 39: TREATMENT\n",
      "Entity 40: TREATMENT\n",
      "Entity 41: TREATMENT\n",
      "Entity 42: TREATMENT\n",
      "Entity 43: TREATMENT\n",
      "Entity 44: TREATMENT\n",
      "Entity 45: TREATMENT\n",
      "Entity 46: TREATMENT\n",
      "Entity 47: TREATMENT\n",
      "Entity 48: TREATMENT\n",
      "Entity 49: TREATMENT\n",
      "Entity 50: TREATMENT\n",
      "\n",
      "Sentence 2: The patient is allergic to penicillin.\n",
      "Entity 1: TREATMENT\n",
      "Entity 2: TREATMENT\n",
      "Entity 3: TREATMENT\n",
      "Entity 4: TREATMENT\n",
      "Entity 5: TREATMENT\n",
      "Entity 6: TREATMENT\n",
      "Entity 7: TREATMENT\n",
      "Entity 8: TREATMENT\n",
      "Entity 9: TREATMENT\n",
      "Entity 10: TREATMENT\n",
      "Entity 11: TREATMENT\n",
      "Entity 12: TREATMENT\n",
      "Entity 13: TREATMENT\n",
      "Entity 14: TREATMENT\n",
      "Entity 15: TREATMENT\n",
      "Entity 16: TREATMENT\n",
      "Entity 17: TREATMENT\n",
      "Entity 18: TREATMENT\n",
      "Entity 19: TREATMENT\n",
      "Entity 20: TREATMENT\n",
      "Entity 21: TREATMENT\n",
      "Entity 22: TREATMENT\n",
      "Entity 23: TREATMENT\n",
      "Entity 24: TREATMENT\n",
      "Entity 25: TREATMENT\n",
      "Entity 26: TREATMENT\n",
      "Entity 27: TREATMENT\n",
      "Entity 28: TREATMENT\n",
      "Entity 29: TREATMENT\n",
      "Entity 30: TREATMENT\n",
      "Entity 31: TREATMENT\n",
      "Entity 32: TREATMENT\n",
      "Entity 33: TREATMENT\n",
      "Entity 34: TREATMENT\n",
      "Entity 35: TREATMENT\n",
      "Entity 36: TREATMENT\n",
      "Entity 37: TREATMENT\n",
      "Entity 38: TREATMENT\n",
      "Entity 39: TREATMENT\n",
      "Entity 40: TREATMENT\n",
      "Entity 41: TREATMENT\n",
      "Entity 42: TREATMENT\n",
      "Entity 43: TREATMENT\n",
      "Entity 44: TREATMENT\n",
      "Entity 45: TREATMENT\n",
      "Entity 46: TREATMENT\n",
      "Entity 47: TREATMENT\n",
      "Entity 48: TREATMENT\n",
      "Entity 49: TREATMENT\n",
      "Entity 50: TREATMENT\n",
      "\n",
      "Sentence 3: The patient is taking aspirin for pain relief.\n",
      "Entity 1: TREATMENT\n",
      "Entity 2: TREATMENT\n",
      "Entity 3: TREATMENT\n",
      "Entity 4: TREATMENT\n",
      "Entity 5: TREATMENT\n",
      "Entity 6: TREATMENT\n",
      "Entity 7: TREATMENT\n",
      "Entity 8: TREATMENT\n",
      "Entity 9: TREATMENT\n",
      "Entity 10: TREATMENT\n",
      "Entity 11: TREATMENT\n",
      "Entity 12: TREATMENT\n",
      "Entity 13: TREATMENT\n",
      "Entity 14: TREATMENT\n",
      "Entity 15: TREATMENT\n",
      "Entity 16: TREATMENT\n",
      "Entity 17: TREATMENT\n",
      "Entity 18: TREATMENT\n",
      "Entity 19: TREATMENT\n",
      "Entity 20: TREATMENT\n",
      "Entity 21: TREATMENT\n",
      "Entity 22: TREATMENT\n",
      "Entity 23: TREATMENT\n",
      "Entity 24: TREATMENT\n",
      "Entity 25: TREATMENT\n",
      "Entity 26: TREATMENT\n",
      "Entity 27: TREATMENT\n",
      "Entity 28: TREATMENT\n",
      "Entity 29: TREATMENT\n",
      "Entity 30: TREATMENT\n",
      "Entity 31: TREATMENT\n",
      "Entity 32: TREATMENT\n",
      "Entity 33: TREATMENT\n",
      "Entity 34: TREATMENT\n",
      "Entity 35: TREATMENT\n",
      "Entity 36: TREATMENT\n",
      "Entity 37: TREATMENT\n",
      "Entity 38: TREATMENT\n",
      "Entity 39: TREATMENT\n",
      "Entity 40: TREATMENT\n",
      "Entity 41: TREATMENT\n",
      "Entity 42: TREATMENT\n",
      "Entity 43: TREATMENT\n",
      "Entity 44: TREATMENT\n",
      "Entity 45: TREATMENT\n",
      "Entity 46: TREATMENT\n",
      "Entity 47: TREATMENT\n",
      "Entity 48: TREATMENT\n",
      "Entity 49: TREATMENT\n",
      "Entity 50: TREATMENT\n",
      "\n"
     ]
    }
   ],
   "source": [
    "# Convert the label indices to labels\n",
    "labels_inv = {v: k for k, v in labels.items()}\n",
    "y_pred_labels = [[labels_inv.get(idx, \"O\") for idx in seq] for seq in y_pred]\n",
    "\n",
    "# Print the predicted entities for each sentence\n",
    "for i, sentence in enumerate(test_data):\n",
    "    print(f\"Sentence {i+1}: {sentence}\")\n",
    "    for j, label in enumerate(y_pred_labels[i]):\n",
    "        if label != \"O\":\n",
    "            print(f\"Entity {j+1}: {label}\")\n",
    "    print()\n",
    "\n",
    "\n"
   ]
  },
  {
   "cell_type": "code",
   "execution_count": null,
   "metadata": {},
   "outputs": [],
   "source": []
  }
 ],
 "metadata": {
  "kernelspec": {
   "display_name": "dl",
   "language": "python",
   "name": "python3"
  },
  "language_info": {
   "codemirror_mode": {
    "name": "ipython",
    "version": 3
   },
   "file_extension": ".py",
   "mimetype": "text/x-python",
   "name": "python",
   "nbconvert_exporter": "python",
   "pygments_lexer": "ipython3",
   "version": "3.9.16"
  },
  "orig_nbformat": 4
 },
 "nbformat": 4,
 "nbformat_minor": 2
}
