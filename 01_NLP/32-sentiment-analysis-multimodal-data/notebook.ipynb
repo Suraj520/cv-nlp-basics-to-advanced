{
 "cells": [
  {
   "attachments": {},
   "cell_type": "markdown",
   "metadata": {},
   "source": [
    "#### About\n",
    "> Multimodal sentiment detection\n",
    "\n",
<<<<<<< Updated upstream
    "https://www.kaggle.com/bhargaviparanjape/affective-images"
=======
    "Dataset created and published on Kaggle https://www.kaggle.com/datasets/suraj520/multimodal-sentiment-data"
>>>>>>> Stashed changes
   ]
  },
  {
   "cell_type": "code",
   "execution_count": null,
   "metadata": {},
   "outputs": [],
   "source": []
  }
 ],
 "metadata": {
  "language_info": {
   "name": "python"
  },
  "orig_nbformat": 4
 },
 "nbformat": 4,
 "nbformat_minor": 2
}
