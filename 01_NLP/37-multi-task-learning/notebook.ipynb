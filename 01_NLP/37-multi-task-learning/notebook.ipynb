{
 "cells": [
  {
   "attachments": {},
   "cell_type": "markdown",
   "metadata": {},
   "source": [
    "#### About\n",
    "> Multi task learning\n",
    "\n",
    "It is a powerful technique in natural language processing that allows us to train a single model to perform multiple tasks."
   ]
  },
  {
   "cell_type": "code",
   "execution_count": 1,
   "metadata": {},
   "outputs": [
    {
     "name": "stderr",
     "output_type": "stream",
     "text": [
      "/home/suraj/anaconda3/envs/dl/lib/python3.9/site-packages/tqdm/auto.py:21: TqdmWarning: IProgress not found. Please update jupyter and ipywidgets. See https://ipywidgets.readthedocs.io/en/stable/user_install.html\n",
      "  from .autonotebook import tqdm as notebook_tqdm\n",
      "2023-05-13 23:06:03.415276: I tensorflow/core/platform/cpu_feature_guard.cc:182] This TensorFlow binary is optimized to use available CPU instructions in performance-critical operations.\n",
      "To enable the following instructions: AVX2 FMA, in other operations, rebuild TensorFlow with the appropriate compiler flags.\n",
      "2023-05-13 23:06:13.807405: W tensorflow/compiler/tf2tensorrt/utils/py_utils.cc:38] TF-TRT Warning: Could not find TensorRT\n"
     ]
    }
   ],
   "source": [
    "import random\n",
    "import pandas as pd\n",
    "import numpy as np\n",
    "from sklearn.model_selection import train_test_split\n",
    "from keras.utils import to_categorical\n",
    "from transformers import AutoTokenizer, TFAutoModelForSequenceClassification, pipeline\n",
    "from sklearn.model_selection import train_test_split\n",
    "from tensorflow.keras.models import Model\n",
    "from tensorflow.keras.layers import Input, Dense, Dropout\n",
    "from tensorflow.keras.optimizers import Adam\n",
    "from tensorflow.keras.callbacks import EarlyStopping\n"
   ]
  },
  {
   "cell_type": "code",
   "execution_count": null,
   "metadata": {},
   "outputs": [],
   "source": [
    "# Load synthetic dataset\n",
    "df = pd.read_csv('train.csv')\n"
   ]
  },
  {
   "cell_type": "code",
   "execution_count": null,
   "metadata": {},
   "outputs": [],
   "source": [
    "# Convert language column to categorical variable\n",
    "df['language'] = pd.Categorical(df['language'])\n",
    "num_classes_language = len(df['language'].cat.categories)\n"
   ]
  },
  {
   "cell_type": "code",
   "execution_count": null,
   "metadata": {},
   "outputs": [],
   "source": [
    "# Convert sentiment column to numerical labels\n",
    "sentiment_labels = {'1 star': 0, '2 stars': 1, '3 stars': 2, '4 stars': 3, '5 stars': 4}\n",
    "df['sentiment'] = df['sentiment'].apply(lambda x: sentiment_labels[x])\n",
    "num_classes_sentiment = len(sentiment_labels)\n"
   ]
  },
  {
   "cell_type": "code",
   "execution_count": null,
   "metadata": {},
   "outputs": [],
   "source": [
    "# Load GPT-2 tokenizer\n",
    "model_name = 'gpt2'\n",
    "tokenizer = AutoTokenizer.from_pretrained(model_name)\n"
   ]
  },
  {
   "cell_type": "code",
   "execution_count": null,
   "metadata": {},
   "outputs": [],
   "source": [
    "# Tokenize tweets\n",
    "encoded = tokenizer(df['tweet'].tolist(), padding=True, truncation=True, max_length=30, return_tensors='tf')\n",
    "\n"
   ]
  },
  {
   "cell_type": "code",
   "execution_count": null,
   "metadata": {},
   "outputs": [],
   "source": [
    "# Split data into train and test sets\n",
    "train_inputs, test_inputs, train_labels, test_labels = train_test_split(encoded['input_ids'], \n",
    "                                                                        {'language': to_categorical(df['language'].cat.codes, num_classes=num_classes_language),\n",
    "                                                                         'sentiment': to_categorical(df['sentiment'], num_classes=num_classes_sentiment)},\n",
    "                                                                        test_size=0.2, random_state=42)\n"
   ]
  },
  {
   "cell_type": "code",
   "execution_count": null,
   "metadata": {},
   "outputs": [],
   "source": [
    "languages = len(df['language'].cat.codes)"
   ]
  },
  {
   "cell_type": "code",
   "execution_count": null,
   "metadata": {},
   "outputs": [],
   "source": [
    "# Load the pre-trained sentiment analysis model\n",
    "sentiment_model = TFAutoModelForSequenceClassification.from_pretrained('nlptown/bert-base-multilingual-uncased-sentiment')\n",
    "\n",
    "# Define the input layer\n",
    "input_layer = Input(shape=(train_inputs.shape[1],), dtype='int32')\n",
    "\n",
    "# Add the pre-trained sentiment analysis model on top of the input layer\n",
    "outputs = sentiment_model(input_layer)[0]\n",
    "\n",
    "# Add a dense layer on top of the sentiment analysis model to predict language\n",
    "language_predictions = Dense(units=len(languages), activation='softmax', name='language')(outputs)\n",
    "\n",
    "# Add a dense layer on top of the sentiment analysis model to predict sentiment\n",
    "sentiment_predictions = Dense(units=5, activation='softmax', name='sentiment')(outputs)\n",
    "\n",
    "# Create the multi-task learning model\n",
    "model = Model(inputs=input_layer, outputs=[language_predictions, sentiment_predictions])\n",
    "\n",
    "# Compile the model\n",
    "model.compile(optimizer=Adam(learning_rate=5e-5), loss={'language': 'categorical_crossentropy', 'sentiment': 'categorical_crossentropy'}, metrics={'language': 'accuracy', 'sentiment': 'accuracy'})\n",
    "\n"
   ]
  },
  {
   "cell_type": "code",
   "execution_count": null,
   "metadata": {},
   "outputs": [],
   "source": [
    "# Train the model\n",
    "history = model.fit(train_inputs, {'language': np.eye(len(languages))[train_labels[:,0]], 'sentiment': np.eye(5)[train_labels[:,1]-1]}, epochs=10, batch_size=32, validation_split=0.2, callbacks=[EarlyStopping(monitor='val_loss', patience=2, restore_best_weights=True)])\n",
    "\n"
   ]
  },
  {
   "cell_type": "code",
   "execution_count": null,
   "metadata": {},
   "outputs": [],
   "source": [
    "# Evaluate the model on the test set\n",
    "test_loss, test_acc_language, test_acc_sentiment = model.evaluate(test_inputs, {'language': np.eye(len(languages))[test_labels[:,0]], 'sentiment': np.eye(5)[test_labels[:,1]-1]})\n",
    "\n",
    "print('Test accuracy for language prediction:', test_acc_language)\n",
    "print('Test accuracy for sentiment prediction:', test_acc_sentiment)"
   ]
  },
  {
   "cell_type": "code",
   "execution_count": null,
   "metadata": {},
   "outputs": [],
   "source": []
  },
  {
   "cell_type": "code",
   "execution_count": null,
   "metadata": {},
   "outputs": [],
   "source": []
  },
  {
   "cell_type": "code",
   "execution_count": null,
   "metadata": {},
   "outputs": [],
   "source": []
  }
 ],
 "metadata": {
  "kernelspec": {
   "display_name": "dl",
   "language": "python",
   "name": "python3"
  },
  "language_info": {
   "codemirror_mode": {
    "name": "ipython",
    "version": 3
   },
   "file_extension": ".py",
   "mimetype": "text/x-python",
   "name": "python",
   "nbconvert_exporter": "python",
   "pygments_lexer": "ipython3",
   "version": "3.9.16"
  },
  "orig_nbformat": 4
 },
 "nbformat": 4,
 "nbformat_minor": 2
}
