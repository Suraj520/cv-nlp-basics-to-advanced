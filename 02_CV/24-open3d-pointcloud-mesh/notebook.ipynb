{
 "cells": [
  {
   "attachments": {},
   "cell_type": "markdown",
   "metadata": {},
   "source": [
    "#### About\n",
    "Reading point cloud data, mesh and saving them.\n",
    "* Github - https://github.com/isl-org/Open3D\n",
    "1. Point clouds are collection of points in 3D space that may or maynot represent an object.\n",
    "2. Point clouds are generated using 3D sensors.\n",
    "3. Meshes are structures generated from point clouds by triangulation methods.\n",
    "4. Various format of point cloud include \n",
    "* xyz where each line contains x,y,z 3D coordinates\n",
    "* xyzn where each line contains x,y,x,nx,ny,nz i.e 3D coordinates and their normals\n",
    "* xyzrgb where each line contains x,y,z,r,g,b i.e 3D coordinates and RGB normalised.\n",
    "* pts where first line is an integer representing number of points\n",
    "* pcd is point cloud data\n",
    "* ply is polygon format\n",
    "5. Various format of mesh file format includes\n",
    "* ply - polygon file format which contains both point cloud and mesh data\n",
    "* obj - object files\n",
    "* off, stl, gltf etc \n",
    "\n",
    "6. Voxel is a cube in 3D space.\n",
    "\n"
   ]
  },
  {
   "cell_type": "code",
   "execution_count": 14,
   "metadata": {},
   "outputs": [],
   "source": [
    "import open3d as o3d\n",
    "import numpy as np"
   ]
  },
  {
   "cell_type": "code",
   "execution_count": 11,
   "metadata": {},
   "outputs": [
    {
     "name": "stdout",
     "output_type": "stream",
     "text": [
      "geometry::PointCloud with 2048 points.\n"
     ]
    }
   ],
   "source": [
    "point_cloud = o3d.io.read_point_cloud('flower_pot.pcd')\n",
    "print(point_cloud)\n",
    "o3d.visualization.draw_geometries([point_cloud])"
   ]
  },
  {
   "cell_type": "code",
   "execution_count": 3,
   "metadata": {},
   "outputs": [
    {
     "data": {
      "text/plain": [
       "geometry::TriangleMesh with 650 points and 1236 triangles."
      ]
     },
     "execution_count": 3,
     "metadata": {},
     "output_type": "execute_result"
    }
   ],
   "source": [
    "mesh = o3d.io.read_triangle_mesh('apple.ply')\n",
    "mesh.compute_vertex_normals()"
   ]
  },
  {
   "cell_type": "code",
   "execution_count": 4,
   "metadata": {},
   "outputs": [],
   "source": [
    "pcd = mesh.sample_points_uniformly(number_of_points=650)\n",
    "o3d.visualization.draw_geometries([pcd])"
   ]
  },
  {
   "attachments": {},
   "cell_type": "markdown",
   "metadata": {},
   "source": [
    "#### Voxel downsampling\n",
    "1. It's similar to max pooling and is a common preprocessing step.\n",
    "2. It takes the point cloud and downsample"
   ]
  },
  {
   "cell_type": "code",
   "execution_count": 9,
   "metadata": {},
   "outputs": [],
   "source": [
    "downsampled_pcd = pcd.voxel_down_sample(voxel_size=0.01)\n",
    "o3d.visualization.draw_geometries([downsampled_pcd])"
   ]
  },
  {
   "cell_type": "code",
   "execution_count": 10,
   "metadata": {},
   "outputs": [],
   "source": [
    "#drawing bounding box\n",
    "downsampled_pcd_bbox = downsampled_pcd.get_oriented_bounding_box()\n",
    "o3d.visualization.draw_geometries([downsampled_pcd,downsampled_pcd_bbox])"
   ]
  },
  {
   "attachments": {},
   "cell_type": "markdown",
   "metadata": {},
   "source": [
    "Similarly, We can crop a point cloud, color it etc\n",
    "* Let's have a look at meshes's vertices and triangles"
   ]
  },
  {
   "cell_type": "code",
   "execution_count": 15,
   "metadata": {},
   "outputs": [
    {
     "name": "stdout",
     "output_type": "stream",
     "text": [
      "[[ 3.54531e-02  6.25133e-03  4.26838e-03]\n",
      " [ 3.60000e-02  1.21484e-09  4.26838e-03]\n",
      " [ 3.38289e-02  1.23128e-02  4.26838e-03]\n",
      " ...\n",
      " [ 2.31823e-03 -6.21136e-04  6.90684e-02]\n",
      " [ 3.70917e-03 -9.93818e-04  7.62684e-02]\n",
      " [ 0.00000e+00 -1.86943e-09  7.48284e-02]]\n"
     ]
    }
   ],
   "source": [
    "print(np.asarray(mesh.vertices))"
   ]
  },
  {
   "cell_type": "code",
   "execution_count": 16,
   "metadata": {},
   "outputs": [
    {
     "data": {
      "text/plain": [
       "array([[  0,  36,  37],\n",
       "       [  0,  37,   1],\n",
       "       [  2,  38,  36],\n",
       "       ...,\n",
       "       [649, 642, 645],\n",
       "       [649, 645, 648],\n",
       "       [649, 648, 582]], dtype=int32)"
      ]
     },
     "execution_count": 16,
     "metadata": {},
     "output_type": "execute_result"
    }
   ],
   "source": [
    "np.asarray(mesh.triangles)"
   ]
  },
  {
   "cell_type": "code",
   "execution_count": 18,
   "metadata": {},
   "outputs": [
    {
     "data": {
      "text/plain": [
       "True"
      ]
     },
     "execution_count": 18,
     "metadata": {},
     "output_type": "execute_result"
    }
   ],
   "source": [
    "mesh.has_vertex_normals()\n"
   ]
  },
  {
   "cell_type": "code",
   "execution_count": 19,
   "metadata": {},
   "outputs": [],
   "source": [
    "o3d.visualization.draw_geometries([mesh])"
   ]
  },
  {
   "cell_type": "code",
   "execution_count": 20,
   "metadata": {},
   "outputs": [
    {
     "data": {
      "text/plain": [
       "geometry::TriangleMesh with 650 points and 1236 triangles."
      ]
     },
     "execution_count": 20,
     "metadata": {},
     "output_type": "execute_result"
    }
   ],
   "source": [
    "#computing vertex normals\n",
    "mesh.compute_vertex_normals()"
   ]
  },
  {
   "cell_type": "code",
   "execution_count": 21,
   "metadata": {},
   "outputs": [
    {
     "data": {
      "text/plain": [
       "array([[ 0.75404393,  0.06596792, -0.65350285],\n",
       "       [ 0.7540439 ,  0.06596783, -0.6535029 ],\n",
       "       [ 0.73113148,  0.19591158, -0.65350242],\n",
       "       ...,\n",
       "       [-0.28067166,  0.21536159,  0.93533032],\n",
       "       [-0.32684726,  0.13538084,  0.93533037],\n",
       "       [-0.35074894,  0.04617402,  0.9353305 ]])"
      ]
     },
     "execution_count": 21,
     "metadata": {},
     "output_type": "execute_result"
    }
   ],
   "source": [
    "np.asarray(mesh.triangle_normals)"
   ]
  },
  {
   "cell_type": "code",
   "execution_count": 27,
   "metadata": {},
   "outputs": [],
   "source": [
    "#painting a mesh #normalised RGB\n",
    "mesh.paint_uniform_color([0.2,0.2,1.0])\n",
    "o3d.visualization.draw_geometries([mesh])\n"
   ]
  },
  {
   "cell_type": "code",
   "execution_count": 24,
   "metadata": {},
   "outputs": [
    {
     "data": {
      "text/plain": [
       "array([[  0,  36,  37],\n",
       "       [  0,  37,   1],\n",
       "       [  2,  38,  36],\n",
       "       [  2,  36,   0],\n",
       "       [  3,  39,  38],\n",
       "       [  3,  38,   2],\n",
       "       [  4,  40,  39],\n",
       "       [  4,  39,   3],\n",
       "       [  5,  41,  40],\n",
       "       [  5,  40,   4],\n",
       "       [  6,  42,  41],\n",
       "       [  6,  41,   5],\n",
       "       [  7,  43,  42],\n",
       "       [  7,  42,   6],\n",
       "       [  8,  44,  43],\n",
       "       [  8,  43,   7],\n",
       "       [  9,  45,  44],\n",
       "       [  9,  44,   8],\n",
       "       [ 10,  46,  45],\n",
       "       [ 10,  45,   9],\n",
       "       [ 11,  47,  46],\n",
       "       [ 11,  46,  10],\n",
       "       [ 12,  48,  47],\n",
       "       [ 12,  47,  11],\n",
       "       [ 13,  49,  48],\n",
       "       [ 13,  48,  12],\n",
       "       [ 14,  50,  49],\n",
       "       [ 14,  49,  13],\n",
       "       [ 15,  51,  50],\n",
       "       [ 15,  50,  14],\n",
       "       [ 16,  52,  51],\n",
       "       [ 16,  51,  15],\n",
       "       [ 17,  53,  52],\n",
       "       [ 17,  52,  16],\n",
       "       [ 18,  54,  53],\n",
       "       [ 18,  53,  17],\n",
       "       [ 19,  55,  54],\n",
       "       [ 19,  54,  18],\n",
       "       [ 20,  56,  55],\n",
       "       [ 20,  55,  19],\n",
       "       [ 21,  57,  56],\n",
       "       [ 21,  56,  20],\n",
       "       [ 22,  58,  57],\n",
       "       [ 22,  57,  21],\n",
       "       [ 23,  59,  58],\n",
       "       [ 23,  58,  22],\n",
       "       [ 24,  60,  59],\n",
       "       [ 24,  59,  23],\n",
       "       [ 25,  61,  60],\n",
       "       [ 25,  60,  24],\n",
       "       [ 26,  62,  61],\n",
       "       [ 26,  61,  25],\n",
       "       [ 27,  63,  62],\n",
       "       [ 27,  62,  26],\n",
       "       [ 28,  64,  63],\n",
       "       [ 28,  63,  27],\n",
       "       [ 29,  65,  64],\n",
       "       [ 29,  64,  28],\n",
       "       [ 30,  66,  65],\n",
       "       [ 30,  65,  29],\n",
       "       [ 31,  67,  66],\n",
       "       [ 31,  66,  30],\n",
       "       [ 32,  68,  67],\n",
       "       [ 32,  67,  31],\n",
       "       [ 33,  69,  68],\n",
       "       [ 33,  68,  32],\n",
       "       [ 34,  70,  69],\n",
       "       [ 34,  69,  33],\n",
       "       [ 35,  71,  70],\n",
       "       [ 35,  70,  34],\n",
       "       [  1,  37,  71],\n",
       "       [  1,  71,  35],\n",
       "       [ 36,  72,  73],\n",
       "       [ 36,  73,  37],\n",
       "       [ 38,  74,  72],\n",
       "       [ 38,  72,  36],\n",
       "       [ 39,  75,  74],\n",
       "       [ 39,  74,  38],\n",
       "       [ 40,  76,  75],\n",
       "       [ 40,  75,  39],\n",
       "       [ 41,  77,  76],\n",
       "       [ 41,  76,  40],\n",
       "       [ 42,  78,  77],\n",
       "       [ 42,  77,  41],\n",
       "       [ 43,  79,  78],\n",
       "       [ 43,  78,  42],\n",
       "       [ 44,  80,  79],\n",
       "       [ 44,  79,  43],\n",
       "       [ 45,  81,  80],\n",
       "       [ 45,  80,  44],\n",
       "       [ 46,  82,  81],\n",
       "       [ 46,  81,  45],\n",
       "       [ 47,  83,  82],\n",
       "       [ 47,  82,  46],\n",
       "       [ 48,  84,  83],\n",
       "       [ 48,  83,  47],\n",
       "       [ 49,  85,  84],\n",
       "       [ 49,  84,  48],\n",
       "       [ 50,  86,  85],\n",
       "       [ 50,  85,  49],\n",
       "       [ 51,  87,  86],\n",
       "       [ 51,  86,  50],\n",
       "       [ 52,  88,  87],\n",
       "       [ 52,  87,  51],\n",
       "       [ 53,  89,  88],\n",
       "       [ 53,  88,  52],\n",
       "       [ 54,  90,  89],\n",
       "       [ 54,  89,  53],\n",
       "       [ 55,  91,  90],\n",
       "       [ 55,  90,  54],\n",
       "       [ 56,  92,  91],\n",
       "       [ 56,  91,  55],\n",
       "       [ 57,  93,  92],\n",
       "       [ 57,  92,  56],\n",
       "       [ 58,  94,  93],\n",
       "       [ 58,  93,  57],\n",
       "       [ 59,  95,  94],\n",
       "       [ 59,  94,  58],\n",
       "       [ 60,  96,  95],\n",
       "       [ 60,  95,  59],\n",
       "       [ 61,  97,  96],\n",
       "       [ 61,  96,  60],\n",
       "       [ 62,  98,  97],\n",
       "       [ 62,  97,  61],\n",
       "       [ 63,  99,  98],\n",
       "       [ 63,  98,  62],\n",
       "       [ 64, 100,  99],\n",
       "       [ 64,  99,  63],\n",
       "       [ 65, 101, 100],\n",
       "       [ 65, 100,  64],\n",
       "       [ 66, 102, 101],\n",
       "       [ 66, 101,  65],\n",
       "       [ 67, 103, 102],\n",
       "       [ 67, 102,  66],\n",
       "       [ 68, 104, 103],\n",
       "       [ 68, 103,  67],\n",
       "       [ 69, 105, 104],\n",
       "       [ 69, 104,  68],\n",
       "       [ 70, 106, 105],\n",
       "       [ 70, 105,  69],\n",
       "       [ 71, 107, 106],\n",
       "       [ 71, 106,  70],\n",
       "       [ 37,  73, 107],\n",
       "       [ 37, 107,  71],\n",
       "       [ 72, 108, 109],\n",
       "       [ 72, 109,  73],\n",
       "       [ 74, 110, 108],\n",
       "       [ 74, 108,  72],\n",
       "       [ 75, 111, 110],\n",
       "       [ 75, 110,  74],\n",
       "       [ 76, 112, 111],\n",
       "       [ 76, 111,  75],\n",
       "       [ 77, 113, 112],\n",
       "       [ 77, 112,  76],\n",
       "       [ 78, 114, 113],\n",
       "       [ 78, 113,  77],\n",
       "       [ 79, 115, 114],\n",
       "       [ 79, 114,  78],\n",
       "       [ 80, 116, 115],\n",
       "       [ 80, 115,  79],\n",
       "       [ 81, 117, 116],\n",
       "       [ 81, 116,  80],\n",
       "       [ 82, 118, 117],\n",
       "       [ 82, 117,  81],\n",
       "       [ 83, 119, 118],\n",
       "       [ 83, 118,  82],\n",
       "       [ 84, 120, 119],\n",
       "       [ 84, 119,  83],\n",
       "       [ 85, 121, 120],\n",
       "       [ 85, 120,  84],\n",
       "       [ 86, 122, 121],\n",
       "       [ 86, 121,  85],\n",
       "       [ 87, 123, 122],\n",
       "       [ 87, 122,  86],\n",
       "       [ 88, 124, 123],\n",
       "       [ 88, 123,  87],\n",
       "       [ 89, 125, 124],\n",
       "       [ 89, 124,  88],\n",
       "       [ 90, 126, 125],\n",
       "       [ 90, 125,  89],\n",
       "       [ 91, 127, 126],\n",
       "       [ 91, 126,  90],\n",
       "       [ 92, 128, 127],\n",
       "       [ 92, 127,  91],\n",
       "       [ 93, 129, 128],\n",
       "       [ 93, 128,  92],\n",
       "       [ 94, 130, 129],\n",
       "       [ 94, 129,  93],\n",
       "       [ 95, 131, 130],\n",
       "       [ 95, 130,  94],\n",
       "       [ 96, 132, 131],\n",
       "       [ 96, 131,  95],\n",
       "       [ 97, 133, 132],\n",
       "       [ 97, 132,  96],\n",
       "       [ 98, 134, 133],\n",
       "       [ 98, 133,  97],\n",
       "       [ 99, 135, 134],\n",
       "       [ 99, 134,  98],\n",
       "       [100, 136, 135],\n",
       "       [100, 135,  99],\n",
       "       [101, 137, 136],\n",
       "       [101, 136, 100],\n",
       "       [102, 138, 137],\n",
       "       [102, 137, 101],\n",
       "       [103, 139, 138],\n",
       "       [103, 138, 102],\n",
       "       [104, 140, 139],\n",
       "       [104, 139, 103],\n",
       "       [105, 141, 140],\n",
       "       [105, 140, 104],\n",
       "       [106, 142, 141],\n",
       "       [106, 141, 105],\n",
       "       [107, 143, 142],\n",
       "       [107, 142, 106],\n",
       "       [ 73, 109, 143],\n",
       "       [ 73, 143, 107],\n",
       "       [108, 144, 145],\n",
       "       [108, 145, 109],\n",
       "       [110, 146, 144],\n",
       "       [110, 144, 108],\n",
       "       [111, 147, 146],\n",
       "       [111, 146, 110],\n",
       "       [112, 148, 147],\n",
       "       [112, 147, 111],\n",
       "       [113, 149, 148],\n",
       "       [113, 148, 112],\n",
       "       [114, 150, 149],\n",
       "       [114, 149, 113],\n",
       "       [115, 151, 150],\n",
       "       [115, 150, 114],\n",
       "       [116, 152, 151],\n",
       "       [116, 151, 115],\n",
       "       [117, 153, 152],\n",
       "       [117, 152, 116],\n",
       "       [118, 154, 153],\n",
       "       [118, 153, 117],\n",
       "       [119, 155, 154],\n",
       "       [119, 154, 118],\n",
       "       [120, 156, 155],\n",
       "       [120, 155, 119],\n",
       "       [121, 157, 156],\n",
       "       [121, 156, 120],\n",
       "       [122, 158, 157],\n",
       "       [122, 157, 121],\n",
       "       [123, 159, 158],\n",
       "       [123, 158, 122],\n",
       "       [124, 160, 159],\n",
       "       [124, 159, 123],\n",
       "       [125, 161, 160],\n",
       "       [125, 160, 124],\n",
       "       [126, 162, 161],\n",
       "       [126, 161, 125],\n",
       "       [127, 163, 162],\n",
       "       [127, 162, 126],\n",
       "       [128, 164, 163],\n",
       "       [128, 163, 127],\n",
       "       [129, 165, 164],\n",
       "       [129, 164, 128],\n",
       "       [130, 166, 165],\n",
       "       [130, 165, 129],\n",
       "       [131, 167, 166],\n",
       "       [131, 166, 130],\n",
       "       [132, 168, 167],\n",
       "       [132, 167, 131],\n",
       "       [133, 169, 168],\n",
       "       [133, 168, 132],\n",
       "       [134, 170, 169],\n",
       "       [134, 169, 133],\n",
       "       [135, 171, 170],\n",
       "       [135, 170, 134],\n",
       "       [136, 172, 171],\n",
       "       [136, 171, 135],\n",
       "       [137, 173, 172],\n",
       "       [137, 172, 136],\n",
       "       [138, 174, 173],\n",
       "       [138, 173, 137],\n",
       "       [139, 175, 174],\n",
       "       [139, 174, 138],\n",
       "       [140, 176, 175],\n",
       "       [140, 175, 139],\n",
       "       [141, 177, 176],\n",
       "       [141, 176, 140],\n",
       "       [142, 178, 177],\n",
       "       [142, 177, 141],\n",
       "       [143, 179, 178],\n",
       "       [143, 178, 142],\n",
       "       [109, 145, 179],\n",
       "       [109, 179, 143],\n",
       "       [144, 180, 181],\n",
       "       [144, 181, 145],\n",
       "       [146, 182, 180],\n",
       "       [146, 180, 144],\n",
       "       [147, 183, 182],\n",
       "       [147, 182, 146],\n",
       "       [148, 184, 183],\n",
       "       [148, 183, 147],\n",
       "       [149, 185, 184],\n",
       "       [149, 184, 148],\n",
       "       [150, 186, 185],\n",
       "       [150, 185, 149],\n",
       "       [151, 187, 186],\n",
       "       [151, 186, 150],\n",
       "       [152, 188, 187],\n",
       "       [152, 187, 151],\n",
       "       [153, 189, 188],\n",
       "       [153, 188, 152],\n",
       "       [154, 190, 189],\n",
       "       [154, 189, 153],\n",
       "       [155, 191, 190]], dtype=int32)"
      ]
     },
     "execution_count": 24,
     "metadata": {},
     "output_type": "execute_result"
    }
   ],
   "source": [
    "#cropping a mesh\n",
    "mesh.triangles = o3d.utility.Vector3iVector(\n",
    "    np.asarray(mesh.triangles)[:len(mesh.triangles)//2,:]\n",
    ")\n",
    "mesh.triangle_normals = o3d.utility.Vector3dVector(\n",
    "    np.asarray(mesh.triangle_normals)[:len(mesh.triangle_normals)//2,:]\n",
    "\n",
    ")\n",
    "np.asarray(mesh.triangles)\n"
   ]
  },
  {
   "cell_type": "code",
   "execution_count": 25,
   "metadata": {},
   "outputs": [],
   "source": [
    "o3d.visualization.draw_geometries([mesh])"
   ]
  },
  {
   "cell_type": "code",
   "execution_count": null,
   "metadata": {},
   "outputs": [],
   "source": []
  }
 ],
 "metadata": {
  "kernelspec": {
   "display_name": "dl",
   "language": "python",
   "name": "python3"
  },
  "language_info": {
   "codemirror_mode": {
    "name": "ipython",
    "version": 3
   },
   "file_extension": ".py",
   "mimetype": "text/x-python",
   "name": "python",
   "nbconvert_exporter": "python",
   "pygments_lexer": "ipython3",
   "version": "3.7.11"
  },
  "orig_nbformat": 4,
  "vscode": {
   "interpreter": {
    "hash": "50052c996937e9a0e161d422489677fdaadc23d756ac209b7397e80e5ea8cea0"
   }
  }
 },
 "nbformat": 4,
 "nbformat_minor": 2
}
