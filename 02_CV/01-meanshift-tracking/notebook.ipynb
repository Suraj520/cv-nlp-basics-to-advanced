{
 "cells": [
  {
   "attachments": {},
   "cell_type": "markdown",
   "metadata": {},
   "source": [
    "#### About\n",
    "Meanshift Algorithm in Python for Object Tracking\n",
    "\n",
    "> Object tracking is the task of detecting a moving object in a frame over time.\n",
    "\n",
    "> About the algorithm\n",
    "1. Assume a set of points C1, C2 depicting histpgram or pixel density with a rectangular or circular window around it.\n",
    "2. The task is to move the window around area of maximum pixel density.\n",
    "3. We pass the initial location of our target object and histogram backprojected to meanshift function.\n",
    "4. As object translates, The histogram backprojected image changes.\n",
    "5. Meanshift function moves the window to new location with maximum probability density.\n",
    "\n",
    "> Assumptions\n",
    "1. Initial position of the object of interest should be passed to the algorithm.\n",
    "\n",
    "> Limitations\n",
    "1. Size of ROI tracker is not adaptive.\n"
   ]
  },
  {
   "cell_type": "code",
   "execution_count": null,
   "metadata": {},
   "outputs": [],
   "source": [
    "#importing modules\n",
    "import numpy as np\n",
    "import cv2 \n",
    "cap = cv2.VideoCapture('/path/to/video.mp4') #video location\n",
    "#reading first frame\n",
    "ret,frame = cap.read()\n",
    "#ROI for initial pos\n",
    "x,y,w, h = 240,245,123,75 # initialise as per original values\n",
    "tracker_roi = (x,y,w,h)\n",
    "#initialising the roi\n",
    "roi = frame[y:y+h,x:x+w]\n",
    "#histogram backprojection shall create image of same size but single size\n",
    "# 1. Converting to HSV colorspace\n",
    "convt_image = cv2.cvtColor(roi,cv2.COLOR_BGR2HSV)\n",
    "# 2. Creating mask - discarding low illumination values\n",
    "mask = cv2.inRange(convt_image, np.array((0.,90.,32.),np.array(180.,255.,255.)))\n",
    "# 3. Calculating histogram\n",
    "histogram = cv2.calcHist([convt_image],[0], mask, [180],[0,180]) # using just the HUE channel. hist size-  to 179\n",
    "# 4. Normalising values between 0 to 255\n",
    "cv2.normalize(histogram,histogram,alpha=0,beta=255,cv2.NORM_MINMAX)\n",
    "#5. defining terminating criterion\n",
    "terminating_criterion = (cv2.TERM_CRITERIA_EPS | cv2.TermCriteria_COUNT,20,1) #either for 20 pixels or by 1 pixel\n",
    "while(1):\n",
    "    ret, frame = cap.read()\n",
    "    if ret==True:\n",
    "        #calculate hsv value of frame\n",
    "        convt_frame = cv2.cvtColor(frame,cv2.COLOR_BGR2HSV)\n",
    "        #calculating backproject\n",
    "        backproj_image  = cv2.calcBackProject([convt_frame],[0],histogram,[0,180],1)\n",
    "        #applying meanshift to get new position\n",
    "        ret, tracker_roi = cv2.meanShift(backproj_image,tracker_roi,terminating_criterion)\n",
    "        #drawing roi on image\n",
    "        x,y,w,h = tracker_roi\n",
    "        out_image = cv2.rectangle(frame,(x,y),(x+w,y+h),255,2,)\n",
    "        cv2.imshow('Tracked ROI',out_image)\n",
    "        #optional to view backproj_image\n",
    "        #cv2.imshow('Backproj_image',backproj_image)\n",
    "        k = cv2.WaitKey(20)\n",
    "        if k ==27:\n",
    "            break\n",
    "    else:\n",
    "        break"
   ]
  }
 ],
 "metadata": {
  "language_info": {
   "name": "python"
  },
  "orig_nbformat": 4
 },
 "nbformat": 4,
 "nbformat_minor": 2
}
