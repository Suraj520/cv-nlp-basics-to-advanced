{
 "cells": [
  {
   "attachments": {},
   "cell_type": "markdown",
   "metadata": {},
   "source": [
    "#### About\n",
    "Trackbars in OpenCV\n",
    "\n",
    "* They are useful to tweak the value of a variable instantly without closing or relaunching the program.\n",
    "\n",
    "* OpenCv provides two methods \n",
    "1. cv2.createTrackbar() to read the current position of the trackbar\n",
    "2. cv2.getTrackbarPos to change the position of trackbar."
   ]
  },
  {
   "cell_type": "code",
   "execution_count": 1,
   "metadata": {},
   "outputs": [],
   "source": [
    "import cv2\n",
    "import numpy as np"
   ]
  },
  {
   "cell_type": "code",
   "execution_count": null,
   "metadata": {},
   "outputs": [],
   "source": [
    "#creating a window for controlling\n",
    "cv2.namedWindow('controller')\n",
    "#function to change color\n",
    "def change_color(x):\n",
    "    if (cv2.getTrackbarPos('r','controller')>50):\n",
    "        global color\n",
    "`       color=(0,255,0)\n",
    "    else:\n",
    "        color = (255,255,255) #white\n",
    "\n",
    "def do_nothing(x):\n",
    "    pass\n",
    "        `\n",
    "#creating trackbar in windows to do operations\n",
    "cv2.createTrackbar('r','controller',10,255,change_color)\n",
    "#creating a trackbar to act like switch\n",
    "cv2.createTrackbar('s','switch_state',0,1,do_nothing)\n",
    "\n",
    "#initial color\n",
    "color=(255,255,255)\n",
    "\n",
    "while(1):\n",
    "    img = np.zeros((1080,720,3),np.uint8)\n",
    "    #center of image\n",
    "    y_center = img.shape[0]//2\n",
    "    x_center = img.shape[1]//2\n",
    "\n",
    "\n",
    "    radius = int(cv2.getTrackbarPos('r','controller'))\n",
    "    #getting the switch state\n",
    "    switch_state = cv2.getTrackbarPos('s','switch_state')\n",
    "\n",
    "    if switch_state==1:\n",
    "        start_pos = (y_center-50, x_center-50)\n",
    "        end_pos = (y_center+50,x_center+50)\n",
    "        thickness = 2\n",
    "        #create square\n",
    "        image = cv2.rectangle(img, start_pos,end_pos,color,thickness)\n",
    "\n",
    "    else:\n",
    "        #create circke\n",
    "        image = cv2.circle(img,(y_center,x_center),radius, color,-1)\n",
    "\n",
    "    #display image\n",
    "    cv2.imshow('img',image)\n",
    "    k = cv2.waitKey(0)\n",
    "    if k == ord('c'):\n",
    "        break\n",
    "\n",
    "#destroy all windows\n",
    "cv2.destroyAllWindows()"
   ]
  }
 ],
 "metadata": {
  "kernelspec": {
   "display_name": "Python 3",
   "language": "python",
   "name": "python3"
  },
  "language_info": {
   "codemirror_mode": {
    "name": "ipython",
    "version": 3
   },
   "file_extension": ".py",
   "mimetype": "text/x-python",
   "name": "python",
   "nbconvert_exporter": "python",
   "pygments_lexer": "ipython3",
   "version": "3.8.10"
  },
  "orig_nbformat": 4,
  "vscode": {
   "interpreter": {
    "hash": "916dbcbb3f70747c44a77c7bcd40155683ae19c65e1c03b4aa3499c5328201f1"
   }
  }
 },
 "nbformat": 4,
 "nbformat_minor": 2
}
