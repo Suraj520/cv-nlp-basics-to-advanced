{
 "cells": [
  {
   "attachments": {},
   "cell_type": "markdown",
   "metadata": {},
   "source": [
    "#### About\n",
    "Object detection and tracking in HSV Color space using OpenCV Python."
   ]
  },
  {
   "cell_type": "code",
   "execution_count": 2,
   "metadata": {},
   "outputs": [],
   "source": [
    "#importing modules\n",
    "import cv2\n",
    "import numpy as np\n"
   ]
  },
  {
   "cell_type": "code",
   "execution_count": 3,
   "metadata": {},
   "outputs": [],
   "source": [
    "def do_nothing(x):\n",
    "    pass"
   ]
  },
  {
   "cell_type": "code",
   "execution_count": null,
   "metadata": {},
   "outputs": [],
   "source": [
    "#creating window and trackbars\n",
    "cv2.namedWindow(\"Detection and Tracking in HSV\")\n",
    "cv2.createTrackbar(\"Lower Hue Range\",\"Detection and Tracking in HSV\", 0,255,do_nothing)\n",
    "cv2.createTrackbar(\"Lower Saturation Range\", \"Detection and Tracking in HSV\",0,255, do_nothing)\n",
    "cv2.createTrackbar(\"Lower Value Range\", \"Detection and Tracking in HSV\",0,255, do_nothing)\n",
    "\n",
    "cv2.createTrackbar(\"Upper Hue Range\",\"Detection and Tracking in HSV\", 255,255,do_nothing)\n",
    "cv2.createTrackbar(\"Upper Saturation Range\", \"Detection and Tracking in HSV\",255,255, do_nothing)\n",
    "cv2.createTrackbar(\"Upper Value Range\", \"Detection and Tracking in HSV\",255,255, do_nothing)\n",
    "\n",
    "cap = cv2.VideoCapture(0)\n",
    "while (cap.isOpened()):\n",
    "    ret,frame = cap.read()\n",
    "\n",
    "    hsv_image = cv2.cvtColor(frame,cv2.COLOR_BGR2HSV)\n",
    "    \n",
    "    lower_hue = cv2.getTrackbarPos(\"Lower Hue Range\",\"Detection and Tracking in HSV\")\n",
    "    lower_saturation = cv2.getTrackbarPos(\"Lower Saturation Range\", \"Detection and Tracking in HSV\")\n",
    "    lower_value = cv2.getTrackbarPos(\"Lower Value Range\", \"Detection and Tracking in HSV\")\n",
    "\n",
    "    upper_hue = cv2.getTrackbarPos(\"Upper Hue Range\",\"Detection and Tracking in HSV\")\n",
    "    upper_saturation = cv2.getTrackbarPos(\"Upper Saturation Range\",\"Detection and Tracking in HSV\")\n",
    "    upper_value = cv2.getTrackbarPos(\"Upper Saturation Range\",\"Detection and Tracking in HSV\")\n",
    "\n",
    "    lower_bound = np.array([lower_hue,lower_saturation,lower_value])\n",
    "    upper_bound = np.array([upper_hue,upper_saturation,upper_value])\n",
    "\n",
    "    mask = cv2.inRange(hsv_image,lower_bound,upper_bound)\n",
    "\n",
    "    result = cv2.bitwise_and(frame,frame,mask=mask)\n",
    "\n",
    "    cv2.imshow('Original',frame)\n",
    "    cv2.imshow('Mask',mask)\n",
    "    cv2.imshow('Result', result)\n",
    "\n",
    "    key = cv2.waitKey(0)\n",
    "    if key==27:\n",
    "        break\n",
    "    \n",
    "cap.release()\n",
    "cv2.destroyAllWindows()\n"
   ]
  },
  {
   "cell_type": "code",
   "execution_count": null,
   "metadata": {},
   "outputs": [],
   "source": []
  }
 ],
 "metadata": {
  "kernelspec": {
   "display_name": "Python 3",
   "language": "python",
   "name": "python3"
  },
  "language_info": {
   "codemirror_mode": {
    "name": "ipython",
    "version": 3
   },
   "file_extension": ".py",
   "mimetype": "text/x-python",
   "name": "python",
   "nbconvert_exporter": "python",
   "pygments_lexer": "ipython3",
   "version": "3.8.10"
  },
  "orig_nbformat": 4,
  "vscode": {
   "interpreter": {
    "hash": "916dbcbb3f70747c44a77c7bcd40155683ae19c65e1c03b4aa3499c5328201f1"
   }
  }
 },
 "nbformat": 4,
 "nbformat_minor": 2
}
