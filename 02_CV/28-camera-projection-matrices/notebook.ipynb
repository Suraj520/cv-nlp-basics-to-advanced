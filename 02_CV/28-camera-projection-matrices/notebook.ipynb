{
 "cells": [
  {
   "attachments": {},
   "cell_type": "markdown",
   "metadata": {},
   "source": [
    "#### About\n",
    "Camera projection matrix for mapping real world 3D cartesian coordinates to Image plane and vice versa.\n",
    "\n",
    "1. Primary assumption is that all the following concepts are applicable for Pinhole camera.\n",
    "2. x = PX is the equation to map a 2D pixel coordinate to 3D world coordinate where x is 2D pixel coordinate, P is projection matrix and X is 3D world coordinate.\n",
    "3. Four coordinate systems that are involved include world, camera, image plane and sensor coordinate system.\n",
    "4. Initially, The camera needs to be localised in the real world coordinate system.\n",
    "5. The camera location is defined by the projection center followed by the rotational matrix. \n",
    "6. Projection matrix is comprised of 11 degrees of freedom - 6 degrees of freedom for camera extrinsic and 5 including distortion parameter for camera intrinsic.\n",
    "7. It's described in the image below\n",
    "![img.jpg](img.jpg)\n",
    "8. We cannot easily invert Projection matrix as there is a loss of information while projecting 3D image to 2D.\n",
    "9. Camera Extrinsic and Camera Intrinsic are parameter of a camera model. The Extrinsic describe the localisation of the camera in real world (Rotational and Translation).\n",
    "10. Camera Intrinsic comprises of Camera constant(C- Distance of image plane to projection center), m - scale diff between x and y along with fx,fy(focal length), px,py(principal point) and distortion parameter(S- Shear parameter) describe how an image in 3D is mapped to 2D.\n",
    "11. Camera Calibration is a technique used for calculating intrinsic parameter of the image.\n"
   ]
  },
  {
   "cell_type": "markdown",
   "metadata": {},
   "source": []
  }
 ],
 "metadata": {
  "kernelspec": {
   "display_name": "Python 3",
   "language": "python",
   "name": "python3"
  },
  "language_info": {
   "codemirror_mode": {
    "name": "ipython",
    "version": 3
   },
   "file_extension": ".py",
   "mimetype": "text/x-python",
   "name": "python",
   "nbconvert_exporter": "python",
   "pygments_lexer": "ipython3",
   "version": "3.8.10"
  },
  "orig_nbformat": 4,
  "vscode": {
   "interpreter": {
    "hash": "916dbcbb3f70747c44a77c7bcd40155683ae19c65e1c03b4aa3499c5328201f1"
   }
  }
 },
 "nbformat": 4,
 "nbformat_minor": 2
}
