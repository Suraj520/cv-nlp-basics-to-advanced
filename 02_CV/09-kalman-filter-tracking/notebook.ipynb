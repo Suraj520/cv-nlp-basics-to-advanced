{
 "cells": [
  {
   "attachments": {},
   "cell_type": "markdown",
   "metadata": {},
   "source": [
    "#### About\n",
    "Tracking using Kalman filter in OpenCV.\n",
    "\n",
    "> About the Algorithm.\n",
    "1. It is used to estimate the position of a moving object across temporal dimension.\n",
    "2. Gaussian curves are used to depict the positional estimate of a moving object.\n",
    "3. Optimal estimate is often derived via mean and variance of Measurement estimate and State Estimate using Kalman Filter.\n",
    "4. Initially, Kalman gain is found our via State estimate error and measurement error by using the formula k_g = E_st/(E_st+ E_ma) where E_ma and E_st are measurement and state estimate error of the gaussian curves.\n",
    "5. Estimate at any time t is given by the following equation\n",
    "> Est_t = Est_t-1 + KG(Ms - Est_t-1)\n",
    "> where Est_x is estimate at time x, KG is kalman gain, Ms os measured_value\n",
    "6. New state estimate error is then being calculated by following\n",
    "> error_Est_t = (1-KG)(error_Est_t-1)"
   ]
  },
  {
   "cell_type": "code",
   "execution_count": 5,
   "metadata": {},
   "outputs": [],
   "source": [
    "#kalman filter class\n",
    "import numpy as np\n",
    "import cv2"
   ]
  },
  {
   "cell_type": "code",
   "execution_count": 7,
   "metadata": {},
   "outputs": [
    {
     "name": "stdout",
     "output_type": "stream",
     "text": [
      "[[0.]\n",
      " [0.]]\n"
     ]
    }
   ],
   "source": [
    "kf = cv2.KalmanFilter(2,10)\n",
    "predict = kf.predict()\n",
    "#initial prediction must be 0,0 since nothing was fed\n",
    "print(predict)"
   ]
  },
  {
   "cell_type": "code",
   "execution_count": 24,
   "metadata": {},
   "outputs": [],
   "source": [
    "# kalman filter class for N 2D points\n",
    "\n",
    "'''Kalman filtering for selected points in an image using OpenCV cv2.kalmanFilter class in Python '''\n",
    "class Kalman_Filtering:\n",
    "\n",
    "    def __init__(self):\n",
    "        self.kf = cv2.KalmanFilter(4,2)\n",
    "\n",
    "    def initialize(self):\n",
    "\n",
    "       \n",
    "\n",
    "\n",
    "        print('TRANSITION Matrix:')\n",
    "        print(kalman.transitionMatrix)\n",
    "\n",
    "        print('MEASUREMENT Matrix:')\n",
    "        print(kalman.measurementMatrix)\n",
    "\n",
    "\n",
    "\n",
    "    def predict(self,points):\n",
    "\n",
    "        pred = []\n",
    "        input_points = np.float32(np.ndarray.flatten(points))\n",
    "        #print(input_points)\n",
    "        #Correction Step\n",
    "        self.kalman.correct(input_points)\n",
    "        #Prediction step\n",
    "        tp = self.kalman.predict()\n",
    "\n",
    "        for i in self.Measurement_array:\n",
    "            pred.append(int(tp[i]))\n",
    "\n",
    "        return pred"
   ]
  },
  {
   "cell_type": "code",
   "execution_count": 25,
   "metadata": {},
   "outputs": [
    {
     "name": "stdout",
     "output_type": "stream",
     "text": [
      "[2, 3, 6, 7]\n",
      "[0, 1, 4, 5]\n",
      "TRANSITION Matrix:\n",
      "[[1. 0. 1. 0. 0. 0. 0. 0.]\n",
      " [0. 1. 0. 1. 0. 0. 0. 0.]\n",
      " [0. 0. 1. 0. 0. 0. 0. 0.]\n",
      " [0. 0. 0. 1. 0. 0. 0. 0.]\n",
      " [0. 0. 0. 0. 1. 0. 1. 0.]\n",
      " [0. 0. 0. 0. 0. 1. 0. 1.]\n",
      " [0. 0. 0. 0. 0. 0. 1. 0.]\n",
      " [0. 0. 0. 0. 0. 0. 0. 1.]]\n",
      "MEASUREMENT Matrix:\n",
      "[[1. 0. 0. 0. 0. 0. 0. 0.]\n",
      " [0. 1. 0. 0. 0. 0. 0. 0.]\n",
      " [0. 0. 0. 0. 1. 0. 0. 0.]\n",
      " [0. 0. 0. 0. 0. 1. 0. 0.]]\n"
     ]
    },
    {
     "ename": "TypeError",
     "evalue": "descriptor 'flatten' for 'numpy.ndarray' objects doesn't apply to a 'tuple' object",
     "output_type": "error",
     "traceback": [
      "\u001b[0;31m---------------------------------------------------------------------------\u001b[0m",
      "\u001b[0;31mTypeError\u001b[0m                                 Traceback (most recent call last)",
      "\u001b[0;32m/tmp/ipykernel_20374/2520888691.py\u001b[0m in \u001b[0;36m<module>\u001b[0;34m\u001b[0m\n\u001b[1;32m      9\u001b[0m \u001b[0;34m\u001b[0m\u001b[0m\n\u001b[1;32m     10\u001b[0m \u001b[0;32mfor\u001b[0m \u001b[0mpoint\u001b[0m \u001b[0;32min\u001b[0m \u001b[0mpoints\u001b[0m\u001b[0;34m:\u001b[0m\u001b[0;34m\u001b[0m\u001b[0;34m\u001b[0m\u001b[0m\n\u001b[0;32m---> 11\u001b[0;31m     \u001b[0mpredict\u001b[0m \u001b[0;34m=\u001b[0m \u001b[0mkf\u001b[0m\u001b[0;34m.\u001b[0m\u001b[0mpredict\u001b[0m\u001b[0;34m(\u001b[0m\u001b[0;34m(\u001b[0m\u001b[0mpoint\u001b[0m\u001b[0;34m[\u001b[0m\u001b[0;36m0\u001b[0m\u001b[0;34m]\u001b[0m\u001b[0;34m,\u001b[0m\u001b[0mpoint\u001b[0m\u001b[0;34m[\u001b[0m\u001b[0;36m1\u001b[0m\u001b[0;34m]\u001b[0m\u001b[0;34m)\u001b[0m\u001b[0;34m)\u001b[0m\u001b[0;34m\u001b[0m\u001b[0;34m\u001b[0m\u001b[0m\n\u001b[0m\u001b[1;32m     12\u001b[0m     \u001b[0mprint\u001b[0m\u001b[0;34m(\u001b[0m\u001b[0mpredict\u001b[0m\u001b[0;34m)\u001b[0m\u001b[0;34m\u001b[0m\u001b[0;34m\u001b[0m\u001b[0m\n",
      "\u001b[0;32m/tmp/ipykernel_20374/4155664721.py\u001b[0m in \u001b[0;36mpredict\u001b[0;34m(self, points)\u001b[0m\n\u001b[1;32m     55\u001b[0m \u001b[0;34m\u001b[0m\u001b[0m\n\u001b[1;32m     56\u001b[0m         \u001b[0mpred\u001b[0m \u001b[0;34m=\u001b[0m \u001b[0;34m[\u001b[0m\u001b[0;34m]\u001b[0m\u001b[0;34m\u001b[0m\u001b[0;34m\u001b[0m\u001b[0m\n\u001b[0;32m---> 57\u001b[0;31m         \u001b[0minput_points\u001b[0m \u001b[0;34m=\u001b[0m \u001b[0mnp\u001b[0m\u001b[0;34m.\u001b[0m\u001b[0mfloat32\u001b[0m\u001b[0;34m(\u001b[0m\u001b[0mnp\u001b[0m\u001b[0;34m.\u001b[0m\u001b[0mndarray\u001b[0m\u001b[0;34m.\u001b[0m\u001b[0mflatten\u001b[0m\u001b[0;34m(\u001b[0m\u001b[0mpoints\u001b[0m\u001b[0;34m)\u001b[0m\u001b[0;34m)\u001b[0m\u001b[0;34m\u001b[0m\u001b[0;34m\u001b[0m\u001b[0m\n\u001b[0m\u001b[1;32m     58\u001b[0m         \u001b[0;31m#print(input_points)\u001b[0m\u001b[0;34m\u001b[0m\u001b[0;34m\u001b[0m\u001b[0;34m\u001b[0m\u001b[0m\n\u001b[1;32m     59\u001b[0m         \u001b[0;31m#Correction Step\u001b[0m\u001b[0;34m\u001b[0m\u001b[0;34m\u001b[0m\u001b[0;34m\u001b[0m\u001b[0m\n",
      "\u001b[0;31mTypeError\u001b[0m: descriptor 'flatten' for 'numpy.ndarray' objects doesn't apply to a 'tuple' object"
     ]
    }
   ],
   "source": [
    "kf = Kalman_Filtering(2)\n",
    "kf.initialize()\n",
    "points = [[ 10. , 20.],\n",
    " [ 20. , 20.],\n",
    " [ 30.,  20.],\n",
    " [ 40. , 20.],\n",
    " [ 50. , 20.],\n",
    " [ 60. , 20.]]\n",
    "\n",
    "for point in points:\n",
    "    predict = kf.predict((point[0],point[1]))\n",
    "    print(predict)"
   ]
  },
  {
   "cell_type": "code",
   "execution_count": null,
   "metadata": {},
   "outputs": [],
   "source": []
  },
  {
   "cell_type": "code",
   "execution_count": null,
   "metadata": {},
   "outputs": [],
   "source": []
  }
 ],
 "metadata": {
  "kernelspec": {
   "display_name": "torch_dl",
   "language": "python",
   "name": "python3"
  },
  "language_info": {
   "codemirror_mode": {
    "name": "ipython",
    "version": 3
   },
   "file_extension": ".py",
   "mimetype": "text/x-python",
   "name": "python",
   "nbconvert_exporter": "python",
   "pygments_lexer": "ipython3",
   "version": "3.8.16"
  },
  "orig_nbformat": 4,
  "vscode": {
   "interpreter": {
    "hash": "3fc43966dd8a35b9bb4dacfb26d54ec70461d2f8773a70bf315d67d5e8c2bf14"
   }
  }
 },
 "nbformat": 4,
 "nbformat_minor": 2
}
