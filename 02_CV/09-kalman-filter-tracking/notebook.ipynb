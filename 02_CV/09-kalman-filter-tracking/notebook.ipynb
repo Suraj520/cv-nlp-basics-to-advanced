{
 "cells": [
  {
   "attachments": {},
   "cell_type": "markdown",
   "metadata": {},
   "source": [
    "#### About\n",
    "Tracking using Kalman filter in OpenCV.\n",
    "\n",
    "> About the Algorithm.\n",
    "1. It is used to estimate the position of a moving object across temporal dimension.\n",
    "2. Gaussian curves are used to depict the positional estimate of a moving object.\n",
    "3. Optimal estimate is often derived via mean and variance of Position estimate and State Estimate using Kalman Filter.\n",
    "4. "
   ]
  }
 ],
 "metadata": {
  "language_info": {
   "name": "python"
  },
  "orig_nbformat": 4
 },
 "nbformat": 4,
 "nbformat_minor": 2
}
