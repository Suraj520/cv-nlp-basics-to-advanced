{
 "cells": [
  {
   "attachments": {},
   "cell_type": "markdown",
   "metadata": {},
   "source": [
    "#### About\n",
    "Tracking using Kalman filter in OpenCV.\n",
    "\n",
    "> About the Algorithm.\n",
    "1. It is used to estimate the position of a moving object across temporal dimension.\n",
    "2. Gaussian curves are used to depict the positional estimate of a moving object.\n",
    "3. Optimal estimate is often derived via mean and variance of Measurement estimate and State Estimate using Kalman Filter.\n",
    "4. Initially, Kalman gain is found our via State estimate error and measurement error by using the formula k_g = E_st/(E_st+ E_ma) where E_ma and E_st are measurement and state estimate error of the gaussian curves.\n",
    "5. Estimate at any time t is given by the following equation\n",
    "> Est_t = Est_t-1 + KG(Ms - Est_t-1)\n",
    "> where Est_x is estimate at time x, KG is kalman gain, Ms os measured_value\n",
    "6. New state estimate error is then being calculated by following\n",
    "> error_Est_t = (1-KG)(error_Est_t-1)"
   ]
  },
  {
   "cell_type": "code",
   "execution_count": 40,
   "metadata": {},
   "outputs": [],
   "source": [
    "#kalman filter class\n",
    "import numpy as np\n",
    "import cv2\n",
    "import matplotlib.pyplot as plt\n",
    "%matplotlib inline\n"
   ]
  },
  {
   "cell_type": "code",
   "execution_count": 41,
   "metadata": {},
   "outputs": [
    {
     "name": "stdout",
     "output_type": "stream",
     "text": [
      "[[0.]\n",
      " [0.]]\n"
     ]
    }
   ],
   "source": [
    "kf = cv2.KalmanFilter(2,10)\n",
    "predict = kf.predict()\n",
    "#initial prediction must be 0,0 since nothing was fed\n",
    "print(predict)"
   ]
  },
  {
   "cell_type": "code",
   "execution_count": 42,
   "metadata": {},
   "outputs": [],
   "source": [
    "# kalman filter class for N 2D points\n",
    "\n",
    "'''Kalman filtering for selected points in an image using OpenCV cv2.kalmanFilter class in Python '''\n",
    "class Kalman_Filtering:\n",
    "\n",
    "    def __init__(self):\n",
    "        self.kf = cv2.KalmanFilter(4,2)\n",
    "\n",
    "    def initialize(self):\n",
    "\n",
    "        self.kf.measurementMatrix = np.array([[1,0,0,0],[0,1,0,0]], np.float32)\n",
    "        self.kf.transitionMatrix = np.array([[1,0,1,0],[0,1,0,1],[0,0,1,0],[0,0,0,1]],np.float32)\n",
    "\n",
    "        print('TRANSITION Matrix:')\n",
    "        print(self.kf.transitionMatrix)\n",
    "\n",
    "        print('MEASUREMENT Matrix:')\n",
    "        print(self.kf.measurementMatrix)\n",
    "\n",
    "\n",
    "\n",
    "    def predict(self,point):\n",
    "        x, y = point\n",
    "        ms = np.array([[np.float32(x)],[np.float32(y)]])\n",
    "        self.kf.correct(ms)\n",
    "        pred = self.kf.predict()\n",
    "        x_pred,y_pred = pred[0],pred[1]\n",
    "        return x_pred,y_pred\n",
    "        "
   ]
  },
  {
   "cell_type": "code",
   "execution_count": 43,
   "metadata": {},
   "outputs": [
    {
     "name": "stdout",
     "output_type": "stream",
     "text": [
      "TRANSITION Matrix:\n",
      "[[1. 0. 1. 0.]\n",
      " [0. 1. 0. 1.]\n",
      " [0. 0. 1. 0.]\n",
      " [0. 0. 0. 1.]]\n",
      "MEASUREMENT Matrix:\n",
      "[[1. 0. 0. 0.]\n",
      " [0. 1. 0. 0.]]\n"
     ]
    }
   ],
   "source": [
    "kf = Kalman_Filtering()\n",
    "kf.initialize()"
   ]
  },
  {
   "cell_type": "code",
   "execution_count": 74,
   "metadata": {},
   "outputs": [
    {
     "data": {
      "text/plain": [
       "<matplotlib.image.AxesImage at 0x7f4c73683ee0>"
      ]
     },
     "execution_count": 74,
     "metadata": {},
     "output_type": "execute_result"
    },
    {
     "data": {
      "image/png": "[encoded data removed]",
      "text/plain": [
       "<Figure size 432x288 with 1 Axes>"
      ]
     },
     "metadata": {
      "needs_background": "light"
     },
     "output_type": "display_data"
    }
   ],
   "source": [
    "bg = np.ones((1080,1080))\n",
    "plt.imshow(bg)"
   ]
  },
  {
   "cell_type": "code",
   "execution_count": 75,
   "metadata": {},
   "outputs": [
    {
     "data": {
      "text/plain": [
       "Text(0.5, 0, 'Distance')"
      ]
     },
     "execution_count": 75,
     "metadata": {},
     "output_type": "execute_result"
    },
    {
     "data": {
      "image/png": "[encoded data removed]",
      "text/plain": [
       "<Figure size 432x288 with 1 Axes>"
      ]
     },
     "metadata": {
      "needs_background": "light"
     },
     "output_type": "display_data"
    }
   ],
   "source": [
    "object_position = [(0,1000),(100,1000),(200,1000),(300,1000),(400,1000),(500,1000),(600,1000),(700,1000),(800,1000),(900,1000)]\n",
    "for position in object_position:\n",
    "    cv2.circle(bg, position,20,(0,10,224),-1)\n",
    "    predicted = kf.predict((position[0],position[1]))\n",
    "    pt = np.int0((predicted[0][0],predicted[1][0]))\n",
    "    #drawing predicted\n",
    "    cv2.circle(bg, pt,20,(0,10,224),6)\n",
    "\n",
    "plt.imshow(bg)\n",
    "plt.xlabel('Distance')"
   ]
  },
  {
   "attachments": {},
   "cell_type": "markdown",
   "metadata": {},
   "source": [
    "#### Remarks\n",
    "We can see that from 700th distance, predicted equals actual and thus it predicts actual value at 1000"
   ]
  },
  {
   "cell_type": "code",
   "execution_count": null,
   "metadata": {},
   "outputs": [],
   "source": []
  }
 ],
 "metadata": {
  "kernelspec": {
   "display_name": "torch_dl",
   "language": "python",
   "name": "python3"
  },
  "language_info": {
   "codemirror_mode": {
    "name": "ipython",
    "version": 3
   },
   "file_extension": ".py",
   "mimetype": "text/x-python",
   "name": "python",
   "nbconvert_exporter": "python",
   "pygments_lexer": "ipython3",
   "version": "3.8.16"
  },
  "orig_nbformat": 4,
  "vscode": {
   "interpreter": {
    "hash": "3fc43966dd8a35b9bb4dacfb26d54ec70461d2f8773a70bf315d67d5e8c2bf14"
   }
  }
 },
 "nbformat": 4,
 "nbformat_minor": 2
}
