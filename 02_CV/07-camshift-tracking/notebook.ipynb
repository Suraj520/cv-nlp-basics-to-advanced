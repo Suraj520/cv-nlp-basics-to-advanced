{
 "cells": [
  {
   "attachments": {},
   "cell_type": "markdown",
   "metadata": {},
   "source": [
    "#### About\n",
    "Camshift tracking method using OpenCV Python.\n",
    "\n",
    "> Algorithm.\n",
    "1. It overcomes the limitation of Meanshift algorithm i.e as the target comes closer to the camera, The bounding box should adapt.\n",
    "2. It stands for continuously adaptive meanshift algorithm.\n",
    "3. In addition, It calculates the orientation of best fitting eclipse to it.\n",
    "\n",
    "> Limitations.\n",
    "1. It does require initialisation of bounding box like every other tracking algorithm."
   ]
  },
  {
   "cell_type": "code",
   "execution_count": null,
   "metadata": {},
   "outputs": [],
   "source": [
    "#importing modules\n",
    "import numpy as np\n",
    "import argparse\n",
    "import cv2\n",
    "\n",
    "cap = cv2.VideoCapture('/path/to/video.mp4') #video location\n",
    "#reading first frame\n",
    "ret,frame = cap.read()\n",
    "#ROI for initial pos\n",
    "x,y,w, h = 240,245,123,75 # initialise as per original values\n",
    "tracker_roi = (x,y,w,h)\n",
    "#initialising the roi\n",
    "roi = frame[y:y+h,x:x+w]\n",
    "#histogram backprojection shall create image of same size but single size\n",
    "# 1. Converting to HSV colorspace\n",
    "convt_image = cv2.cvtColor(roi,cv2.COLOR_BGR2HSV)\n",
    "# 2. Creating mask - discarding low illumination values\n",
    "mask = cv2.inRange(convt_image, np.array((0.,90.,32.),np.array(180.,255.,255.)))\n",
    "# 3. Calculating histogram\n",
    "histogram = cv2.calcHist([convt_image],[0], mask, [180],[0,180]) # using just the HUE channel. hist size-  to 179\n",
    "# 4. Normalising values between 0 to 255\n",
    "cv2.normalize(histogram,histogram,alpha=0,beta=255,cv2.NORM_MINMAX)\n",
    "#5. defining terminating criterion\n",
    "terminating_criterion = (cv2.TERM_CRITERIA_EPS | cv2.TermCriteria_COUNT,20,1) #either for 20 pixels or by 1 pixel\n",
    "while(1):\n",
    "    ret, frame = cap.read()\n",
    "    if ret==True:\n",
    "        #calculate hsv value of frame\n",
    "        convt_frame = cv2.cvtColor(frame,cv2.COLOR_BGR2HSV)\n",
    "        #calculating backproject\n",
    "        backproj_image  = cv2.calcBackProject([convt_frame],[0],histogram,[0,180],1)\n",
    "        #applying meanshift to get new position\n",
    "        ret, tracker_roi = cv2.CamShift(backproj_image,tracker_roi,terminating_criterion)\n",
    "        #drawing roi on image\n",
    "        points = cv2.boxPoints(ret)\n",
    "        #converting floating points to integer\n",
    "        points = np.array([int(i) for i in points])\n",
    "        out_image = cv2.polylines(frame, [points], True,(255,0,0),2)\n",
    "        cv2.imshow('tracked image', out_image)\n",
    "        #optional to view backproj_image\n",
    "        #cv2.imshow('Backproj_image',backproj_image)\n",
    "        k = cv2.WaitKey(20)\n",
    "        if k ==27:\n",
    "            break\n",
    "    else:\n",
    "        break"
   ]
  }
 ],
 "metadata": {
  "kernelspec": {
   "display_name": "dl",
   "language": "python",
   "name": "python3"
  },
  "language_info": {
   "name": "python",
   "version": "3.7.11"
  },
  "orig_nbformat": 4,
  "vscode": {
   "interpreter": {
    "hash": "50052c996937e9a0e161d422489677fdaadc23d756ac209b7397e80e5ea8cea0"
   }
  }
 },
 "nbformat": 4,
 "nbformat_minor": 2
}
