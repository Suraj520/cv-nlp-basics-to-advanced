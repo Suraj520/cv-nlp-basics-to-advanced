{
  "cells": [
    {
      "cell_type": "markdown",
      "metadata": {
        "id": "6_IY-B4c5pJC"
      },
      "source": [
        "## About\n",
        "Topic modelling using LDA. It is unsupervised learning statistical method for topic modelling.\n",
        "\n",
        "\n",
        "Dataset - https://www.kaggle.com/datasets/gauravduttakiit/npr-data\n",
        "\n"
      ]
    },
    {
      "cell_type": "code",
      "execution_count": 1,
      "metadata": {
        "colab": {
          "base_uri": "https://localhost:8080/"
        },
        "id": "c4zIDlod5pJF",
        "outputId": "9bb2e8ae-a386-4b33-aba1-55b7ab373cf2"
      },
      "outputs": [
        {
          "output_type": "stream",
          "name": "stderr",
          "text": [
            "/usr/local/lib/python3.8/dist-packages/torch/cuda/__init__.py:497: UserWarning: Can't initialize NVML\n",
            "  warnings.warn(\"Can't initialize NVML\")\n"
          ]
        }
      ],
      "source": [
        "import pandas as pd\n",
        "import re\n",
        "from sklearn.feature_extraction import text\n",
        "from sklearn.decomposition import LatentDirichletAllocation\n",
        "import nltk\n",
        "import gensim\n",
        "import spacy\n",
        "from sklearn.model_selection import GridSearchCV\n",
        "import numpy as np"
      ]
    },
    {
      "cell_type": "code",
      "execution_count": 3,
      "metadata": {
        "id": "r3RwQJmd5pJH"
      },
      "outputs": [],
      "source": [
        "data = pd.read_csv('/content/drive/MyDrive/Datasets/npr.csv')\n"
      ]
    },
    {
      "cell_type": "code",
      "execution_count": 4,
      "metadata": {
        "colab": {
          "base_uri": "https://localhost:8080/",
          "height": 206
        },
        "id": "FMuId2Gw5pJH",
        "outputId": "fb60ccba-e0bd-4870-f686-1f73024e7443"
      },
      "outputs": [
        {
          "output_type": "execute_result",
          "data": {
            "text/plain": [
              "                                             Article\n",
              "0  In the Washington of 2016, even when the polic...\n",
              "1    Donald Trump has used Twitter  —   his prefe...\n",
              "2    Donald Trump is unabashedly praising Russian...\n",
              "3  Updated at 2:50 p. m. ET, Russian President Vl...\n",
              "4  From photography, illustration and video, to d..."
            ],
            "text/html": [
              "\n",
              "  <div id=\"df-bddbe736-d868-4547-a9c9-794f18d51ab7\">\n",
              "    <div class=\"colab-df-container\">\n",
              "      <div>\n",
              "<style scoped>\n",
              "    .dataframe tbody tr th:only-of-type {\n",
              "        vertical-align: middle;\n",
              "    }\n",
              "\n",
              "    .dataframe tbody tr th {\n",
              "        vertical-align: top;\n",
              "    }\n",
              "\n",
              "    .dataframe thead th {\n",
              "        text-align: right;\n",
              "    }\n",
              "</style>\n",
              "<table border=\"1\" class=\"dataframe\">\n",
              "  <thead>\n",
              "    <tr style=\"text-align: right;\">\n",
              "      <th></th>\n",
              "      <th>Article</th>\n",
              "    </tr>\n",
              "  </thead>\n",
              "  <tbody>\n",
              "    <tr>\n",
              "      <th>0</th>\n",
              "      <td>In the Washington of 2016, even when the polic...</td>\n",
              "    </tr>\n",
              "    <tr>\n",
              "      <th>1</th>\n",
              "      <td>Donald Trump has used Twitter  —   his prefe...</td>\n",
              "    </tr>\n",
              "    <tr>\n",
              "      <th>2</th>\n",
              "      <td>Donald Trump is unabashedly praising Russian...</td>\n",
              "    </tr>\n",
              "    <tr>\n",
              "      <th>3</th>\n",
              "      <td>Updated at 2:50 p. m. ET, Russian President Vl...</td>\n",
              "    </tr>\n",
              "    <tr>\n",
              "      <th>4</th>\n",
              "      <td>From photography, illustration and video, to d...</td>\n",
              "    </tr>\n",
              "  </tbody>\n",
              "</table>\n",
              "</div>\n",
              "      <button class=\"colab-df-convert\" onclick=\"convertToInteractive('df-bddbe736-d868-4547-a9c9-794f18d51ab7')\"\n",
              "              title=\"Convert this dataframe to an interactive table.\"\n",
              "              style=\"display:none;\">\n",
              "        \n",
              "  <svg xmlns=\"http://www.w3.org/2000/svg\" height=\"24px\"viewBox=\"0 0 24 24\"\n",
              "       width=\"24px\">\n",
              "    <path d=\"M0 0h24v24H0V0z\" fill=\"none\"/>\n",
              "    <path d=\"M18.56 5.44l.94 2.06.94-2.06 2.06-.94-2.06-.94-.94-2.06-.94 2.06-2.06.94zm-11 1L8.5 8.5l.94-2.06 2.06-.94-2.06-.94L8.5 2.5l-.94 2.06-2.06.94zm10 10l.94 2.06.94-2.06 2.06-.94-2.06-.94-.94-2.06-.94 2.06-2.06.94z\"/><path d=\"M17.41 7.96l-1.37-1.37c-.4-.4-.92-.59-1.43-.59-.52 0-1.04.2-1.43.59L10.3 9.45l-7.72 7.72c-.78.78-.78 2.05 0 2.83L4 21.41c.39.39.9.59 1.41.59.51 0 1.02-.2 1.41-.59l7.78-7.78 2.81-2.81c.8-.78.8-2.07 0-2.86zM5.41 20L4 18.59l7.72-7.72 1.47 1.35L5.41 20z\"/>\n",
              "  </svg>\n",
              "      </button>\n",
              "      \n",
              "  <style>\n",
              "    .colab-df-container {\n",
              "      display:flex;\n",
              "      flex-wrap:wrap;\n",
              "      gap: 12px;\n",
              "    }\n",
              "\n",
              "    .colab-df-convert {\n",
              "      background-color: #E8F0FE;\n",
              "      border: none;\n",
              "      border-radius: 50%;\n",
              "      cursor: pointer;\n",
              "      display: none;\n",
              "      fill: #1967D2;\n",
              "      height: 32px;\n",
              "      padding: 0 0 0 0;\n",
              "      width: 32px;\n",
              "    }\n",
              "\n",
              "    .colab-df-convert:hover {\n",
              "      background-color: #E2EBFA;\n",
              "      box-shadow: 0px 1px 2px rgba(60, 64, 67, 0.3), 0px 1px 3px 1px rgba(60, 64, 67, 0.15);\n",
              "      fill: #174EA6;\n",
              "    }\n",
              "\n",
              "    [theme=dark] .colab-df-convert {\n",
              "      background-color: #3B4455;\n",
              "      fill: #D2E3FC;\n",
              "    }\n",
              "\n",
              "    [theme=dark] .colab-df-convert:hover {\n",
              "      background-color: #434B5C;\n",
              "      box-shadow: 0px 1px 3px 1px rgba(0, 0, 0, 0.15);\n",
              "      filter: drop-shadow(0px 1px 2px rgba(0, 0, 0, 0.3));\n",
              "      fill: #FFFFFF;\n",
              "    }\n",
              "  </style>\n",
              "\n",
              "      <script>\n",
              "        const buttonEl =\n",
              "          document.querySelector('#df-bddbe736-d868-4547-a9c9-794f18d51ab7 button.colab-df-convert');\n",
              "        buttonEl.style.display =\n",
              "          google.colab.kernel.accessAllowed ? 'block' : 'none';\n",
              "\n",
              "        async function convertToInteractive(key) {\n",
              "          const element = document.querySelector('#df-bddbe736-d868-4547-a9c9-794f18d51ab7');\n",
              "          const dataTable =\n",
              "            await google.colab.kernel.invokeFunction('convertToInteractive',\n",
              "                                                     [key], {});\n",
              "          if (!dataTable) return;\n",
              "\n",
              "          const docLinkHtml = 'Like what you see? Visit the ' +\n",
              "            '<a target=\"_blank\" href=https://colab.research.google.com/notebooks/data_table.ipynb>data table notebook</a>'\n",
              "            + ' to learn more about interactive tables.';\n",
              "          element.innerHTML = '';\n",
              "          dataTable['output_type'] = 'display_data';\n",
              "          await google.colab.output.renderOutput(dataTable, element);\n",
              "          const docLink = document.createElement('div');\n",
              "          docLink.innerHTML = docLinkHtml;\n",
              "          element.appendChild(docLink);\n",
              "        }\n",
              "      </script>\n",
              "    </div>\n",
              "  </div>\n",
              "  "
            ]
          },
          "metadata": {},
          "execution_count": 4
        }
      ],
      "source": [
        "data.head()"
      ]
    },
    {
      "cell_type": "code",
      "execution_count": 5,
      "metadata": {
        "colab": {
          "base_uri": "https://localhost:8080/"
        },
        "id": "sRMcSbFa5pJI",
        "outputId": "a3f56572-68b2-4fb9-e531-891f5bdff7d6"
      },
      "outputs": [
        {
          "output_type": "stream",
          "name": "stdout",
          "text": [
            "                                             Article\n",
            "0  In the Washington of 2016, even when the polic...\n"
          ]
        }
      ],
      "source": [
        "# cleaning the data\n",
        "list_data = data.Article.values.tolist()\n",
        "# Remove new line characters\n",
        "list_data = [re.sub(r'\\s+', ' ', sent) for sent in list_data]\n",
        "print(data[:1])"
      ]
    },
    {
      "cell_type": "code",
      "execution_count": 6,
      "metadata": {
        "id": "8e2dg1gZ5pJI"
      },
      "outputs": [],
      "source": [
        "# tokenising each sentence into words after ignoring puncts\n",
        "def sent_to_words(sentences):\n",
        "    for sentence in sentences:\n",
        "        yield(gensim.utils.simple_preprocess(str(sentence), deacc=True))  # deacc=True flag is used to remove punctuations.\n",
        "\n",
        "words_list = list(sent_to_words(list_data))"
      ]
    },
    {
      "cell_type": "code",
      "execution_count": 7,
      "metadata": {
        "colab": {
          "base_uri": "https://localhost:8080/"
        },
        "id": "ybwdIbdI5pJJ",
        "outputId": "a4dbb635-924a-49bd-d5bb-0094aa6b4bb1"
      },
      "outputs": [
        {
          "output_type": "stream",
          "name": "stdout",
          "text": [
            "['in', 'the', 'washington', 'of', 'even', 'when', 'the', 'policy', 'can', 'be', 'bipartisan', 'the', 'politics', 'cannot', 'and', 'in', 'that', 'sense', 'this', 'year', 'shows', 'little', 'sign', 'of', 'ending', 'on', 'dec', 'when', 'president', 'obama', 'moved', 'to', 'sanction', 'russia', 'over', 'its', 'alleged', 'interference', 'in', 'the', 'election', 'just', 'concluded', 'some', 'republicans', 'who', 'had', 'long', 'called', 'for', 'similar', 'or', 'more', 'severe', 'measures', 'could', 'scarcely', 'bring', 'themselves', 'to', 'approve', 'house', 'speaker', 'paul', 'ryan', 'called', 'the', 'obama', 'measures', 'appropriate', 'but', 'also', 'overdue', 'and', 'prime', 'example', 'of', 'this', 'administration', 'ineffective', 'foreign', 'policy', 'that', 'has', 'left', 'america', 'weaker', 'in', 'the', 'eyes', 'of', 'the', 'world', 'other', 'gop', 'leaders', 'sounded', 'much', 'the', 'same', 'theme', 'we', 'have', 'been', 'urging', 'president', 'obama', 'for', 'years', 'to', 'take', 'strong', 'action', 'to', 'deter', 'russia', 'worldwide', 'aggression', 'including', 'its', 'operations', 'wrote', 'rep', 'devin', 'nunes', 'chairman', 'of', 'the', 'house', 'intelligence', 'committee', 'now', 'with', 'just', 'few', 'weeks', 'left', 'in', 'office', 'the', 'president', 'has', 'suddenly', 'decided', 'that', 'some', 'stronger', 'measures', 'are', 'indeed', 'warranted', 'appearing', 'on', 'cnn', 'frequent', 'obama', 'critic', 'trent', 'franks', 'called', 'for', 'much', 'tougher', 'actions', 'and', 'said', 'three', 'times', 'that', 'obama', 'had', 'finally', 'found', 'his', 'tongue', 'meanwhile', 'at', 'and', 'on', 'fox', 'news', 'various', 'spokesmen', 'for', 'trump', 'said', 'obama', 'real', 'target', 'was', 'not', 'the', 'russians', 'at', 'all', 'but', 'the', 'man', 'poised', 'to', 'take', 'over', 'the', 'white', 'house', 'in', 'less', 'than', 'three', 'weeks', 'they', 'spoke', 'of', 'obama', 'trying', 'to', 'tie', 'trump', 'hands', 'or', 'box', 'him', 'in', 'meaning', 'the', 'would', 'be', 'forced', 'either', 'to', 'keep', 'the', 'sanctions', 'or', 'be', 'at', 'odds', 'with', 'republicans', 'who', 'want', 'to', 'be', 'tougher', 'still', 'on', 'moscow', 'throughout', 'trump', 'has', 'repeatedly', 'called', 'not', 'for', 'sanctions', 'but', 'for', 'closer', 'ties', 'with', 'russia', 'including', 'cooperation', 'in', 'the', 'fight', 'against', 'isis', 'russia', 'has', 'battled', 'isis', 'in', 'syria', 'on', 'behalf', 'of', 'that', 'country', 'embattled', 'dictator', 'bashar', 'assad', 'bombing', 'the', 'besieged', 'city', 'of', 'aleppo', 'that', 'fell', 'to', 'assad', 'forces', 'this', 'week', 'during', 'the', 'campaign', 'trump', 'even', 'urged', 'russia', 'to', 'find', 'missing', 'emails', 'from', 'the', 'private', 'server', 'of', 'his', 'opponent', 'hillary', 'clinton', 'he', 'has', 'exchanged', 'public', 'encomiums', 'with', 'russian', 'president', 'vladimir', 'putin', 'on', 'several', 'occasions', 'and', 'added', 'his', 'doubts', 'about', 'the', 'current', 'levels', 'of', 'support', 'for', 'nato', 'putin', 'longtime', 'nemesis', 'there', 'have', 'also', 'been', 'suggestions', 'that', 'trump', 'extensive', 'business', 'dealings', 'with', 'various', 'russians', 'are', 'the', 'reason', 'he', 'refuses', 'to', 'release', 'his', 'tax', 'returns', 'all', 'those', 'issues', 'have', 'been', 'disquieting', 'to', 'some', 'republicans', 'for', 'many', 'months', 'sens', 'john', 'mccain', 'and', 'lindsay', 'graham', 'prominent', 'senior', 'members', 'of', 'the', 'armed', 'services', 'committee', 'have', 'accepted', 'the', 'assessment', 'of', 'intelligence', 'agencies', 'regarding', 'the', 'role', 'of', 'russia', 'in', 'the', 'hacking', 'of', 'various', 'democratic', 'committees', 'last', 'year', 'that', 'includes', 'the', 'fbi', 'and', 'cia', 'consensus', 'that', 'the', 'russian', 'goal', 'was', 'not', 'just', 'to', 'discredit', 'american', 'democracy', 'but', 'to', 'defeat', 'clinton', 'and', 'elect', 'trump', 'they', 'say', 'the', 'great', 'majority', 'of', 'their', 'senate', 'colleagues', 'agree', 'with', 'them', 'and', 'mccain', 'has', 'slated', 'an', 'armed', 'services', 'hearing', 'on', 'cyberthreats', 'for', 'jan', 'but', 'the', 'politicizing', 'of', 'the', 'russian', 'actions', 'the', 'idea', 'that', 'they', 'helped', 'trump', 'win', 'has', 'also', 'made', 'the', 'issue', 'difficult', 'for', 'republican', 'leaders', 'it', 'has', 'allowed', 'trump', 'supporters', 'to', 'push', 'back', 'on', 'the', 'intelligence', 'agencies', 'and', 'say', 'the', 'entire', 'issue', 'is', 'designed', 'to', 'undermine', 'trump', 'legitimacy', 'senate', 'majority', 'leader', 'mitch', 'mcconnell', 'has', 'so', 'far', 'resisted', 'calls', 'for', 'select', 'committee', 'to', 'look', 'into', 'the', 'russian', 'interference', 'in', 'the', 'campaign', 'he', 'has', 'said', 'it', 'is', 'enough', 'for', 'sen', 'richard', 'burr', 'to', 'look', 'into', 'it', 'as', 'chairman', 'of', 'the', 'senate', 'intelligence', 'committee', 'typically', 'republican', 'leaders', 'and', 'spokesmen', 'say', 'there', 'is', 'no', 'evidence', 'that', 'the', 'actual', 'voting', 'or', 'tallying', 'on', 'nov', 'was', 'compromised', 'and', 'that', 'is', 'true', 'but', 'it', 'is', 'also', 'red', 'herring', 'as', 'interference', 'in', 'those', 'functions', 'has', 'not', 'been', 'alleged', 'and', 'is', 'not', 'the', 'focus', 'of', 'the', 'intelligence', 'agencies', 'concern', 'for', 'his', 'part', 'trump', 'has', 'shown', 'little', 'interest', 'in', 'delving', 'into', 'what', 'happened', 'he', 'has', 'cast', 'doubt', 'on', 'the', 'intelligence', 'reports', 'to', 'date', 'and', 'suggested', 'no', 'one', 'really', 'knows', 'what', 'happened', 'he', 'also', 'has', 'suggested', 'that', 'computers', 'make', 'it', 'very', 'difficult', 'to', 'know', 'who', 'is', 'using', 'them', 'this', 'week', 'trump', 'said', 'it', 'was', 'time', 'to', 'get', 'on', 'with', 'our', 'lives', 'and', 'do', 'more', 'important', 'things', 'however', 'at', 'week', 'end', 'he', 'did', 'agree', 'to', 'have', 'an', 'intelligence', 'briefing', 'on', 'the', 'subject', 'next', 'week', 'the', 'has', 'not', 'wanted', 'the', 'daily', 'intelligence', 'briefings', 'available', 'to', 'him', 'in', 'recent', 'weeks', 'preferring', 'that', 'they', 'be', 'given', 'to', 'the', 'men', 'he', 'has', 'chosen', 'as', 'his', 'vice', 'president', 'mike', 'pence', 'and', 'national', 'security', 'adviser', 'mike', 'flynn', 'with', 'trump', 'taking', 'them', 'only', 'occasionally', 'the', 'irony', 'of', 'this', 'controversy', 'arising', 'at', 'the', 'eleventh', 'hour', 'of', 'the', 'obama', 'presidency', 'can', 'scarcely', 'be', 'overstated', 'and', 'it', 'defines', 'the', 'dilemma', 'facing', 'both', 'the', 'outgoing', 'president', 'and', 'the', 'incoming', 'party', 'in', 'control', 'obama', 'appears', 'to', 'have', 'been', 'reluctant', 'to', 'retaliate', 'against', 'the', 'russian', 'hacking', 'before', 'the', 'election', 'for', 'fear', 'of', 'seeming', 'to', 'interfere', 'with', 'the', 'election', 'himself', 'the', 'republicans', 'meanwhile', 'have', 'for', 'years', 'called', 'for', 'greater', 'confrontation', 'with', 'the', 'russians', 'with', 'obama', 'usually', 'resisting', 'obama', 'did', 'join', 'with', 'nato', 'in', 'punishing', 'the', 'russians', 'with', 'economic', 'sanctions', 'over', 'the', 'annexation', 'of', 'crimea', 'those', 'sanctions', 'may', 'have', 'been', 'painful', 'coming', 'as', 'they', 'did', 'alongside', 'falling', 'prices', 'for', 'oil', 'the', 'commodity', 'that', 'keeps', 'the', 'russian', 'economy', 'afloat', 'on', 'other', 'occasions', 'despite', 'russian', 'provocations', 'through', 'surrogates', 'in', 'syria', 'and', 'elsewhere', 'obama', 'did', 'not', 'make', 'overt', 'moves', 'to', 'force', 'russia', 'hand', 'that', 'includes', 'occasions', 'when', 'russia', 'was', 'believed', 'to', 'be', 'hacking', 'critical', 'computer', 'systems', 'in', 'neighboring', 'ukraine', 'estonia', 'and', 'poland', 'but', 'this', 'week', 'following', 'chorus', 'of', 'confirmation', 'from', 'the', 'intelligence', 'community', 'regarding', 'the', 'russian', 'role', 'in', 'computer', 'hacking', 'in', 'the', 'political', 'campaign', 'obama', 'acted', 'he', 'imposed', 'set', 'of', 'mostly', 'diplomatic', 'actions', 'such', 'as', 'sanctioning', 'some', 'russian', 'officials', 'closing', 'two', 'diplomatic', 'compounds', 'and', 'expelling', 'russian', 'diplomats', 'there', 'may', 'have', 'been', 'more', 'damaging', 'measures', 'taken', 'covertly', 'and', 'some', 'russophobes', 'in', 'washington', 'held', 'out', 'hope', 'for', 'that', 'but', 'the', 'visible', 'portion', 'of', 'the', 'program', 'scarcely', 'amounted', 'to', 'major', 'retribution', 'and', 'putin', 'saw', 'fit', 'to', 'diminish', 'the', 'obama', 'sanctions', 'further', 'by', 'declining', 'to', 'respond', 'although', 'his', 'government', 'has', 'steadfastly', 'denied', 'any', 'interference', 'in', 'the', 'election', 'putin', 'rejected', 'his', 'own', 'foreign', 'minister', 'recommended', 'package', 'of', 'responses', 'he', 'even', 'sent', 'an', 'invitation', 'for', 'diplomats', 'to', 'send', 'their', 'children', 'to', 'holiday', 'party', 'in', 'moscow', 'that', 'allowed', 'putin', 'to', 'appear', 'for', 'the', 'moment', 'to', 'be', 'the', 'bigger', 'man', 'even', 'as', 'he', 'spurned', 'obama', 'and', 'kept', 'up', 'what', 'has', 'looked', 'like', 'public', 'bromance', 'with', 'trump', 'who', 'tweeted', 'great', 'move', 'on', 'delay', 'by', 'putin', 'always', 'knew', 'he', 'was', 'very', 'smart', 'at', 'the', 'moment', 'it', 'may', 'seem', 'that', 'the', 'overall', 'russia', 'question', 'amounts', 'to', 'the', 'first', 'crisis', 'facing', 'the', 'trump', 'presidency', 'whether', 'forced', 'by', 'this', 'campaign', 'interference', 'issue', 'or', 'not', 'trump', 'must', 'grasp', 'the', 'nettle', 'of', 'relationship', 'mitt', 'romney', 'once', 'called', 'the', 'greatest', 'threat', 'to', 'security', 'in', 'the', 'world', 'to', 'be', 'sure', 'trump', 'needs', 'to', 'dispel', 'doubts', 'about', 'his', 'ability', 'to', 'stand', 'up', 'to', 'putin', 'who', 'has', 'bullied', 'and', 'cajoled', 'his', 'way', 'to', 'center', 'stage', 'in', 'recent', 'world', 'affairs', 'but', 'trump', 'also', 'seems', 'determined', 'to', 'turn', 'the', 'page', 'on', 'past', 'commitments', 'from', 'free', 'trade', 'philosophy', 'to', 'funding', 'of', 'nato', 'and', 'the', 'united', 'nations', 'and', 'if', 'his', 'twitter', 'account', 'is', 'any', 'guide', 'trump', 'shows', 'little', 'concern', 'about', 'the', 'conundrum', 'others', 'perceive', 'to', 'be', 'facing', 'him', 'above', 'all', 'trump', 'has', 'shown', 'himself', 'determined', 'to', 'play', 'by', 'his', 'own', 'rules', 'year', 'ago', 'many', 'were', 'confident', 'that', 'would', 'not', 'work', 'for', 'him', 'in', 'the', 'world', 'of', 'presidential', 'politics', 'we', 'are', 'about', 'to', 'find', 'out', 'whether', 'it', 'works', 'for', 'him', 'in', 'the', 'oval', 'office']\n"
          ]
        }
      ],
      "source": [
        "print(words_list[0][:])"
      ]
    },
    {
      "cell_type": "code",
      "execution_count": 8,
      "metadata": {
        "id": "sypEaicV5pJJ"
      },
      "outputs": [],
      "source": [
        "#lemmatisation -> We'll be able to reduce number of unique words which will result in dense document-word matrix.\n",
        "\n",
        "def lemmatise(texts,allowed_tags = ['NOUN','ADJ','VERB','ADV']):\n",
        "    out = []\n",
        "    for tokens in texts:\n",
        "        doc = nlp(\" \".join(tokens))\n",
        "        out.append(\" \".join([token.lemma_ if token.lemma_ not in ['-PRON-'] else '' for token in doc if token.pos_ in allowed_tags]))\n",
        "    return out"
      ]
    },
    {
      "cell_type": "code",
      "execution_count": 9,
      "metadata": {
        "id": "0imvrBz15pJJ"
      },
      "outputs": [],
      "source": [
        "nlp = spacy.load('en_core_web_sm', disable=['parser', 'ner'])\n"
      ]
    },
    {
      "cell_type": "code",
      "execution_count": 10,
      "metadata": {
        "id": "AI8htSwQ5pJJ"
      },
      "outputs": [],
      "source": [
        "lemma_words = lemmatise(words_list,allowed_tags=['NOUN','VERB'])\n"
      ]
    },
    {
      "cell_type": "code",
      "execution_count": 11,
      "metadata": {
        "colab": {
          "base_uri": "https://localhost:8080/"
        },
        "id": "EcoXSihV5pJK",
        "outputId": "e6df80cf-9747-4072-9539-4932ade8e7db"
      },
      "outputs": [
        {
          "output_type": "stream",
          "name": "stderr",
          "text": [
            "IOPub data rate exceeded.\n",
            "The notebook server will temporarily stop sending output\n",
            "to the client in order to avoid crashing it.\n",
            "To change this limit, set the config variable\n",
            "`--NotebookApp.iopub_data_rate_limit`.\n",
            "\n",
            "Current values:\n",
            "NotebookApp.iopub_data_rate_limit=1000000.0 (bytes/sec)\n",
            "NotebookApp.rate_limit_window=3.0 (secs)\n",
            "\n"
          ]
        }
      ],
      "source": [
        "print(lemma_words)"
      ]
    },
    {
      "cell_type": "code",
      "execution_count": 12,
      "metadata": {
        "id": "zrbpt3Kt5pJK"
      },
      "outputs": [],
      "source": [
        "count_vectorizer = text.CountVectorizer(max_df=0.9, min_df=0.1, stop_words='english')\n",
        "count_vector_matrix = count_vectorizer.fit_transform(lemma_words)"
      ]
    },
    {
      "cell_type": "code",
      "execution_count": 13,
      "metadata": {
        "colab": {
          "base_uri": "https://localhost:8080/"
        },
        "id": "JDVfFwWz5pJK",
        "outputId": "f5244873-2a0f-406e-b498-5791c98ea9d1"
      },
      "outputs": [
        {
          "output_type": "execute_result",
          "data": {
            "text/plain": [
              "<11992x297 sparse matrix of type '<class 'numpy.int64'>'\n",
              "\twith 690812 stored elements in Compressed Sparse Row format>"
            ]
          },
          "metadata": {},
          "execution_count": 13
        }
      ],
      "source": [
        "count_vector_matrix"
      ]
    },
    {
      "cell_type": "code",
      "execution_count": 14,
      "metadata": {
        "id": "LCY1-sWS5pJK"
      },
      "outputs": [],
      "source": [
        "LDA = LatentDirichletAllocation(n_components=20, random_state=54,max_iter=20, learning_method='online',batch_size=128, evaluate_every=-1,n_jobs=-1)\n",
        "\n",
        "lda_output= LDA.fit(count_vector_matrix)"
      ]
    },
    {
      "cell_type": "code",
      "execution_count": 15,
      "metadata": {
        "colab": {
          "base_uri": "https://localhost:8080/"
        },
        "id": "AT47hzMX5pJL",
        "outputId": "5e10eee8-2b86-4189-9eab-0c9b383194ce"
      },
      "outputs": [
        {
          "output_type": "stream",
          "name": "stdout",
          "text": [
            "Log Likelihood score :: -6654919.38444852\n",
            "Perplexity :: 195.90863838269587\n"
          ]
        }
      ],
      "source": [
        "# evaluating model's performance\n",
        "print(\"Log Likelihood score :: {}\".format(LDA.score(count_vector_matrix)))\n",
        "\n",
        "#evaluate model perplexity\n",
        "print(\"Perplexity :: {}\".format(LDA.perplexity(count_vector_matrix)))"
      ]
    },
    {
      "cell_type": "markdown",
      "metadata": {
        "id": "SuTmOEws5pJL"
      },
      "source": [
        "For a better model, Log likelohood should be high and perplexity should be low."
      ]
    },
    {
      "cell_type": "markdown",
      "metadata": {
        "id": "NIboNSPz5pJL"
      },
      "source": [
        "#### Use GridSearchCV to filter out the best params for the model."
      ]
    },
    {
      "cell_type": "code",
      "execution_count": 16,
      "metadata": {
        "colab": {
          "base_uri": "https://localhost:8080/"
        },
        "id": "l4mcZi-S5pJL",
        "outputId": "4cd1432c-54f9-4139-ffe1-d778b3a614bf"
      },
      "outputs": [
        {
          "output_type": "stream",
          "name": "stdout",
          "text": [
            "{'batch_size': 128, 'doc_topic_prior': None, 'evaluate_every': -1, 'learning_decay': 0.7, 'learning_method': 'online', 'learning_offset': 10.0, 'max_doc_update_iter': 100, 'max_iter': 20, 'mean_change_tol': 0.001, 'n_components': 20, 'n_jobs': -1, 'perp_tol': 0.1, 'random_state': 54, 'topic_word_prior': None, 'total_samples': 1000000.0, 'verbose': 0}\n"
          ]
        }
      ],
      "source": [
        "print(LDA.get_params())"
      ]
    },
    {
      "cell_type": "code",
      "execution_count": 18,
      "metadata": {
        "colab": {
          "base_uri": "https://localhost:8080/"
        },
        "id": "WcWiTMTq5pJL",
        "outputId": "dbd7893a-29f1-4012-f401-5fa6f0d4b103"
      },
      "outputs": [
        {
          "output_type": "execute_result",
          "data": {
            "text/plain": [
              "GridSearchCV(estimator=LatentDirichletAllocation(learning_method='online',\n",
              "                                                 random_state=42),\n",
              "             param_grid={'learning_decay': [0.1, 0.4, 0.9],\n",
              "                         'n_components': [10, 20]})"
            ]
          },
          "metadata": {},
          "execution_count": 18
        }
      ],
      "source": [
        "#using grid search_CV\n",
        "\n",
        "params_dict = {\n",
        "    'n_components':[10,20],\n",
        "    'learning_decay':[0.1,0.4,0.9]\n",
        "}\n",
        "LDA = LatentDirichletAllocation(max_iter=10, learning_method='online',random_state=42)\n",
        "\n",
        "#grid search\n",
        "model = GridSearchCV(LDA, param_grid=params_dict)\n",
        "\n",
        "model.fit(count_vector_matrix)\n"
      ]
    },
    {
      "cell_type": "code",
      "execution_count": 19,
      "metadata": {
        "colab": {
          "base_uri": "https://localhost:8080/"
        },
        "id": "M-lAi9FE5pJM",
        "outputId": "38cdead2-1e40-42ab-9ca7-baf016885ad7"
      },
      "outputs": [
        {
          "output_type": "stream",
          "name": "stdout",
          "text": [
            "Model's Params: {'learning_decay': 0.4, 'n_components': 10}\n",
            "Best Log Likelihood score :: -1342259.2498857845\n",
            "Perplexity 197.54357244114308\n"
          ]
        }
      ],
      "source": [
        "#printing out the best parameter\n",
        "best_model = model.best_estimator_\n",
        "\n",
        "# best params\n",
        "print(\"Model's Params:\", model.best_params_)\n",
        "\n",
        "#best log likelihood score\n",
        "print(\"Best Log Likelihood score :: {}\".format(model.best_score_))\n",
        "\n",
        "# perplexity\n",
        "print(\"Perplexity {}\".format(best_model.perplexity(count_vector_matrix)))"
      ]
    },
    {
      "cell_type": "code",
      "execution_count": 21,
      "metadata": {
        "id": "1LQ0Lsk65pJM"
      },
      "outputs": [],
      "source": [
        "# method to predict top n keywords for each topic\n",
        "\n",
        "def show_topics(vectorizer=count_vectorizer, lda_model=best_model, n_words=20):\n",
        "    keywords = np.array(vectorizer.get_feature_names())\n",
        "    topic_keywords = []\n",
        "    for topic_weights in lda_model.components_:\n",
        "        top_keyword_locs = (-topic_weights).argsort()[:n_words]\n",
        "        topic_keywords.append(keywords.take(top_keyword_locs))\n",
        "    return topic_keywords"
      ]
    },
    {
      "cell_type": "code",
      "execution_count": 22,
      "metadata": {
        "colab": {
          "base_uri": "https://localhost:8080/"
        },
        "id": "StLYNOyf5pJM",
        "outputId": "ac8b8692-0f44-419d-f7c1-31a2b52a1734"
      },
      "outputs": [
        {
          "output_type": "stream",
          "name": "stderr",
          "text": [
            "/usr/local/lib/python3.8/dist-packages/sklearn/utils/deprecation.py:87: FutureWarning: Function get_feature_names is deprecated; get_feature_names is deprecated in 1.0 and will be removed in 1.2. Please use get_feature_names_out instead.\n",
            "  warnings.warn(msg, category=FutureWarning)\n"
          ]
        }
      ],
      "source": [
        "topic_keywords = show_topics(vectorizer=count_vectorizer, lda_model=best_model, n_words=20)\n"
      ]
    },
    {
      "cell_type": "code",
      "execution_count": 23,
      "metadata": {
        "colab": {
          "base_uri": "https://localhost:8080/",
          "height": 363
        },
        "id": "qpFPmEj_5pJM",
        "outputId": "6e7f7297-1d49-44cb-ac73-5baf22899156"
      },
      "outputs": [
        {
          "output_type": "execute_result",
          "data": {
            "text/plain": [
              "          Word 0    Word 1      Word 2   Word 3    Word 4     Word 5   Word 6  \\\n",
              "Topic 0    woman     study         use   people  research       test  percent   \n",
              "Topic 1   school   student         kid  program     learn       year   parent   \n",
              "Topic 2    child    family      parent   mother     woman       home     live   \n",
              "Topic 3  company      food        make     year     water        use    world   \n",
              "Topic 4      law     state  government     case     court      right     rule   \n",
              "Topic 5   health    people        care  percent       pay       year  program   \n",
              "Topic 6   people     think        know     make      time        way    thing   \n",
              "Topic 7    trump  campaign   president     news      tell   election   medium   \n",
              "Topic 8     vote     state    election      win     party  candidate     year   \n",
              "Topic 9   report    police      people     city    attack       tell     kill   \n",
              "\n",
              "          Word 7     Word 8    Word 9         Word 10    Word 11 Word 12  \\\n",
              "Topic 0     risk       case    health            year     result   cause   \n",
              "Topic 1    child      state      help            need       work   spend   \n",
              "Topic 2      kid       life       day           leave  community   house   \n",
              "Topic 3  country     people      work        business       city    come   \n",
              "Topic 4   report      issue  official  administration   decision     use   \n",
              "Topic 5     plan        job      work            cost      state   money   \n",
              "Topic 6     year       come      want            work       feel    life   \n",
              "Topic 7     make  candidate    policy        question       time    week   \n",
              "Topic 8  percent   campaign   support          people      point    make   \n",
              "Topic 9     year     accord     force           death        man     war   \n",
              "\n",
              "             Word 13    Word 14  Word 15  Word 16    Word 17  Word 18  \\\n",
              "Topic 0        group    publish   report  suggest    include  problem   \n",
              "Topic 1          lot      study     read      use       test    start   \n",
              "Topic 2         year       bear     help      age       tell   school   \n",
              "Topic 3         time       sell     grow      day        way    build   \n",
              "Topic 4  information     agency  include  country       make     year   \n",
              "Topic 5      service       need     help     make    benefit   policy   \n",
              "Topic 6        story         ve     tell    write       look      lot   \n",
              "Topic 7      country  statement  comment      ask      speak    think   \n",
              "Topic 8         lose    country      day     need  president     lead   \n",
              "Topic 9          day      video    group     time    country     news   \n",
              "\n",
              "           Word 19  \n",
              "Topic 0       lead  \n",
              "Topic 1      group  \n",
              "Topic 2    country  \n",
              "Topic 3       need  \n",
              "Topic 4  statement  \n",
              "Topic 5   increase  \n",
              "Topic 6       book  \n",
              "Topic 7  interview  \n",
              "Topic 8        run  \n",
              "Topic 9        die  "
            ],
            "text/html": [
              "\n",
              "  <div id=\"df-1aadd6e4-a3de-47ff-a48d-3ff1ef969ea7\">\n",
              "    <div class=\"colab-df-container\">\n",
              "      <div>\n",
              "<style scoped>\n",
              "    .dataframe tbody tr th:only-of-type {\n",
              "        vertical-align: middle;\n",
              "    }\n",
              "\n",
              "    .dataframe tbody tr th {\n",
              "        vertical-align: top;\n",
              "    }\n",
              "\n",
              "    .dataframe thead th {\n",
              "        text-align: right;\n",
              "    }\n",
              "</style>\n",
              "<table border=\"1\" class=\"dataframe\">\n",
              "  <thead>\n",
              "    <tr style=\"text-align: right;\">\n",
              "      <th></th>\n",
              "      <th>Word 0</th>\n",
              "      <th>Word 1</th>\n",
              "      <th>Word 2</th>\n",
              "      <th>Word 3</th>\n",
              "      <th>Word 4</th>\n",
              "      <th>Word 5</th>\n",
              "      <th>Word 6</th>\n",
              "      <th>Word 7</th>\n",
              "      <th>Word 8</th>\n",
              "      <th>Word 9</th>\n",
              "      <th>Word 10</th>\n",
              "      <th>Word 11</th>\n",
              "      <th>Word 12</th>\n",
              "      <th>Word 13</th>\n",
              "      <th>Word 14</th>\n",
              "      <th>Word 15</th>\n",
              "      <th>Word 16</th>\n",
              "      <th>Word 17</th>\n",
              "      <th>Word 18</th>\n",
              "      <th>Word 19</th>\n",
              "    </tr>\n",
              "  </thead>\n",
              "  <tbody>\n",
              "    <tr>\n",
              "      <th>Topic 0</th>\n",
              "      <td>woman</td>\n",
              "      <td>study</td>\n",
              "      <td>use</td>\n",
              "      <td>people</td>\n",
              "      <td>research</td>\n",
              "      <td>test</td>\n",
              "      <td>percent</td>\n",
              "      <td>risk</td>\n",
              "      <td>case</td>\n",
              "      <td>health</td>\n",
              "      <td>year</td>\n",
              "      <td>result</td>\n",
              "      <td>cause</td>\n",
              "      <td>group</td>\n",
              "      <td>publish</td>\n",
              "      <td>report</td>\n",
              "      <td>suggest</td>\n",
              "      <td>include</td>\n",
              "      <td>problem</td>\n",
              "      <td>lead</td>\n",
              "    </tr>\n",
              "    <tr>\n",
              "      <th>Topic 1</th>\n",
              "      <td>school</td>\n",
              "      <td>student</td>\n",
              "      <td>kid</td>\n",
              "      <td>program</td>\n",
              "      <td>learn</td>\n",
              "      <td>year</td>\n",
              "      <td>parent</td>\n",
              "      <td>child</td>\n",
              "      <td>state</td>\n",
              "      <td>help</td>\n",
              "      <td>need</td>\n",
              "      <td>work</td>\n",
              "      <td>spend</td>\n",
              "      <td>lot</td>\n",
              "      <td>study</td>\n",
              "      <td>read</td>\n",
              "      <td>use</td>\n",
              "      <td>test</td>\n",
              "      <td>start</td>\n",
              "      <td>group</td>\n",
              "    </tr>\n",
              "    <tr>\n",
              "      <th>Topic 2</th>\n",
              "      <td>child</td>\n",
              "      <td>family</td>\n",
              "      <td>parent</td>\n",
              "      <td>mother</td>\n",
              "      <td>woman</td>\n",
              "      <td>home</td>\n",
              "      <td>live</td>\n",
              "      <td>kid</td>\n",
              "      <td>life</td>\n",
              "      <td>day</td>\n",
              "      <td>leave</td>\n",
              "      <td>community</td>\n",
              "      <td>house</td>\n",
              "      <td>year</td>\n",
              "      <td>bear</td>\n",
              "      <td>help</td>\n",
              "      <td>age</td>\n",
              "      <td>tell</td>\n",
              "      <td>school</td>\n",
              "      <td>country</td>\n",
              "    </tr>\n",
              "    <tr>\n",
              "      <th>Topic 3</th>\n",
              "      <td>company</td>\n",
              "      <td>food</td>\n",
              "      <td>make</td>\n",
              "      <td>year</td>\n",
              "      <td>water</td>\n",
              "      <td>use</td>\n",
              "      <td>world</td>\n",
              "      <td>country</td>\n",
              "      <td>people</td>\n",
              "      <td>work</td>\n",
              "      <td>business</td>\n",
              "      <td>city</td>\n",
              "      <td>come</td>\n",
              "      <td>time</td>\n",
              "      <td>sell</td>\n",
              "      <td>grow</td>\n",
              "      <td>day</td>\n",
              "      <td>way</td>\n",
              "      <td>build</td>\n",
              "      <td>need</td>\n",
              "    </tr>\n",
              "    <tr>\n",
              "      <th>Topic 4</th>\n",
              "      <td>law</td>\n",
              "      <td>state</td>\n",
              "      <td>government</td>\n",
              "      <td>case</td>\n",
              "      <td>court</td>\n",
              "      <td>right</td>\n",
              "      <td>rule</td>\n",
              "      <td>report</td>\n",
              "      <td>issue</td>\n",
              "      <td>official</td>\n",
              "      <td>administration</td>\n",
              "      <td>decision</td>\n",
              "      <td>use</td>\n",
              "      <td>information</td>\n",
              "      <td>agency</td>\n",
              "      <td>include</td>\n",
              "      <td>country</td>\n",
              "      <td>make</td>\n",
              "      <td>year</td>\n",
              "      <td>statement</td>\n",
              "    </tr>\n",
              "    <tr>\n",
              "      <th>Topic 5</th>\n",
              "      <td>health</td>\n",
              "      <td>people</td>\n",
              "      <td>care</td>\n",
              "      <td>percent</td>\n",
              "      <td>pay</td>\n",
              "      <td>year</td>\n",
              "      <td>program</td>\n",
              "      <td>plan</td>\n",
              "      <td>job</td>\n",
              "      <td>work</td>\n",
              "      <td>cost</td>\n",
              "      <td>state</td>\n",
              "      <td>money</td>\n",
              "      <td>service</td>\n",
              "      <td>need</td>\n",
              "      <td>help</td>\n",
              "      <td>make</td>\n",
              "      <td>benefit</td>\n",
              "      <td>policy</td>\n",
              "      <td>increase</td>\n",
              "    </tr>\n",
              "    <tr>\n",
              "      <th>Topic 6</th>\n",
              "      <td>people</td>\n",
              "      <td>think</td>\n",
              "      <td>know</td>\n",
              "      <td>make</td>\n",
              "      <td>time</td>\n",
              "      <td>way</td>\n",
              "      <td>thing</td>\n",
              "      <td>year</td>\n",
              "      <td>come</td>\n",
              "      <td>want</td>\n",
              "      <td>work</td>\n",
              "      <td>feel</td>\n",
              "      <td>life</td>\n",
              "      <td>story</td>\n",
              "      <td>ve</td>\n",
              "      <td>tell</td>\n",
              "      <td>write</td>\n",
              "      <td>look</td>\n",
              "      <td>lot</td>\n",
              "      <td>book</td>\n",
              "    </tr>\n",
              "    <tr>\n",
              "      <th>Topic 7</th>\n",
              "      <td>trump</td>\n",
              "      <td>campaign</td>\n",
              "      <td>president</td>\n",
              "      <td>news</td>\n",
              "      <td>tell</td>\n",
              "      <td>election</td>\n",
              "      <td>medium</td>\n",
              "      <td>make</td>\n",
              "      <td>candidate</td>\n",
              "      <td>policy</td>\n",
              "      <td>question</td>\n",
              "      <td>time</td>\n",
              "      <td>week</td>\n",
              "      <td>country</td>\n",
              "      <td>statement</td>\n",
              "      <td>comment</td>\n",
              "      <td>ask</td>\n",
              "      <td>speak</td>\n",
              "      <td>think</td>\n",
              "      <td>interview</td>\n",
              "    </tr>\n",
              "    <tr>\n",
              "      <th>Topic 8</th>\n",
              "      <td>vote</td>\n",
              "      <td>state</td>\n",
              "      <td>election</td>\n",
              "      <td>win</td>\n",
              "      <td>party</td>\n",
              "      <td>candidate</td>\n",
              "      <td>year</td>\n",
              "      <td>percent</td>\n",
              "      <td>campaign</td>\n",
              "      <td>support</td>\n",
              "      <td>people</td>\n",
              "      <td>point</td>\n",
              "      <td>make</td>\n",
              "      <td>lose</td>\n",
              "      <td>country</td>\n",
              "      <td>day</td>\n",
              "      <td>need</td>\n",
              "      <td>president</td>\n",
              "      <td>lead</td>\n",
              "      <td>run</td>\n",
              "    </tr>\n",
              "    <tr>\n",
              "      <th>Topic 9</th>\n",
              "      <td>report</td>\n",
              "      <td>police</td>\n",
              "      <td>people</td>\n",
              "      <td>city</td>\n",
              "      <td>attack</td>\n",
              "      <td>tell</td>\n",
              "      <td>kill</td>\n",
              "      <td>year</td>\n",
              "      <td>accord</td>\n",
              "      <td>force</td>\n",
              "      <td>death</td>\n",
              "      <td>man</td>\n",
              "      <td>war</td>\n",
              "      <td>day</td>\n",
              "      <td>video</td>\n",
              "      <td>group</td>\n",
              "      <td>time</td>\n",
              "      <td>country</td>\n",
              "      <td>news</td>\n",
              "      <td>die</td>\n",
              "    </tr>\n",
              "  </tbody>\n",
              "</table>\n",
              "</div>\n",
              "      <button class=\"colab-df-convert\" onclick=\"convertToInteractive('df-1aadd6e4-a3de-47ff-a48d-3ff1ef969ea7')\"\n",
              "              title=\"Convert this dataframe to an interactive table.\"\n",
              "              style=\"display:none;\">\n",
              "        \n",
              "  <svg xmlns=\"http://www.w3.org/2000/svg\" height=\"24px\"viewBox=\"0 0 24 24\"\n",
              "       width=\"24px\">\n",
              "    <path d=\"M0 0h24v24H0V0z\" fill=\"none\"/>\n",
              "    <path d=\"M18.56 5.44l.94 2.06.94-2.06 2.06-.94-2.06-.94-.94-2.06-.94 2.06-2.06.94zm-11 1L8.5 8.5l.94-2.06 2.06-.94-2.06-.94L8.5 2.5l-.94 2.06-2.06.94zm10 10l.94 2.06.94-2.06 2.06-.94-2.06-.94-.94-2.06-.94 2.06-2.06.94z\"/><path d=\"M17.41 7.96l-1.37-1.37c-.4-.4-.92-.59-1.43-.59-.52 0-1.04.2-1.43.59L10.3 9.45l-7.72 7.72c-.78.78-.78 2.05 0 2.83L4 21.41c.39.39.9.59 1.41.59.51 0 1.02-.2 1.41-.59l7.78-7.78 2.81-2.81c.8-.78.8-2.07 0-2.86zM5.41 20L4 18.59l7.72-7.72 1.47 1.35L5.41 20z\"/>\n",
              "  </svg>\n",
              "      </button>\n",
              "      \n",
              "  <style>\n",
              "    .colab-df-container {\n",
              "      display:flex;\n",
              "      flex-wrap:wrap;\n",
              "      gap: 12px;\n",
              "    }\n",
              "\n",
              "    .colab-df-convert {\n",
              "      background-color: #E8F0FE;\n",
              "      border: none;\n",
              "      border-radius: 50%;\n",
              "      cursor: pointer;\n",
              "      display: none;\n",
              "      fill: #1967D2;\n",
              "      height: 32px;\n",
              "      padding: 0 0 0 0;\n",
              "      width: 32px;\n",
              "    }\n",
              "\n",
              "    .colab-df-convert:hover {\n",
              "      background-color: #E2EBFA;\n",
              "      box-shadow: 0px 1px 2px rgba(60, 64, 67, 0.3), 0px 1px 3px 1px rgba(60, 64, 67, 0.15);\n",
              "      fill: #174EA6;\n",
              "    }\n",
              "\n",
              "    [theme=dark] .colab-df-convert {\n",
              "      background-color: #3B4455;\n",
              "      fill: #D2E3FC;\n",
              "    }\n",
              "\n",
              "    [theme=dark] .colab-df-convert:hover {\n",
              "      background-color: #434B5C;\n",
              "      box-shadow: 0px 1px 3px 1px rgba(0, 0, 0, 0.15);\n",
              "      filter: drop-shadow(0px 1px 2px rgba(0, 0, 0, 0.3));\n",
              "      fill: #FFFFFF;\n",
              "    }\n",
              "  </style>\n",
              "\n",
              "      <script>\n",
              "        const buttonEl =\n",
              "          document.querySelector('#df-1aadd6e4-a3de-47ff-a48d-3ff1ef969ea7 button.colab-df-convert');\n",
              "        buttonEl.style.display =\n",
              "          google.colab.kernel.accessAllowed ? 'block' : 'none';\n",
              "\n",
              "        async function convertToInteractive(key) {\n",
              "          const element = document.querySelector('#df-1aadd6e4-a3de-47ff-a48d-3ff1ef969ea7');\n",
              "          const dataTable =\n",
              "            await google.colab.kernel.invokeFunction('convertToInteractive',\n",
              "                                                     [key], {});\n",
              "          if (!dataTable) return;\n",
              "\n",
              "          const docLinkHtml = 'Like what you see? Visit the ' +\n",
              "            '<a target=\"_blank\" href=https://colab.research.google.com/notebooks/data_table.ipynb>data table notebook</a>'\n",
              "            + ' to learn more about interactive tables.';\n",
              "          element.innerHTML = '';\n",
              "          dataTable['output_type'] = 'display_data';\n",
              "          await google.colab.output.renderOutput(dataTable, element);\n",
              "          const docLink = document.createElement('div');\n",
              "          docLink.innerHTML = docLinkHtml;\n",
              "          element.appendChild(docLink);\n",
              "        }\n",
              "      </script>\n",
              "    </div>\n",
              "  </div>\n",
              "  "
            ]
          },
          "metadata": {},
          "execution_count": 23
        }
      ],
      "source": [
        "#creating a dataframe to visualise\n",
        "df_topic_keywords = pd.DataFrame(topic_keywords)\n",
        "df_topic_keywords.columns = ['Word '+str(i) for i in range(df_topic_keywords.shape[1])]\n",
        "df_topic_keywords.index = ['Topic '+str(i) for i in range(df_topic_keywords.shape[0])]\n",
        "df_topic_keywords"
      ]
    },
    {
      "cell_type": "markdown",
      "metadata": {
        "id": "2YzNSdUH5pJN"
      },
      "source": [
        "Reference - https://yanlinc.medium.com/how-to-build-a-lda-topic-model-using-from-text-601cdcbfd3a6"
      ]
    },
    {
      "cell_type": "markdown",
      "metadata": {
        "id": "1wiDlXUO5pJN"
      },
      "source": []
    }
  ],
  "metadata": {
    "kernelspec": {
      "display_name": "dl",
      "language": "python",
      "name": "python3"
    },
    "language_info": {
      "codemirror_mode": {
        "name": "ipython",
        "version": 3
      },
      "file_extension": ".py",
      "mimetype": "text/x-python",
      "name": "python",
      "nbconvert_exporter": "python",
      "pygments_lexer": "ipython3",
      "version": "3.7.11"
    },
    "orig_nbformat": 4,
    "vscode": {
      "interpreter": {
        "hash": "50052c996937e9a0e161d422489677fdaadc23d756ac209b7397e80e5ea8cea0"
      }
    },
    "colab": {
      "provenance": []
    }
  },
  "nbformat": 4,
  "nbformat_minor": 0
}