{
 "cells": [
  {
   "attachments": {},
   "cell_type": "markdown",
   "metadata": {},
   "source": [
    "## About\n",
    "Machine Translation in PyTorch.\n",
    "\n",
    "English to Hinglish.\n",
    "\n",
    "Dataset - https://www.kaggle.com/datasets/mrutyunjaybiswal/hinge-english-to-hinglish-machine-translation"
   ]
  },
  {
   "cell_type": "code",
   "execution_count": 36,
   "metadata": {},
   "outputs": [],
   "source": [
    "#mandatory imports\n",
    "import unicodedata\n",
    "import torch\n",
    "import torch.nn as nn\n",
    "import torch.nn.functional as F\n",
    "from torch.utils.data import DataLoader, Dataset\n",
    "import os\n",
    "import pandas as pd\n",
    "import string\n",
    "import re\n",
    "from torch.nn.utils.rnn import pad_sequence"
   ]
  },
  {
   "cell_type": "code",
   "execution_count": 23,
   "metadata": {},
   "outputs": [],
   "source": [
    "train_df = pd.read_csv('/home/suraj/ClickUp/Jan-Feb/data/synthetic-dataset/train.csv')\n",
    "valid_df = pd.read_csv('/home/suraj/ClickUp/Jan-Feb/data/synthetic-dataset/valid.csv')"
   ]
  },
  {
   "cell_type": "code",
   "execution_count": 24,
   "metadata": {},
   "outputs": [
    {
     "data": {
      "text/html": [
       "<div>\n",
       "<style scoped>\n",
       "    .dataframe tbody tr th:only-of-type {\n",
       "        vertical-align: middle;\n",
       "    }\n",
       "\n",
       "    .dataframe tbody tr th {\n",
       "        vertical-align: top;\n",
       "    }\n",
       "\n",
       "    .dataframe thead th {\n",
       "        text-align: right;\n",
       "    }\n",
       "</style>\n",
       "<table border=\"1\" class=\"dataframe\">\n",
       "  <thead>\n",
       "    <tr style=\"text-align: right;\">\n",
       "      <th></th>\n",
       "      <th>English</th>\n",
       "      <th>Hindi</th>\n",
       "      <th>Hinglish</th>\n",
       "      <th>Average rating</th>\n",
       "      <th>Disagreement</th>\n",
       "    </tr>\n",
       "  </thead>\n",
       "  <tbody>\n",
       "    <tr>\n",
       "      <th>0</th>\n",
       "      <td>Program module is a file that contains instruc...</td>\n",
       "      <td>माड्यूल, एक संचिका होती है, जिसमें या तो स्रोत...</td>\n",
       "      <td>module , ek program hoti hai , jismen ya to so...</td>\n",
       "      <td>7</td>\n",
       "      <td>6</td>\n",
       "    </tr>\n",
       "    <tr>\n",
       "      <th>1</th>\n",
       "      <td>And to Thamud We sent their brother Sali 'h. H...</td>\n",
       "      <td>और (हमने) क़ौमे समूद के पास उनके भाई सालेह को ...</td>\n",
       "      <td>aur hamne aume samood ke pas unke bhaee saleh ...</td>\n",
       "      <td>6</td>\n",
       "      <td>4</td>\n",
       "    </tr>\n",
       "    <tr>\n",
       "      <th>2</th>\n",
       "      <td>and, when reminded, do not remember\\n</td>\n",
       "      <td>और जब उन्हें याद दिलाया जाता है, तो वे याद नही...</td>\n",
       "      <td>aur jab unhen yad dilaya jata hai , to ve yad ...</td>\n",
       "      <td>10</td>\n",
       "      <td>0</td>\n",
       "    </tr>\n",
       "    <tr>\n",
       "      <th>3</th>\n",
       "      <td>you won the TED Prize 2011.\\n</td>\n",
       "      <td>तुम्हें २०११ का टेड प्राइज़ मिल गया है.\\n</td>\n",
       "      <td>tumhen २०११ ka ted prize mil gaya hai\\n</td>\n",
       "      <td>9</td>\n",
       "      <td>1</td>\n",
       "    </tr>\n",
       "    <tr>\n",
       "      <th>4</th>\n",
       "      <td>He gone to Kerodemal College of Delhi Universi...</td>\n",
       "      <td>उन्होंने बाद अध्ययन करने के लिए ये दिल्ली विश्...</td>\n",
       "      <td>unhonne bad science karne ke lie ye delhi univ...</td>\n",
       "      <td>7</td>\n",
       "      <td>0</td>\n",
       "    </tr>\n",
       "  </tbody>\n",
       "</table>\n",
       "</div>"
      ],
      "text/plain": [
       "                                             English  \\\n",
       "0  Program module is a file that contains instruc...   \n",
       "1  And to Thamud We sent their brother Sali 'h. H...   \n",
       "2              and, when reminded, do not remember\\n   \n",
       "3                      you won the TED Prize 2011.\\n   \n",
       "4  He gone to Kerodemal College of Delhi Universi...   \n",
       "\n",
       "                                               Hindi  \\\n",
       "0  माड्यूल, एक संचिका होती है, जिसमें या तो स्रोत...   \n",
       "1  और (हमने) क़ौमे समूद के पास उनके भाई सालेह को ...   \n",
       "2  और जब उन्हें याद दिलाया जाता है, तो वे याद नही...   \n",
       "3          तुम्हें २०११ का टेड प्राइज़ मिल गया है.\\n   \n",
       "4  उन्होंने बाद अध्ययन करने के लिए ये दिल्ली विश्...   \n",
       "\n",
       "                                            Hinglish  Average rating  \\\n",
       "0  module , ek program hoti hai , jismen ya to so...               7   \n",
       "1  aur hamne aume samood ke pas unke bhaee saleh ...               6   \n",
       "2  aur jab unhen yad dilaya jata hai , to ve yad ...              10   \n",
       "3            tumhen २०११ ka ted prize mil gaya hai\\n               9   \n",
       "4  unhonne bad science karne ke lie ye delhi univ...               7   \n",
       "\n",
       "   Disagreement  \n",
       "0             6  \n",
       "1             4  \n",
       "2             0  \n",
       "3             1  \n",
       "4             0  "
      ]
     },
     "execution_count": 24,
     "metadata": {},
     "output_type": "execute_result"
    }
   ],
   "source": [
    "train_df.head()"
   ]
  },
  {
   "cell_type": "code",
   "execution_count": 25,
   "metadata": {},
   "outputs": [
    {
     "data": {
      "text/html": [
       "<div>\n",
       "<style scoped>\n",
       "    .dataframe tbody tr th:only-of-type {\n",
       "        vertical-align: middle;\n",
       "    }\n",
       "\n",
       "    .dataframe tbody tr th {\n",
       "        vertical-align: top;\n",
       "    }\n",
       "\n",
       "    .dataframe thead th {\n",
       "        text-align: right;\n",
       "    }\n",
       "</style>\n",
       "<table border=\"1\" class=\"dataframe\">\n",
       "  <thead>\n",
       "    <tr style=\"text-align: right;\">\n",
       "      <th></th>\n",
       "      <th>English</th>\n",
       "      <th>Hindi</th>\n",
       "      <th>Hinglish</th>\n",
       "    </tr>\n",
       "  </thead>\n",
       "  <tbody>\n",
       "    <tr>\n",
       "      <th>0</th>\n",
       "      <td>Are you sure you want to permanently delete th...</td>\n",
       "      <td>क्या आप इन फ़ाइलों को स्थायी रूप से हटाना चाहत...</td>\n",
       "      <td>kya aap in files ko sthayi roop se permanently...</td>\n",
       "    </tr>\n",
       "    <tr>\n",
       "      <th>1</th>\n",
       "      <td>Three public meetings were held in Bombay City...</td>\n",
       "      <td>उस अवसर पर बंबई में तीन सभाएं की गयीं।\\n</td>\n",
       "      <td>us avasar par bombay meetings were held ki gay...</td>\n",
       "    </tr>\n",
       "    <tr>\n",
       "      <th>2</th>\n",
       "      <td>Nominee of the insurance has to be a near rela...</td>\n",
       "      <td>बीमा का नामित व्यक्ति अभिदाता का निकट संबंधी ह...</td>\n",
       "      <td>insurance ka namit vyakti abhidata ka nikat sn...</td>\n",
       "    </tr>\n",
       "    <tr>\n",
       "      <th>3</th>\n",
       "      <td>Thus there was an inadequate appreciation of t...</td>\n",
       "      <td>इस प्रकार इस महत्वपूर्ण क्षेत्र में तेजी से का...</td>\n",
       "      <td>is prkar is vital sector inadequate appreciati...</td>\n",
       "    </tr>\n",
       "    <tr>\n",
       "      <th>4</th>\n",
       "      <td>The Arabs laughed at him , and the alchemist l...</td>\n",
       "      <td>अरब सैनिक उसकी बात सुनकर हंस पड़े । &lt;s&gt; उनके स...</td>\n",
       "      <td>arab sainik uski bat sunakar hns pare arabs  s...</td>\n",
       "    </tr>\n",
       "  </tbody>\n",
       "</table>\n",
       "</div>"
      ],
      "text/plain": [
       "                                             English  \\\n",
       "0  Are you sure you want to permanently delete th...   \n",
       "1  Three public meetings were held in Bombay City...   \n",
       "2  Nominee of the insurance has to be a near rela...   \n",
       "3  Thus there was an inadequate appreciation of t...   \n",
       "4  The Arabs laughed at him , and the alchemist l...   \n",
       "\n",
       "                                               Hindi  \\\n",
       "0  क्या आप इन फ़ाइलों को स्थायी रूप से हटाना चाहत...   \n",
       "1           उस अवसर पर बंबई में तीन सभाएं की गयीं।\\n   \n",
       "2  बीमा का नामित व्यक्ति अभिदाता का निकट संबंधी ह...   \n",
       "3  इस प्रकार इस महत्वपूर्ण क्षेत्र में तेजी से का...   \n",
       "4  अरब सैनिक उसकी बात सुनकर हंस पड़े । <s> उनके स...   \n",
       "\n",
       "                                            Hinglish  \n",
       "0  kya aap in files ko sthayi roop se permanently...  \n",
       "1  us avasar par bombay meetings were held ki gay...  \n",
       "2  insurance ka namit vyakti abhidata ka nikat sn...  \n",
       "3  is prkar is vital sector inadequate appreciati...  \n",
       "4  arab sainik uski bat sunakar hns pare arabs  s...  "
      ]
     },
     "execution_count": 25,
     "metadata": {},
     "output_type": "execute_result"
    }
   ],
   "source": [
    "valid_df.head()"
   ]
  },
  {
   "cell_type": "code",
   "execution_count": 26,
   "metadata": {},
   "outputs": [
    {
     "name": "stdout",
     "output_type": "stream",
     "text": [
      "Index(['English', 'Hinglish'], dtype='object')\n",
      "Index(['English', 'Hinglish'], dtype='object')\n"
     ]
    }
   ],
   "source": [
    "#dropping all columns except English and Hinglish in the dataset\n",
    "train_df = train_df.drop(['Hindi','Average rating','Disagreement'],axis=1)\n",
    "valid_df = valid_df.drop(['Hindi'],axis=1)\n",
    "print(train_df.columns)\n",
    "print(valid_df.columns)"
   ]
  },
  {
   "cell_type": "code",
   "execution_count": 27,
   "metadata": {},
   "outputs": [
    {
     "data": {
      "text/html": [
       "<div>\n",
       "<style scoped>\n",
       "    .dataframe tbody tr th:only-of-type {\n",
       "        vertical-align: middle;\n",
       "    }\n",
       "\n",
       "    .dataframe tbody tr th {\n",
       "        vertical-align: top;\n",
       "    }\n",
       "\n",
       "    .dataframe thead th {\n",
       "        text-align: right;\n",
       "    }\n",
       "</style>\n",
       "<table border=\"1\" class=\"dataframe\">\n",
       "  <thead>\n",
       "    <tr style=\"text-align: right;\">\n",
       "      <th></th>\n",
       "      <th>English</th>\n",
       "      <th>Hinglish</th>\n",
       "    </tr>\n",
       "  </thead>\n",
       "  <tbody>\n",
       "    <tr>\n",
       "      <th>0</th>\n",
       "      <td>Program module is a file that contains instruc...</td>\n",
       "      <td>module , ek program hoti hai , jismen ya to so...</td>\n",
       "    </tr>\n",
       "    <tr>\n",
       "      <th>1</th>\n",
       "      <td>And to Thamud We sent their brother Sali 'h. H...</td>\n",
       "      <td>aur hamne aume samood ke pas unke bhaee saleh ...</td>\n",
       "    </tr>\n",
       "    <tr>\n",
       "      <th>2</th>\n",
       "      <td>and, when reminded, do not remember\\n</td>\n",
       "      <td>aur jab unhen yad dilaya jata hai , to ve yad ...</td>\n",
       "    </tr>\n",
       "    <tr>\n",
       "      <th>3</th>\n",
       "      <td>you won the TED Prize 2011.\\n</td>\n",
       "      <td>tumhen २०११ ka ted prize mil gaya hai\\n</td>\n",
       "    </tr>\n",
       "    <tr>\n",
       "      <th>4</th>\n",
       "      <td>He gone to Kerodemal College of Delhi Universi...</td>\n",
       "      <td>unhonne bad science karne ke lie ye delhi univ...</td>\n",
       "    </tr>\n",
       "    <tr>\n",
       "      <th>...</th>\n",
       "      <td>...</td>\n",
       "      <td>...</td>\n",
       "    </tr>\n",
       "    <tr>\n",
       "      <th>2761</th>\n",
       "      <td>Polar ice caps may melt further and increase t...</td>\n",
       "      <td>large size men polar ki barph pighalne se ocea...</td>\n",
       "    </tr>\n",
       "    <tr>\n",
       "      <th>2762</th>\n",
       "      <td>It ' s what turns lead into gold , and makes t...</td>\n",
       "      <td>yahi chakr lead into gold bana deta hai , aur ...</td>\n",
       "    </tr>\n",
       "    <tr>\n",
       "      <th>2763</th>\n",
       "      <td>The President said the North Eastern Hill Univ...</td>\n",
       "      <td>president ne kaha ki north parvtiy university ...</td>\n",
       "    </tr>\n",
       "    <tr>\n",
       "      <th>2764</th>\n",
       "      <td>The violin bow might well have grown out of th...</td>\n",
       "      <td>bahut snbhav hai ki vaylin ka gaj bhi ek chhar...</td>\n",
       "    </tr>\n",
       "    <tr>\n",
       "      <th>2765</th>\n",
       "      <td>In fact, clans or families which succeeded in ...</td>\n",
       "      <td>vastav men sardar ka pad jitnevale vnshon ya p...</td>\n",
       "    </tr>\n",
       "  </tbody>\n",
       "</table>\n",
       "<p>2766 rows × 2 columns</p>\n",
       "</div>"
      ],
      "text/plain": [
       "                                                English  \\\n",
       "0     Program module is a file that contains instruc...   \n",
       "1     And to Thamud We sent their brother Sali 'h. H...   \n",
       "2                 and, when reminded, do not remember\\n   \n",
       "3                         you won the TED Prize 2011.\\n   \n",
       "4     He gone to Kerodemal College of Delhi Universi...   \n",
       "...                                                 ...   \n",
       "2761  Polar ice caps may melt further and increase t...   \n",
       "2762  It ' s what turns lead into gold , and makes t...   \n",
       "2763  The President said the North Eastern Hill Univ...   \n",
       "2764  The violin bow might well have grown out of th...   \n",
       "2765  In fact, clans or families which succeeded in ...   \n",
       "\n",
       "                                               Hinglish  \n",
       "0     module , ek program hoti hai , jismen ya to so...  \n",
       "1     aur hamne aume samood ke pas unke bhaee saleh ...  \n",
       "2     aur jab unhen yad dilaya jata hai , to ve yad ...  \n",
       "3               tumhen २०११ ka ted prize mil gaya hai\\n  \n",
       "4     unhonne bad science karne ke lie ye delhi univ...  \n",
       "...                                                 ...  \n",
       "2761  large size men polar ki barph pighalne se ocea...  \n",
       "2762  yahi chakr lead into gold bana deta hai , aur ...  \n",
       "2763  president ne kaha ki north parvtiy university ...  \n",
       "2764  bahut snbhav hai ki vaylin ka gaj bhi ek chhar...  \n",
       "2765  vastav men sardar ka pad jitnevale vnshon ya p...  \n",
       "\n",
       "[2766 rows x 2 columns]"
      ]
     },
     "execution_count": 27,
     "metadata": {},
     "output_type": "execute_result"
    }
   ],
   "source": [
    "train_df"
   ]
  },
  {
   "cell_type": "code",
   "execution_count": 28,
   "metadata": {},
   "outputs": [],
   "source": [
    "#preprocessing the dataframe\n",
    "train_df.dropna(inplace=True)\n",
    "valid_df.dropna(inplace=True)"
   ]
  },
  {
   "cell_type": "code",
   "execution_count": 29,
   "metadata": {},
   "outputs": [],
   "source": [
    "#cleaning the text\n",
    "#turning unicode string to plain ASCII\n",
    "\n",
    "def unicodeToAscii(s):\n",
    "    return ''.join(\n",
    "        c for c in unicodedata.normalize('NFD', s)\n",
    "        if unicodedata.category(c) != 'Mn'\n",
    "    )\n",
    "#clean text by converting to lower case, removing non -letter characters\n",
    "def clean_text(text):\n",
    "    text = unicodeToAscii(text.lower().strip())\n",
    "    text = re.sub(r\"([.!?])\", r\" \\1\", text)\n",
    "    text = re.sub(\"[.!?]\", '', text)\n",
    "    text = re.sub(r\"[^a-zA-Z.!?]+\", r\" \", text)\n",
    "    return text"
   ]
  },
  {
   "cell_type": "code",
   "execution_count": 30,
   "metadata": {},
   "outputs": [],
   "source": [
    "#applying the clean_text method to df\n",
    "train_df[\"English\"] = train_df[\"English\"].apply(clean_text)\n",
    "train_df[\"Hinglish\"] = train_df[\"Hinglish\"].apply(clean_text)\n",
    "\n",
    "valid_df[\"English\"] = valid_df[\"English\"].apply(clean_text)\n",
    "valid_df[\"Hinglish\"] = valid_df[\"Hinglish\"].apply(clean_text)\n"
   ]
  },
  {
   "cell_type": "code",
   "execution_count": 31,
   "metadata": {},
   "outputs": [
    {
     "data": {
      "text/html": [
       "<div>\n",
       "<style scoped>\n",
       "    .dataframe tbody tr th:only-of-type {\n",
       "        vertical-align: middle;\n",
       "    }\n",
       "\n",
       "    .dataframe tbody tr th {\n",
       "        vertical-align: top;\n",
       "    }\n",
       "\n",
       "    .dataframe thead th {\n",
       "        text-align: right;\n",
       "    }\n",
       "</style>\n",
       "<table border=\"1\" class=\"dataframe\">\n",
       "  <thead>\n",
       "    <tr style=\"text-align: right;\">\n",
       "      <th></th>\n",
       "      <th>English</th>\n",
       "      <th>Hinglish</th>\n",
       "    </tr>\n",
       "  </thead>\n",
       "  <tbody>\n",
       "    <tr>\n",
       "      <th>0</th>\n",
       "      <td>program module is a file that contains instruc...</td>\n",
       "      <td>module ek program hoti hai jismen ya to source...</td>\n",
       "    </tr>\n",
       "    <tr>\n",
       "      <th>1</th>\n",
       "      <td>and to thamud we sent their brother sali h he ...</td>\n",
       "      <td>aur hamne aume samood ke pas unke bhaee saleh ...</td>\n",
       "    </tr>\n",
       "    <tr>\n",
       "      <th>2</th>\n",
       "      <td>and when reminded do not remember</td>\n",
       "      <td>aur jab unhen yad dilaya jata hai to ve yad na...</td>\n",
       "    </tr>\n",
       "    <tr>\n",
       "      <th>3</th>\n",
       "      <td>you won the ted prize</td>\n",
       "      <td>tumhen ka ted prize mil gaya hai</td>\n",
       "    </tr>\n",
       "    <tr>\n",
       "      <th>4</th>\n",
       "      <td>he gone to kerodemal college of delhi universi...</td>\n",
       "      <td>unhonne bad science karne ke lie ye delhi univ...</td>\n",
       "    </tr>\n",
       "  </tbody>\n",
       "</table>\n",
       "</div>"
      ],
      "text/plain": [
       "                                             English  \\\n",
       "0  program module is a file that contains instruc...   \n",
       "1  and to thamud we sent their brother sali h he ...   \n",
       "2                  and when reminded do not remember   \n",
       "3                             you won the ted prize    \n",
       "4  he gone to kerodemal college of delhi universi...   \n",
       "\n",
       "                                            Hinglish  \n",
       "0  module ek program hoti hai jismen ya to source...  \n",
       "1  aur hamne aume samood ke pas unke bhaee saleh ...  \n",
       "2  aur jab unhen yad dilaya jata hai to ve yad na...  \n",
       "3                   tumhen ka ted prize mil gaya hai  \n",
       "4  unhonne bad science karne ke lie ye delhi univ...  "
      ]
     },
     "execution_count": 31,
     "metadata": {},
     "output_type": "execute_result"
    }
   ],
   "source": [
    "train_df.head()"
   ]
  },
  {
   "cell_type": "code",
   "execution_count": 35,
   "metadata": {},
   "outputs": [
    {
     "data": {
      "text/html": [
       "<div>\n",
       "<style scoped>\n",
       "    .dataframe tbody tr th:only-of-type {\n",
       "        vertical-align: middle;\n",
       "    }\n",
       "\n",
       "    .dataframe tbody tr th {\n",
       "        vertical-align: top;\n",
       "    }\n",
       "\n",
       "    .dataframe thead th {\n",
       "        text-align: right;\n",
       "    }\n",
       "</style>\n",
       "<table border=\"1\" class=\"dataframe\">\n",
       "  <thead>\n",
       "    <tr style=\"text-align: right;\">\n",
       "      <th></th>\n",
       "      <th>English</th>\n",
       "      <th>Hinglish</th>\n",
       "    </tr>\n",
       "  </thead>\n",
       "  <tbody>\n",
       "    <tr>\n",
       "      <th>0</th>\n",
       "      <td>are you sure you want to permanently delete th...</td>\n",
       "      <td>kya aap in files ko sthayi roop se permanently...</td>\n",
       "    </tr>\n",
       "    <tr>\n",
       "      <th>1</th>\n",
       "      <td>three public meetings were held in bombay city...</td>\n",
       "      <td>us avasar par bombay meetings were held ki gayin</td>\n",
       "    </tr>\n",
       "    <tr>\n",
       "      <th>2</th>\n",
       "      <td>nominee of the insurance has to be a near rela...</td>\n",
       "      <td>insurance ka namit vyakti abhidata ka nikat sn...</td>\n",
       "    </tr>\n",
       "    <tr>\n",
       "      <th>3</th>\n",
       "      <td>thus there was an inadequate appreciation of t...</td>\n",
       "      <td>is prkar is vital sector inadequate appreciati...</td>\n",
       "    </tr>\n",
       "    <tr>\n",
       "      <th>4</th>\n",
       "      <td>the arabs laughed at him and the alchemist lau...</td>\n",
       "      <td>arab sainik uski bat sunakar hns pare arabs s ...</td>\n",
       "    </tr>\n",
       "  </tbody>\n",
       "</table>\n",
       "</div>"
      ],
      "text/plain": [
       "                                             English  \\\n",
       "0  are you sure you want to permanently delete th...   \n",
       "1  three public meetings were held in bombay city...   \n",
       "2  nominee of the insurance has to be a near rela...   \n",
       "3  thus there was an inadequate appreciation of t...   \n",
       "4  the arabs laughed at him and the alchemist lau...   \n",
       "\n",
       "                                            Hinglish  \n",
       "0  kya aap in files ko sthayi roop se permanently...  \n",
       "1  us avasar par bombay meetings were held ki gayin   \n",
       "2  insurance ka namit vyakti abhidata ka nikat sn...  \n",
       "3  is prkar is vital sector inadequate appreciati...  \n",
       "4  arab sainik uski bat sunakar hns pare arabs s ...  "
      ]
     },
     "execution_count": 35,
     "metadata": {},
     "output_type": "execute_result"
    }
   ],
   "source": [
    "valid_df.head()"
   ]
  },
  {
   "cell_type": "code",
   "execution_count": 32,
   "metadata": {},
   "outputs": [
    {
     "name": "stdout",
     "output_type": "stream",
     "text": [
      "cpu\n"
     ]
    }
   ],
   "source": [
    "device = torch.device(\"cuda\" if torch.cuda.is_available() else \"cpu\")\n",
    "print(device)"
   ]
  },
  {
   "cell_type": "code",
   "execution_count": 44,
   "metadata": {},
   "outputs": [],
   "source": [
    "#As per https://www.kaggle.com/code/zeyadkhalid/machine-translation-transformers\n",
    "# We have to define word indexing\n",
    "# string_to_index  - string to its associated index i.e stoi\n",
    "# index_to_string - index to its string i.e itos\n",
    "\n",
    "\n",
    "start_token = 1\n",
    "end_token =2\n",
    "\n",
    "class Vocabulary:\n",
    "    def __init__(self, language):\n",
    "        self.language = language\n",
    "        self.stoi = {}#string2index\n",
    "        self.stoc = {} # string2count\n",
    "        self.itos = {0:\"<PAD>\",start_token:\"<START>\",end_token:\"<END>\"}#index2sting\n",
    "        self.num_words =3\n",
    "    \n",
    "    def add_word(self,word):\n",
    "        if word not in self.stoi:\n",
    "            self.stoi[word]=self.num_words\n",
    "            self.stoc[word]=1\n",
    "            self.itos[self.num_words]=word\n",
    "            self.num_words+=1\n",
    "        else:\n",
    "            self.stoc[word]+=1\n",
    "\n",
    "    def process_sentence(self,sentence):\n",
    "        for word in sentence.split(' '):\n",
    "            self.add_word(word)\n",
    "\n",
    "            "
   ]
  },
  {
   "cell_type": "code",
   "execution_count": 47,
   "metadata": {},
   "outputs": [],
   "source": [
    "english_vocab = Vocabulary('English')\n",
    "hinglish_vocab = Vocabulary('Hinglish')"
   ]
  },
  {
   "cell_type": "code",
   "execution_count": 48,
   "metadata": {},
   "outputs": [],
   "source": [
    "#helper functions\n",
    "# while training, we shall need pair of input and output tensors whose ending is marked by end_token\n",
    "start_token=1\n",
    "end_token=2\n",
    "\n",
    "#Step 1\n",
    "#Helper function for creating indexes from sentence\n",
    "def index_from_sentence(language,sentence):\n",
    "    return [language.stoi[word] for word in sentence.split(' ')]\n",
    "# [Hi There]  - [H, I, T, H, E, R, E] - [4,5,8,3,6,4]\n",
    "\n",
    "def tensor_from_sentence(language,sentence):\n",
    "    indices = index_from_sentence(language,sentence)\n",
    "    indices.append(end_token)\n",
    "    return torch.tensor(indices, dtype=torch.long).view(1,-1)\n",
    "\n",
    "# step2- create tensor dataset by padding\n",
    "def tensor_from_dataset(pair, input_language, output_language, max_input_len):\n",
    "    input_tensor = tensor_from_sentence(input_language,pair[0])\n",
    "    output_tensor = tensor_from_sentence(output_language, pair[1])\n",
    "    with torch.no_grad():\n",
    "        #padding\n",
    "        pad_input = nn.ConstantPad1d((0,max_input_len-input_tensor.shape[1]),0)\n",
    "        pad_output = nn.ConstantPad1d((0,max_input_len-output_tensor.shape[1]),0)\n",
    "\n",
    "        #applying padding\n",
    "        input_tensor_padded = pad_input(input_tensor)\n",
    "        output_tensor_padded = pad_output(output_tensor)\n",
    "    pair_tensor = pad_sequence([input_tensor_padded,output_tensor_padded],batch_first=False, padding_value=0)\n",
    "\n",
    "    return pair_tensor\n",
    "    "
   ]
  },
  {
   "cell_type": "code",
   "execution_count": 62,
   "metadata": {},
   "outputs": [
    {
     "name": "stdout",
     "output_type": "stream",
     "text": [
      "tensor([[ 122,  123,  266,  822,   31, 2148,    2]])\n"
     ]
    }
   ],
   "source": [
    "sample_hinglish_tensor = tensor_from_sentence(hinglish_vocab,\"kya aap in files ko sthayi\")\n",
    "print(sample_hinglish_tensor)"
   ]
  },
  {
   "cell_type": "code",
   "execution_count": 67,
   "metadata": {},
   "outputs": [],
   "source": [
    "class TranslationDataset(Dataset):\n",
    "\n",
    "    def __init__(self,dataframe,english_vocab,hinglish_vocab,transform=None):\n",
    "        self.dataframe = dataframe\n",
    "        self.english = self.dataframe['English'].values.tolist()\n",
    "        self.hinglish = self.dataframe['Hinglish'].values.tolist()\n",
    "        self.input_lang = english_vocab\n",
    "        self.output_lang = hinglish_vocab\n",
    "        #building vocabulary\n",
    "        for english_sent in self.english:\n",
    "            self.input_lang.process_sentence(english_sent)\n",
    "        for hinglish_sent in self.hinglish:\n",
    "            self.output_lang.process_sentence(hinglish_sent)\n",
    "        # creating tensors\n",
    "        self.hinglish_tensors =[tensor_from_sentence(hinglish_vocab,sentence) for sentence in self.hinglish]\n",
    "        self.english_tensors = [tensor_from_sentence(english_vocab,sentence) for sentence in self.english]\n",
    "        \n",
    "\n",
    "    def __len__(self):\n",
    "        return len(self.dataframe)\n",
    "\n",
    "    def __getitem__(self,index):\n",
    "        hinglish_sample = self.hinglish_tensors[index]\n",
    "        english_sample = self.english_tensors[index]\n",
    "        sample = {'input':english_sample,'output':hinglish_sample}\n",
    "\n",
    "        return sample"
   ]
  },
  {
   "cell_type": "code",
   "execution_count": 68,
   "metadata": {},
   "outputs": [],
   "source": [
    "train_dataset = TranslationDataset(train_df,english_vocab,hinglish_vocab)"
   ]
  },
  {
   "cell_type": "code",
   "execution_count": 70,
   "metadata": {},
   "outputs": [
    {
     "data": {
      "text/plain": [
       "{'input': tensor([[24, 25, 26, 27, 28, 29, 30, 31, 32, 33, 34, 35, 36, 37, 38, 39, 40, 41,\n",
       "          42, 43, 44, 45, 33, 46, 39, 47, 48, 49, 17, 15, 50, 24, 51, 52, 39, 53,\n",
       "          14, 54, 55, 56, 45, 25, 57, 39, 24, 58, 59, 60, 45, 14, 61, 62, 35, 63,\n",
       "           5, 64, 65, 25, 66, 23,  2]]),\n",
       " 'output': tensor([[23, 24, 25, 26, 15, 27, 28, 29, 30, 31, 32, 33, 34, 10, 35, 36, 37, 38,\n",
       "          39, 40, 41, 37, 42, 43, 44, 45, 46, 47, 48, 49, 50, 51, 52, 53, 54, 55,\n",
       "          56, 44, 57, 38, 58, 59, 23, 55, 60, 61, 10, 62, 63, 44, 64, 65, 66, 67,\n",
       "          68, 17, 69, 46, 70, 71, 72, 73, 74, 15, 75, 23, 76, 77, 23, 64, 78, 79,\n",
       "           7,  2]])}"
      ]
     },
     "execution_count": 70,
     "metadata": {},
     "output_type": "execute_result"
    }
   ],
   "source": [
    "train_dataset.__getitem__(1)"
   ]
  },
  {
   "attachments": {},
   "cell_type": "markdown",
   "metadata": {},
   "source": []
  },
  {
   "cell_type": "code",
   "execution_count": null,
   "metadata": {},
   "outputs": [],
   "source": []
  }
 ],
 "metadata": {
  "kernelspec": {
   "display_name": "torch_dl",
   "language": "python",
   "name": "python3"
  },
  "language_info": {
   "codemirror_mode": {
    "name": "ipython",
    "version": 3
   },
   "file_extension": ".py",
   "mimetype": "text/x-python",
   "name": "python",
   "nbconvert_exporter": "python",
   "pygments_lexer": "ipython3",
   "version": "3.8.16"
  },
  "orig_nbformat": 4,
  "vscode": {
   "interpreter": {
    "hash": "3fc43966dd8a35b9bb4dacfb26d54ec70461d2f8773a70bf315d67d5e8c2bf14"
   }
  }
 },
 "nbformat": 4,
 "nbformat_minor": 2
}
