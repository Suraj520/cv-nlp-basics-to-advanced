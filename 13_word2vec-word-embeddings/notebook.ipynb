{
 "cells": [
  {
   "attachments": {},
   "cell_type": "markdown",
   "metadata": {},
   "source": [
    "## About\n",
    "Word2vec Word Embeddings using Continuos Bag of words and Skipgram algorithms via. Gensim and Spacy.\n",
    "\n",
    "* Word Embedding can be referred as a language modelling technique in which words are mapped to vectors of real numbers. It often represents these in vector space of multiple dimensions.\n",
    "\n",
    "* Word Embeddings can be generated via various methods like neural networks, co-occurence matrix etc.\n",
    "\n",
    "* Word2vec uses shallow two layer neural networks having single input layer and single hidden layer with an output layer for generating the output.\n",
    "\n",
    "* Word2Vec uses two deep neural network architecturs i.e CBOW and Skipgram.\n",
    "\n",
    "* CBOW predicts the current word given context words within a specific window. The input layer contains context words and output layer contains the current word. The hidden layer contains number of dimensions in which we want the current word to be represented.\n",
    "\n",
    "* Skipgram predicts the context word given current word within a specific window. Architecture is just reversed to the prior. The Input contains current word and output layer contains the context words.\n",
    "\n",
    "* The similarity of words in Word2Vec is being found by cosine similarity - similarity(A,B)= A.B/norm(A)norm(B)"
   ]
  },
  {
   "cell_type": "code",
   "execution_count": 49,
   "metadata": {},
   "outputs": [],
   "source": [
    "import gensim\n",
    "from nltk.tokenize import sent_tokenize, word_tokenize\n",
    "from gensim.models import Word2Vec\n",
    "import gensim.downloader as api\n",
    "from gensim.models.word2vec import Text8Corpus\n",
    "\n",
    "text8_path = api.load('text8', return_path=True)"
   ]
  },
  {
   "cell_type": "code",
   "execution_count": 50,
   "metadata": {},
   "outputs": [],
   "source": [
    "# params = {\n",
    "#     'alpha': 0.05,\n",
    "#     'vector_size': 100,\n",
    "#     'window': 5,\n",
    "#     'epochs': 5,\n",
    "#     'min_count': 5,\n",
    "#     'sample': 1e-4,\n",
    "#     'sg': 1,\n",
    "#     'hs': 0,\n",
    "#     'negative': 5,\n",
    "# }\n",
    "\n",
    "cbow_model = Word2Vec(Text8Corpus(text8_path),min_count=1, window=2)\n",
    "skip_gram_model = Word2Vec(Text8Corpus(text8_path),min_count=1,window=2,sg=1)\n",
    "\n"
   ]
  },
  {
   "cell_type": "code",
   "execution_count": 51,
   "metadata": {},
   "outputs": [
    {
     "data": {
      "text/plain": [
       "0.6021305"
      ]
     },
     "execution_count": 51,
     "metadata": {},
     "output_type": "execute_result"
    }
   ],
   "source": [
    "cbow_model.wv.similarity(\"science\",\"fiction\")"
   ]
  },
  {
   "cell_type": "code",
   "execution_count": 52,
   "metadata": {},
   "outputs": [
    {
     "data": {
      "text/plain": [
       "0.6263919"
      ]
     },
     "execution_count": 52,
     "metadata": {},
     "output_type": "execute_result"
    }
   ],
   "source": [
    "cbow_model.wv.similarity(\"science\",\"physics\")"
   ]
  },
  {
   "cell_type": "code",
   "execution_count": 53,
   "metadata": {},
   "outputs": [
    {
     "data": {
      "text/plain": [
       "0.14934063"
      ]
     },
     "execution_count": 53,
     "metadata": {},
     "output_type": "execute_result"
    }
   ],
   "source": [
    "cbow_model.wv.similarity(\"science\",\"jogging\")"
   ]
  },
  {
   "cell_type": "code",
   "execution_count": 54,
   "metadata": {},
   "outputs": [
    {
     "data": {
      "text/plain": [
       "0.7863626"
      ]
     },
     "execution_count": 54,
     "metadata": {},
     "output_type": "execute_result"
    }
   ],
   "source": [
    "skip_gram_model.wv.similarity(\"science\",\"fiction\")"
   ]
  },
  {
   "cell_type": "code",
   "execution_count": 55,
   "metadata": {},
   "outputs": [
    {
     "data": {
      "text/plain": [
       "0.7019265"
      ]
     },
     "execution_count": 55,
     "metadata": {},
     "output_type": "execute_result"
    }
   ],
   "source": [
    "skip_gram_model.wv.similarity(\"science\",\"physics\")"
   ]
  },
  {
   "cell_type": "code",
   "execution_count": 56,
   "metadata": {},
   "outputs": [
    {
     "data": {
      "text/plain": [
       "0.45174167"
      ]
     },
     "execution_count": 56,
     "metadata": {},
     "output_type": "execute_result"
    }
   ],
   "source": [
    "skip_gram_model.wv.similarity(\"science\",\"jogging\")"
   ]
  },
  {
   "attachments": {},
   "cell_type": "markdown",
   "metadata": {},
   "source": [
    "#### End Remarks\n",
    "For more Information, Refer -https://radimrehurek.com/gensim/auto_examples/tutorials/run_annoy.html#sphx-glr-download-auto-examples-tutorials-run-annoy-py\n",
    "\n",
    "We can do this via spacy, too.\n",
    "\n",
    "Similarly, There exists Glove embeddings too."
   ]
  },
  {
   "cell_type": "markdown",
   "metadata": {},
   "source": []
  }
 ],
 "metadata": {
  "kernelspec": {
   "display_name": "dl",
   "language": "python",
   "name": "python3"
  },
  "language_info": {
   "codemirror_mode": {
    "name": "ipython",
    "version": 3
   },
   "file_extension": ".py",
   "mimetype": "text/x-python",
   "name": "python",
   "nbconvert_exporter": "python",
   "pygments_lexer": "ipython3",
   "version": "3.7.11"
  },
  "orig_nbformat": 4,
  "vscode": {
   "interpreter": {
    "hash": "50052c996937e9a0e161d422489677fdaadc23d756ac209b7397e80e5ea8cea0"
   }
  }
 },
 "nbformat": 4,
 "nbformat_minor": 2
}
